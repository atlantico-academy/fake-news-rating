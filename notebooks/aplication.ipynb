{
 "cells": [
  {
   "cell_type": "code",
   "execution_count": 4,
   "id": "1944e040-2367-418c-a002-cf26e1f451f1",
   "metadata": {},
   "outputs": [],
   "source": [
    "import streamlit as st\n",
    "import pandas as pd\n",
    "import numpy as np\n",
    "from IPython.display import Markdown\n",
    "from sklearn.pipeline import Pipeline\n",
    "from sklearn.impute import SimpleImputer\n",
    "from sklearn.preprocessing import OneHotEncoder, StandardScaler\n",
    "from sklearn.feature_selection import VarianceThreshold\n",
    "import re\n",
    "import joblib\n",
    "import nltk\n",
    "from nltk.corpus import stopwords\n",
    "from nltk import tokenize\n",
    "from sklearn.feature_extraction.text import TfidfVectorizer\n",
    "import plotly.graph_objects as go\n",
    "import matplotlib.pyplot as plt"
   ]
  },
  {
   "cell_type": "code",
   "execution_count": 5,
   "id": "ffa6ab07-59c5-46dd-baf1-1cff76fc7b16",
   "metadata": {},
   "outputs": [],
   "source": [
    "dt = pd.read_csv(\"../data/interim/data.csv\")"
   ]
  },
  {
   "cell_type": "code",
   "execution_count": 6,
   "id": "0c1be15b-fe4d-44c1-a9c3-840e48a00a86",
   "metadata": {},
   "outputs": [
    {
     "data": {
      "text/plain": [
       "(7200, 5)"
      ]
     },
     "execution_count": 6,
     "metadata": {},
     "output_type": "execute_result"
    }
   ],
   "source": [
    "dt.shape"
   ]
  },
  {
   "cell_type": "code",
   "execution_count": 1,
   "id": "78a37598-34f3-4d30-9719-426bffd170c6",
   "metadata": {},
   "outputs": [],
   "source": [
    "from streamlit_option_menu import option_menu"
   ]
  },
  {
   "cell_type": "code",
   "execution_count": 2,
   "id": "187f319b-8bc2-408a-b98d-72defcbbbf51",
   "metadata": {},
   "outputs": [],
   "source": [
    "import joblib"
   ]
  },
  {
   "cell_type": "code",
   "execution_count": 46,
   "id": "9035881e-840e-45f3-9ff1-9062544291dd",
   "metadata": {},
   "outputs": [
    {
     "name": "stdout",
     "output_type": "stream",
     "text": [
      "Collecting streamlit-option-menu\n",
      "  Using cached streamlit_option_menu-0.3.2-py3-none-any.whl (712 kB)\n",
      "Requirement already satisfied: streamlit>=0.63 in /home/rafaelxavier/.cache/pypoetry/virtualenvs/src-oDiRjDCQ-py3.8/lib/python3.8/site-packages (from streamlit-option-menu) (1.11.1)\n",
      "Requirement already satisfied: requests>=2.4 in /home/rafaelxavier/.cache/pypoetry/virtualenvs/src-oDiRjDCQ-py3.8/lib/python3.8/site-packages (from streamlit>=0.63->streamlit-option-menu) (2.28.1)\n",
      "Requirement already satisfied: cachetools>=4.0 in /home/rafaelxavier/.cache/pypoetry/virtualenvs/src-oDiRjDCQ-py3.8/lib/python3.8/site-packages (from streamlit>=0.63->streamlit-option-menu) (5.2.0)\n",
      "Requirement already satisfied: packaging>=14.1 in /home/rafaelxavier/.cache/pypoetry/virtualenvs/src-oDiRjDCQ-py3.8/lib/python3.8/site-packages (from streamlit>=0.63->streamlit-option-menu) (21.3)\n",
      "Requirement already satisfied: toml in /home/rafaelxavier/.cache/pypoetry/virtualenvs/src-oDiRjDCQ-py3.8/lib/python3.8/site-packages (from streamlit>=0.63->streamlit-option-menu) (0.10.2)\n",
      "Requirement already satisfied: blinker>=1.0.0 in /home/rafaelxavier/.cache/pypoetry/virtualenvs/src-oDiRjDCQ-py3.8/lib/python3.8/site-packages (from streamlit>=0.63->streamlit-option-menu) (1.5)\n",
      "Requirement already satisfied: altair>=3.2.0 in /home/rafaelxavier/.cache/pypoetry/virtualenvs/src-oDiRjDCQ-py3.8/lib/python3.8/site-packages (from streamlit>=0.63->streamlit-option-menu) (4.2.0)\n",
      "Requirement already satisfied: pyarrow>=4.0 in /home/rafaelxavier/.cache/pypoetry/virtualenvs/src-oDiRjDCQ-py3.8/lib/python3.8/site-packages (from streamlit>=0.63->streamlit-option-menu) (8.0.0)\n",
      "Requirement already satisfied: numpy in /home/rafaelxavier/.cache/pypoetry/virtualenvs/src-oDiRjDCQ-py3.8/lib/python3.8/site-packages (from streamlit>=0.63->streamlit-option-menu) (1.23.1)\n",
      "Requirement already satisfied: pydeck>=0.1.dev5 in /home/rafaelxavier/.cache/pypoetry/virtualenvs/src-oDiRjDCQ-py3.8/lib/python3.8/site-packages (from streamlit>=0.63->streamlit-option-menu) (0.7.1)\n",
      "Requirement already satisfied: pympler>=0.9 in /home/rafaelxavier/.cache/pypoetry/virtualenvs/src-oDiRjDCQ-py3.8/lib/python3.8/site-packages (from streamlit>=0.63->streamlit-option-menu) (1.0.1)\n",
      "Requirement already satisfied: rich>=10.11.0 in /home/rafaelxavier/.cache/pypoetry/virtualenvs/src-oDiRjDCQ-py3.8/lib/python3.8/site-packages (from streamlit>=0.63->streamlit-option-menu) (12.5.1)\n",
      "Requirement already satisfied: click>=7.0 in /home/rafaelxavier/.cache/pypoetry/virtualenvs/src-oDiRjDCQ-py3.8/lib/python3.8/site-packages (from streamlit>=0.63->streamlit-option-menu) (8.1.3)\n",
      "Requirement already satisfied: watchdog in /home/rafaelxavier/.cache/pypoetry/virtualenvs/src-oDiRjDCQ-py3.8/lib/python3.8/site-packages (from streamlit>=0.63->streamlit-option-menu) (2.1.9)\n",
      "Requirement already satisfied: tzlocal>=1.1 in /home/rafaelxavier/.cache/pypoetry/virtualenvs/src-oDiRjDCQ-py3.8/lib/python3.8/site-packages (from streamlit>=0.63->streamlit-option-menu) (4.2)\n",
      "Requirement already satisfied: semver in /home/rafaelxavier/.cache/pypoetry/virtualenvs/src-oDiRjDCQ-py3.8/lib/python3.8/site-packages (from streamlit>=0.63->streamlit-option-menu) (2.13.0)\n",
      "Requirement already satisfied: python-dateutil in /home/rafaelxavier/.cache/pypoetry/virtualenvs/src-oDiRjDCQ-py3.8/lib/python3.8/site-packages (from streamlit>=0.63->streamlit-option-menu) (2.8.2)\n",
      "Requirement already satisfied: typing-extensions>=3.10.0.0 in /home/rafaelxavier/.cache/pypoetry/virtualenvs/src-oDiRjDCQ-py3.8/lib/python3.8/site-packages (from streamlit>=0.63->streamlit-option-menu) (4.3.0)\n",
      "Requirement already satisfied: importlib-metadata>=1.4 in /home/rafaelxavier/.cache/pypoetry/virtualenvs/src-oDiRjDCQ-py3.8/lib/python3.8/site-packages (from streamlit>=0.63->streamlit-option-menu) (4.12.0)\n",
      "Requirement already satisfied: gitpython!=3.1.19 in /home/rafaelxavier/.cache/pypoetry/virtualenvs/src-oDiRjDCQ-py3.8/lib/python3.8/site-packages (from streamlit>=0.63->streamlit-option-menu) (3.1.27)\n",
      "Requirement already satisfied: pillow>=6.2.0 in /home/rafaelxavier/.cache/pypoetry/virtualenvs/src-oDiRjDCQ-py3.8/lib/python3.8/site-packages (from streamlit>=0.63->streamlit-option-menu) (9.2.0)\n",
      "Requirement already satisfied: protobuf<4,>=3.12 in /home/rafaelxavier/.cache/pypoetry/virtualenvs/src-oDiRjDCQ-py3.8/lib/python3.8/site-packages (from streamlit>=0.63->streamlit-option-menu) (3.20.1)\n",
      "Requirement already satisfied: validators>=0.2 in /home/rafaelxavier/.cache/pypoetry/virtualenvs/src-oDiRjDCQ-py3.8/lib/python3.8/site-packages (from streamlit>=0.63->streamlit-option-menu) (0.20.0)\n",
      "Requirement already satisfied: pandas>=0.21.0 in /home/rafaelxavier/.cache/pypoetry/virtualenvs/src-oDiRjDCQ-py3.8/lib/python3.8/site-packages (from streamlit>=0.63->streamlit-option-menu) (1.4.3)\n",
      "Requirement already satisfied: tornado>=5.0 in /home/rafaelxavier/.cache/pypoetry/virtualenvs/src-oDiRjDCQ-py3.8/lib/python3.8/site-packages (from streamlit>=0.63->streamlit-option-menu) (6.2)\n",
      "Requirement already satisfied: attrs>=16.0.0 in /home/rafaelxavier/.cache/pypoetry/virtualenvs/src-oDiRjDCQ-py3.8/lib/python3.8/site-packages (from streamlit>=0.63->streamlit-option-menu) (22.1.0)\n",
      "Requirement already satisfied: toolz in /home/rafaelxavier/.cache/pypoetry/virtualenvs/src-oDiRjDCQ-py3.8/lib/python3.8/site-packages (from altair>=3.2.0->streamlit>=0.63->streamlit-option-menu) (0.12.0)\n",
      "Requirement already satisfied: entrypoints in /home/rafaelxavier/.cache/pypoetry/virtualenvs/src-oDiRjDCQ-py3.8/lib/python3.8/site-packages (from altair>=3.2.0->streamlit>=0.63->streamlit-option-menu) (0.4)\n",
      "Requirement already satisfied: jsonschema>=3.0 in /home/rafaelxavier/.cache/pypoetry/virtualenvs/src-oDiRjDCQ-py3.8/lib/python3.8/site-packages (from altair>=3.2.0->streamlit>=0.63->streamlit-option-menu) (4.8.0)\n",
      "Requirement already satisfied: jinja2 in /home/rafaelxavier/.cache/pypoetry/virtualenvs/src-oDiRjDCQ-py3.8/lib/python3.8/site-packages (from altair>=3.2.0->streamlit>=0.63->streamlit-option-menu) (3.1.2)\n",
      "Requirement already satisfied: gitdb<5,>=4.0.1 in /home/rafaelxavier/.cache/pypoetry/virtualenvs/src-oDiRjDCQ-py3.8/lib/python3.8/site-packages (from gitpython!=3.1.19->streamlit>=0.63->streamlit-option-menu) (4.0.9)\n",
      "Requirement already satisfied: zipp>=0.5 in /home/rafaelxavier/.cache/pypoetry/virtualenvs/src-oDiRjDCQ-py3.8/lib/python3.8/site-packages (from importlib-metadata>=1.4->streamlit>=0.63->streamlit-option-menu) (3.8.1)\n",
      "Requirement already satisfied: pyparsing!=3.0.5,>=2.0.2 in /home/rafaelxavier/.cache/pypoetry/virtualenvs/src-oDiRjDCQ-py3.8/lib/python3.8/site-packages (from packaging>=14.1->streamlit>=0.63->streamlit-option-menu) (3.0.9)\n",
      "Requirement already satisfied: pytz>=2020.1 in /home/rafaelxavier/.cache/pypoetry/virtualenvs/src-oDiRjDCQ-py3.8/lib/python3.8/site-packages (from pandas>=0.21.0->streamlit>=0.63->streamlit-option-menu) (2022.1)\n",
      "Requirement already satisfied: ipykernel>=5.1.2 in /home/rafaelxavier/.cache/pypoetry/virtualenvs/src-oDiRjDCQ-py3.8/lib/python3.8/site-packages (from pydeck>=0.1.dev5->streamlit>=0.63->streamlit-option-menu) (6.15.1)\n",
      "Requirement already satisfied: traitlets>=4.3.2 in /home/rafaelxavier/.cache/pypoetry/virtualenvs/src-oDiRjDCQ-py3.8/lib/python3.8/site-packages (from pydeck>=0.1.dev5->streamlit>=0.63->streamlit-option-menu) (5.3.0)\n",
      "Requirement already satisfied: ipywidgets>=7.0.0 in /home/rafaelxavier/.cache/pypoetry/virtualenvs/src-oDiRjDCQ-py3.8/lib/python3.8/site-packages (from pydeck>=0.1.dev5->streamlit>=0.63->streamlit-option-menu) (7.7.1)\n",
      "Requirement already satisfied: six>=1.5 in /home/rafaelxavier/.cache/pypoetry/virtualenvs/src-oDiRjDCQ-py3.8/lib/python3.8/site-packages (from python-dateutil->streamlit>=0.63->streamlit-option-menu) (1.16.0)\n",
      "Requirement already satisfied: charset-normalizer<3,>=2 in /home/rafaelxavier/.cache/pypoetry/virtualenvs/src-oDiRjDCQ-py3.8/lib/python3.8/site-packages (from requests>=2.4->streamlit>=0.63->streamlit-option-menu) (2.1.0)\n",
      "Requirement already satisfied: idna<4,>=2.5 in /home/rafaelxavier/.cache/pypoetry/virtualenvs/src-oDiRjDCQ-py3.8/lib/python3.8/site-packages (from requests>=2.4->streamlit>=0.63->streamlit-option-menu) (3.3)\n",
      "Requirement already satisfied: certifi>=2017.4.17 in /home/rafaelxavier/.cache/pypoetry/virtualenvs/src-oDiRjDCQ-py3.8/lib/python3.8/site-packages (from requests>=2.4->streamlit>=0.63->streamlit-option-menu) (2022.6.15)\n",
      "Requirement already satisfied: urllib3<1.27,>=1.21.1 in /home/rafaelxavier/.cache/pypoetry/virtualenvs/src-oDiRjDCQ-py3.8/lib/python3.8/site-packages (from requests>=2.4->streamlit>=0.63->streamlit-option-menu) (1.26.11)\n",
      "Requirement already satisfied: pygments<3.0.0,>=2.6.0 in /home/rafaelxavier/.cache/pypoetry/virtualenvs/src-oDiRjDCQ-py3.8/lib/python3.8/site-packages (from rich>=10.11.0->streamlit>=0.63->streamlit-option-menu) (2.12.0)\n",
      "Requirement already satisfied: commonmark<0.10.0,>=0.9.0 in /home/rafaelxavier/.cache/pypoetry/virtualenvs/src-oDiRjDCQ-py3.8/lib/python3.8/site-packages (from rich>=10.11.0->streamlit>=0.63->streamlit-option-menu) (0.9.1)\n",
      "Requirement already satisfied: backports.zoneinfo in /home/rafaelxavier/.cache/pypoetry/virtualenvs/src-oDiRjDCQ-py3.8/lib/python3.8/site-packages (from tzlocal>=1.1->streamlit>=0.63->streamlit-option-menu) (0.2.1)\n",
      "Requirement already satisfied: pytz-deprecation-shim in /home/rafaelxavier/.cache/pypoetry/virtualenvs/src-oDiRjDCQ-py3.8/lib/python3.8/site-packages (from tzlocal>=1.1->streamlit>=0.63->streamlit-option-menu) (0.1.0.post0)\n",
      "Requirement already satisfied: decorator>=3.4.0 in /home/rafaelxavier/.cache/pypoetry/virtualenvs/src-oDiRjDCQ-py3.8/lib/python3.8/site-packages (from validators>=0.2->streamlit>=0.63->streamlit-option-menu) (5.1.1)\n",
      "Requirement already satisfied: smmap<6,>=3.0.1 in /home/rafaelxavier/.cache/pypoetry/virtualenvs/src-oDiRjDCQ-py3.8/lib/python3.8/site-packages (from gitdb<5,>=4.0.1->gitpython!=3.1.19->streamlit>=0.63->streamlit-option-menu) (5.0.0)\n",
      "Requirement already satisfied: debugpy>=1.0 in /home/rafaelxavier/.cache/pypoetry/virtualenvs/src-oDiRjDCQ-py3.8/lib/python3.8/site-packages (from ipykernel>=5.1.2->pydeck>=0.1.dev5->streamlit>=0.63->streamlit-option-menu) (1.6.2)\n",
      "Requirement already satisfied: jupyter-client>=6.1.12 in /home/rafaelxavier/.cache/pypoetry/virtualenvs/src-oDiRjDCQ-py3.8/lib/python3.8/site-packages (from ipykernel>=5.1.2->pydeck>=0.1.dev5->streamlit>=0.63->streamlit-option-menu) (7.3.4)\n",
      "Requirement already satisfied: pyzmq>=17 in /home/rafaelxavier/.cache/pypoetry/virtualenvs/src-oDiRjDCQ-py3.8/lib/python3.8/site-packages (from ipykernel>=5.1.2->pydeck>=0.1.dev5->streamlit>=0.63->streamlit-option-menu) (23.2.0)\n",
      "Requirement already satisfied: matplotlib-inline>=0.1 in /home/rafaelxavier/.cache/pypoetry/virtualenvs/src-oDiRjDCQ-py3.8/lib/python3.8/site-packages (from ipykernel>=5.1.2->pydeck>=0.1.dev5->streamlit>=0.63->streamlit-option-menu) (0.1.3)\n",
      "Requirement already satisfied: ipython>=7.23.1 in /home/rafaelxavier/.cache/pypoetry/virtualenvs/src-oDiRjDCQ-py3.8/lib/python3.8/site-packages (from ipykernel>=5.1.2->pydeck>=0.1.dev5->streamlit>=0.63->streamlit-option-menu) (8.4.0)\n",
      "Requirement already satisfied: psutil in /home/rafaelxavier/.cache/pypoetry/virtualenvs/src-oDiRjDCQ-py3.8/lib/python3.8/site-packages (from ipykernel>=5.1.2->pydeck>=0.1.dev5->streamlit>=0.63->streamlit-option-menu) (5.9.1)\n",
      "Requirement already satisfied: nest-asyncio in /home/rafaelxavier/.cache/pypoetry/virtualenvs/src-oDiRjDCQ-py3.8/lib/python3.8/site-packages (from ipykernel>=5.1.2->pydeck>=0.1.dev5->streamlit>=0.63->streamlit-option-menu) (1.5.5)\n",
      "Requirement already satisfied: ipython-genutils~=0.2.0 in /home/rafaelxavier/.cache/pypoetry/virtualenvs/src-oDiRjDCQ-py3.8/lib/python3.8/site-packages (from ipywidgets>=7.0.0->pydeck>=0.1.dev5->streamlit>=0.63->streamlit-option-menu) (0.2.0)\n",
      "Requirement already satisfied: widgetsnbextension~=3.6.0 in /home/rafaelxavier/.cache/pypoetry/virtualenvs/src-oDiRjDCQ-py3.8/lib/python3.8/site-packages (from ipywidgets>=7.0.0->pydeck>=0.1.dev5->streamlit>=0.63->streamlit-option-menu) (3.6.1)\n",
      "Requirement already satisfied: jupyterlab-widgets>=1.0.0 in /home/rafaelxavier/.cache/pypoetry/virtualenvs/src-oDiRjDCQ-py3.8/lib/python3.8/site-packages (from ipywidgets>=7.0.0->pydeck>=0.1.dev5->streamlit>=0.63->streamlit-option-menu) (1.1.1)\n",
      "Requirement already satisfied: MarkupSafe>=2.0 in /home/rafaelxavier/.cache/pypoetry/virtualenvs/src-oDiRjDCQ-py3.8/lib/python3.8/site-packages (from jinja2->altair>=3.2.0->streamlit>=0.63->streamlit-option-menu) (2.1.1)\n",
      "Requirement already satisfied: pyrsistent!=0.17.0,!=0.17.1,!=0.17.2,>=0.14.0 in /home/rafaelxavier/.cache/pypoetry/virtualenvs/src-oDiRjDCQ-py3.8/lib/python3.8/site-packages (from jsonschema>=3.0->altair>=3.2.0->streamlit>=0.63->streamlit-option-menu) (0.18.1)\n",
      "Requirement already satisfied: importlib-resources>=1.4.0 in /home/rafaelxavier/.cache/pypoetry/virtualenvs/src-oDiRjDCQ-py3.8/lib/python3.8/site-packages (from jsonschema>=3.0->altair>=3.2.0->streamlit>=0.63->streamlit-option-menu) (5.9.0)\n",
      "Requirement already satisfied: tzdata in /home/rafaelxavier/.cache/pypoetry/virtualenvs/src-oDiRjDCQ-py3.8/lib/python3.8/site-packages (from pytz-deprecation-shim->tzlocal>=1.1->streamlit>=0.63->streamlit-option-menu) (2022.1)\n",
      "Requirement already satisfied: backcall in /home/rafaelxavier/.cache/pypoetry/virtualenvs/src-oDiRjDCQ-py3.8/lib/python3.8/site-packages (from ipython>=7.23.1->ipykernel>=5.1.2->pydeck>=0.1.dev5->streamlit>=0.63->streamlit-option-menu) (0.2.0)\n",
      "Requirement already satisfied: setuptools>=18.5 in /home/rafaelxavier/.cache/pypoetry/virtualenvs/src-oDiRjDCQ-py3.8/lib/python3.8/site-packages (from ipython>=7.23.1->ipykernel>=5.1.2->pydeck>=0.1.dev5->streamlit>=0.63->streamlit-option-menu) (63.4.1)\n",
      "Requirement already satisfied: pexpect>4.3 in /home/rafaelxavier/.cache/pypoetry/virtualenvs/src-oDiRjDCQ-py3.8/lib/python3.8/site-packages (from ipython>=7.23.1->ipykernel>=5.1.2->pydeck>=0.1.dev5->streamlit>=0.63->streamlit-option-menu) (4.8.0)\n",
      "Requirement already satisfied: jedi>=0.16 in /home/rafaelxavier/.cache/pypoetry/virtualenvs/src-oDiRjDCQ-py3.8/lib/python3.8/site-packages (from ipython>=7.23.1->ipykernel>=5.1.2->pydeck>=0.1.dev5->streamlit>=0.63->streamlit-option-menu) (0.18.1)\n",
      "Requirement already satisfied: pickleshare in /home/rafaelxavier/.cache/pypoetry/virtualenvs/src-oDiRjDCQ-py3.8/lib/python3.8/site-packages (from ipython>=7.23.1->ipykernel>=5.1.2->pydeck>=0.1.dev5->streamlit>=0.63->streamlit-option-menu) (0.7.5)\n",
      "Requirement already satisfied: prompt-toolkit!=3.0.0,!=3.0.1,<3.1.0,>=2.0.0 in /home/rafaelxavier/.cache/pypoetry/virtualenvs/src-oDiRjDCQ-py3.8/lib/python3.8/site-packages (from ipython>=7.23.1->ipykernel>=5.1.2->pydeck>=0.1.dev5->streamlit>=0.63->streamlit-option-menu) (3.0.30)\n",
      "Requirement already satisfied: stack-data in /home/rafaelxavier/.cache/pypoetry/virtualenvs/src-oDiRjDCQ-py3.8/lib/python3.8/site-packages (from ipython>=7.23.1->ipykernel>=5.1.2->pydeck>=0.1.dev5->streamlit>=0.63->streamlit-option-menu) (0.3.0)\n",
      "Requirement already satisfied: jupyter-core>=4.9.2 in /home/rafaelxavier/.cache/pypoetry/virtualenvs/src-oDiRjDCQ-py3.8/lib/python3.8/site-packages (from jupyter-client>=6.1.12->ipykernel>=5.1.2->pydeck>=0.1.dev5->streamlit>=0.63->streamlit-option-menu) (4.11.1)\n",
      "Requirement already satisfied: notebook>=4.4.1 in /home/rafaelxavier/.cache/pypoetry/virtualenvs/src-oDiRjDCQ-py3.8/lib/python3.8/site-packages (from widgetsnbextension~=3.6.0->ipywidgets>=7.0.0->pydeck>=0.1.dev5->streamlit>=0.63->streamlit-option-menu) (6.4.12)\n",
      "Requirement already satisfied: parso<0.9.0,>=0.8.0 in /home/rafaelxavier/.cache/pypoetry/virtualenvs/src-oDiRjDCQ-py3.8/lib/python3.8/site-packages (from jedi>=0.16->ipython>=7.23.1->ipykernel>=5.1.2->pydeck>=0.1.dev5->streamlit>=0.63->streamlit-option-menu) (0.8.3)\n",
      "Requirement already satisfied: nbconvert>=5 in /home/rafaelxavier/.cache/pypoetry/virtualenvs/src-oDiRjDCQ-py3.8/lib/python3.8/site-packages (from notebook>=4.4.1->widgetsnbextension~=3.6.0->ipywidgets>=7.0.0->pydeck>=0.1.dev5->streamlit>=0.63->streamlit-option-menu) (6.5.0)\n",
      "Requirement already satisfied: argon2-cffi in /home/rafaelxavier/.cache/pypoetry/virtualenvs/src-oDiRjDCQ-py3.8/lib/python3.8/site-packages (from notebook>=4.4.1->widgetsnbextension~=3.6.0->ipywidgets>=7.0.0->pydeck>=0.1.dev5->streamlit>=0.63->streamlit-option-menu) (21.3.0)\n",
      "Requirement already satisfied: terminado>=0.8.3 in /home/rafaelxavier/.cache/pypoetry/virtualenvs/src-oDiRjDCQ-py3.8/lib/python3.8/site-packages (from notebook>=4.4.1->widgetsnbextension~=3.6.0->ipywidgets>=7.0.0->pydeck>=0.1.dev5->streamlit>=0.63->streamlit-option-menu) (0.15.0)\n",
      "Requirement already satisfied: Send2Trash>=1.8.0 in /home/rafaelxavier/.cache/pypoetry/virtualenvs/src-oDiRjDCQ-py3.8/lib/python3.8/site-packages (from notebook>=4.4.1->widgetsnbextension~=3.6.0->ipywidgets>=7.0.0->pydeck>=0.1.dev5->streamlit>=0.63->streamlit-option-menu) (1.8.0)\n",
      "Requirement already satisfied: nbformat in /home/rafaelxavier/.cache/pypoetry/virtualenvs/src-oDiRjDCQ-py3.8/lib/python3.8/site-packages (from notebook>=4.4.1->widgetsnbextension~=3.6.0->ipywidgets>=7.0.0->pydeck>=0.1.dev5->streamlit>=0.63->streamlit-option-menu) (5.4.0)\n",
      "Requirement already satisfied: prometheus-client in /home/rafaelxavier/.cache/pypoetry/virtualenvs/src-oDiRjDCQ-py3.8/lib/python3.8/site-packages (from notebook>=4.4.1->widgetsnbextension~=3.6.0->ipywidgets>=7.0.0->pydeck>=0.1.dev5->streamlit>=0.63->streamlit-option-menu) (0.14.1)\n",
      "Requirement already satisfied: ptyprocess>=0.5 in /home/rafaelxavier/.cache/pypoetry/virtualenvs/src-oDiRjDCQ-py3.8/lib/python3.8/site-packages (from pexpect>4.3->ipython>=7.23.1->ipykernel>=5.1.2->pydeck>=0.1.dev5->streamlit>=0.63->streamlit-option-menu) (0.7.0)\n",
      "Requirement already satisfied: wcwidth in /home/rafaelxavier/.cache/pypoetry/virtualenvs/src-oDiRjDCQ-py3.8/lib/python3.8/site-packages (from prompt-toolkit!=3.0.0,!=3.0.1,<3.1.0,>=2.0.0->ipython>=7.23.1->ipykernel>=5.1.2->pydeck>=0.1.dev5->streamlit>=0.63->streamlit-option-menu) (0.2.5)\n",
      "Requirement already satisfied: executing in /home/rafaelxavier/.cache/pypoetry/virtualenvs/src-oDiRjDCQ-py3.8/lib/python3.8/site-packages (from stack-data->ipython>=7.23.1->ipykernel>=5.1.2->pydeck>=0.1.dev5->streamlit>=0.63->streamlit-option-menu) (0.9.1)\n",
      "Requirement already satisfied: asttokens in /home/rafaelxavier/.cache/pypoetry/virtualenvs/src-oDiRjDCQ-py3.8/lib/python3.8/site-packages (from stack-data->ipython>=7.23.1->ipykernel>=5.1.2->pydeck>=0.1.dev5->streamlit>=0.63->streamlit-option-menu) (2.0.5)\n",
      "Requirement already satisfied: pure-eval in /home/rafaelxavier/.cache/pypoetry/virtualenvs/src-oDiRjDCQ-py3.8/lib/python3.8/site-packages (from stack-data->ipython>=7.23.1->ipykernel>=5.1.2->pydeck>=0.1.dev5->streamlit>=0.63->streamlit-option-menu) (0.2.2)\n",
      "Requirement already satisfied: beautifulsoup4 in /home/rafaelxavier/.cache/pypoetry/virtualenvs/src-oDiRjDCQ-py3.8/lib/python3.8/site-packages (from nbconvert>=5->notebook>=4.4.1->widgetsnbextension~=3.6.0->ipywidgets>=7.0.0->pydeck>=0.1.dev5->streamlit>=0.63->streamlit-option-menu) (4.11.1)\n",
      "Requirement already satisfied: pandocfilters>=1.4.1 in /home/rafaelxavier/.cache/pypoetry/virtualenvs/src-oDiRjDCQ-py3.8/lib/python3.8/site-packages (from nbconvert>=5->notebook>=4.4.1->widgetsnbextension~=3.6.0->ipywidgets>=7.0.0->pydeck>=0.1.dev5->streamlit>=0.63->streamlit-option-menu) (1.5.0)\n",
      "Requirement already satisfied: bleach in /home/rafaelxavier/.cache/pypoetry/virtualenvs/src-oDiRjDCQ-py3.8/lib/python3.8/site-packages (from nbconvert>=5->notebook>=4.4.1->widgetsnbextension~=3.6.0->ipywidgets>=7.0.0->pydeck>=0.1.dev5->streamlit>=0.63->streamlit-option-menu) (5.0.1)\n",
      "Requirement already satisfied: jupyterlab-pygments in /home/rafaelxavier/.cache/pypoetry/virtualenvs/src-oDiRjDCQ-py3.8/lib/python3.8/site-packages (from nbconvert>=5->notebook>=4.4.1->widgetsnbextension~=3.6.0->ipywidgets>=7.0.0->pydeck>=0.1.dev5->streamlit>=0.63->streamlit-option-menu) (0.2.2)\n",
      "Requirement already satisfied: nbclient>=0.5.0 in /home/rafaelxavier/.cache/pypoetry/virtualenvs/src-oDiRjDCQ-py3.8/lib/python3.8/site-packages (from nbconvert>=5->notebook>=4.4.1->widgetsnbextension~=3.6.0->ipywidgets>=7.0.0->pydeck>=0.1.dev5->streamlit>=0.63->streamlit-option-menu) (0.6.6)\n",
      "Requirement already satisfied: mistune<2,>=0.8.1 in /home/rafaelxavier/.cache/pypoetry/virtualenvs/src-oDiRjDCQ-py3.8/lib/python3.8/site-packages (from nbconvert>=5->notebook>=4.4.1->widgetsnbextension~=3.6.0->ipywidgets>=7.0.0->pydeck>=0.1.dev5->streamlit>=0.63->streamlit-option-menu) (0.8.4)\n",
      "Requirement already satisfied: defusedxml in /home/rafaelxavier/.cache/pypoetry/virtualenvs/src-oDiRjDCQ-py3.8/lib/python3.8/site-packages (from nbconvert>=5->notebook>=4.4.1->widgetsnbextension~=3.6.0->ipywidgets>=7.0.0->pydeck>=0.1.dev5->streamlit>=0.63->streamlit-option-menu) (0.7.1)\n",
      "Requirement already satisfied: tinycss2 in /home/rafaelxavier/.cache/pypoetry/virtualenvs/src-oDiRjDCQ-py3.8/lib/python3.8/site-packages (from nbconvert>=5->notebook>=4.4.1->widgetsnbextension~=3.6.0->ipywidgets>=7.0.0->pydeck>=0.1.dev5->streamlit>=0.63->streamlit-option-menu) (1.1.1)\n",
      "Requirement already satisfied: fastjsonschema in /home/rafaelxavier/.cache/pypoetry/virtualenvs/src-oDiRjDCQ-py3.8/lib/python3.8/site-packages (from nbformat->notebook>=4.4.1->widgetsnbextension~=3.6.0->ipywidgets>=7.0.0->pydeck>=0.1.dev5->streamlit>=0.63->streamlit-option-menu) (2.16.1)\n",
      "Requirement already satisfied: argon2-cffi-bindings in /home/rafaelxavier/.cache/pypoetry/virtualenvs/src-oDiRjDCQ-py3.8/lib/python3.8/site-packages (from argon2-cffi->notebook>=4.4.1->widgetsnbextension~=3.6.0->ipywidgets>=7.0.0->pydeck>=0.1.dev5->streamlit>=0.63->streamlit-option-menu) (21.2.0)\n",
      "Requirement already satisfied: cffi>=1.0.1 in /home/rafaelxavier/.cache/pypoetry/virtualenvs/src-oDiRjDCQ-py3.8/lib/python3.8/site-packages (from argon2-cffi-bindings->argon2-cffi->notebook>=4.4.1->widgetsnbextension~=3.6.0->ipywidgets>=7.0.0->pydeck>=0.1.dev5->streamlit>=0.63->streamlit-option-menu) (1.15.1)\n",
      "Requirement already satisfied: soupsieve>1.2 in /home/rafaelxavier/.cache/pypoetry/virtualenvs/src-oDiRjDCQ-py3.8/lib/python3.8/site-packages (from beautifulsoup4->nbconvert>=5->notebook>=4.4.1->widgetsnbextension~=3.6.0->ipywidgets>=7.0.0->pydeck>=0.1.dev5->streamlit>=0.63->streamlit-option-menu) (2.3.2.post1)\n",
      "Requirement already satisfied: webencodings in /home/rafaelxavier/.cache/pypoetry/virtualenvs/src-oDiRjDCQ-py3.8/lib/python3.8/site-packages (from bleach->nbconvert>=5->notebook>=4.4.1->widgetsnbextension~=3.6.0->ipywidgets>=7.0.0->pydeck>=0.1.dev5->streamlit>=0.63->streamlit-option-menu) (0.5.1)\n",
      "Requirement already satisfied: pycparser in /home/rafaelxavier/.cache/pypoetry/virtualenvs/src-oDiRjDCQ-py3.8/lib/python3.8/site-packages (from cffi>=1.0.1->argon2-cffi-bindings->argon2-cffi->notebook>=4.4.1->widgetsnbextension~=3.6.0->ipywidgets>=7.0.0->pydeck>=0.1.dev5->streamlit>=0.63->streamlit-option-menu) (2.21)\n",
      "Installing collected packages: streamlit-option-menu\n",
      "Successfully installed streamlit-option-menu-0.3.2\n",
      "\n",
      "\u001b[1m[\u001b[0m\u001b[34;49mnotice\u001b[0m\u001b[1;39;49m]\u001b[0m\u001b[39;49m A new release of pip available: \u001b[0m\u001b[31;49m22.2.2\u001b[0m\u001b[39;49m -> \u001b[0m\u001b[32;49m22.3.1\u001b[0m\n",
      "\u001b[1m[\u001b[0m\u001b[34;49mnotice\u001b[0m\u001b[1;39;49m]\u001b[0m\u001b[39;49m To update, run: \u001b[0m\u001b[32;49mpip install --upgrade pip\u001b[0m\n"
     ]
    }
   ],
   "source": [
    "!pip install streamlit-option-menu"
   ]
  },
  {
   "cell_type": "code",
   "execution_count": 33,
   "id": "14ab35ea-0189-4710-a4d2-041aec6e34ce",
   "metadata": {},
   "outputs": [
    {
     "data": {
      "text/plain": [
       "'Dr. Ray peita Bolsonaro, chama-o de \\x93conservador fake\\x94 em entrevista a Danilo Gentili e divide a direita.\\n\\nEste site vem avisando Jair Bolsonaro que ele deveria abandonar a pauta estatista de vez e fazer um discurso mais convincente para aquela boa parte dos liberais e conservadores do Brasil que querem se ver livres das amarras estatais.\\n\\nTudo bem que as pesquisas ainda dizem que a maior parte do povo é contra as privatizações, mas o índice (pouco mais de 50% do povo) é fácil de ser revertido. Ademais, Bolsonaro deveria falar para direitistas em vez de focar tanto em petistas arrependidos.\\n\\nRecentemente ele disse que \\x93pensaria 200 vezes antes de privatizar a Petrobrás para que ela não caia nas mãos de chineses\\x94 (ou algo do tipo). Deveria ter dito: \\x93Eu garanto a privatização da Petrobrás, e também garanto que chineses não irão comprá-la\\x94. Isso não deixaria brechas. Do jeito que ele falou, parece que o suposto \\x93medo de venda aos chineses\\x94 é pretexto para evitar a privatização.\\n\\nSeja lá como for, a direita vai ter que adotar alternativas que foquem em um estado reduzido, diminuição de impostos e venda de estatais. Além de João Amoedo, Dr. Rey está fazendo vicejar este tipo de discurso e \\x96 ainda que sua candidatura esteja em fase inicial \\x96 é complicado para Bolsonaro que apareçam pessoas de direita propondo uma visão economicamente direitista para a economia.\\n\\nEnfim, veja aos 32:40 Dr. Rey espinafrando Bolsonaro: Quem dá brechas não pode reclamar que os outros aproveitem, não é mesmo?\\n'"
      ]
     },
     "execution_count": 33,
     "metadata": {},
     "output_type": "execute_result"
    }
   ],
   "source": [
    "dt.text[1]"
   ]
  },
  {
   "cell_type": "code",
   "execution_count": 6,
   "id": "ffb21c3a-f423-4c4c-b02c-ec0b0ba97476",
   "metadata": {},
   "outputs": [
    {
     "name": "stderr",
     "output_type": "stream",
     "text": [
      "[nltk_data] Downloading package rslp to\n",
      "[nltk_data]     /home/rafaelxavier/nltk_data...\n",
      "[nltk_data]   Package rslp is already up-to-date!\n"
     ]
    },
    {
     "data": {
      "text/plain": [
       "True"
      ]
     },
     "execution_count": 6,
     "metadata": {},
     "output_type": "execute_result"
    }
   ],
   "source": [
    "nltk.download('rslp')"
   ]
  },
  {
   "cell_type": "code",
   "execution_count": 7,
   "id": "43c93c77-0a56-4aaa-a147-997f1eed5808",
   "metadata": {},
   "outputs": [],
   "source": [
    "token_space = tokenize.WhitespaceTokenizer()"
   ]
  },
  {
   "cell_type": "code",
   "execution_count": 15,
   "id": "594b52a2-6172-4e2e-8f5b-a07afcf8347c",
   "metadata": {},
   "outputs": [],
   "source": [
    "pipe_lr = joblib.load(\n",
    "        \"../models/model_RandomForestClassifier_with_stop_words_stemma.joblib\"\n",
    "    )\n",
    "\n",
    "pipe_pp = joblib.load(\n",
    "    open(\n",
    "        \"../models/preprocessor.joblib\",\n",
    "        \"rb\"\n",
    "    )\n",
    ")\n",
    "# funções\n",
    "\n",
    "# def predict_model(docx):\n",
    "#     results = pipe_lr.predict([docx])\n",
    "#     return results[0]"
   ]
  },
  {
   "cell_type": "code",
   "execution_count": 13,
   "id": "28a2571b-5f51-4c69-a2a1-493e8bffed52",
   "metadata": {},
   "outputs": [],
   "source": [
    "text1 = \"Os mais de 60 milhões de votos recebidos por Luiz Inácio Lula da Silva (PT) no segundo turno são a maior votação obtida por um candidato à Presidência desde a redemocratização, quando foram instituídas as eleições em dois turnos.\""
   ]
  },
  {
   "cell_type": "code",
   "execution_count": 14,
   "id": "cc95f81a-c72b-4701-adae-ca812ca60078",
   "metadata": {},
   "outputs": [],
   "source": [
    "text = \"\"\"Luiz Inácio Lula da Silva (PT) é o novo presidente da República. Ele venceu o atual presidente, Jair Messias Bolsonaro (PL), que pleiteava a reeleição no segundo turno das Eleições Gerais de 2022.\n",
    "\n",
    "Às 19h56 deste domingo (30), com 98,91% das urnas apuradas, Lula foi considerado eleito após receber 59.563.912 votos (50,83% dos votos válidos), contra 57.675.427 votos (49,17% dos votos válidos) de Bolsonaro.\n",
    "\n",
    "O número de votos válidos, até aquele horário, foi de 117.305.567. Foram registrados 1.751.415 votos brancos (1,43%) e 3.889.466 votos nulos (3,16%). A abstenção chegou a 20,90%.\"\"\""
   ]
  },
  {
   "cell_type": "code",
   "execution_count": 16,
   "id": "1303d97f-d4ba-43ff-a049-9e7ca932414f",
   "metadata": {},
   "outputs": [],
   "source": [
    "dataframe = {\"texto\": [text]}\n",
    "df = pd.DataFrame(dataframe)"
   ]
  },
  {
   "cell_type": "code",
   "execution_count": 17,
   "id": "3e0989b3-742e-443c-bc0a-02f1775bc9df",
   "metadata": {},
   "outputs": [],
   "source": [
    "class Processing():\n",
    "    \n",
    "    # retirando pontuação\n",
    "    def clean_dots(self, df):\n",
    "        df[\"texto\"]=df.texto.apply(lambda x : x.lower())\n",
    "        df[\"texto\"]=df.texto.apply(lambda x : re.sub('[^\\w\\s]', '', x))\n",
    "        return df\n",
    "   \n",
    "    # fazendo stemmatização\n",
    "    def stemma(self, df):\n",
    "        stemmer = nltk.stem.RSLPStemmer()\n",
    "        frase_processada = list()\n",
    "        for text in df[\"texto\"]:\n",
    "            #para cada frase acessada vamos tokeniza-la e verificar se cada token \n",
    "            #é pertecentes a nossa lista de stop\n",
    "            #words\n",
    "            nova_frase = list()\n",
    "            palavras_texto = token_space.tokenize(text)\n",
    "            for palavra in palavras_texto:\n",
    "                nova_frase.append(stemmer.stem(palavra)) #stemmatização de cada palavra da sentença\n",
    "            frase_processada.append(' '.join(nova_frase))\n",
    "        \n",
    "        df[\"text\"]=frase_processada\n",
    "        return df\n",
    "\n",
    "    \n",
    "    # Criando bag of words\n",
    "    def vetorizing(self, df):\n",
    "        # st.write(pipe_pp)\n",
    "        return pipe_pp.transform(df[\"text\"])\n",
    "    "
   ]
  },
  {
   "cell_type": "code",
   "execution_count": 18,
   "id": "402cbc15-1dc5-434e-b331-6c67575c6a8c",
   "metadata": {},
   "outputs": [],
   "source": [
    "processing = Processing()"
   ]
  },
  {
   "cell_type": "code",
   "execution_count": 19,
   "id": "7107b6ed-1cd6-41c6-b751-6cbca5f576c7",
   "metadata": {},
   "outputs": [],
   "source": [
    "df2 = processing.clean_dots(df)\n",
    "df2 = processing.stemma(df2)\n",
    "bag = processing.vetorizing(df2)"
   ]
  },
  {
   "cell_type": "code",
   "execution_count": 20,
   "id": "677d1fa5-a11a-4dc5-89e9-24191ae6484f",
   "metadata": {},
   "outputs": [],
   "source": [
    "def predict_model(docx):\n",
    "    results = pipe_lr.predict(docx)\n",
    "    return results"
   ]
  },
  {
   "cell_type": "code",
   "execution_count": 21,
   "id": "0a95044d-620f-4f52-b57a-36747fd1faad",
   "metadata": {},
   "outputs": [
    {
     "name": "stderr",
     "output_type": "stream",
     "text": [
      "/home/rafaelxavier/.cache/pypoetry/virtualenvs/src-oDiRjDCQ-py3.8/lib/python3.8/site-packages/sklearn/base.py:450: UserWarning: X does not have valid feature names, but RandomForestClassifier was fitted with feature names\n",
      "  warnings.warn(\n"
     ]
    }
   ],
   "source": [
    "resultado = pipe_lr.predict(bag)"
   ]
  },
  {
   "cell_type": "code",
   "execution_count": 22,
   "id": "8780b21f-4545-410b-bb9d-f76e827b59b4",
   "metadata": {},
   "outputs": [],
   "source": [
    "resultado = predict_model(bag)"
   ]
  },
  {
   "cell_type": "code",
   "execution_count": 23,
   "id": "5e04f380-da92-45aa-b18f-dfb81f74c1ed",
   "metadata": {},
   "outputs": [
    {
     "data": {
      "text/plain": [
       "0"
      ]
     },
     "execution_count": 23,
     "metadata": {},
     "output_type": "execute_result"
    }
   ],
   "source": [
    "resultado[0]"
   ]
  },
  {
   "cell_type": "code",
   "execution_count": 123,
   "id": "4ff02461-5c7a-4a75-9fad-43f58d4f2017",
   "metadata": {},
   "outputs": [],
   "source": [
    "# pipe = Pipeline([\n",
    "#     \"PreProcessing\", PreProcessing.clean_dots(),\n",
    "#     \"stemma\", PreProcessing.stemma(),\n",
    "#     \"bag_of_words\", PreProcessing.vetorizing()\n",
    "# ])"
   ]
  },
  {
   "cell_type": "code",
   "execution_count": 42,
   "id": "74653d7f-cab9-424a-b7c1-3ce61411a3eb",
   "metadata": {},
   "outputs": [],
   "source": [
    "# plt.figure(figsize=(12,12))\n",
    "fig = go.Figure(go.Indicator(\n",
    "    domain = {'x': [0, 1], 'y': [0, 1]},\n",
    "    value = 90,\n",
    "    mode = \"gauge+number+delta\",\n",
    "    title = {'text': \"Probabilidade\"},\n",
    "    delta = {'reference': 380},\n",
    "    gauge = {'axis': {'range': [None, 100]},\n",
    "             'steps' : [\n",
    "                 {'range': [0, 40], 'color': \"lightgray\"},\n",
    "                 {'range': [40, 60], 'color': \"gray\"}],\n",
    "             'threshold' : {'line': {'color': \"red\", 'width': 4}, 'thickness': 0.75, 'value': 100}}))\n",
    "\n",
    "# fig.show()"
   ]
  },
  {
   "cell_type": "code",
   "execution_count": 43,
   "id": "db761871-7f68-4563-884f-e3b421268b0b",
   "metadata": {},
   "outputs": [
    {
     "data": {
      "application/vnd.plotly.v1+json": {
       "config": {
        "plotlyServerURL": "https://plot.ly"
       },
       "data": [
        {
         "delta": {
          "increasing": {
           "color": "RebeccaPurple"
          },
          "reference": 400
         },
         "domain": {
          "x": [
           0,
           1
          ],
          "y": [
           0,
           1
          ]
         },
         "gauge": {
          "axis": {
           "range": [
            null,
            500
           ],
           "tickcolor": "darkblue",
           "tickwidth": 1
          },
          "bar": {
           "color": "darkblue"
          },
          "bgcolor": "white",
          "bordercolor": "gray",
          "borderwidth": 2,
          "steps": [
           {
            "color": "cyan",
            "range": [
             0,
             250
            ]
           },
           {
            "color": "royalblue",
            "range": [
             250,
             400
            ]
           }
          ],
          "threshold": {
           "line": {
            "color": "red",
            "width": 4
           },
           "thickness": 0.75,
           "value": 490
          }
         },
         "mode": "gauge+number+delta",
         "title": {
          "font": {
           "size": 24
          },
          "text": "Speed"
         },
         "type": "indicator",
         "value": 420
        }
       ],
       "layout": {
        "autosize": true,
        "font": {
         "color": "darkblue",
         "family": "Arial"
        },
        "paper_bgcolor": "lavender",
        "template": {
         "data": {
          "bar": [
           {
            "error_x": {
             "color": "#2a3f5f"
            },
            "error_y": {
             "color": "#2a3f5f"
            },
            "marker": {
             "line": {
              "color": "#E5ECF6",
              "width": 0.5
             },
             "pattern": {
              "fillmode": "overlay",
              "size": 10,
              "solidity": 0.2
             }
            },
            "type": "bar"
           }
          ],
          "barpolar": [
           {
            "marker": {
             "line": {
              "color": "#E5ECF6",
              "width": 0.5
             },
             "pattern": {
              "fillmode": "overlay",
              "size": 10,
              "solidity": 0.2
             }
            },
            "type": "barpolar"
           }
          ],
          "carpet": [
           {
            "aaxis": {
             "endlinecolor": "#2a3f5f",
             "gridcolor": "white",
             "linecolor": "white",
             "minorgridcolor": "white",
             "startlinecolor": "#2a3f5f"
            },
            "baxis": {
             "endlinecolor": "#2a3f5f",
             "gridcolor": "white",
             "linecolor": "white",
             "minorgridcolor": "white",
             "startlinecolor": "#2a3f5f"
            },
            "type": "carpet"
           }
          ],
          "choropleth": [
           {
            "colorbar": {
             "outlinewidth": 0,
             "ticks": ""
            },
            "type": "choropleth"
           }
          ],
          "contour": [
           {
            "colorbar": {
             "outlinewidth": 0,
             "ticks": ""
            },
            "colorscale": [
             [
              0,
              "#0d0887"
             ],
             [
              0.1111111111111111,
              "#46039f"
             ],
             [
              0.2222222222222222,
              "#7201a8"
             ],
             [
              0.3333333333333333,
              "#9c179e"
             ],
             [
              0.4444444444444444,
              "#bd3786"
             ],
             [
              0.5555555555555556,
              "#d8576b"
             ],
             [
              0.6666666666666666,
              "#ed7953"
             ],
             [
              0.7777777777777778,
              "#fb9f3a"
             ],
             [
              0.8888888888888888,
              "#fdca26"
             ],
             [
              1,
              "#f0f921"
             ]
            ],
            "type": "contour"
           }
          ],
          "contourcarpet": [
           {
            "colorbar": {
             "outlinewidth": 0,
             "ticks": ""
            },
            "type": "contourcarpet"
           }
          ],
          "heatmap": [
           {
            "colorbar": {
             "outlinewidth": 0,
             "ticks": ""
            },
            "colorscale": [
             [
              0,
              "#0d0887"
             ],
             [
              0.1111111111111111,
              "#46039f"
             ],
             [
              0.2222222222222222,
              "#7201a8"
             ],
             [
              0.3333333333333333,
              "#9c179e"
             ],
             [
              0.4444444444444444,
              "#bd3786"
             ],
             [
              0.5555555555555556,
              "#d8576b"
             ],
             [
              0.6666666666666666,
              "#ed7953"
             ],
             [
              0.7777777777777778,
              "#fb9f3a"
             ],
             [
              0.8888888888888888,
              "#fdca26"
             ],
             [
              1,
              "#f0f921"
             ]
            ],
            "type": "heatmap"
           }
          ],
          "heatmapgl": [
           {
            "colorbar": {
             "outlinewidth": 0,
             "ticks": ""
            },
            "colorscale": [
             [
              0,
              "#0d0887"
             ],
             [
              0.1111111111111111,
              "#46039f"
             ],
             [
              0.2222222222222222,
              "#7201a8"
             ],
             [
              0.3333333333333333,
              "#9c179e"
             ],
             [
              0.4444444444444444,
              "#bd3786"
             ],
             [
              0.5555555555555556,
              "#d8576b"
             ],
             [
              0.6666666666666666,
              "#ed7953"
             ],
             [
              0.7777777777777778,
              "#fb9f3a"
             ],
             [
              0.8888888888888888,
              "#fdca26"
             ],
             [
              1,
              "#f0f921"
             ]
            ],
            "type": "heatmapgl"
           }
          ],
          "histogram": [
           {
            "marker": {
             "pattern": {
              "fillmode": "overlay",
              "size": 10,
              "solidity": 0.2
             }
            },
            "type": "histogram"
           }
          ],
          "histogram2d": [
           {
            "colorbar": {
             "outlinewidth": 0,
             "ticks": ""
            },
            "colorscale": [
             [
              0,
              "#0d0887"
             ],
             [
              0.1111111111111111,
              "#46039f"
             ],
             [
              0.2222222222222222,
              "#7201a8"
             ],
             [
              0.3333333333333333,
              "#9c179e"
             ],
             [
              0.4444444444444444,
              "#bd3786"
             ],
             [
              0.5555555555555556,
              "#d8576b"
             ],
             [
              0.6666666666666666,
              "#ed7953"
             ],
             [
              0.7777777777777778,
              "#fb9f3a"
             ],
             [
              0.8888888888888888,
              "#fdca26"
             ],
             [
              1,
              "#f0f921"
             ]
            ],
            "type": "histogram2d"
           }
          ],
          "histogram2dcontour": [
           {
            "colorbar": {
             "outlinewidth": 0,
             "ticks": ""
            },
            "colorscale": [
             [
              0,
              "#0d0887"
             ],
             [
              0.1111111111111111,
              "#46039f"
             ],
             [
              0.2222222222222222,
              "#7201a8"
             ],
             [
              0.3333333333333333,
              "#9c179e"
             ],
             [
              0.4444444444444444,
              "#bd3786"
             ],
             [
              0.5555555555555556,
              "#d8576b"
             ],
             [
              0.6666666666666666,
              "#ed7953"
             ],
             [
              0.7777777777777778,
              "#fb9f3a"
             ],
             [
              0.8888888888888888,
              "#fdca26"
             ],
             [
              1,
              "#f0f921"
             ]
            ],
            "type": "histogram2dcontour"
           }
          ],
          "mesh3d": [
           {
            "colorbar": {
             "outlinewidth": 0,
             "ticks": ""
            },
            "type": "mesh3d"
           }
          ],
          "parcoords": [
           {
            "line": {
             "colorbar": {
              "outlinewidth": 0,
              "ticks": ""
             }
            },
            "type": "parcoords"
           }
          ],
          "pie": [
           {
            "automargin": true,
            "type": "pie"
           }
          ],
          "scatter": [
           {
            "fillpattern": {
             "fillmode": "overlay",
             "size": 10,
             "solidity": 0.2
            },
            "type": "scatter"
           }
          ],
          "scatter3d": [
           {
            "line": {
             "colorbar": {
              "outlinewidth": 0,
              "ticks": ""
             }
            },
            "marker": {
             "colorbar": {
              "outlinewidth": 0,
              "ticks": ""
             }
            },
            "type": "scatter3d"
           }
          ],
          "scattercarpet": [
           {
            "marker": {
             "colorbar": {
              "outlinewidth": 0,
              "ticks": ""
             }
            },
            "type": "scattercarpet"
           }
          ],
          "scattergeo": [
           {
            "marker": {
             "colorbar": {
              "outlinewidth": 0,
              "ticks": ""
             }
            },
            "type": "scattergeo"
           }
          ],
          "scattergl": [
           {
            "marker": {
             "colorbar": {
              "outlinewidth": 0,
              "ticks": ""
             }
            },
            "type": "scattergl"
           }
          ],
          "scattermapbox": [
           {
            "marker": {
             "colorbar": {
              "outlinewidth": 0,
              "ticks": ""
             }
            },
            "type": "scattermapbox"
           }
          ],
          "scatterpolar": [
           {
            "marker": {
             "colorbar": {
              "outlinewidth": 0,
              "ticks": ""
             }
            },
            "type": "scatterpolar"
           }
          ],
          "scatterpolargl": [
           {
            "marker": {
             "colorbar": {
              "outlinewidth": 0,
              "ticks": ""
             }
            },
            "type": "scatterpolargl"
           }
          ],
          "scatterternary": [
           {
            "marker": {
             "colorbar": {
              "outlinewidth": 0,
              "ticks": ""
             }
            },
            "type": "scatterternary"
           }
          ],
          "surface": [
           {
            "colorbar": {
             "outlinewidth": 0,
             "ticks": ""
            },
            "colorscale": [
             [
              0,
              "#0d0887"
             ],
             [
              0.1111111111111111,
              "#46039f"
             ],
             [
              0.2222222222222222,
              "#7201a8"
             ],
             [
              0.3333333333333333,
              "#9c179e"
             ],
             [
              0.4444444444444444,
              "#bd3786"
             ],
             [
              0.5555555555555556,
              "#d8576b"
             ],
             [
              0.6666666666666666,
              "#ed7953"
             ],
             [
              0.7777777777777778,
              "#fb9f3a"
             ],
             [
              0.8888888888888888,
              "#fdca26"
             ],
             [
              1,
              "#f0f921"
             ]
            ],
            "type": "surface"
           }
          ],
          "table": [
           {
            "cells": {
             "fill": {
              "color": "#EBF0F8"
             },
             "line": {
              "color": "white"
             }
            },
            "header": {
             "fill": {
              "color": "#C8D4E3"
             },
             "line": {
              "color": "white"
             }
            },
            "type": "table"
           }
          ]
         },
         "layout": {
          "annotationdefaults": {
           "arrowcolor": "#2a3f5f",
           "arrowhead": 0,
           "arrowwidth": 1
          },
          "autotypenumbers": "strict",
          "coloraxis": {
           "colorbar": {
            "outlinewidth": 0,
            "ticks": ""
           }
          },
          "colorscale": {
           "diverging": [
            [
             0,
             "#8e0152"
            ],
            [
             0.1,
             "#c51b7d"
            ],
            [
             0.2,
             "#de77ae"
            ],
            [
             0.3,
             "#f1b6da"
            ],
            [
             0.4,
             "#fde0ef"
            ],
            [
             0.5,
             "#f7f7f7"
            ],
            [
             0.6,
             "#e6f5d0"
            ],
            [
             0.7,
             "#b8e186"
            ],
            [
             0.8,
             "#7fbc41"
            ],
            [
             0.9,
             "#4d9221"
            ],
            [
             1,
             "#276419"
            ]
           ],
           "sequential": [
            [
             0,
             "#0d0887"
            ],
            [
             0.1111111111111111,
             "#46039f"
            ],
            [
             0.2222222222222222,
             "#7201a8"
            ],
            [
             0.3333333333333333,
             "#9c179e"
            ],
            [
             0.4444444444444444,
             "#bd3786"
            ],
            [
             0.5555555555555556,
             "#d8576b"
            ],
            [
             0.6666666666666666,
             "#ed7953"
            ],
            [
             0.7777777777777778,
             "#fb9f3a"
            ],
            [
             0.8888888888888888,
             "#fdca26"
            ],
            [
             1,
             "#f0f921"
            ]
           ],
           "sequentialminus": [
            [
             0,
             "#0d0887"
            ],
            [
             0.1111111111111111,
             "#46039f"
            ],
            [
             0.2222222222222222,
             "#7201a8"
            ],
            [
             0.3333333333333333,
             "#9c179e"
            ],
            [
             0.4444444444444444,
             "#bd3786"
            ],
            [
             0.5555555555555556,
             "#d8576b"
            ],
            [
             0.6666666666666666,
             "#ed7953"
            ],
            [
             0.7777777777777778,
             "#fb9f3a"
            ],
            [
             0.8888888888888888,
             "#fdca26"
            ],
            [
             1,
             "#f0f921"
            ]
           ]
          },
          "colorway": [
           "#636efa",
           "#EF553B",
           "#00cc96",
           "#ab63fa",
           "#FFA15A",
           "#19d3f3",
           "#FF6692",
           "#B6E880",
           "#FF97FF",
           "#FECB52"
          ],
          "font": {
           "color": "#2a3f5f"
          },
          "geo": {
           "bgcolor": "white",
           "lakecolor": "white",
           "landcolor": "#E5ECF6",
           "showlakes": true,
           "showland": true,
           "subunitcolor": "white"
          },
          "hoverlabel": {
           "align": "left"
          },
          "hovermode": "closest",
          "mapbox": {
           "style": "light"
          },
          "paper_bgcolor": "white",
          "plot_bgcolor": "#E5ECF6",
          "polar": {
           "angularaxis": {
            "gridcolor": "white",
            "linecolor": "white",
            "ticks": ""
           },
           "bgcolor": "#E5ECF6",
           "radialaxis": {
            "gridcolor": "white",
            "linecolor": "white",
            "ticks": ""
           }
          },
          "scene": {
           "xaxis": {
            "backgroundcolor": "#E5ECF6",
            "gridcolor": "white",
            "gridwidth": 2,
            "linecolor": "white",
            "showbackground": true,
            "ticks": "",
            "zerolinecolor": "white"
           },
           "yaxis": {
            "backgroundcolor": "#E5ECF6",
            "gridcolor": "white",
            "gridwidth": 2,
            "linecolor": "white",
            "showbackground": true,
            "ticks": "",
            "zerolinecolor": "white"
           },
           "zaxis": {
            "backgroundcolor": "#E5ECF6",
            "gridcolor": "white",
            "gridwidth": 2,
            "linecolor": "white",
            "showbackground": true,
            "ticks": "",
            "zerolinecolor": "white"
           }
          },
          "shapedefaults": {
           "line": {
            "color": "#2a3f5f"
           }
          },
          "ternary": {
           "aaxis": {
            "gridcolor": "white",
            "linecolor": "white",
            "ticks": ""
           },
           "baxis": {
            "gridcolor": "white",
            "linecolor": "white",
            "ticks": ""
           },
           "bgcolor": "#E5ECF6",
           "caxis": {
            "gridcolor": "white",
            "linecolor": "white",
            "ticks": ""
           }
          },
          "title": {
           "x": 0.05
          },
          "xaxis": {
           "automargin": true,
           "gridcolor": "white",
           "linecolor": "white",
           "ticks": "",
           "title": {
            "standoff": 15
           },
           "zerolinecolor": "white",
           "zerolinewidth": 2
          },
          "yaxis": {
           "automargin": true,
           "gridcolor": "white",
           "linecolor": "white",
           "ticks": "",
           "title": {
            "standoff": 15
           },
           "zerolinecolor": "white",
           "zerolinewidth": 2
          }
         }
        }
       }
      },
      "image/png": "[encoded data removed]",
      "text/html": [
       "<div>                            <div id=\"a2c10c79-af43-4a55-b665-a8b9ec71650b\" class=\"plotly-graph-div\" style=\"height:525px; width:100%;\"></div>            <script type=\"text/javascript\">                require([\"plotly\"], function(Plotly) {                    window.PLOTLYENV=window.PLOTLYENV || {};                                    if (document.getElementById(\"a2c10c79-af43-4a55-b665-a8b9ec71650b\")) {                    Plotly.newPlot(                        \"a2c10c79-af43-4a55-b665-a8b9ec71650b\",                        [{\"delta\":{\"increasing\":{\"color\":\"RebeccaPurple\"},\"reference\":400},\"domain\":{\"x\":[0,1],\"y\":[0,1]},\"gauge\":{\"axis\":{\"range\":[null,500],\"tickcolor\":\"darkblue\",\"tickwidth\":1},\"bar\":{\"color\":\"darkblue\"},\"bgcolor\":\"white\",\"bordercolor\":\"gray\",\"borderwidth\":2,\"steps\":[{\"color\":\"cyan\",\"range\":[0,250]},{\"color\":\"royalblue\",\"range\":[250,400]}],\"threshold\":{\"line\":{\"color\":\"red\",\"width\":4},\"thickness\":0.75,\"value\":490}},\"mode\":\"gauge+number+delta\",\"title\":{\"font\":{\"size\":24},\"text\":\"Speed\"},\"value\":420,\"type\":\"indicator\"}],                        {\"template\":{\"data\":{\"histogram2dcontour\":[{\"type\":\"histogram2dcontour\",\"colorbar\":{\"outlinewidth\":0,\"ticks\":\"\"},\"colorscale\":[[0.0,\"#0d0887\"],[0.1111111111111111,\"#46039f\"],[0.2222222222222222,\"#7201a8\"],[0.3333333333333333,\"#9c179e\"],[0.4444444444444444,\"#bd3786\"],[0.5555555555555556,\"#d8576b\"],[0.6666666666666666,\"#ed7953\"],[0.7777777777777778,\"#fb9f3a\"],[0.8888888888888888,\"#fdca26\"],[1.0,\"#f0f921\"]]}],\"choropleth\":[{\"type\":\"choropleth\",\"colorbar\":{\"outlinewidth\":0,\"ticks\":\"\"}}],\"histogram2d\":[{\"type\":\"histogram2d\",\"colorbar\":{\"outlinewidth\":0,\"ticks\":\"\"},\"colorscale\":[[0.0,\"#0d0887\"],[0.1111111111111111,\"#46039f\"],[0.2222222222222222,\"#7201a8\"],[0.3333333333333333,\"#9c179e\"],[0.4444444444444444,\"#bd3786\"],[0.5555555555555556,\"#d8576b\"],[0.6666666666666666,\"#ed7953\"],[0.7777777777777778,\"#fb9f3a\"],[0.8888888888888888,\"#fdca26\"],[1.0,\"#f0f921\"]]}],\"heatmap\":[{\"type\":\"heatmap\",\"colorbar\":{\"outlinewidth\":0,\"ticks\":\"\"},\"colorscale\":[[0.0,\"#0d0887\"],[0.1111111111111111,\"#46039f\"],[0.2222222222222222,\"#7201a8\"],[0.3333333333333333,\"#9c179e\"],[0.4444444444444444,\"#bd3786\"],[0.5555555555555556,\"#d8576b\"],[0.6666666666666666,\"#ed7953\"],[0.7777777777777778,\"#fb9f3a\"],[0.8888888888888888,\"#fdca26\"],[1.0,\"#f0f921\"]]}],\"heatmapgl\":[{\"type\":\"heatmapgl\",\"colorbar\":{\"outlinewidth\":0,\"ticks\":\"\"},\"colorscale\":[[0.0,\"#0d0887\"],[0.1111111111111111,\"#46039f\"],[0.2222222222222222,\"#7201a8\"],[0.3333333333333333,\"#9c179e\"],[0.4444444444444444,\"#bd3786\"],[0.5555555555555556,\"#d8576b\"],[0.6666666666666666,\"#ed7953\"],[0.7777777777777778,\"#fb9f3a\"],[0.8888888888888888,\"#fdca26\"],[1.0,\"#f0f921\"]]}],\"contourcarpet\":[{\"type\":\"contourcarpet\",\"colorbar\":{\"outlinewidth\":0,\"ticks\":\"\"}}],\"contour\":[{\"type\":\"contour\",\"colorbar\":{\"outlinewidth\":0,\"ticks\":\"\"},\"colorscale\":[[0.0,\"#0d0887\"],[0.1111111111111111,\"#46039f\"],[0.2222222222222222,\"#7201a8\"],[0.3333333333333333,\"#9c179e\"],[0.4444444444444444,\"#bd3786\"],[0.5555555555555556,\"#d8576b\"],[0.6666666666666666,\"#ed7953\"],[0.7777777777777778,\"#fb9f3a\"],[0.8888888888888888,\"#fdca26\"],[1.0,\"#f0f921\"]]}],\"surface\":[{\"type\":\"surface\",\"colorbar\":{\"outlinewidth\":0,\"ticks\":\"\"},\"colorscale\":[[0.0,\"#0d0887\"],[0.1111111111111111,\"#46039f\"],[0.2222222222222222,\"#7201a8\"],[0.3333333333333333,\"#9c179e\"],[0.4444444444444444,\"#bd3786\"],[0.5555555555555556,\"#d8576b\"],[0.6666666666666666,\"#ed7953\"],[0.7777777777777778,\"#fb9f3a\"],[0.8888888888888888,\"#fdca26\"],[1.0,\"#f0f921\"]]}],\"mesh3d\":[{\"type\":\"mesh3d\",\"colorbar\":{\"outlinewidth\":0,\"ticks\":\"\"}}],\"scatter\":[{\"fillpattern\":{\"fillmode\":\"overlay\",\"size\":10,\"solidity\":0.2},\"type\":\"scatter\"}],\"parcoords\":[{\"type\":\"parcoords\",\"line\":{\"colorbar\":{\"outlinewidth\":0,\"ticks\":\"\"}}}],\"scatterpolargl\":[{\"type\":\"scatterpolargl\",\"marker\":{\"colorbar\":{\"outlinewidth\":0,\"ticks\":\"\"}}}],\"bar\":[{\"error_x\":{\"color\":\"#2a3f5f\"},\"error_y\":{\"color\":\"#2a3f5f\"},\"marker\":{\"line\":{\"color\":\"#E5ECF6\",\"width\":0.5},\"pattern\":{\"fillmode\":\"overlay\",\"size\":10,\"solidity\":0.2}},\"type\":\"bar\"}],\"scattergeo\":[{\"type\":\"scattergeo\",\"marker\":{\"colorbar\":{\"outlinewidth\":0,\"ticks\":\"\"}}}],\"scatterpolar\":[{\"type\":\"scatterpolar\",\"marker\":{\"colorbar\":{\"outlinewidth\":0,\"ticks\":\"\"}}}],\"histogram\":[{\"marker\":{\"pattern\":{\"fillmode\":\"overlay\",\"size\":10,\"solidity\":0.2}},\"type\":\"histogram\"}],\"scattergl\":[{\"type\":\"scattergl\",\"marker\":{\"colorbar\":{\"outlinewidth\":0,\"ticks\":\"\"}}}],\"scatter3d\":[{\"type\":\"scatter3d\",\"line\":{\"colorbar\":{\"outlinewidth\":0,\"ticks\":\"\"}},\"marker\":{\"colorbar\":{\"outlinewidth\":0,\"ticks\":\"\"}}}],\"scattermapbox\":[{\"type\":\"scattermapbox\",\"marker\":{\"colorbar\":{\"outlinewidth\":0,\"ticks\":\"\"}}}],\"scatterternary\":[{\"type\":\"scatterternary\",\"marker\":{\"colorbar\":{\"outlinewidth\":0,\"ticks\":\"\"}}}],\"scattercarpet\":[{\"type\":\"scattercarpet\",\"marker\":{\"colorbar\":{\"outlinewidth\":0,\"ticks\":\"\"}}}],\"carpet\":[{\"aaxis\":{\"endlinecolor\":\"#2a3f5f\",\"gridcolor\":\"white\",\"linecolor\":\"white\",\"minorgridcolor\":\"white\",\"startlinecolor\":\"#2a3f5f\"},\"baxis\":{\"endlinecolor\":\"#2a3f5f\",\"gridcolor\":\"white\",\"linecolor\":\"white\",\"minorgridcolor\":\"white\",\"startlinecolor\":\"#2a3f5f\"},\"type\":\"carpet\"}],\"table\":[{\"cells\":{\"fill\":{\"color\":\"#EBF0F8\"},\"line\":{\"color\":\"white\"}},\"header\":{\"fill\":{\"color\":\"#C8D4E3\"},\"line\":{\"color\":\"white\"}},\"type\":\"table\"}],\"barpolar\":[{\"marker\":{\"line\":{\"color\":\"#E5ECF6\",\"width\":0.5},\"pattern\":{\"fillmode\":\"overlay\",\"size\":10,\"solidity\":0.2}},\"type\":\"barpolar\"}],\"pie\":[{\"automargin\":true,\"type\":\"pie\"}]},\"layout\":{\"autotypenumbers\":\"strict\",\"colorway\":[\"#636efa\",\"#EF553B\",\"#00cc96\",\"#ab63fa\",\"#FFA15A\",\"#19d3f3\",\"#FF6692\",\"#B6E880\",\"#FF97FF\",\"#FECB52\"],\"font\":{\"color\":\"#2a3f5f\"},\"hovermode\":\"closest\",\"hoverlabel\":{\"align\":\"left\"},\"paper_bgcolor\":\"white\",\"plot_bgcolor\":\"#E5ECF6\",\"polar\":{\"bgcolor\":\"#E5ECF6\",\"angularaxis\":{\"gridcolor\":\"white\",\"linecolor\":\"white\",\"ticks\":\"\"},\"radialaxis\":{\"gridcolor\":\"white\",\"linecolor\":\"white\",\"ticks\":\"\"}},\"ternary\":{\"bgcolor\":\"#E5ECF6\",\"aaxis\":{\"gridcolor\":\"white\",\"linecolor\":\"white\",\"ticks\":\"\"},\"baxis\":{\"gridcolor\":\"white\",\"linecolor\":\"white\",\"ticks\":\"\"},\"caxis\":{\"gridcolor\":\"white\",\"linecolor\":\"white\",\"ticks\":\"\"}},\"coloraxis\":{\"colorbar\":{\"outlinewidth\":0,\"ticks\":\"\"}},\"colorscale\":{\"sequential\":[[0.0,\"#0d0887\"],[0.1111111111111111,\"#46039f\"],[0.2222222222222222,\"#7201a8\"],[0.3333333333333333,\"#9c179e\"],[0.4444444444444444,\"#bd3786\"],[0.5555555555555556,\"#d8576b\"],[0.6666666666666666,\"#ed7953\"],[0.7777777777777778,\"#fb9f3a\"],[0.8888888888888888,\"#fdca26\"],[1.0,\"#f0f921\"]],\"sequentialminus\":[[0.0,\"#0d0887\"],[0.1111111111111111,\"#46039f\"],[0.2222222222222222,\"#7201a8\"],[0.3333333333333333,\"#9c179e\"],[0.4444444444444444,\"#bd3786\"],[0.5555555555555556,\"#d8576b\"],[0.6666666666666666,\"#ed7953\"],[0.7777777777777778,\"#fb9f3a\"],[0.8888888888888888,\"#fdca26\"],[1.0,\"#f0f921\"]],\"diverging\":[[0,\"#8e0152\"],[0.1,\"#c51b7d\"],[0.2,\"#de77ae\"],[0.3,\"#f1b6da\"],[0.4,\"#fde0ef\"],[0.5,\"#f7f7f7\"],[0.6,\"#e6f5d0\"],[0.7,\"#b8e186\"],[0.8,\"#7fbc41\"],[0.9,\"#4d9221\"],[1,\"#276419\"]]},\"xaxis\":{\"gridcolor\":\"white\",\"linecolor\":\"white\",\"ticks\":\"\",\"title\":{\"standoff\":15},\"zerolinecolor\":\"white\",\"automargin\":true,\"zerolinewidth\":2},\"yaxis\":{\"gridcolor\":\"white\",\"linecolor\":\"white\",\"ticks\":\"\",\"title\":{\"standoff\":15},\"zerolinecolor\":\"white\",\"automargin\":true,\"zerolinewidth\":2},\"scene\":{\"xaxis\":{\"backgroundcolor\":\"#E5ECF6\",\"gridcolor\":\"white\",\"linecolor\":\"white\",\"showbackground\":true,\"ticks\":\"\",\"zerolinecolor\":\"white\",\"gridwidth\":2},\"yaxis\":{\"backgroundcolor\":\"#E5ECF6\",\"gridcolor\":\"white\",\"linecolor\":\"white\",\"showbackground\":true,\"ticks\":\"\",\"zerolinecolor\":\"white\",\"gridwidth\":2},\"zaxis\":{\"backgroundcolor\":\"#E5ECF6\",\"gridcolor\":\"white\",\"linecolor\":\"white\",\"showbackground\":true,\"ticks\":\"\",\"zerolinecolor\":\"white\",\"gridwidth\":2}},\"shapedefaults\":{\"line\":{\"color\":\"#2a3f5f\"}},\"annotationdefaults\":{\"arrowcolor\":\"#2a3f5f\",\"arrowhead\":0,\"arrowwidth\":1},\"geo\":{\"bgcolor\":\"white\",\"landcolor\":\"#E5ECF6\",\"subunitcolor\":\"white\",\"showland\":true,\"showlakes\":true,\"lakecolor\":\"white\"},\"title\":{\"x\":0.05},\"mapbox\":{\"style\":\"light\"}}},\"font\":{\"color\":\"darkblue\",\"family\":\"Arial\"},\"paper_bgcolor\":\"lavender\"},                        {\"responsive\": true}                    ).then(function(){\n",
       "                            \n",
       "var gd = document.getElementById('a2c10c79-af43-4a55-b665-a8b9ec71650b');\n",
       "var x = new MutationObserver(function (mutations, observer) {{\n",
       "        var display = window.getComputedStyle(gd).display;\n",
       "        if (!display || display === 'none') {{\n",
       "            console.log([gd, 'removed!']);\n",
       "            Plotly.purge(gd);\n",
       "            observer.disconnect();\n",
       "        }}\n",
       "}});\n",
       "\n",
       "// Listen for the removal of the full notebook cells\n",
       "var notebookContainer = gd.closest('#notebook-container');\n",
       "if (notebookContainer) {{\n",
       "    x.observe(notebookContainer, {childList: true});\n",
       "}}\n",
       "\n",
       "// Listen for the clearing of the current output cell\n",
       "var outputEl = gd.closest('.output');\n",
       "if (outputEl) {{\n",
       "    x.observe(outputEl, {childList: true});\n",
       "}}\n",
       "\n",
       "                        })                };                });            </script>        </div>"
      ]
     },
     "metadata": {},
     "output_type": "display_data"
    }
   ],
   "source": [
    "import plotly.graph_objects as go\n",
    "\n",
    "fig = go.Figure(go.Indicator(\n",
    "    mode = \"gauge+number+delta\",\n",
    "    value = 420,\n",
    "    domain = {'x': [0, 1], 'y': [0, 1]},\n",
    "    title = {'text': \"Speed\", 'font': {'size': 24}},\n",
    "    delta = {'reference': 400, 'increasing': {'color': \"RebeccaPurple\"}},\n",
    "    gauge = {\n",
    "        'axis': {'range': [None, 500], 'tickwidth': 1, 'tickcolor': \"darkblue\"},\n",
    "        'bar': {'color': \"darkblue\"},\n",
    "        'bgcolor': \"white\",\n",
    "        'borderwidth': 2,\n",
    "        'bordercolor': \"gray\",\n",
    "        'steps': [\n",
    "            {'range': [0, 250], 'color': 'cyan'},\n",
    "            {'range': [250, 400], 'color': 'royalblue'}],\n",
    "        'threshold': {\n",
    "            'line': {'color': \"red\", 'width': 4},\n",
    "            'thickness': 0.75,\n",
    "            'value': 490}}))\n",
    "\n",
    "fig.update_layout(paper_bgcolor = \"lavender\", font = {'color': \"darkblue\", 'family': \"Arial\"})\n",
    "\n",
    "fig.show()"
   ]
  }
 ],
 "metadata": {
  "kernelspec": {
   "display_name": "Python 3 (ipykernel)",
   "language": "python",
   "name": "python3"
  },
  "language_info": {
   "codemirror_mode": {
    "name": "ipython",
    "version": 3
   },
   "file_extension": ".py",
   "mimetype": "text/x-python",
   "name": "python",
   "nbconvert_exporter": "python",
   "pygments_lexer": "ipython3",
   "version": "3.8.10"
  }
 },
 "nbformat": 4,
 "nbformat_minor": 5
}
