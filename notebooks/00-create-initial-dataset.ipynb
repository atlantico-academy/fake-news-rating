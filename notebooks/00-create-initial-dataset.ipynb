{
 "cells": [
  {
   "cell_type": "code",
   "execution_count": 1,
   "id": "c63e44fd-897f-420c-993f-57e05aadc3a5",
   "metadata": {},
   "outputs": [],
   "source": [
    "import pandas as pd\n",
    "from pathlib import Path"
   ]
  },
  {
   "cell_type": "code",
   "execution_count": 2,
   "id": "2774522b-0c2c-43bf-ae07-6ef40b81d2ca",
   "metadata": {},
   "outputs": [],
   "source": [
    "raw_data_folder = Path(\"../data/raw/full_texts/\") # capturar o path dos dados\n",
    "labels = ['fake', 'true'] # criar lista de labels"
   ]
  },
  {
   "cell_type": "code",
   "execution_count": 3,
   "id": "dfc2e612-2059-4054-a02a-7b6154fd1795",
   "metadata": {},
   "outputs": [],
   "source": [
    "# Criar listas que serão colunas do meu conjunto de dados\n",
    "text = []\n",
    "date_time = []\n",
    "category = []\n",
    "label_list = []\n",
    "for label in labels:\n",
    "    data_folder = raw_data_folder / label # diretório dos dados\n",
    "    metadata_folder = raw_data_folder / f\"{label}-meta-information\" # diretório dos metadados\n",
    "    # populas lista de dados\n",
    "    for file_path in data_folder.glob('*.txt'):\n",
    "        with open(file_path) as file:\n",
    "            text.append(file.read())\n",
    "    # populas lista de metadados\n",
    "    for file_path in metadata_folder.glob('*.txt'):\n",
    "        with open(file_path) as file:\n",
    "            rows = [row.strip() for row in file.readlines()[2:4]]\n",
    "            category.append(rows[0]) # pegar categoria\n",
    "            date_time.append(rows[1]) # pegar data\n",
    "    list_size = len(list(metadata_folder.glob('*.txt')))\n",
    "    label_list.extend([label] * list_size)"
   ]
  },
  {
   "cell_type": "code",
   "execution_count": 4,
   "id": "66be50e9-b7f1-4a8b-8281-7e15905be2b6",
   "metadata": {},
   "outputs": [],
   "source": [
    "df = pd.DataFrame({\n",
    "    'text': text,\n",
    "    'datetime': date_time,\n",
    "    'category': category,\n",
    "    'label': label_list\n",
    "})"
   ]
  },
  {
   "cell_type": "code",
   "execution_count": 5,
   "id": "04ae7acc-ffbe-42ce-abc9-e2bef205b6df",
   "metadata": {},
   "outputs": [],
   "source": [
    "interim_folder = Path('../data/interim')\n",
    "interim_folder.mkdir(exist_ok=True)"
   ]
  },
  {
   "cell_type": "code",
   "execution_count": 6,
   "id": "a4251885-a700-4a10-befc-b610f7e3727c",
   "metadata": {},
   "outputs": [],
   "source": [
    "df.to_csv(interim_folder / 'data.csv', index=False)"
   ]
  }
 ],
 "metadata": {
  "kernelspec": {
   "display_name": "Python 3 (ipykernel)",
   "language": "python",
   "name": "python3"
  },
  "language_info": {
   "codemirror_mode": {
    "name": "ipython",
    "version": 3
   },
   "file_extension": ".py",
   "mimetype": "text/x-python",
   "name": "python",
   "nbconvert_exporter": "python",
   "pygments_lexer": "ipython3",
   "version": "3.8.10"
  }
 },
 "nbformat": 4,
 "nbformat_minor": 5
}
