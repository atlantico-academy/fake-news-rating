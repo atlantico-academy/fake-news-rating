{
 "cells": [
  {
   "cell_type": "code",
   "execution_count": 1,
   "id": "a8afd6c8-6bbf-4702-866f-f78c76ae80cc",
   "metadata": {},
   "outputs": [],
   "source": [
    "import pandas as pd\n",
    "import nltk\n",
    "from sklearn.feature_extraction.text import TfidfVectorizer\n",
    "from sklearn.model_selection import train_test_split, GridSearchCV,RandomizedSearchCV,cross_val_score,KFold,ShuffleSplit\n",
    "from sklearn.naive_bayes import GaussianNB\n",
    "from sklearn.tree import DecisionTreeClassifier\n",
    "from xgboost import XGBClassifier\n",
    "from sklearn.linear_model import LogisticRegression\n",
    "from sklearn.ensemble import RandomForestClassifier,AdaBoostClassifier,GradientBoostingClassifier\n",
    "from sklearn.metrics import f1_score, precision_score, recall_score, accuracy_score, classification_report,roc_auc_score,roc_curve\n",
    "from sklearn.preprocessing import LabelEncoder\n",
    "from sklearn.dummy import DummyClassifier\n",
    "from skopt import BayesSearchCV\n",
    "from matplotlib import pyplot as plt"
   ]
  },
  {
   "cell_type": "code",
   "execution_count": 2,
   "id": "edc75079-0452-4c7c-89f9-fc4ec2fca6f5",
   "metadata": {},
   "outputs": [],
   "source": [
    "path = \"../data/interim/\""
   ]
  },
  {
   "cell_type": "code",
   "execution_count": 3,
   "id": "e92b8bf2-b051-464e-ade8-da88533ea448",
   "metadata": {},
   "outputs": [],
   "source": [
    "scorer = [\"recall\",\"accuracy\",\"f1\"]\n",
    "def cross_score(data_X,data_Y,estimator,estimator_name,score=[]):\n",
    "    recall = []\n",
    "    acc  = []\n",
    "    f1 = []\n",
    "    std_acc=[]\n",
    "    std_recall=[]\n",
    "    std_f1=[]\n",
    "    print(\"model name: \",estimator_name)\n",
    "    for sc in score:\n",
    "        cv = cross_val_score(estimator,data_X,data_Y, scoring=sc, cv=ShuffleSplit(n_splits=5, test_size=0.3, random_state=0))\n",
    "        mean = cv.mean()\n",
    "        std = cv.std()\n",
    "        \n",
    "        print(\"Array: \")\n",
    "        print(\"--------> \"+sc + \" : [ \"+str(cv)+\" ]\\n\")\n",
    "        print(sc + \" : \"+ str(round(mean,3)) + \" std : \"+ str(round(std,3)))\n",
    "        print(\"Intervalo :  [{:.2f}% ~ {:.2f}%]\".format((mean - 2*std)*100, (mean + 2*std)*100))\n",
    "        print()\n",
    "        \n",
    "        if sc == \"recall\":\n",
    "            recall.append(round(mean,3))\n",
    "            std_recall.append(round(std,3))\n",
    "        elif sc == \"f1\":\n",
    "            f1.append(round(mean,3))\n",
    "            std_f1.append(round(std,3))\n",
    "        else:\n",
    "            acc.append(round(mean,3))\n",
    "            std_acc.append(round(std,3))\n",
    "        print(\"-\"*30)\n",
    "    \n",
    "    #if export is True:\n",
    "    df_ = pd.DataFrame(data=zip(recall,f1,acc,std_acc,std_recall,std_f1), index=[estimator_name],\\\n",
    "                        columns=['recall','f1','accuracy',\"std_acc\",\"std_recall\",\"std_f1\"])\n",
    "    return df_"
   ]
  },
  {
   "cell_type": "code",
   "execution_count": 4,
   "id": "c740bbb9-b49d-487e-93c0-321b3aa1edfc",
   "metadata": {},
   "outputs": [],
   "source": [
    "def make_data_for_machine_learning_tfidf(df,col,label):\n",
    "    vetorizarResenha = TfidfVectorizer(lowercase=False, max_features=50)\n",
    "    bag_of_words_ = vetorizarResenha.fit_transform(df[col])\n",
    "    X = pd.DataFrame(bag_of_words_.toarray(),columns=vetorizarResenha.get_feature_names_out())\n",
    "    x_train, x_test, y_train, y_test = train_test_split(X,\n",
    "                                                              df[label],\n",
    "                                                            test_size=0.3,\n",
    "                                                              random_state = 42)\n",
    "    return x_train, x_test, y_train, y_test"
   ]
  },
  {
   "cell_type": "code",
   "execution_count": 5,
   "id": "059edeaf-3d93-464e-af57-e126df9fe654",
   "metadata": {},
   "outputs": [],
   "source": [
    "def build_score(y_pred,y_true,probs):\n",
    "    print(\"Acuracia : {}%\".format(round(accuracy_score(y_pred=y_pred,y_true=y_true)*100,3)))\n",
    "    print(\"F1_score: {}%\".format(round(f1_score(y_pred=y_pred,y_true=y_true)*100,3)))\n",
    "    print(\"Precison: {}%\".format(round(precision_score(y_pred=y_pred,y_true=y_true)*100,3)))\n",
    "    print(\"Recall: {}%\".format(round(recall_score(y_pred=y_pred,y_true=y_true)*100,3)))\n",
    "    print(\"-\"*20)\n",
    "    print('Classification Report')\n",
    "    print(classification_report(y_test,y_pred,target_names=[\"FAKE\",\"TRUE\"]))\n",
    "    print(\"-\"*20)\n",
    "    print(\"Plot curva roc\")\n",
    "    lr_auc = roc_auc_score(y_true, probs[:, 1])\n",
    "    print('ROC AUC=%.3f' % (lr_auc))\n",
    "    fpr, tpr, _ = roc_curve(y_true, probs[:, 1])\n",
    "    plt.plot(fpr, tpr, marker='.')\n",
    "    plt.xlabel('False Positive Rate')\n",
    "    plt.ylabel('True Positive Rate')\n",
    "    plt.show()"
   ]
  },
  {
   "cell_type": "markdown",
   "id": "88484c43-6e99-4243-8c14-a8c050a69744",
   "metadata": {
    "tags": []
   },
   "source": [
    "## No stopWords"
   ]
  },
  {
   "cell_type": "markdown",
   "id": "9b16eadf-2a31-4f96-bfdd-6118c4350c01",
   "metadata": {
    "tags": []
   },
   "source": [
    "### Lemma"
   ]
  },
  {
   "cell_type": "code",
   "execution_count": 29,
   "id": "e50cf733-84e9-4ae3-830a-6386fa426109",
   "metadata": {},
   "outputs": [
    {
     "data": {
      "text/html": [
       "<div>\n",
       "<style scoped>\n",
       "    .dataframe tbody tr th:only-of-type {\n",
       "        vertical-align: middle;\n",
       "    }\n",
       "\n",
       "    .dataframe tbody tr th {\n",
       "        vertical-align: top;\n",
       "    }\n",
       "\n",
       "    .dataframe thead th {\n",
       "        text-align: right;\n",
       "    }\n",
       "</style>\n",
       "<table border=\"1\" class=\"dataframe\">\n",
       "  <thead>\n",
       "    <tr style=\"text-align: right;\">\n",
       "      <th></th>\n",
       "      <th>text</th>\n",
       "      <th>category</th>\n",
       "      <th>label</th>\n",
       "      <th>site</th>\n",
       "    </tr>\n",
       "  </thead>\n",
       "  <tbody>\n",
       "    <tr>\n",
       "      <th>0</th>\n",
       "      <td>Kát abr dizer ir coloc expuls Mold reclam sen ...</td>\n",
       "      <td>politica</td>\n",
       "      <td>fake</td>\n",
       "      <td>https://ceticismopolitico.com</td>\n",
       "    </tr>\n",
       "    <tr>\n",
       "      <th>1</th>\n",
       "      <td>dr ray peit bolsonar chamar conserv fak entrev...</td>\n",
       "      <td>politica</td>\n",
       "      <td>fake</td>\n",
       "      <td>https://ceticismopolitico.com</td>\n",
       "    </tr>\n",
       "    <tr>\n",
       "      <th>2</th>\n",
       "      <td>reinald azeved desmascar políci feder ferrenh ...</td>\n",
       "      <td>politica</td>\n",
       "      <td>fake</td>\n",
       "      <td>https://afolhabrasil.com.br</td>\n",
       "    </tr>\n",
       "    <tr>\n",
       "      <th>3</th>\n",
       "      <td>relatóri assustr bnd mostr dinh públic Brasil ...</td>\n",
       "      <td>politica</td>\n",
       "      <td>fake</td>\n",
       "      <td>https://www.diariodobrasil.org</td>\n",
       "    </tr>\n",
       "    <tr>\n",
       "      <th>4</th>\n",
       "      <td>radial americ fal Sobr pt vend ilusãr pov Bras...</td>\n",
       "      <td>politica</td>\n",
       "      <td>fake</td>\n",
       "      <td>https://www.diariodobrasil.org</td>\n",
       "    </tr>\n",
       "  </tbody>\n",
       "</table>\n",
       "</div>"
      ],
      "text/plain": [
       "                                                text  category label  \\\n",
       "0  Kát abr dizer ir coloc expuls Mold reclam sen ...  politica  fake   \n",
       "1  dr ray peit bolsonar chamar conserv fak entrev...  politica  fake   \n",
       "2  reinald azeved desmascar políci feder ferrenh ...  politica  fake   \n",
       "3  relatóri assustr bnd mostr dinh públic Brasil ...  politica  fake   \n",
       "4  radial americ fal Sobr pt vend ilusãr pov Bras...  politica  fake   \n",
       "\n",
       "                             site  \n",
       "0   https://ceticismopolitico.com  \n",
       "1   https://ceticismopolitico.com  \n",
       "2     https://afolhabrasil.com.br  \n",
       "3  https://www.diariodobrasil.org  \n",
       "4  https://www.diariodobrasil.org  "
      ]
     },
     "execution_count": 29,
     "metadata": {},
     "output_type": "execute_result"
    }
   ],
   "source": [
    "df_test = pd.read_csv(path+\"no_stopWords_lemma.csv\")\n",
    "df_test.head()"
   ]
  },
  {
   "cell_type": "code",
   "execution_count": null,
   "id": "32a7398e-d1ee-437e-a523-370647c865e8",
   "metadata": {},
   "outputs": [],
   "source": []
  },
  {
   "cell_type": "code",
   "execution_count": 30,
   "id": "4d92d9fb-af75-4773-b8ab-8a6a7fe91f62",
   "metadata": {},
   "outputs": [],
   "source": [
    " x_train,x_test,y_train,y_test= make_data_for_machine_learning_tfidf(df_test,\"text\",\"label\")"
   ]
  },
  {
   "cell_type": "code",
   "execution_count": 31,
   "id": "53d386ee-e0c8-47b5-9af3-8dd0a93a64b3",
   "metadata": {},
   "outputs": [
    {
     "name": "stdout",
     "output_type": "stream",
     "text": [
      "treino _ x: (5040, 50)\n",
      "treino _ y : (5040,)\n",
      "test _ x : (2160, 50)\n",
      "test _ y: (2160,)\n"
     ]
    }
   ],
   "source": [
    "print(\"treino _ x: {}\".format(x_train.shape))\n",
    "print(\"treino _ y : {}\".format(y_train.shape))\n",
    "print(\"test _ x : {}\".format(x_test.shape))\n",
    "print(\"test _ y: {}\".format(y_test.shape))     "
   ]
  },
  {
   "cell_type": "code",
   "execution_count": 32,
   "id": "384b2d75-9937-4940-a659-6107b4c1d908",
   "metadata": {},
   "outputs": [],
   "source": [
    "le = LabelEncoder()"
   ]
  },
  {
   "cell_type": "code",
   "execution_count": 33,
   "id": "6be389ce-17dd-40d0-bb64-1c368a94a8f1",
   "metadata": {},
   "outputs": [],
   "source": [
    "y_train = le.fit_transform(y_train)\n",
    "y_test = le.fit_transform(y_test)"
   ]
  },
  {
   "cell_type": "markdown",
   "id": "c07ddb12-0f57-4ba8-8feb-1648af9b01a8",
   "metadata": {},
   "source": [
    "#### Fazendo baseline"
   ]
  },
  {
   "cell_type": "code",
   "execution_count": 34,
   "id": "35f72aba-0a8b-464d-b1cf-8bcf190ce8ed",
   "metadata": {},
   "outputs": [],
   "source": [
    "dummy_clf = DummyClassifier()"
   ]
  },
  {
   "cell_type": "code",
   "execution_count": 35,
   "id": "13c0582c-4d81-47f1-a2a4-be322e658fad",
   "metadata": {},
   "outputs": [
    {
     "data": {
      "text/html": [
       "<style>#sk-container-id-3 {color: black;background-color: white;}#sk-container-id-3 pre{padding: 0;}#sk-container-id-3 div.sk-toggleable {background-color: white;}#sk-container-id-3 label.sk-toggleable__label {cursor: pointer;display: block;width: 100%;margin-bottom: 0;padding: 0.3em;box-sizing: border-box;text-align: center;}#sk-container-id-3 label.sk-toggleable__label-arrow:before {content: \"▸\";float: left;margin-right: 0.25em;color: #696969;}#sk-container-id-3 label.sk-toggleable__label-arrow:hover:before {color: black;}#sk-container-id-3 div.sk-estimator:hover label.sk-toggleable__label-arrow:before {color: black;}#sk-container-id-3 div.sk-toggleable__content {max-height: 0;max-width: 0;overflow: hidden;text-align: left;background-color: #f0f8ff;}#sk-container-id-3 div.sk-toggleable__content pre {margin: 0.2em;color: black;border-radius: 0.25em;background-color: #f0f8ff;}#sk-container-id-3 input.sk-toggleable__control:checked~div.sk-toggleable__content {max-height: 200px;max-width: 100%;overflow: auto;}#sk-container-id-3 input.sk-toggleable__control:checked~label.sk-toggleable__label-arrow:before {content: \"▾\";}#sk-container-id-3 div.sk-estimator input.sk-toggleable__control:checked~label.sk-toggleable__label {background-color: #d4ebff;}#sk-container-id-3 div.sk-label input.sk-toggleable__control:checked~label.sk-toggleable__label {background-color: #d4ebff;}#sk-container-id-3 input.sk-hidden--visually {border: 0;clip: rect(1px 1px 1px 1px);clip: rect(1px, 1px, 1px, 1px);height: 1px;margin: -1px;overflow: hidden;padding: 0;position: absolute;width: 1px;}#sk-container-id-3 div.sk-estimator {font-family: monospace;background-color: #f0f8ff;border: 1px dotted black;border-radius: 0.25em;box-sizing: border-box;margin-bottom: 0.5em;}#sk-container-id-3 div.sk-estimator:hover {background-color: #d4ebff;}#sk-container-id-3 div.sk-parallel-item::after {content: \"\";width: 100%;border-bottom: 1px solid gray;flex-grow: 1;}#sk-container-id-3 div.sk-label:hover label.sk-toggleable__label {background-color: #d4ebff;}#sk-container-id-3 div.sk-serial::before {content: \"\";position: absolute;border-left: 1px solid gray;box-sizing: border-box;top: 0;bottom: 0;left: 50%;z-index: 0;}#sk-container-id-3 div.sk-serial {display: flex;flex-direction: column;align-items: center;background-color: white;padding-right: 0.2em;padding-left: 0.2em;position: relative;}#sk-container-id-3 div.sk-item {position: relative;z-index: 1;}#sk-container-id-3 div.sk-parallel {display: flex;align-items: stretch;justify-content: center;background-color: white;position: relative;}#sk-container-id-3 div.sk-item::before, #sk-container-id-3 div.sk-parallel-item::before {content: \"\";position: absolute;border-left: 1px solid gray;box-sizing: border-box;top: 0;bottom: 0;left: 50%;z-index: -1;}#sk-container-id-3 div.sk-parallel-item {display: flex;flex-direction: column;z-index: 1;position: relative;background-color: white;}#sk-container-id-3 div.sk-parallel-item:first-child::after {align-self: flex-end;width: 50%;}#sk-container-id-3 div.sk-parallel-item:last-child::after {align-self: flex-start;width: 50%;}#sk-container-id-3 div.sk-parallel-item:only-child::after {width: 0;}#sk-container-id-3 div.sk-dashed-wrapped {border: 1px dashed gray;margin: 0 0.4em 0.5em 0.4em;box-sizing: border-box;padding-bottom: 0.4em;background-color: white;}#sk-container-id-3 div.sk-label label {font-family: monospace;font-weight: bold;display: inline-block;line-height: 1.2em;}#sk-container-id-3 div.sk-label-container {text-align: center;}#sk-container-id-3 div.sk-container {/* jupyter's `normalize.less` sets `[hidden] { display: none; }` but bootstrap.min.css set `[hidden] { display: none !important; }` so we also need the `!important` here to be able to override the default hidden behavior on the sphinx rendered scikit-learn.org. See: https://github.com/scikit-learn/scikit-learn/issues/21755 */display: inline-block !important;position: relative;}#sk-container-id-3 div.sk-text-repr-fallback {display: none;}</style><div id=\"sk-container-id-3\" class=\"sk-top-container\"><div class=\"sk-text-repr-fallback\"><pre>DummyClassifier()</pre><b>In a Jupyter environment, please rerun this cell to show the HTML representation or trust the notebook. <br />On GitHub, the HTML representation is unable to render, please try loading this page with nbviewer.org.</b></div><div class=\"sk-container\" hidden><div class=\"sk-item\"><div class=\"sk-estimator sk-toggleable\"><input class=\"sk-toggleable__control sk-hidden--visually\" id=\"sk-estimator-id-3\" type=\"checkbox\" checked><label for=\"sk-estimator-id-3\" class=\"sk-toggleable__label sk-toggleable__label-arrow\">DummyClassifier</label><div class=\"sk-toggleable__content\"><pre>DummyClassifier()</pre></div></div></div></div></div>"
      ],
      "text/plain": [
       "DummyClassifier()"
      ]
     },
     "execution_count": 35,
     "metadata": {},
     "output_type": "execute_result"
    }
   ],
   "source": [
    "dummy_clf.fit(x_train,y_train)"
   ]
  },
  {
   "cell_type": "code",
   "execution_count": 36,
   "id": "cbb95918-a3c1-4226-9768-a9090062a060",
   "metadata": {},
   "outputs": [
    {
     "name": "stdout",
     "output_type": "stream",
     "text": [
      "model name:  DummyClassifier\n",
      "Array: \n",
      "--------> recall : [ [0. 0. 0. 0. 0.] ]\n",
      "\n",
      "recall : 0.0 std : 0.0\n",
      "Intervalo :  [0.00% ~ 0.00%]\n",
      "\n",
      "------------------------------\n",
      "Array: \n",
      "--------> accuracy : [ [0.50154321 0.50617284 0.5        0.50617284 0.50925926] ]\n",
      "\n",
      "accuracy : 0.505 std : 0.003\n",
      "Intervalo :  [49.79% ~ 51.14%]\n",
      "\n",
      "------------------------------\n",
      "Array: \n",
      "--------> f1 : [ [0. 0. 0. 0. 0.] ]\n",
      "\n",
      "f1 : 0.0 std : 0.0\n",
      "Intervalo :  [0.00% ~ 0.00%]\n",
      "\n",
      "------------------------------\n"
     ]
    }
   ],
   "source": [
    "cross_score(x_test,y_test,dummy_clf,\"DummyClassifier\",scorer)"
   ]
  },
  {
   "cell_type": "markdown",
   "id": "ab4ea049-7f6d-4459-ba25-d627bd599b1d",
   "metadata": {},
   "source": [
    "baseline acc 50%"
   ]
  },
  {
   "cell_type": "code",
   "execution_count": 37,
   "id": "714b4a37-c8f5-4796-a4fb-6c0bcd5fa8ef",
   "metadata": {},
   "outputs": [],
   "source": [
    "#carregando os modelos"
   ]
  },
  {
   "cell_type": "code",
   "execution_count": 38,
   "id": "9c861df3-4ab9-4fbe-986e-7cd50d81d529",
   "metadata": {},
   "outputs": [],
   "source": [
    "random_florest = RandomForestClassifier()\n",
    "reg_logistic = LogisticRegression()\n",
    "xgb = XGBClassifier()\n",
    "tree = DecisionTreeClassifier()\n",
    "ada = AdaBoostClassifier()\n",
    "gbm = GradientBoostingClassifier()\n",
    "gnb = GaussianNB()"
   ]
  },
  {
   "cell_type": "code",
   "execution_count": 39,
   "id": "124832d3-56f5-40e6-9574-a5680db39160",
   "metadata": {},
   "outputs": [],
   "source": [
    "models = [random_florest,reg_logistic,xgb,tree,ada,gbm,gnb]"
   ]
  },
  {
   "cell_type": "code",
   "execution_count": 47,
   "id": "7790cf4d-4c88-432c-94d2-b7578e2c458f",
   "metadata": {},
   "outputs": [
    {
     "name": "stdout",
     "output_type": "stream",
     "text": [
      "model name:  RandomForestClassifier\n",
      "Array: \n",
      "--------> recall : [ [0.93501326 0.92563081 0.93931034 0.93134715 0.94274301] ]\n",
      "\n",
      "recall : 0.935 std : 0.006\n",
      "Intervalo :  [92.28% ~ 94.68%]\n",
      "\n",
      "------------------------------\n",
      "Array: \n",
      "--------> accuracy : [ [0.93386243 0.93584656 0.94973545 0.94708995 0.93981481] ]\n",
      "\n",
      "accuracy : 0.941 std : 0.006\n",
      "Intervalo :  [92.89% ~ 95.37%]\n",
      "\n",
      "------------------------------\n",
      "Array: \n",
      "--------> f1 : [ [0.93687708 0.9403183  0.9467128  0.94179202 0.94054776] ]\n",
      "\n",
      "f1 : 0.941 std : 0.003\n",
      "Intervalo :  [93.49% ~ 94.76%]\n",
      "\n",
      "------------------------------\n",
      "model name:  LogisticRegression\n",
      "Array: \n",
      "--------> recall : [ [0.89124668 0.9189907  0.90344828 0.89507772 0.90545939] ]\n",
      "\n",
      "recall : 0.903 std : 0.01\n",
      "Intervalo :  [88.36% ~ 92.21%]\n",
      "\n",
      "------------------------------\n",
      "Array: \n",
      "--------> accuracy : [ [0.87830688 0.90410053 0.91071429 0.91005291 0.90013228] ]\n",
      "\n",
      "accuracy : 0.901 std : 0.012\n",
      "Intervalo :  [87.70% ~ 92.43%]\n",
      "\n",
      "------------------------------\n",
      "Array: \n",
      "--------> f1 : [ [0.87958115 0.90516678 0.90657439 0.91040843 0.90006618] ]\n",
      "\n",
      "f1 : 0.9 std : 0.011\n",
      "Intervalo :  [87.86% ~ 92.22%]\n",
      "\n",
      "------------------------------\n",
      "model name:  XGBClassifier\n",
      "Array: \n",
      "--------> recall : [ [0.93766578 0.92563081 0.94068966 0.94818653 0.94007989] ]\n",
      "\n",
      "recall : 0.938 std : 0.007\n",
      "Intervalo :  [92.38% ~ 95.31%]\n",
      "\n",
      "------------------------------\n",
      "Array: \n",
      "--------> accuracy : [ [0.93981481 0.93716931 0.94378307 0.94775132 0.94047619] ]\n",
      "\n",
      "accuracy : 0.942 std : 0.004\n",
      "Intervalo :  [93.45% ~ 94.91%]\n",
      "\n",
      "------------------------------\n",
      "Array: \n",
      "--------> f1 : [ [0.93953488 0.93619879 0.94133885 0.94880104 0.94007989] ]\n",
      "\n",
      "f1 : 0.941 std : 0.004\n",
      "Intervalo :  [93.29% ~ 94.95%]\n",
      "\n",
      "------------------------------\n",
      "model name:  DecisionTreeClassifier\n",
      "Array: \n",
      "--------> recall : [ [0.88196286 0.85657371 0.86758621 0.8626943  0.86950732] ]\n",
      "\n",
      "recall : 0.868 std : 0.008\n",
      "Intervalo :  [85.08% ~ 88.45%]\n",
      "\n",
      "------------------------------\n",
      "Array: \n",
      "--------> accuracy : [ [0.87698413 0.87103175 0.88293651 0.87830688 0.88029101] ]\n",
      "\n",
      "accuracy : 0.878 std : 0.004\n",
      "Intervalo :  [86.99% ~ 88.59%]\n",
      "\n",
      "------------------------------\n",
      "Array: \n",
      "--------> f1 : [ [0.87878788 0.86693548 0.87638889 0.87345879 0.8738255 ] ]\n",
      "\n",
      "f1 : 0.874 std : 0.004\n",
      "Intervalo :  [86.59% ~ 88.18%]\n",
      "\n",
      "------------------------------\n",
      "model name:  AdaBoostClassifier\n",
      "Array: \n",
      "--------> recall : [ [0.94164456 0.91367862 0.92965517 0.91450777 0.93209055] ]\n",
      "\n",
      "recall : 0.926 std : 0.011\n",
      "Intervalo :  [90.48% ~ 94.78%]\n",
      "\n",
      "------------------------------\n",
      "Array: \n",
      "--------> accuracy : [ [0.93253968 0.9239418  0.93849206 0.93187831 0.92460317] ]\n",
      "\n",
      "accuracy : 0.93 std : 0.005\n",
      "Intervalo :  [91.94% ~ 94.12%]\n",
      "\n",
      "------------------------------\n",
      "Array: \n",
      "--------> f1 : [ [0.93298292 0.92287056 0.93546149 0.9320132  0.92470277] ]\n",
      "\n",
      "f1 : 0.93 std : 0.005\n",
      "Intervalo :  [91.98% ~ 93.94%]\n",
      "\n",
      "------------------------------\n",
      "model name:  GradientBoostingClassifier\n",
      "Array: \n",
      "--------> recall : [ [0.93633952 0.9309429  0.93655172 0.93005181 0.93874834] ]\n",
      "\n",
      "recall : 0.935 std : 0.003\n",
      "Intervalo :  [92.77% ~ 94.13%]\n",
      "\n",
      "------------------------------\n",
      "Array: \n",
      "--------> accuracy : [ [0.93716931 0.94047619 0.94775132 0.94047619 0.93584656] ]\n",
      "\n",
      "accuracy : 0.94 std : 0.004\n",
      "Intervalo :  [93.21% ~ 94.86%]\n",
      "\n",
      "------------------------------\n",
      "Array: \n",
      "--------> f1 : [ [0.93696085 0.93904889 0.94502436 0.94102228 0.93563371] ]\n",
      "\n",
      "f1 : 0.94 std : 0.003\n",
      "Intervalo :  [93.29% ~ 94.61%]\n",
      "\n",
      "------------------------------\n",
      "model name:  GaussianNB\n",
      "Array: \n",
      "--------> recall : [ [0.86604775 0.86454183 0.84413793 0.87564767 0.86551265] ]\n",
      "\n",
      "recall : 0.863 std : 0.01\n",
      "Intervalo :  [84.25% ~ 88.38%]\n",
      "\n",
      "------------------------------\n",
      "Array: \n",
      "--------> accuracy : [ [0.83201058 0.83664021 0.83531746 0.85449735 0.85449735] ]\n",
      "\n",
      "accuracy : 0.843 std : 0.01\n",
      "Intervalo :  [82.29% ~ 86.23%]\n",
      "\n",
      "------------------------------\n",
      "Array: \n",
      "--------> f1 : [ [0.83717949 0.84054229 0.83095723 0.86005089 0.85526316] ]\n",
      "\n",
      "f1 : 0.845 std : 0.011\n",
      "Intervalo :  [82.27% ~ 86.69%]\n",
      "\n",
      "------------------------------\n"
     ]
    }
   ],
   "source": [
    "result=[]\n",
    "for model in models:\n",
    "    aux = cross_score(x_train,y_train,model,model.__class__.__name__,scorer)\n",
    "    result.append(aux)"
   ]
  },
  {
   "cell_type": "code",
   "execution_count": 48,
   "id": "4bb808ae-cb91-478e-83a0-029432cc0c5c",
   "metadata": {},
   "outputs": [],
   "source": [
    "resultado = pd.concat(result)\n"
   ]
  },
  {
   "cell_type": "code",
   "execution_count": 49,
   "id": "3a0be616-de56-4bb0-ae1b-7b92d1e3c4ec",
   "metadata": {},
   "outputs": [
    {
     "data": {
      "text/html": [
       "<div>\n",
       "<style scoped>\n",
       "    .dataframe tbody tr th:only-of-type {\n",
       "        vertical-align: middle;\n",
       "    }\n",
       "\n",
       "    .dataframe tbody tr th {\n",
       "        vertical-align: top;\n",
       "    }\n",
       "\n",
       "    .dataframe thead th {\n",
       "        text-align: right;\n",
       "    }\n",
       "</style>\n",
       "<table border=\"1\" class=\"dataframe\">\n",
       "  <thead>\n",
       "    <tr style=\"text-align: right;\">\n",
       "      <th></th>\n",
       "      <th>recall</th>\n",
       "      <th>f1</th>\n",
       "      <th>accuracy</th>\n",
       "      <th>std_acc</th>\n",
       "      <th>std_recall</th>\n",
       "      <th>std_f1</th>\n",
       "    </tr>\n",
       "  </thead>\n",
       "  <tbody>\n",
       "    <tr>\n",
       "      <th>RandomForestClassifier</th>\n",
       "      <td>0.935</td>\n",
       "      <td>0.941</td>\n",
       "      <td>0.941</td>\n",
       "      <td>0.006</td>\n",
       "      <td>0.006</td>\n",
       "      <td>0.003</td>\n",
       "    </tr>\n",
       "    <tr>\n",
       "      <th>LogisticRegression</th>\n",
       "      <td>0.903</td>\n",
       "      <td>0.900</td>\n",
       "      <td>0.901</td>\n",
       "      <td>0.012</td>\n",
       "      <td>0.010</td>\n",
       "      <td>0.011</td>\n",
       "    </tr>\n",
       "    <tr>\n",
       "      <th>XGBClassifier</th>\n",
       "      <td>0.938</td>\n",
       "      <td>0.941</td>\n",
       "      <td>0.942</td>\n",
       "      <td>0.004</td>\n",
       "      <td>0.007</td>\n",
       "      <td>0.004</td>\n",
       "    </tr>\n",
       "    <tr>\n",
       "      <th>DecisionTreeClassifier</th>\n",
       "      <td>0.868</td>\n",
       "      <td>0.874</td>\n",
       "      <td>0.878</td>\n",
       "      <td>0.004</td>\n",
       "      <td>0.008</td>\n",
       "      <td>0.004</td>\n",
       "    </tr>\n",
       "    <tr>\n",
       "      <th>AdaBoostClassifier</th>\n",
       "      <td>0.926</td>\n",
       "      <td>0.930</td>\n",
       "      <td>0.930</td>\n",
       "      <td>0.005</td>\n",
       "      <td>0.011</td>\n",
       "      <td>0.005</td>\n",
       "    </tr>\n",
       "    <tr>\n",
       "      <th>GradientBoostingClassifier</th>\n",
       "      <td>0.935</td>\n",
       "      <td>0.940</td>\n",
       "      <td>0.940</td>\n",
       "      <td>0.004</td>\n",
       "      <td>0.003</td>\n",
       "      <td>0.003</td>\n",
       "    </tr>\n",
       "    <tr>\n",
       "      <th>GaussianNB</th>\n",
       "      <td>0.863</td>\n",
       "      <td>0.845</td>\n",
       "      <td>0.843</td>\n",
       "      <td>0.010</td>\n",
       "      <td>0.010</td>\n",
       "      <td>0.011</td>\n",
       "    </tr>\n",
       "  </tbody>\n",
       "</table>\n",
       "</div>"
      ],
      "text/plain": [
       "                            recall     f1  accuracy  std_acc  std_recall  \\\n",
       "RandomForestClassifier       0.935  0.941     0.941    0.006       0.006   \n",
       "LogisticRegression           0.903  0.900     0.901    0.012       0.010   \n",
       "XGBClassifier                0.938  0.941     0.942    0.004       0.007   \n",
       "DecisionTreeClassifier       0.868  0.874     0.878    0.004       0.008   \n",
       "AdaBoostClassifier           0.926  0.930     0.930    0.005       0.011   \n",
       "GradientBoostingClassifier   0.935  0.940     0.940    0.004       0.003   \n",
       "GaussianNB                   0.863  0.845     0.843    0.010       0.010   \n",
       "\n",
       "                            std_f1  \n",
       "RandomForestClassifier       0.003  \n",
       "LogisticRegression           0.011  \n",
       "XGBClassifier                0.004  \n",
       "DecisionTreeClassifier       0.004  \n",
       "AdaBoostClassifier           0.005  \n",
       "GradientBoostingClassifier   0.003  \n",
       "GaussianNB                   0.011  "
      ]
     },
     "execution_count": 49,
     "metadata": {},
     "output_type": "execute_result"
    }
   ],
   "source": [
    "resultado"
   ]
  },
  {
   "cell_type": "markdown",
   "id": "0979b03f-11f8-437e-bee4-1125f5b578b6",
   "metadata": {},
   "source": [
    "Após análise dos dataframe acima iremos escolher os :\n",
    "* RandomForest\n",
    "* XGBClassifier\t\n",
    "* GradientBoostingClassifier"
   ]
  },
  {
   "cell_type": "code",
   "execution_count": 53,
   "id": "920b29f5-879d-469a-84e4-4ab8c1216034",
   "metadata": {},
   "outputs": [
    {
     "data": {
      "text/html": [
       "<style>#sk-container-id-5 {color: black;background-color: white;}#sk-container-id-5 pre{padding: 0;}#sk-container-id-5 div.sk-toggleable {background-color: white;}#sk-container-id-5 label.sk-toggleable__label {cursor: pointer;display: block;width: 100%;margin-bottom: 0;padding: 0.3em;box-sizing: border-box;text-align: center;}#sk-container-id-5 label.sk-toggleable__label-arrow:before {content: \"▸\";float: left;margin-right: 0.25em;color: #696969;}#sk-container-id-5 label.sk-toggleable__label-arrow:hover:before {color: black;}#sk-container-id-5 div.sk-estimator:hover label.sk-toggleable__label-arrow:before {color: black;}#sk-container-id-5 div.sk-toggleable__content {max-height: 0;max-width: 0;overflow: hidden;text-align: left;background-color: #f0f8ff;}#sk-container-id-5 div.sk-toggleable__content pre {margin: 0.2em;color: black;border-radius: 0.25em;background-color: #f0f8ff;}#sk-container-id-5 input.sk-toggleable__control:checked~div.sk-toggleable__content {max-height: 200px;max-width: 100%;overflow: auto;}#sk-container-id-5 input.sk-toggleable__control:checked~label.sk-toggleable__label-arrow:before {content: \"▾\";}#sk-container-id-5 div.sk-estimator input.sk-toggleable__control:checked~label.sk-toggleable__label {background-color: #d4ebff;}#sk-container-id-5 div.sk-label input.sk-toggleable__control:checked~label.sk-toggleable__label {background-color: #d4ebff;}#sk-container-id-5 input.sk-hidden--visually {border: 0;clip: rect(1px 1px 1px 1px);clip: rect(1px, 1px, 1px, 1px);height: 1px;margin: -1px;overflow: hidden;padding: 0;position: absolute;width: 1px;}#sk-container-id-5 div.sk-estimator {font-family: monospace;background-color: #f0f8ff;border: 1px dotted black;border-radius: 0.25em;box-sizing: border-box;margin-bottom: 0.5em;}#sk-container-id-5 div.sk-estimator:hover {background-color: #d4ebff;}#sk-container-id-5 div.sk-parallel-item::after {content: \"\";width: 100%;border-bottom: 1px solid gray;flex-grow: 1;}#sk-container-id-5 div.sk-label:hover label.sk-toggleable__label {background-color: #d4ebff;}#sk-container-id-5 div.sk-serial::before {content: \"\";position: absolute;border-left: 1px solid gray;box-sizing: border-box;top: 0;bottom: 0;left: 50%;z-index: 0;}#sk-container-id-5 div.sk-serial {display: flex;flex-direction: column;align-items: center;background-color: white;padding-right: 0.2em;padding-left: 0.2em;position: relative;}#sk-container-id-5 div.sk-item {position: relative;z-index: 1;}#sk-container-id-5 div.sk-parallel {display: flex;align-items: stretch;justify-content: center;background-color: white;position: relative;}#sk-container-id-5 div.sk-item::before, #sk-container-id-5 div.sk-parallel-item::before {content: \"\";position: absolute;border-left: 1px solid gray;box-sizing: border-box;top: 0;bottom: 0;left: 50%;z-index: -1;}#sk-container-id-5 div.sk-parallel-item {display: flex;flex-direction: column;z-index: 1;position: relative;background-color: white;}#sk-container-id-5 div.sk-parallel-item:first-child::after {align-self: flex-end;width: 50%;}#sk-container-id-5 div.sk-parallel-item:last-child::after {align-self: flex-start;width: 50%;}#sk-container-id-5 div.sk-parallel-item:only-child::after {width: 0;}#sk-container-id-5 div.sk-dashed-wrapped {border: 1px dashed gray;margin: 0 0.4em 0.5em 0.4em;box-sizing: border-box;padding-bottom: 0.4em;background-color: white;}#sk-container-id-5 div.sk-label label {font-family: monospace;font-weight: bold;display: inline-block;line-height: 1.2em;}#sk-container-id-5 div.sk-label-container {text-align: center;}#sk-container-id-5 div.sk-container {/* jupyter's `normalize.less` sets `[hidden] { display: none; }` but bootstrap.min.css set `[hidden] { display: none !important; }` so we also need the `!important` here to be able to override the default hidden behavior on the sphinx rendered scikit-learn.org. See: https://github.com/scikit-learn/scikit-learn/issues/21755 */display: inline-block !important;position: relative;}#sk-container-id-5 div.sk-text-repr-fallback {display: none;}</style><div id=\"sk-container-id-5\" class=\"sk-top-container\"><div class=\"sk-text-repr-fallback\"><pre>GradientBoostingClassifier()</pre><b>In a Jupyter environment, please rerun this cell to show the HTML representation or trust the notebook. <br />On GitHub, the HTML representation is unable to render, please try loading this page with nbviewer.org.</b></div><div class=\"sk-container\" hidden><div class=\"sk-item\"><div class=\"sk-estimator sk-toggleable\"><input class=\"sk-toggleable__control sk-hidden--visually\" id=\"sk-estimator-id-5\" type=\"checkbox\" checked><label for=\"sk-estimator-id-5\" class=\"sk-toggleable__label sk-toggleable__label-arrow\">GradientBoostingClassifier</label><div class=\"sk-toggleable__content\"><pre>GradientBoostingClassifier()</pre></div></div></div></div></div>"
      ],
      "text/plain": [
       "GradientBoostingClassifier()"
      ]
     },
     "execution_count": 53,
     "metadata": {},
     "output_type": "execute_result"
    }
   ],
   "source": [
    "random_florest.fit(x_train,y_train)\n",
    "xgb.fit(x_train,y_train)\n",
    "gbm.fit(x_train,y_train)"
   ]
  },
  {
   "cell_type": "code",
   "execution_count": 56,
   "id": "60c22abf-4ad0-42c3-81a0-4ad1b558352d",
   "metadata": {},
   "outputs": [],
   "source": [
    "models = [random_florest,xgb,gbm]"
   ]
  },
  {
   "cell_type": "code",
   "execution_count": 57,
   "id": "d6ea2fe8-8204-45a9-8dd5-2ebddf8c75af",
   "metadata": {},
   "outputs": [
    {
     "name": "stdout",
     "output_type": "stream",
     "text": [
      "model name:  RandomForestClassifier\n",
      "Array: \n",
      "--------> recall : [ [0.9504644  0.946875   0.9382716  0.93125    0.94654088] ]\n",
      "\n",
      "recall : 0.943 std : 0.007\n",
      "Intervalo :  [92.87% ~ 95.66%]\n",
      "\n",
      "------------------------------\n",
      "Array: \n",
      "--------> accuracy : [ [0.94290123 0.94135802 0.92438272 0.92746914 0.93364198] ]\n",
      "\n",
      "accuracy : 0.934 std : 0.007\n",
      "Intervalo :  [91.93% ~ 94.86%]\n",
      "\n",
      "------------------------------\n",
      "Array: \n",
      "--------> f1 : [ [0.94461538 0.93478261 0.92546584 0.925      0.93934681] ]\n",
      "\n",
      "f1 : 0.934 std : 0.008\n",
      "Intervalo :  [91.85% ~ 94.92%]\n",
      "\n",
      "------------------------------\n",
      "model name:  XGBClassifier\n",
      "Array: \n",
      "--------> recall : [ [0.95665635 0.94375    0.92283951 0.921875   0.94339623] ]\n",
      "\n",
      "recall : 0.938 std : 0.013\n",
      "Intervalo :  [91.09% ~ 96.45%]\n",
      "\n",
      "------------------------------\n",
      "Array: \n",
      "--------> accuracy : [ [0.94444444 0.93981481 0.92901235 0.92438272 0.9367284 ] ]\n",
      "\n",
      "accuracy : 0.935 std : 0.007\n",
      "Intervalo :  [92.03% ~ 94.94%]\n",
      "\n",
      "------------------------------\n",
      "Array: \n",
      "--------> f1 : [ [0.94495413 0.93934681 0.92857143 0.92331768 0.93603744] ]\n",
      "\n",
      "f1 : 0.934 std : 0.008\n",
      "Intervalo :  [91.91% ~ 94.98%]\n",
      "\n",
      "------------------------------\n",
      "model name:  GradientBoostingClassifier\n",
      "Array: \n",
      "--------> recall : [ [0.95975232 0.9375     0.92901235 0.921875   0.93396226] ]\n",
      "\n",
      "recall : 0.936 std : 0.013\n",
      "Intervalo :  [91.08% ~ 96.20%]\n",
      "\n",
      "------------------------------\n",
      "Array: \n",
      "--------> accuracy : [ [0.94598765 0.9367284  0.93209877 0.9212963  0.93364198] ]\n",
      "\n",
      "accuracy : 0.934 std : 0.008\n",
      "Intervalo :  [91.80% ~ 94.99%]\n",
      "\n",
      "------------------------------\n",
      "Array: \n",
      "--------> f1 : [ [0.94656489 0.9375     0.93188854 0.92043682 0.93249608] ]\n",
      "\n",
      "f1 : 0.934 std : 0.008\n",
      "Intervalo :  [91.68% ~ 95.08%]\n",
      "\n",
      "------------------------------\n"
     ]
    }
   ],
   "source": [
    "result=[]\n",
    "for model in models:\n",
    "    aux = cross_score(x_test,y_test,model,model.__class__.__name__,scorer)\n",
    "    result.append(aux)"
   ]
  },
  {
   "cell_type": "code",
   "execution_count": 58,
   "id": "a630e2e3-be94-4ee9-bb02-ae985045ec11",
   "metadata": {},
   "outputs": [],
   "source": [
    "resultado = pd.concat(result)"
   ]
  },
  {
   "cell_type": "code",
   "execution_count": 59,
   "id": "99418e78-f237-461a-a8a9-96523b7b6e4c",
   "metadata": {},
   "outputs": [
    {
     "data": {
      "text/html": [
       "<div>\n",
       "<style scoped>\n",
       "    .dataframe tbody tr th:only-of-type {\n",
       "        vertical-align: middle;\n",
       "    }\n",
       "\n",
       "    .dataframe tbody tr th {\n",
       "        vertical-align: top;\n",
       "    }\n",
       "\n",
       "    .dataframe thead th {\n",
       "        text-align: right;\n",
       "    }\n",
       "</style>\n",
       "<table border=\"1\" class=\"dataframe\">\n",
       "  <thead>\n",
       "    <tr style=\"text-align: right;\">\n",
       "      <th></th>\n",
       "      <th>recall</th>\n",
       "      <th>f1</th>\n",
       "      <th>accuracy</th>\n",
       "      <th>std_acc</th>\n",
       "      <th>std_recall</th>\n",
       "      <th>std_f1</th>\n",
       "    </tr>\n",
       "  </thead>\n",
       "  <tbody>\n",
       "    <tr>\n",
       "      <th>RandomForestClassifier</th>\n",
       "      <td>0.943</td>\n",
       "      <td>0.934</td>\n",
       "      <td>0.934</td>\n",
       "      <td>0.007</td>\n",
       "      <td>0.007</td>\n",
       "      <td>0.008</td>\n",
       "    </tr>\n",
       "    <tr>\n",
       "      <th>XGBClassifier</th>\n",
       "      <td>0.938</td>\n",
       "      <td>0.934</td>\n",
       "      <td>0.935</td>\n",
       "      <td>0.007</td>\n",
       "      <td>0.013</td>\n",
       "      <td>0.008</td>\n",
       "    </tr>\n",
       "    <tr>\n",
       "      <th>GradientBoostingClassifier</th>\n",
       "      <td>0.936</td>\n",
       "      <td>0.934</td>\n",
       "      <td>0.934</td>\n",
       "      <td>0.008</td>\n",
       "      <td>0.013</td>\n",
       "      <td>0.008</td>\n",
       "    </tr>\n",
       "  </tbody>\n",
       "</table>\n",
       "</div>"
      ],
      "text/plain": [
       "                            recall     f1  accuracy  std_acc  std_recall  \\\n",
       "RandomForestClassifier       0.943  0.934     0.934    0.007       0.007   \n",
       "XGBClassifier                0.938  0.934     0.935    0.007       0.013   \n",
       "GradientBoostingClassifier   0.936  0.934     0.934    0.008       0.013   \n",
       "\n",
       "                            std_f1  \n",
       "RandomForestClassifier       0.008  \n",
       "XGBClassifier                0.008  \n",
       "GradientBoostingClassifier   0.008  "
      ]
     },
     "execution_count": 59,
     "metadata": {},
     "output_type": "execute_result"
    }
   ],
   "source": [
    "resultado"
   ]
  },
  {
   "cell_type": "markdown",
   "id": "88ed4435-ec9b-4272-8681-245b627e8888",
   "metadata": {},
   "source": [
    "Aqui podemos ver que o melhor Modelo é o Random Florest classifier"
   ]
  },
  {
   "cell_type": "code",
   "execution_count": 64,
   "id": "7741e7de-865b-4990-96eb-8440eea42d08",
   "metadata": {},
   "outputs": [],
   "source": [
    "param = {\n",
    "        \"n_estimators\": [120,300,500,800,1200],\n",
    "        \"max_depth\": [5, 8, 15, 25, 30, None],\n",
    "        \"min_samples_split\":[ 2, 5, 10, 15, 100],\n",
    "        \"min_samples_leaf\":[ 2, 5, 10, 15],\n",
    "        \"max_features\":['log2', 'sqrt', None]\n",
    "}"
   ]
  },
  {
   "cell_type": "code",
   "execution_count": 67,
   "id": "958bdf0d-648b-475e-a6ae-74f5e0134a5f",
   "metadata": {},
   "outputs": [],
   "source": [
    "import time\n",
    "\n"
   ]
  },
  {
   "cell_type": "code",
   "execution_count": 69,
   "id": "2f83ae91-2cd2-48a6-8182-9555b0918826",
   "metadata": {},
   "outputs": [],
   "source": [
    "bayesSearch = BayesSearchCV(\n",
    "    RandomForestClassifier(),\n",
    "    search_spaces=param,\n",
    "    n_iter=10,\n",
    "    cv=ShuffleSplit(n_splits=5, test_size=0.3, random_state=0)\n",
    ")"
   ]
  },
  {
   "cell_type": "code",
   "execution_count": null,
   "id": "4573f1b0-0731-4b60-af8a-315251991045",
   "metadata": {},
   "outputs": [],
   "source": []
  },
  {
   "cell_type": "code",
   "execution_count": 70,
   "id": "d3a74a63-0311-4616-b407-132821cedd81",
   "metadata": {},
   "outputs": [
    {
     "name": "stdout",
     "output_type": "stream",
     "text": [
      "168.12472295761108\n"
     ]
    }
   ],
   "source": [
    "%%time\n",
    "bayesSearch.fit(x_train,y_train)"
   ]
  },
  {
   "cell_type": "code",
   "execution_count": 71,
   "id": "d16b57bc-3393-47ab-9d53-d876d2bdce59",
   "metadata": {},
   "outputs": [
    {
     "data": {
      "text/html": [
       "<style>#sk-container-id-6 {color: black;background-color: white;}#sk-container-id-6 pre{padding: 0;}#sk-container-id-6 div.sk-toggleable {background-color: white;}#sk-container-id-6 label.sk-toggleable__label {cursor: pointer;display: block;width: 100%;margin-bottom: 0;padding: 0.3em;box-sizing: border-box;text-align: center;}#sk-container-id-6 label.sk-toggleable__label-arrow:before {content: \"▸\";float: left;margin-right: 0.25em;color: #696969;}#sk-container-id-6 label.sk-toggleable__label-arrow:hover:before {color: black;}#sk-container-id-6 div.sk-estimator:hover label.sk-toggleable__label-arrow:before {color: black;}#sk-container-id-6 div.sk-toggleable__content {max-height: 0;max-width: 0;overflow: hidden;text-align: left;background-color: #f0f8ff;}#sk-container-id-6 div.sk-toggleable__content pre {margin: 0.2em;color: black;border-radius: 0.25em;background-color: #f0f8ff;}#sk-container-id-6 input.sk-toggleable__control:checked~div.sk-toggleable__content {max-height: 200px;max-width: 100%;overflow: auto;}#sk-container-id-6 input.sk-toggleable__control:checked~label.sk-toggleable__label-arrow:before {content: \"▾\";}#sk-container-id-6 div.sk-estimator input.sk-toggleable__control:checked~label.sk-toggleable__label {background-color: #d4ebff;}#sk-container-id-6 div.sk-label input.sk-toggleable__control:checked~label.sk-toggleable__label {background-color: #d4ebff;}#sk-container-id-6 input.sk-hidden--visually {border: 0;clip: rect(1px 1px 1px 1px);clip: rect(1px, 1px, 1px, 1px);height: 1px;margin: -1px;overflow: hidden;padding: 0;position: absolute;width: 1px;}#sk-container-id-6 div.sk-estimator {font-family: monospace;background-color: #f0f8ff;border: 1px dotted black;border-radius: 0.25em;box-sizing: border-box;margin-bottom: 0.5em;}#sk-container-id-6 div.sk-estimator:hover {background-color: #d4ebff;}#sk-container-id-6 div.sk-parallel-item::after {content: \"\";width: 100%;border-bottom: 1px solid gray;flex-grow: 1;}#sk-container-id-6 div.sk-label:hover label.sk-toggleable__label {background-color: #d4ebff;}#sk-container-id-6 div.sk-serial::before {content: \"\";position: absolute;border-left: 1px solid gray;box-sizing: border-box;top: 0;bottom: 0;left: 50%;z-index: 0;}#sk-container-id-6 div.sk-serial {display: flex;flex-direction: column;align-items: center;background-color: white;padding-right: 0.2em;padding-left: 0.2em;position: relative;}#sk-container-id-6 div.sk-item {position: relative;z-index: 1;}#sk-container-id-6 div.sk-parallel {display: flex;align-items: stretch;justify-content: center;background-color: white;position: relative;}#sk-container-id-6 div.sk-item::before, #sk-container-id-6 div.sk-parallel-item::before {content: \"\";position: absolute;border-left: 1px solid gray;box-sizing: border-box;top: 0;bottom: 0;left: 50%;z-index: -1;}#sk-container-id-6 div.sk-parallel-item {display: flex;flex-direction: column;z-index: 1;position: relative;background-color: white;}#sk-container-id-6 div.sk-parallel-item:first-child::after {align-self: flex-end;width: 50%;}#sk-container-id-6 div.sk-parallel-item:last-child::after {align-self: flex-start;width: 50%;}#sk-container-id-6 div.sk-parallel-item:only-child::after {width: 0;}#sk-container-id-6 div.sk-dashed-wrapped {border: 1px dashed gray;margin: 0 0.4em 0.5em 0.4em;box-sizing: border-box;padding-bottom: 0.4em;background-color: white;}#sk-container-id-6 div.sk-label label {font-family: monospace;font-weight: bold;display: inline-block;line-height: 1.2em;}#sk-container-id-6 div.sk-label-container {text-align: center;}#sk-container-id-6 div.sk-container {/* jupyter's `normalize.less` sets `[hidden] { display: none; }` but bootstrap.min.css set `[hidden] { display: none !important; }` so we also need the `!important` here to be able to override the default hidden behavior on the sphinx rendered scikit-learn.org. See: https://github.com/scikit-learn/scikit-learn/issues/21755 */display: inline-block !important;position: relative;}#sk-container-id-6 div.sk-text-repr-fallback {display: none;}</style><div id=\"sk-container-id-6\" class=\"sk-top-container\"><div class=\"sk-text-repr-fallback\"><pre>RandomForestClassifier(max_depth=30, max_features=&#x27;log2&#x27;, min_samples_leaf=15,\n",
       "                       n_estimators=800)</pre><b>In a Jupyter environment, please rerun this cell to show the HTML representation or trust the notebook. <br />On GitHub, the HTML representation is unable to render, please try loading this page with nbviewer.org.</b></div><div class=\"sk-container\" hidden><div class=\"sk-item\"><div class=\"sk-estimator sk-toggleable\"><input class=\"sk-toggleable__control sk-hidden--visually\" id=\"sk-estimator-id-6\" type=\"checkbox\" checked><label for=\"sk-estimator-id-6\" class=\"sk-toggleable__label sk-toggleable__label-arrow\">RandomForestClassifier</label><div class=\"sk-toggleable__content\"><pre>RandomForestClassifier(max_depth=30, max_features=&#x27;log2&#x27;, min_samples_leaf=15,\n",
       "                       n_estimators=800)</pre></div></div></div></div></div>"
      ],
      "text/plain": [
       "RandomForestClassifier(max_depth=30, max_features='log2', min_samples_leaf=15,\n",
       "                       n_estimators=800)"
      ]
     },
     "execution_count": 71,
     "metadata": {},
     "output_type": "execute_result"
    }
   ],
   "source": [
    "bayesSearch.best_estimator_"
   ]
  },
  {
   "cell_type": "code",
   "execution_count": 72,
   "id": "e3deed67-6d95-47c9-adfc-35500b30f26d",
   "metadata": {},
   "outputs": [
    {
     "data": {
      "text/plain": [
       "0.9400793650793651"
      ]
     },
     "execution_count": 72,
     "metadata": {},
     "output_type": "execute_result"
    }
   ],
   "source": [
    "bayesSearch.best_score_"
   ]
  },
  {
   "cell_type": "code",
   "execution_count": 73,
   "id": "065e00b8-0ee1-48ce-9408-4325562655e6",
   "metadata": {},
   "outputs": [
    {
     "data": {
      "text/plain": [
       "OrderedDict([('max_depth', 30),\n",
       "             ('max_features', 'log2'),\n",
       "             ('min_samples_leaf', 15),\n",
       "             ('min_samples_split', 2),\n",
       "             ('n_estimators', 800)])"
      ]
     },
     "execution_count": 73,
     "metadata": {},
     "output_type": "execute_result"
    }
   ],
   "source": [
    "bayesSearch.best_params_"
   ]
  },
  {
   "cell_type": "code",
   "execution_count": 74,
   "id": "a1a2a163-796b-41e7-a0a8-5c7489a28580",
   "metadata": {},
   "outputs": [],
   "source": [
    "best_model_randomFlorest = RandomForestClassifier(**bayesSearch.best_params_)"
   ]
  },
  {
   "cell_type": "code",
   "execution_count": null,
   "id": "927ca731-3d35-4096-b730-163982f6b7f2",
   "metadata": {},
   "outputs": [],
   "source": []
  },
  {
   "cell_type": "code",
   "execution_count": 75,
   "id": "e52dd2da-8163-4d63-aecc-2955d205e59b",
   "metadata": {},
   "outputs": [
    {
     "data": {
      "text/html": [
       "<style>#sk-container-id-7 {color: black;background-color: white;}#sk-container-id-7 pre{padding: 0;}#sk-container-id-7 div.sk-toggleable {background-color: white;}#sk-container-id-7 label.sk-toggleable__label {cursor: pointer;display: block;width: 100%;margin-bottom: 0;padding: 0.3em;box-sizing: border-box;text-align: center;}#sk-container-id-7 label.sk-toggleable__label-arrow:before {content: \"▸\";float: left;margin-right: 0.25em;color: #696969;}#sk-container-id-7 label.sk-toggleable__label-arrow:hover:before {color: black;}#sk-container-id-7 div.sk-estimator:hover label.sk-toggleable__label-arrow:before {color: black;}#sk-container-id-7 div.sk-toggleable__content {max-height: 0;max-width: 0;overflow: hidden;text-align: left;background-color: #f0f8ff;}#sk-container-id-7 div.sk-toggleable__content pre {margin: 0.2em;color: black;border-radius: 0.25em;background-color: #f0f8ff;}#sk-container-id-7 input.sk-toggleable__control:checked~div.sk-toggleable__content {max-height: 200px;max-width: 100%;overflow: auto;}#sk-container-id-7 input.sk-toggleable__control:checked~label.sk-toggleable__label-arrow:before {content: \"▾\";}#sk-container-id-7 div.sk-estimator input.sk-toggleable__control:checked~label.sk-toggleable__label {background-color: #d4ebff;}#sk-container-id-7 div.sk-label input.sk-toggleable__control:checked~label.sk-toggleable__label {background-color: #d4ebff;}#sk-container-id-7 input.sk-hidden--visually {border: 0;clip: rect(1px 1px 1px 1px);clip: rect(1px, 1px, 1px, 1px);height: 1px;margin: -1px;overflow: hidden;padding: 0;position: absolute;width: 1px;}#sk-container-id-7 div.sk-estimator {font-family: monospace;background-color: #f0f8ff;border: 1px dotted black;border-radius: 0.25em;box-sizing: border-box;margin-bottom: 0.5em;}#sk-container-id-7 div.sk-estimator:hover {background-color: #d4ebff;}#sk-container-id-7 div.sk-parallel-item::after {content: \"\";width: 100%;border-bottom: 1px solid gray;flex-grow: 1;}#sk-container-id-7 div.sk-label:hover label.sk-toggleable__label {background-color: #d4ebff;}#sk-container-id-7 div.sk-serial::before {content: \"\";position: absolute;border-left: 1px solid gray;box-sizing: border-box;top: 0;bottom: 0;left: 50%;z-index: 0;}#sk-container-id-7 div.sk-serial {display: flex;flex-direction: column;align-items: center;background-color: white;padding-right: 0.2em;padding-left: 0.2em;position: relative;}#sk-container-id-7 div.sk-item {position: relative;z-index: 1;}#sk-container-id-7 div.sk-parallel {display: flex;align-items: stretch;justify-content: center;background-color: white;position: relative;}#sk-container-id-7 div.sk-item::before, #sk-container-id-7 div.sk-parallel-item::before {content: \"\";position: absolute;border-left: 1px solid gray;box-sizing: border-box;top: 0;bottom: 0;left: 50%;z-index: -1;}#sk-container-id-7 div.sk-parallel-item {display: flex;flex-direction: column;z-index: 1;position: relative;background-color: white;}#sk-container-id-7 div.sk-parallel-item:first-child::after {align-self: flex-end;width: 50%;}#sk-container-id-7 div.sk-parallel-item:last-child::after {align-self: flex-start;width: 50%;}#sk-container-id-7 div.sk-parallel-item:only-child::after {width: 0;}#sk-container-id-7 div.sk-dashed-wrapped {border: 1px dashed gray;margin: 0 0.4em 0.5em 0.4em;box-sizing: border-box;padding-bottom: 0.4em;background-color: white;}#sk-container-id-7 div.sk-label label {font-family: monospace;font-weight: bold;display: inline-block;line-height: 1.2em;}#sk-container-id-7 div.sk-label-container {text-align: center;}#sk-container-id-7 div.sk-container {/* jupyter's `normalize.less` sets `[hidden] { display: none; }` but bootstrap.min.css set `[hidden] { display: none !important; }` so we also need the `!important` here to be able to override the default hidden behavior on the sphinx rendered scikit-learn.org. See: https://github.com/scikit-learn/scikit-learn/issues/21755 */display: inline-block !important;position: relative;}#sk-container-id-7 div.sk-text-repr-fallback {display: none;}</style><div id=\"sk-container-id-7\" class=\"sk-top-container\"><div class=\"sk-text-repr-fallback\"><pre>RandomForestClassifier(max_depth=30, max_features=&#x27;log2&#x27;, min_samples_leaf=15,\n",
       "                       n_estimators=800)</pre><b>In a Jupyter environment, please rerun this cell to show the HTML representation or trust the notebook. <br />On GitHub, the HTML representation is unable to render, please try loading this page with nbviewer.org.</b></div><div class=\"sk-container\" hidden><div class=\"sk-item\"><div class=\"sk-estimator sk-toggleable\"><input class=\"sk-toggleable__control sk-hidden--visually\" id=\"sk-estimator-id-7\" type=\"checkbox\" checked><label for=\"sk-estimator-id-7\" class=\"sk-toggleable__label sk-toggleable__label-arrow\">RandomForestClassifier</label><div class=\"sk-toggleable__content\"><pre>RandomForestClassifier(max_depth=30, max_features=&#x27;log2&#x27;, min_samples_leaf=15,\n",
       "                       n_estimators=800)</pre></div></div></div></div></div>"
      ],
      "text/plain": [
       "RandomForestClassifier(max_depth=30, max_features='log2', min_samples_leaf=15,\n",
       "                       n_estimators=800)"
      ]
     },
     "execution_count": 75,
     "metadata": {},
     "output_type": "execute_result"
    }
   ],
   "source": [
    "best_model_randomFlorest.fit(x_train,y_train)"
   ]
  },
  {
   "cell_type": "code",
   "execution_count": 76,
   "id": "4b627ac0-f1ad-4227-983e-91d49a90eb6c",
   "metadata": {},
   "outputs": [
    {
     "name": "stdout",
     "output_type": "stream",
     "text": [
      "model name:  RandomForestClassifier\n",
      "Array: \n",
      "--------> recall : [ [0.9504644  0.940625   0.92592593 0.925      0.93396226] ]\n",
      "\n",
      "recall : 0.935 std : 0.01\n",
      "Intervalo :  [91.61% ~ 95.43%]\n",
      "\n",
      "------------------------------\n",
      "Array: \n",
      "--------> accuracy : [ [0.94598765 0.94135802 0.93055556 0.93209877 0.93055556] ]\n",
      "\n",
      "accuracy : 0.936 std : 0.006\n",
      "Intervalo :  [92.34% ~ 94.89%]\n",
      "\n",
      "------------------------------\n",
      "Array: \n",
      "--------> f1 : [ [0.94623656 0.93896714 0.93333333 0.92935636 0.93059937] ]\n",
      "\n",
      "f1 : 0.936 std : 0.006\n",
      "Intervalo :  [92.33% ~ 94.81%]\n",
      "\n",
      "------------------------------\n"
     ]
    }
   ],
   "source": [
    "df_result = cross_score(x_test,y_test,best_model_randomFlorest,best_model_randomFlorest.__class__.__name__,scorer)"
   ]
  },
  {
   "cell_type": "code",
   "execution_count": null,
   "id": "5dd1748a-a130-4935-a007-73529b912b5b",
   "metadata": {},
   "outputs": [],
   "source": [
    "df_result = cross_score(x_test,y_test,best_model_randomFlorest,best_model_randomFlorest.__class__.__name__,scorer)\n",
    "display(df_result)"
   ]
  },
  {
   "cell_type": "code",
   "execution_count": 77,
   "id": "7d773800-efa9-40a6-ba98-a0e776f0798d",
   "metadata": {},
   "outputs": [
    {
     "data": {
      "text/html": [
       "<div>\n",
       "<style scoped>\n",
       "    .dataframe tbody tr th:only-of-type {\n",
       "        vertical-align: middle;\n",
       "    }\n",
       "\n",
       "    .dataframe tbody tr th {\n",
       "        vertical-align: top;\n",
       "    }\n",
       "\n",
       "    .dataframe thead th {\n",
       "        text-align: right;\n",
       "    }\n",
       "</style>\n",
       "<table border=\"1\" class=\"dataframe\">\n",
       "  <thead>\n",
       "    <tr style=\"text-align: right;\">\n",
       "      <th></th>\n",
       "      <th>recall</th>\n",
       "      <th>f1</th>\n",
       "      <th>accuracy</th>\n",
       "      <th>std_acc</th>\n",
       "      <th>std_recall</th>\n",
       "      <th>std_f1</th>\n",
       "    </tr>\n",
       "  </thead>\n",
       "  <tbody>\n",
       "    <tr>\n",
       "      <th>RandomForestClassifier</th>\n",
       "      <td>0.935</td>\n",
       "      <td>0.936</td>\n",
       "      <td>0.936</td>\n",
       "      <td>0.006</td>\n",
       "      <td>0.01</td>\n",
       "      <td>0.006</td>\n",
       "    </tr>\n",
       "  </tbody>\n",
       "</table>\n",
       "</div>"
      ],
      "text/plain": [
       "                        recall     f1  accuracy  std_acc  std_recall  std_f1\n",
       "RandomForestClassifier   0.935  0.936     0.936    0.006        0.01   0.006"
      ]
     },
     "execution_count": 77,
     "metadata": {},
     "output_type": "execute_result"
    }
   ],
   "source": [
    "df_result"
   ]
  },
  {
   "cell_type": "code",
   "execution_count": 79,
   "id": "8724fdce-bd5a-4e22-9d41-b1e9bd0957f7",
   "metadata": {},
   "outputs": [
    {
     "data": {
      "text/html": [
       "<div>\n",
       "<style scoped>\n",
       "    .dataframe tbody tr th:only-of-type {\n",
       "        vertical-align: middle;\n",
       "    }\n",
       "\n",
       "    .dataframe tbody tr th {\n",
       "        vertical-align: top;\n",
       "    }\n",
       "\n",
       "    .dataframe thead th {\n",
       "        text-align: right;\n",
       "    }\n",
       "</style>\n",
       "<table border=\"1\" class=\"dataframe\">\n",
       "  <thead>\n",
       "    <tr style=\"text-align: right;\">\n",
       "      <th></th>\n",
       "      <th>recall</th>\n",
       "      <th>f1</th>\n",
       "      <th>accuracy</th>\n",
       "      <th>std_acc</th>\n",
       "      <th>std_recall</th>\n",
       "      <th>std_f1</th>\n",
       "    </tr>\n",
       "  </thead>\n",
       "  <tbody>\n",
       "    <tr>\n",
       "      <th>RandomForestClassifier</th>\n",
       "      <td>0.943</td>\n",
       "      <td>0.934</td>\n",
       "      <td>0.934</td>\n",
       "      <td>0.007</td>\n",
       "      <td>0.007</td>\n",
       "      <td>0.008</td>\n",
       "    </tr>\n",
       "  </tbody>\n",
       "</table>\n",
       "</div>"
      ],
      "text/plain": [
       "                        recall     f1  accuracy  std_acc  std_recall  std_f1\n",
       "RandomForestClassifier   0.943  0.934     0.934    0.007       0.007   0.008"
      ]
     },
     "execution_count": 79,
     "metadata": {},
     "output_type": "execute_result"
    }
   ],
   "source": [
    "resultado.head(1)"
   ]
  },
  {
   "cell_type": "code",
   "execution_count": 84,
   "id": "9fa77d58-7e1e-4ddb-baca-59f59a80091b",
   "metadata": {},
   "outputs": [],
   "source": [
    "y_pred = best_model_randomFlorest.predict(x_test)\n",
    "probs =  best_model_randomFlorest.predict_proba(x_test)"
   ]
  },
  {
   "cell_type": "code",
   "execution_count": null,
   "id": "d90aa22e-e643-432a-acd2-892e8c935e5d",
   "metadata": {},
   "outputs": [],
   "source": []
  },
  {
   "cell_type": "code",
   "execution_count": 96,
   "id": "3228848f-d9ab-4000-b0e4-deab1218b9bb",
   "metadata": {},
   "outputs": [
    {
     "name": "stdout",
     "output_type": "stream",
     "text": [
      "Acuracia : 93.611%\n",
      "F1_score: 93.587%\n",
      "Precison: 93.327%\n",
      "Recall: 93.849%\n",
      "--------------------\n",
      "Classification Report\n",
      "              precision    recall  f1-score   support\n",
      "\n",
      "        FAKE       0.94      0.93      0.94      1087\n",
      "        TRUE       0.93      0.94      0.94      1073\n",
      "\n",
      "    accuracy                           0.94      2160\n",
      "   macro avg       0.94      0.94      0.94      2160\n",
      "weighted avg       0.94      0.94      0.94      2160\n",
      "\n",
      "--------------------\n",
      "Plot curva roc\n",
      "ROC AUC=0.984\n"
     ]
    },
    {
     "data": {
      "image/png": "[encoded data removed]",
      "text/plain": [
       "<Figure size 432x288 with 1 Axes>"
      ]
     },
     "metadata": {
      "needs_background": "light"
     },
     "output_type": "display_data"
    }
   ],
   "source": [
    "build_score(y_pred,y_test,probs)"
   ]
  },
  {
   "cell_type": "code",
   "execution_count": null,
   "id": "ee0334a7-3b9b-421c-8258-e0bfe74e7bbb",
   "metadata": {},
   "outputs": [],
   "source": []
  },
  {
   "cell_type": "markdown",
   "id": "a0400865-f2fb-4c0b-b5d0-649ca7b416b0",
   "metadata": {},
   "source": [
    "### Stemma"
   ]
  },
  {
   "cell_type": "code",
   "execution_count": 6,
   "id": "a019643f-1542-4ceb-8ecf-0a09f4b5bd2e",
   "metadata": {},
   "outputs": [
    {
     "data": {
      "text/html": [
       "<div>\n",
       "<style scoped>\n",
       "    .dataframe tbody tr th:only-of-type {\n",
       "        vertical-align: middle;\n",
       "    }\n",
       "\n",
       "    .dataframe tbody tr th {\n",
       "        vertical-align: top;\n",
       "    }\n",
       "\n",
       "    .dataframe thead th {\n",
       "        text-align: right;\n",
       "    }\n",
       "</style>\n",
       "<table border=\"1\" class=\"dataframe\">\n",
       "  <thead>\n",
       "    <tr style=\"text-align: right;\">\n",
       "      <th></th>\n",
       "      <th>text</th>\n",
       "      <th>category</th>\n",
       "      <th>label</th>\n",
       "      <th>site</th>\n",
       "    </tr>\n",
       "  </thead>\n",
       "  <tbody>\n",
       "    <tr>\n",
       "      <th>0</th>\n",
       "      <td>kát abr diz vai coloc expul mold recl sen kát ...</td>\n",
       "      <td>politica</td>\n",
       "      <td>fake</td>\n",
       "      <td>https://ceticismopolitico.com</td>\n",
       "    </tr>\n",
       "    <tr>\n",
       "      <th>1</th>\n",
       "      <td>dr ray peit bolson cham conserv fak entrev dan...</td>\n",
       "      <td>politica</td>\n",
       "      <td>fake</td>\n",
       "      <td>https://ceticismopolitico.com</td>\n",
       "    </tr>\n",
       "    <tr>\n",
       "      <th>2</th>\n",
       "      <td>reinald azeved desmasc políc fed ferrenh crít ...</td>\n",
       "      <td>politica</td>\n",
       "      <td>fake</td>\n",
       "      <td>https://afolhabrasil.com.br</td>\n",
       "    </tr>\n",
       "    <tr>\n",
       "      <th>3</th>\n",
       "      <td>relatór assust bnd mostr dinh públic brasil jo...</td>\n",
       "      <td>politica</td>\n",
       "      <td>fake</td>\n",
       "      <td>https://www.diariodobrasil.org</td>\n",
       "    </tr>\n",
       "    <tr>\n",
       "      <th>4</th>\n",
       "      <td>rad americ fal sobr pt vend ilusã pov brasil p...</td>\n",
       "      <td>politica</td>\n",
       "      <td>fake</td>\n",
       "      <td>https://www.diariodobrasil.org</td>\n",
       "    </tr>\n",
       "  </tbody>\n",
       "</table>\n",
       "</div>"
      ],
      "text/plain": [
       "                                                text  category label  \\\n",
       "0  kát abr diz vai coloc expul mold recl sen kát ...  politica  fake   \n",
       "1  dr ray peit bolson cham conserv fak entrev dan...  politica  fake   \n",
       "2  reinald azeved desmasc políc fed ferrenh crít ...  politica  fake   \n",
       "3  relatór assust bnd mostr dinh públic brasil jo...  politica  fake   \n",
       "4  rad americ fal sobr pt vend ilusã pov brasil p...  politica  fake   \n",
       "\n",
       "                             site  \n",
       "0   https://ceticismopolitico.com  \n",
       "1   https://ceticismopolitico.com  \n",
       "2     https://afolhabrasil.com.br  \n",
       "3  https://www.diariodobrasil.org  \n",
       "4  https://www.diariodobrasil.org  "
      ]
     },
     "execution_count": 6,
     "metadata": {},
     "output_type": "execute_result"
    }
   ],
   "source": [
    "df_test = pd.read_csv(path+\"no_stopWords_stemma.csv\")\n",
    "df_test.head()"
   ]
  },
  {
   "cell_type": "code",
   "execution_count": 7,
   "id": "cd3a1bef-b195-403a-8857-66e0f8a61324",
   "metadata": {},
   "outputs": [],
   "source": [
    " x_train,x_test,y_train,y_test= make_data_for_machine_learning_tfidf(df_test,\"text\",\"label\")"
   ]
  },
  {
   "cell_type": "code",
   "execution_count": 8,
   "id": "c0aba4c2-9c02-4e7d-b55f-0f210a68a675",
   "metadata": {},
   "outputs": [
    {
     "name": "stdout",
     "output_type": "stream",
     "text": [
      "treino _ x: (5040, 50)\n",
      "treino _ y : (5040,)\n",
      "test _ x : (2160, 50)\n",
      "test _ y: (2160,)\n"
     ]
    }
   ],
   "source": [
    "print(\"treino _ x: {}\".format(x_train.shape))\n",
    "print(\"treino _ y : {}\".format(y_train.shape))\n",
    "print(\"test _ x : {}\".format(x_test.shape))\n",
    "print(\"test _ y: {}\".format(y_test.shape))     "
   ]
  },
  {
   "cell_type": "code",
   "execution_count": 9,
   "id": "8424e6af-d806-4e01-a4a4-4f5fbae48f7e",
   "metadata": {},
   "outputs": [],
   "source": [
    "le = LabelEncoder()\n",
    "y_train = le.fit_transform(y_train)\n",
    "y_test = le.fit_transform(y_test)"
   ]
  },
  {
   "cell_type": "markdown",
   "id": "6b6ca2d6-6abc-4dcb-89ad-91049caca850",
   "metadata": {},
   "source": [
    "#### Fazendo baseline"
   ]
  },
  {
   "cell_type": "code",
   "execution_count": 10,
   "id": "cd316041-1618-4591-a6d3-164f9d26fa61",
   "metadata": {},
   "outputs": [
    {
     "name": "stdout",
     "output_type": "stream",
     "text": [
      "model name:  DummyClassifier\n",
      "Array: \n",
      "--------> recall : [ [0. 0. 0. 0. 0.] ]\n",
      "\n",
      "recall : 0.0 std : 0.0\n",
      "Intervalo :  [0.00% ~ 0.00%]\n",
      "\n",
      "------------------------------\n",
      "Array: \n",
      "--------> accuracy : [ [0.50154321 0.50617284 0.5        0.50617284 0.50925926] ]\n",
      "\n",
      "accuracy : 0.505 std : 0.003\n",
      "Intervalo :  [49.79% ~ 51.14%]\n",
      "\n",
      "------------------------------\n",
      "Array: \n",
      "--------> f1 : [ [0. 0. 0. 0. 0.] ]\n",
      "\n",
      "f1 : 0.0 std : 0.0\n",
      "Intervalo :  [0.00% ~ 0.00%]\n",
      "\n",
      "------------------------------\n"
     ]
    },
    {
     "data": {
      "text/html": [
       "<div>\n",
       "<style scoped>\n",
       "    .dataframe tbody tr th:only-of-type {\n",
       "        vertical-align: middle;\n",
       "    }\n",
       "\n",
       "    .dataframe tbody tr th {\n",
       "        vertical-align: top;\n",
       "    }\n",
       "\n",
       "    .dataframe thead th {\n",
       "        text-align: right;\n",
       "    }\n",
       "</style>\n",
       "<table border=\"1\" class=\"dataframe\">\n",
       "  <thead>\n",
       "    <tr style=\"text-align: right;\">\n",
       "      <th></th>\n",
       "      <th>recall</th>\n",
       "      <th>f1</th>\n",
       "      <th>accuracy</th>\n",
       "      <th>std_acc</th>\n",
       "      <th>std_recall</th>\n",
       "      <th>std_f1</th>\n",
       "    </tr>\n",
       "  </thead>\n",
       "  <tbody>\n",
       "    <tr>\n",
       "      <th>DummyClassifier</th>\n",
       "      <td>0.0</td>\n",
       "      <td>0.0</td>\n",
       "      <td>0.505</td>\n",
       "      <td>0.003</td>\n",
       "      <td>0.0</td>\n",
       "      <td>0.0</td>\n",
       "    </tr>\n",
       "  </tbody>\n",
       "</table>\n",
       "</div>"
      ],
      "text/plain": [
       "                 recall   f1  accuracy  std_acc  std_recall  std_f1\n",
       "DummyClassifier     0.0  0.0     0.505    0.003         0.0     0.0"
      ]
     },
     "execution_count": 10,
     "metadata": {},
     "output_type": "execute_result"
    }
   ],
   "source": [
    "dummy_clf = DummyClassifier()\n",
    "dummy_clf.fit(x_train,y_train)\n",
    "cross_score(x_test,y_test,dummy_clf,\"DummyClassifier\",scorer)"
   ]
  },
  {
   "cell_type": "markdown",
   "id": "de0a311a-6bd3-4107-9b2e-5fcdac0b9d67",
   "metadata": {},
   "source": [
    "#### Carregando os modelos"
   ]
  },
  {
   "cell_type": "code",
   "execution_count": 12,
   "id": "809e36ff-7bb1-4cb5-9bac-02e5db5f7e2d",
   "metadata": {},
   "outputs": [],
   "source": [
    "random_florest = RandomForestClassifier()\n",
    "reg_logistic = LogisticRegression()\n",
    "xgb = XGBClassifier()\n",
    "tree = DecisionTreeClassifier()\n",
    "ada = AdaBoostClassifier()\n",
    "gbm = GradientBoostingClassifier()\n",
    "gnb = GaussianNB()\n",
    "\n",
    "models = [random_florest,reg_logistic,xgb,tree,ada,gbm,gnb]"
   ]
  },
  {
   "cell_type": "code",
   "execution_count": 13,
   "id": "eb537ff2-90f1-4884-a890-97723bcbb4e5",
   "metadata": {},
   "outputs": [
    {
     "name": "stdout",
     "output_type": "stream",
     "text": [
      "model name:  RandomForestClassifier\n",
      "Array: \n",
      "--------> recall : [ [0.93103448 0.92164675 0.94206897 0.9261658  0.94407457] ]\n",
      "\n",
      "recall : 0.933 std : 0.009\n",
      "Intervalo :  [91.55% ~ 95.05%]\n",
      "\n",
      "------------------------------\n",
      "Array: \n",
      "--------> accuracy : [ [0.93187831 0.92857143 0.94775132 0.94113757 0.93584656] ]\n",
      "\n",
      "accuracy : 0.937 std : 0.007\n",
      "Intervalo :  [92.34% ~ 95.06%]\n",
      "\n",
      "------------------------------\n",
      "Array: \n",
      "--------> f1 : [ [0.93227092 0.92904953 0.94313454 0.94024951 0.93645485] ]\n",
      "\n",
      "f1 : 0.936 std : 0.005\n",
      "Intervalo :  [92.60% ~ 94.65%]\n",
      "\n",
      "------------------------------\n",
      "model name:  LogisticRegression\n",
      "Array: \n",
      "--------> recall : [ [0.88196286 0.90836653 0.90758621 0.9015544  0.9081225 ] ]\n",
      "\n",
      "recall : 0.902 std : 0.01\n",
      "Intervalo :  [88.13% ~ 92.17%]\n",
      "\n",
      "------------------------------\n",
      "Array: \n",
      "--------> accuracy : [ [0.8723545  0.90079365 0.91071429 0.91269841 0.9047619 ] ]\n",
      "\n",
      "accuracy : 0.9 std : 0.015\n",
      "Intervalo :  [87.11% ~ 92.94%]\n",
      "\n",
      "------------------------------\n",
      "Array: \n",
      "--------> f1 : [ [0.87327643 0.90118577 0.90696072 0.91338583 0.90450928] ]\n",
      "\n",
      "f1 : 0.9 std : 0.014\n",
      "Intervalo :  [87.21% ~ 92.76%]\n",
      "\n",
      "------------------------------\n",
      "model name:  XGBClassifier\n",
      "Array: \n",
      "--------> recall : [ [0.92440318 0.92297477 0.9462069  0.93523316 0.94673768] ]\n",
      "\n",
      "recall : 0.935 std : 0.01\n",
      "Intervalo :  [91.47% ~ 95.55%]\n",
      "\n",
      "------------------------------\n",
      "Array: \n",
      "--------> accuracy : [ [0.92791005 0.93121693 0.94775132 0.9484127  0.94312169] ]\n",
      "\n",
      "accuracy : 0.94 std : 0.009\n",
      "Intervalo :  [92.26% ~ 95.67%]\n",
      "\n",
      "------------------------------\n",
      "Array: \n",
      "--------> f1 : [ [0.92747838 0.93038822 0.94555479 0.94875164 0.94297082] ]\n",
      "\n",
      "f1 : 0.939 std : 0.008\n",
      "Intervalo :  [92.20% ~ 95.60%]\n",
      "\n",
      "------------------------------\n",
      "model name:  DecisionTreeClassifier\n",
      "Array: \n",
      "--------> recall : [ [0.88992042 0.85258964 0.88827586 0.86528497 0.87483356] ]\n",
      "\n",
      "recall : 0.874 std : 0.014\n",
      "Intervalo :  [84.60% ~ 90.24%]\n",
      "\n",
      "------------------------------\n",
      "Array: \n",
      "--------> accuracy : [ [0.88558201 0.87830688 0.90939153 0.88558201 0.875     ] ]\n",
      "\n",
      "accuracy : 0.887 std : 0.012\n",
      "Intervalo :  [86.27% ~ 91.09%]\n",
      "\n",
      "------------------------------\n",
      "Array: \n",
      "--------> f1 : [ [0.88499025 0.88043478 0.9032707  0.88741722 0.88133333] ]\n",
      "\n",
      "f1 : 0.887 std : 0.008\n",
      "Intervalo :  [87.09% ~ 90.41%]\n",
      "\n",
      "------------------------------\n",
      "model name:  AdaBoostClassifier\n",
      "Array: \n",
      "--------> recall : [ [0.9270557  0.9189907  0.92965517 0.91580311 0.92809587] ]\n",
      "\n",
      "recall : 0.924 std : 0.005\n",
      "Intervalo :  [91.30% ~ 93.49%]\n",
      "\n",
      "------------------------------\n",
      "Array: \n",
      "--------> accuracy : [ [0.92791005 0.92791005 0.93849206 0.92989418 0.92791005] ]\n",
      "\n",
      "accuracy : 0.93 std : 0.004\n",
      "Intervalo :  [92.22% ~ 93.86%]\n",
      "\n",
      "------------------------------\n",
      "Array: \n",
      "--------> f1 : [ [0.92767087 0.92699263 0.93546149 0.93026316 0.92747838] ]\n",
      "\n",
      "f1 : 0.93 std : 0.003\n",
      "Intervalo :  [92.33% ~ 93.59%]\n",
      "\n",
      "------------------------------\n",
      "model name:  GradientBoostingClassifier\n",
      "Array: \n",
      "--------> recall : [ [0.93236074 0.92563081 0.9462069  0.92487047 0.94407457] ]\n",
      "\n",
      "recall : 0.935 std : 0.009\n",
      "Intervalo :  [91.66% ~ 95.26%]\n",
      "\n",
      "------------------------------\n",
      "Array: \n",
      "--------> accuracy : [ [0.93584656 0.93320106 0.95171958 0.94246032 0.94510582] ]\n",
      "\n",
      "accuracy : 0.942 std : 0.007\n",
      "Intervalo :  [92.84% ~ 95.49%]\n",
      "\n",
      "------------------------------\n",
      "Array: \n",
      "--------> f1 : [ [0.93546241 0.93244147 0.94948097 0.94257426 0.94470353] ]\n",
      "\n",
      "f1 : 0.941 std : 0.006\n",
      "Intervalo :  [92.85% ~ 95.33%]\n",
      "\n",
      "------------------------------\n",
      "model name:  GaussianNB\n",
      "Array: \n",
      "--------> recall : [ [0.84615385 0.84727756 0.84689655 0.86528497 0.86950732] ]\n",
      "\n",
      "recall : 0.855 std : 0.01\n",
      "Intervalo :  [83.46% ~ 87.54%]\n",
      "\n",
      "------------------------------\n",
      "Array: \n",
      "--------> accuracy : [ [0.82407407 0.83730159 0.84126984 0.8531746  0.86441799] ]\n",
      "\n",
      "accuracy : 0.844 std : 0.014\n",
      "Intervalo :  [81.65% ~ 87.16%]\n",
      "\n",
      "------------------------------\n",
      "Array: \n",
      "--------> f1 : [ [0.82749676 0.83837057 0.83651226 0.85750963 0.86432826] ]\n",
      "\n",
      "f1 : 0.845 std : 0.014\n",
      "Intervalo :  [81.72% ~ 87.24%]\n",
      "\n",
      "------------------------------\n"
     ]
    }
   ],
   "source": [
    "result=[]\n",
    "for model in models:\n",
    "    aux = cross_score(x_train,y_train,model,model.__class__.__name__,scorer)\n",
    "    result.append(aux)"
   ]
  },
  {
   "cell_type": "code",
   "execution_count": 14,
   "id": "244ed127-fc00-4547-9396-44a7e1239783",
   "metadata": {},
   "outputs": [
    {
     "data": {
      "text/html": [
       "<div>\n",
       "<style scoped>\n",
       "    .dataframe tbody tr th:only-of-type {\n",
       "        vertical-align: middle;\n",
       "    }\n",
       "\n",
       "    .dataframe tbody tr th {\n",
       "        vertical-align: top;\n",
       "    }\n",
       "\n",
       "    .dataframe thead th {\n",
       "        text-align: right;\n",
       "    }\n",
       "</style>\n",
       "<table border=\"1\" class=\"dataframe\">\n",
       "  <thead>\n",
       "    <tr style=\"text-align: right;\">\n",
       "      <th></th>\n",
       "      <th>recall</th>\n",
       "      <th>f1</th>\n",
       "      <th>accuracy</th>\n",
       "      <th>std_acc</th>\n",
       "      <th>std_recall</th>\n",
       "      <th>std_f1</th>\n",
       "    </tr>\n",
       "  </thead>\n",
       "  <tbody>\n",
       "    <tr>\n",
       "      <th>RandomForestClassifier</th>\n",
       "      <td>0.933</td>\n",
       "      <td>0.936</td>\n",
       "      <td>0.937</td>\n",
       "      <td>0.007</td>\n",
       "      <td>0.009</td>\n",
       "      <td>0.005</td>\n",
       "    </tr>\n",
       "    <tr>\n",
       "      <th>LogisticRegression</th>\n",
       "      <td>0.902</td>\n",
       "      <td>0.900</td>\n",
       "      <td>0.900</td>\n",
       "      <td>0.015</td>\n",
       "      <td>0.010</td>\n",
       "      <td>0.014</td>\n",
       "    </tr>\n",
       "    <tr>\n",
       "      <th>XGBClassifier</th>\n",
       "      <td>0.935</td>\n",
       "      <td>0.939</td>\n",
       "      <td>0.940</td>\n",
       "      <td>0.009</td>\n",
       "      <td>0.010</td>\n",
       "      <td>0.008</td>\n",
       "    </tr>\n",
       "    <tr>\n",
       "      <th>DecisionTreeClassifier</th>\n",
       "      <td>0.874</td>\n",
       "      <td>0.887</td>\n",
       "      <td>0.887</td>\n",
       "      <td>0.012</td>\n",
       "      <td>0.014</td>\n",
       "      <td>0.008</td>\n",
       "    </tr>\n",
       "    <tr>\n",
       "      <th>AdaBoostClassifier</th>\n",
       "      <td>0.924</td>\n",
       "      <td>0.930</td>\n",
       "      <td>0.930</td>\n",
       "      <td>0.004</td>\n",
       "      <td>0.005</td>\n",
       "      <td>0.003</td>\n",
       "    </tr>\n",
       "    <tr>\n",
       "      <th>GradientBoostingClassifier</th>\n",
       "      <td>0.935</td>\n",
       "      <td>0.941</td>\n",
       "      <td>0.942</td>\n",
       "      <td>0.007</td>\n",
       "      <td>0.009</td>\n",
       "      <td>0.006</td>\n",
       "    </tr>\n",
       "    <tr>\n",
       "      <th>GaussianNB</th>\n",
       "      <td>0.855</td>\n",
       "      <td>0.845</td>\n",
       "      <td>0.844</td>\n",
       "      <td>0.014</td>\n",
       "      <td>0.010</td>\n",
       "      <td>0.014</td>\n",
       "    </tr>\n",
       "  </tbody>\n",
       "</table>\n",
       "</div>"
      ],
      "text/plain": [
       "                            recall     f1  accuracy  std_acc  std_recall  \\\n",
       "RandomForestClassifier       0.933  0.936     0.937    0.007       0.009   \n",
       "LogisticRegression           0.902  0.900     0.900    0.015       0.010   \n",
       "XGBClassifier                0.935  0.939     0.940    0.009       0.010   \n",
       "DecisionTreeClassifier       0.874  0.887     0.887    0.012       0.014   \n",
       "AdaBoostClassifier           0.924  0.930     0.930    0.004       0.005   \n",
       "GradientBoostingClassifier   0.935  0.941     0.942    0.007       0.009   \n",
       "GaussianNB                   0.855  0.845     0.844    0.014       0.010   \n",
       "\n",
       "                            std_f1  \n",
       "RandomForestClassifier       0.005  \n",
       "LogisticRegression           0.014  \n",
       "XGBClassifier                0.008  \n",
       "DecisionTreeClassifier       0.008  \n",
       "AdaBoostClassifier           0.003  \n",
       "GradientBoostingClassifier   0.006  \n",
       "GaussianNB                   0.014  "
      ]
     },
     "execution_count": 14,
     "metadata": {},
     "output_type": "execute_result"
    }
   ],
   "source": [
    "resultado = pd.concat(result)\n",
    "resultado"
   ]
  },
  {
   "cell_type": "markdown",
   "id": "da1534cf-fd0d-485a-9a91-63074cad6866",
   "metadata": {},
   "source": [
    "Escolhidos para teste: \n",
    "* Random Forest Classifier \n",
    "* XgbClassifier \n",
    "* AdaboostClassifier"
   ]
  },
  {
   "cell_type": "code",
   "execution_count": 15,
   "id": "dcad476d-e58f-4570-8649-df0663ce0efd",
   "metadata": {},
   "outputs": [
    {
     "data": {
      "text/html": [
       "<style>#sk-container-id-1 {color: black;background-color: white;}#sk-container-id-1 pre{padding: 0;}#sk-container-id-1 div.sk-toggleable {background-color: white;}#sk-container-id-1 label.sk-toggleable__label {cursor: pointer;display: block;width: 100%;margin-bottom: 0;padding: 0.3em;box-sizing: border-box;text-align: center;}#sk-container-id-1 label.sk-toggleable__label-arrow:before {content: \"▸\";float: left;margin-right: 0.25em;color: #696969;}#sk-container-id-1 label.sk-toggleable__label-arrow:hover:before {color: black;}#sk-container-id-1 div.sk-estimator:hover label.sk-toggleable__label-arrow:before {color: black;}#sk-container-id-1 div.sk-toggleable__content {max-height: 0;max-width: 0;overflow: hidden;text-align: left;background-color: #f0f8ff;}#sk-container-id-1 div.sk-toggleable__content pre {margin: 0.2em;color: black;border-radius: 0.25em;background-color: #f0f8ff;}#sk-container-id-1 input.sk-toggleable__control:checked~div.sk-toggleable__content {max-height: 200px;max-width: 100%;overflow: auto;}#sk-container-id-1 input.sk-toggleable__control:checked~label.sk-toggleable__label-arrow:before {content: \"▾\";}#sk-container-id-1 div.sk-estimator input.sk-toggleable__control:checked~label.sk-toggleable__label {background-color: #d4ebff;}#sk-container-id-1 div.sk-label input.sk-toggleable__control:checked~label.sk-toggleable__label {background-color: #d4ebff;}#sk-container-id-1 input.sk-hidden--visually {border: 0;clip: rect(1px 1px 1px 1px);clip: rect(1px, 1px, 1px, 1px);height: 1px;margin: -1px;overflow: hidden;padding: 0;position: absolute;width: 1px;}#sk-container-id-1 div.sk-estimator {font-family: monospace;background-color: #f0f8ff;border: 1px dotted black;border-radius: 0.25em;box-sizing: border-box;margin-bottom: 0.5em;}#sk-container-id-1 div.sk-estimator:hover {background-color: #d4ebff;}#sk-container-id-1 div.sk-parallel-item::after {content: \"\";width: 100%;border-bottom: 1px solid gray;flex-grow: 1;}#sk-container-id-1 div.sk-label:hover label.sk-toggleable__label {background-color: #d4ebff;}#sk-container-id-1 div.sk-serial::before {content: \"\";position: absolute;border-left: 1px solid gray;box-sizing: border-box;top: 0;bottom: 0;left: 50%;z-index: 0;}#sk-container-id-1 div.sk-serial {display: flex;flex-direction: column;align-items: center;background-color: white;padding-right: 0.2em;padding-left: 0.2em;position: relative;}#sk-container-id-1 div.sk-item {position: relative;z-index: 1;}#sk-container-id-1 div.sk-parallel {display: flex;align-items: stretch;justify-content: center;background-color: white;position: relative;}#sk-container-id-1 div.sk-item::before, #sk-container-id-1 div.sk-parallel-item::before {content: \"\";position: absolute;border-left: 1px solid gray;box-sizing: border-box;top: 0;bottom: 0;left: 50%;z-index: -1;}#sk-container-id-1 div.sk-parallel-item {display: flex;flex-direction: column;z-index: 1;position: relative;background-color: white;}#sk-container-id-1 div.sk-parallel-item:first-child::after {align-self: flex-end;width: 50%;}#sk-container-id-1 div.sk-parallel-item:last-child::after {align-self: flex-start;width: 50%;}#sk-container-id-1 div.sk-parallel-item:only-child::after {width: 0;}#sk-container-id-1 div.sk-dashed-wrapped {border: 1px dashed gray;margin: 0 0.4em 0.5em 0.4em;box-sizing: border-box;padding-bottom: 0.4em;background-color: white;}#sk-container-id-1 div.sk-label label {font-family: monospace;font-weight: bold;display: inline-block;line-height: 1.2em;}#sk-container-id-1 div.sk-label-container {text-align: center;}#sk-container-id-1 div.sk-container {/* jupyter's `normalize.less` sets `[hidden] { display: none; }` but bootstrap.min.css set `[hidden] { display: none !important; }` so we also need the `!important` here to be able to override the default hidden behavior on the sphinx rendered scikit-learn.org. See: https://github.com/scikit-learn/scikit-learn/issues/21755 */display: inline-block !important;position: relative;}#sk-container-id-1 div.sk-text-repr-fallback {display: none;}</style><div id=\"sk-container-id-1\" class=\"sk-top-container\"><div class=\"sk-text-repr-fallback\"><pre>AdaBoostClassifier()</pre><b>In a Jupyter environment, please rerun this cell to show the HTML representation or trust the notebook. <br />On GitHub, the HTML representation is unable to render, please try loading this page with nbviewer.org.</b></div><div class=\"sk-container\" hidden><div class=\"sk-item\"><div class=\"sk-estimator sk-toggleable\"><input class=\"sk-toggleable__control sk-hidden--visually\" id=\"sk-estimator-id-1\" type=\"checkbox\" checked><label for=\"sk-estimator-id-1\" class=\"sk-toggleable__label sk-toggleable__label-arrow\">AdaBoostClassifier</label><div class=\"sk-toggleable__content\"><pre>AdaBoostClassifier()</pre></div></div></div></div></div>"
      ],
      "text/plain": [
       "AdaBoostClassifier()"
      ]
     },
     "execution_count": 15,
     "metadata": {},
     "output_type": "execute_result"
    }
   ],
   "source": [
    "random_florest.fit(x_train,y_train)\n",
    "xgb.fit(x_train,y_train)\n",
    "ada.fit(x_train,y_train)"
   ]
  },
  {
   "cell_type": "code",
   "execution_count": 16,
   "id": "ab6d924d-5009-4c06-8f8b-a143a475ece8",
   "metadata": {},
   "outputs": [],
   "source": [
    "models = [random_florest,xgb,ada]"
   ]
  },
  {
   "cell_type": "code",
   "execution_count": 17,
   "id": "6a3089f6-fba2-48d1-93fa-e85f3a160de1",
   "metadata": {},
   "outputs": [
    {
     "name": "stdout",
     "output_type": "stream",
     "text": [
      "model name:  RandomForestClassifier\n",
      "Array: \n",
      "--------> recall : [ [0.95665635 0.946875   0.93518519 0.934375   0.94025157] ]\n",
      "\n",
      "recall : 0.943 std : 0.008\n",
      "Intervalo :  [92.61% ~ 95.93%]\n",
      "\n",
      "------------------------------\n",
      "Array: \n",
      "--------> accuracy : [ [0.93981481 0.94135802 0.93981481 0.93209877 0.93209877] ]\n",
      "\n",
      "accuracy : 0.937 std : 0.004\n",
      "Intervalo :  [92.89% ~ 94.52%]\n",
      "\n",
      "------------------------------\n",
      "Array: \n",
      "--------> f1 : [ [0.94461538 0.94333844 0.94444444 0.92721519 0.93934681] ]\n",
      "\n",
      "f1 : 0.94 std : 0.007\n",
      "Intervalo :  [92.67% ~ 95.29%]\n",
      "\n",
      "------------------------------\n",
      "model name:  XGBClassifier\n",
      "Array: \n",
      "--------> recall : [ [0.94427245 0.95       0.91358025 0.91875    0.94339623] ]\n",
      "\n",
      "recall : 0.934 std : 0.015\n",
      "Intervalo :  [90.43% ~ 96.37%]\n",
      "\n",
      "------------------------------\n",
      "Array: \n",
      "--------> accuracy : [ [0.93364198 0.93518519 0.92438272 0.92438272 0.93518519] ]\n",
      "\n",
      "accuracy : 0.931 std : 0.005\n",
      "Intervalo :  [92.04% ~ 94.07%]\n",
      "\n",
      "------------------------------\n",
      "Array: \n",
      "--------> f1 : [ [0.93415008 0.93538462 0.92355694 0.92307692 0.93457944] ]\n",
      "\n",
      "f1 : 0.93 std : 0.006\n",
      "Intervalo :  [91.90% ~ 94.13%]\n",
      "\n",
      "------------------------------\n",
      "model name:  AdaBoostClassifier\n",
      "Array: \n",
      "--------> recall : [ [0.93498452 0.928125   0.90740741 0.890625   0.91509434] ]\n",
      "\n",
      "recall : 0.915 std : 0.016\n",
      "Intervalo :  [88.40% ~ 94.65%]\n",
      "\n",
      "------------------------------\n",
      "Array: \n",
      "--------> accuracy : [ [0.92592593 0.92746914 0.91358025 0.91049383 0.92283951] ]\n",
      "\n",
      "accuracy : 0.92 std : 0.007\n",
      "Intervalo :  [90.65% ~ 93.36%]\n",
      "\n",
      "------------------------------\n",
      "Array: \n",
      "--------> f1 : [ [0.92638037 0.92667707 0.91304348 0.90764331 0.92088608] ]\n",
      "\n",
      "f1 : 0.919 std : 0.008\n",
      "Intervalo :  [90.39% ~ 93.39%]\n",
      "\n",
      "------------------------------\n"
     ]
    }
   ],
   "source": [
    "result=[]\n",
    "for model in models:\n",
    "    aux = cross_score(x_test,y_test,model,model.__class__.__name__,scorer)\n",
    "    result.append(aux)"
   ]
  },
  {
   "cell_type": "code",
   "execution_count": 18,
   "id": "ffb5a73f-ee3d-47cd-a0e4-deccc5dabdbb",
   "metadata": {},
   "outputs": [
    {
     "data": {
      "text/html": [
       "<div>\n",
       "<style scoped>\n",
       "    .dataframe tbody tr th:only-of-type {\n",
       "        vertical-align: middle;\n",
       "    }\n",
       "\n",
       "    .dataframe tbody tr th {\n",
       "        vertical-align: top;\n",
       "    }\n",
       "\n",
       "    .dataframe thead th {\n",
       "        text-align: right;\n",
       "    }\n",
       "</style>\n",
       "<table border=\"1\" class=\"dataframe\">\n",
       "  <thead>\n",
       "    <tr style=\"text-align: right;\">\n",
       "      <th></th>\n",
       "      <th>recall</th>\n",
       "      <th>f1</th>\n",
       "      <th>accuracy</th>\n",
       "      <th>std_acc</th>\n",
       "      <th>std_recall</th>\n",
       "      <th>std_f1</th>\n",
       "    </tr>\n",
       "  </thead>\n",
       "  <tbody>\n",
       "    <tr>\n",
       "      <th>RandomForestClassifier</th>\n",
       "      <td>0.943</td>\n",
       "      <td>0.940</td>\n",
       "      <td>0.937</td>\n",
       "      <td>0.004</td>\n",
       "      <td>0.008</td>\n",
       "      <td>0.007</td>\n",
       "    </tr>\n",
       "    <tr>\n",
       "      <th>XGBClassifier</th>\n",
       "      <td>0.934</td>\n",
       "      <td>0.930</td>\n",
       "      <td>0.931</td>\n",
       "      <td>0.005</td>\n",
       "      <td>0.015</td>\n",
       "      <td>0.006</td>\n",
       "    </tr>\n",
       "    <tr>\n",
       "      <th>AdaBoostClassifier</th>\n",
       "      <td>0.915</td>\n",
       "      <td>0.919</td>\n",
       "      <td>0.920</td>\n",
       "      <td>0.007</td>\n",
       "      <td>0.016</td>\n",
       "      <td>0.008</td>\n",
       "    </tr>\n",
       "  </tbody>\n",
       "</table>\n",
       "</div>"
      ],
      "text/plain": [
       "                        recall     f1  accuracy  std_acc  std_recall  std_f1\n",
       "RandomForestClassifier   0.943  0.940     0.937    0.004       0.008   0.007\n",
       "XGBClassifier            0.934  0.930     0.931    0.005       0.015   0.006\n",
       "AdaBoostClassifier       0.915  0.919     0.920    0.007       0.016   0.008"
      ]
     },
     "metadata": {},
     "output_type": "display_data"
    }
   ],
   "source": [
    "resultado = pd.concat(result)\n",
    "display(resultado)"
   ]
  },
  {
   "cell_type": "markdown",
   "id": "a493ef30-f40b-4f15-a472-3bad4775dc03",
   "metadata": {},
   "source": [
    "Aqui podemos ver que o melhor Modelo é o Random Florest classifier"
   ]
  },
  {
   "cell_type": "markdown",
   "id": "5e410f62-cb7e-4bde-8ccc-9cc69cbeefb9",
   "metadata": {},
   "source": [
    "Tunando os hyperparametros"
   ]
  },
  {
   "cell_type": "markdown",
   "id": "9fa103b9-2d5a-4c51-bae5-c5d02309cdac",
   "metadata": {},
   "source": [
    "Técnica escolhida foi o bayesSearch:</br>\n",
    "Motivação : operou mais rapido que randomizedsearch e o gridsearch"
   ]
  },
  {
   "cell_type": "code",
   "execution_count": 19,
   "id": "e1f2dfbc-be27-4b81-95b9-1e0efb4da1ba",
   "metadata": {},
   "outputs": [],
   "source": [
    "param = {\n",
    "        \"n_estimators\": [120,300,500,800,1200],\n",
    "        \"max_depth\": [5, 8, 15, 25, 30, None],\n",
    "        \"min_samples_split\":[ 2, 5, 10, 15, 100],\n",
    "        \"min_samples_leaf\":[ 2, 5, 10, 15],\n",
    "        \"max_features\":['log2', 'sqrt', None]\n",
    "}"
   ]
  },
  {
   "cell_type": "code",
   "execution_count": 21,
   "id": "fedaef4c-810a-4508-b048-8b444dafb409",
   "metadata": {},
   "outputs": [
    {
     "name": "stdout",
     "output_type": "stream",
     "text": [
      "Melhor score : 0.9398148148148149\n",
      "CPU times: user 10min 1s, sys: 2.22 s, total: 10min 4s\n",
      "Wall time: 10min\n"
     ]
    }
   ],
   "source": [
    "%%time\n",
    "bayesSearch = BayesSearchCV(\n",
    "    RandomForestClassifier(),\n",
    "    search_spaces=param,\n",
    "    n_iter=10,\n",
    "    cv=ShuffleSplit(n_splits=5, test_size=0.3, random_state=0)\n",
    ")\n",
    "bayesSearch.fit(x_train,y_train)\n",
    "print(\"Melhor score : {}\".format(bayesSearch.best_score_))"
   ]
  },
  {
   "cell_type": "code",
   "execution_count": 22,
   "id": "f8a65c9e-a0f2-4034-b21e-7b440ac4e22b",
   "metadata": {},
   "outputs": [
    {
     "data": {
      "text/html": [
       "<style>#sk-container-id-2 {color: black;background-color: white;}#sk-container-id-2 pre{padding: 0;}#sk-container-id-2 div.sk-toggleable {background-color: white;}#sk-container-id-2 label.sk-toggleable__label {cursor: pointer;display: block;width: 100%;margin-bottom: 0;padding: 0.3em;box-sizing: border-box;text-align: center;}#sk-container-id-2 label.sk-toggleable__label-arrow:before {content: \"▸\";float: left;margin-right: 0.25em;color: #696969;}#sk-container-id-2 label.sk-toggleable__label-arrow:hover:before {color: black;}#sk-container-id-2 div.sk-estimator:hover label.sk-toggleable__label-arrow:before {color: black;}#sk-container-id-2 div.sk-toggleable__content {max-height: 0;max-width: 0;overflow: hidden;text-align: left;background-color: #f0f8ff;}#sk-container-id-2 div.sk-toggleable__content pre {margin: 0.2em;color: black;border-radius: 0.25em;background-color: #f0f8ff;}#sk-container-id-2 input.sk-toggleable__control:checked~div.sk-toggleable__content {max-height: 200px;max-width: 100%;overflow: auto;}#sk-container-id-2 input.sk-toggleable__control:checked~label.sk-toggleable__label-arrow:before {content: \"▾\";}#sk-container-id-2 div.sk-estimator input.sk-toggleable__control:checked~label.sk-toggleable__label {background-color: #d4ebff;}#sk-container-id-2 div.sk-label input.sk-toggleable__control:checked~label.sk-toggleable__label {background-color: #d4ebff;}#sk-container-id-2 input.sk-hidden--visually {border: 0;clip: rect(1px 1px 1px 1px);clip: rect(1px, 1px, 1px, 1px);height: 1px;margin: -1px;overflow: hidden;padding: 0;position: absolute;width: 1px;}#sk-container-id-2 div.sk-estimator {font-family: monospace;background-color: #f0f8ff;border: 1px dotted black;border-radius: 0.25em;box-sizing: border-box;margin-bottom: 0.5em;}#sk-container-id-2 div.sk-estimator:hover {background-color: #d4ebff;}#sk-container-id-2 div.sk-parallel-item::after {content: \"\";width: 100%;border-bottom: 1px solid gray;flex-grow: 1;}#sk-container-id-2 div.sk-label:hover label.sk-toggleable__label {background-color: #d4ebff;}#sk-container-id-2 div.sk-serial::before {content: \"\";position: absolute;border-left: 1px solid gray;box-sizing: border-box;top: 0;bottom: 0;left: 50%;z-index: 0;}#sk-container-id-2 div.sk-serial {display: flex;flex-direction: column;align-items: center;background-color: white;padding-right: 0.2em;padding-left: 0.2em;position: relative;}#sk-container-id-2 div.sk-item {position: relative;z-index: 1;}#sk-container-id-2 div.sk-parallel {display: flex;align-items: stretch;justify-content: center;background-color: white;position: relative;}#sk-container-id-2 div.sk-item::before, #sk-container-id-2 div.sk-parallel-item::before {content: \"\";position: absolute;border-left: 1px solid gray;box-sizing: border-box;top: 0;bottom: 0;left: 50%;z-index: -1;}#sk-container-id-2 div.sk-parallel-item {display: flex;flex-direction: column;z-index: 1;position: relative;background-color: white;}#sk-container-id-2 div.sk-parallel-item:first-child::after {align-self: flex-end;width: 50%;}#sk-container-id-2 div.sk-parallel-item:last-child::after {align-self: flex-start;width: 50%;}#sk-container-id-2 div.sk-parallel-item:only-child::after {width: 0;}#sk-container-id-2 div.sk-dashed-wrapped {border: 1px dashed gray;margin: 0 0.4em 0.5em 0.4em;box-sizing: border-box;padding-bottom: 0.4em;background-color: white;}#sk-container-id-2 div.sk-label label {font-family: monospace;font-weight: bold;display: inline-block;line-height: 1.2em;}#sk-container-id-2 div.sk-label-container {text-align: center;}#sk-container-id-2 div.sk-container {/* jupyter's `normalize.less` sets `[hidden] { display: none; }` but bootstrap.min.css set `[hidden] { display: none !important; }` so we also need the `!important` here to be able to override the default hidden behavior on the sphinx rendered scikit-learn.org. See: https://github.com/scikit-learn/scikit-learn/issues/21755 */display: inline-block !important;position: relative;}#sk-container-id-2 div.sk-text-repr-fallback {display: none;}</style><div id=\"sk-container-id-2\" class=\"sk-top-container\"><div class=\"sk-text-repr-fallback\"><pre>RandomForestClassifier(max_depth=15, max_features=&#x27;log2&#x27;, min_samples_leaf=2,\n",
       "                       min_samples_split=100, n_estimators=500)</pre><b>In a Jupyter environment, please rerun this cell to show the HTML representation or trust the notebook. <br />On GitHub, the HTML representation is unable to render, please try loading this page with nbviewer.org.</b></div><div class=\"sk-container\" hidden><div class=\"sk-item\"><div class=\"sk-estimator sk-toggleable\"><input class=\"sk-toggleable__control sk-hidden--visually\" id=\"sk-estimator-id-2\" type=\"checkbox\" checked><label for=\"sk-estimator-id-2\" class=\"sk-toggleable__label sk-toggleable__label-arrow\">RandomForestClassifier</label><div class=\"sk-toggleable__content\"><pre>RandomForestClassifier(max_depth=15, max_features=&#x27;log2&#x27;, min_samples_leaf=2,\n",
       "                       min_samples_split=100, n_estimators=500)</pre></div></div></div></div></div>"
      ],
      "text/plain": [
       "RandomForestClassifier(max_depth=15, max_features='log2', min_samples_leaf=2,\n",
       "                       min_samples_split=100, n_estimators=500)"
      ]
     },
     "execution_count": 22,
     "metadata": {},
     "output_type": "execute_result"
    }
   ],
   "source": [
    "best_model_randomFlorest = RandomForestClassifier(**bayesSearch.best_params_)\n",
    "best_model_randomFlorest.fit(x_train,y_train)"
   ]
  },
  {
   "cell_type": "code",
   "execution_count": 23,
   "id": "4a4247c8-8d34-45c0-9fc0-d00975292b79",
   "metadata": {},
   "outputs": [
    {
     "name": "stdout",
     "output_type": "stream",
     "text": [
      "model name:  RandomForestClassifier\n",
      "Array: \n",
      "--------> recall : [ [0.9504644  0.953125   0.92901235 0.934375   0.93710692] ]\n",
      "\n",
      "recall : 0.941 std : 0.009\n",
      "Intervalo :  [92.21% ~ 95.96%]\n",
      "\n",
      "------------------------------\n",
      "Array: \n",
      "--------> accuracy : [ [0.9367284  0.9382716  0.9367284  0.93055556 0.93209877] ]\n",
      "\n",
      "accuracy : 0.935 std : 0.003\n",
      "Intervalo :  [92.89% ~ 94.09%]\n",
      "\n",
      "------------------------------\n",
      "Array: \n",
      "--------> f1 : [ [0.94027565 0.9382716  0.9366306  0.93249608 0.92621664] ]\n",
      "\n",
      "f1 : 0.935 std : 0.005\n",
      "Intervalo :  [92.48% ~ 94.48%]\n",
      "\n",
      "------------------------------\n"
     ]
    },
    {
     "data": {
      "text/html": [
       "<div>\n",
       "<style scoped>\n",
       "    .dataframe tbody tr th:only-of-type {\n",
       "        vertical-align: middle;\n",
       "    }\n",
       "\n",
       "    .dataframe tbody tr th {\n",
       "        vertical-align: top;\n",
       "    }\n",
       "\n",
       "    .dataframe thead th {\n",
       "        text-align: right;\n",
       "    }\n",
       "</style>\n",
       "<table border=\"1\" class=\"dataframe\">\n",
       "  <thead>\n",
       "    <tr style=\"text-align: right;\">\n",
       "      <th></th>\n",
       "      <th>recall</th>\n",
       "      <th>f1</th>\n",
       "      <th>accuracy</th>\n",
       "      <th>std_acc</th>\n",
       "      <th>std_recall</th>\n",
       "      <th>std_f1</th>\n",
       "    </tr>\n",
       "  </thead>\n",
       "  <tbody>\n",
       "    <tr>\n",
       "      <th>RandomForestClassifier</th>\n",
       "      <td>0.941</td>\n",
       "      <td>0.935</td>\n",
       "      <td>0.935</td>\n",
       "      <td>0.003</td>\n",
       "      <td>0.009</td>\n",
       "      <td>0.005</td>\n",
       "    </tr>\n",
       "  </tbody>\n",
       "</table>\n",
       "</div>"
      ],
      "text/plain": [
       "                        recall     f1  accuracy  std_acc  std_recall  std_f1\n",
       "RandomForestClassifier   0.941  0.935     0.935    0.003       0.009   0.005"
      ]
     },
     "metadata": {},
     "output_type": "display_data"
    }
   ],
   "source": [
    "df_result = cross_score(x_test,y_test,best_model_randomFlorest,best_model_randomFlorest.__class__.__name__,scorer)\n",
    "display(df_result)"
   ]
  },
  {
   "cell_type": "code",
   "execution_count": 24,
   "id": "0ee9071e-4ae0-4f0e-8796-6ddc91e14b97",
   "metadata": {},
   "outputs": [
    {
     "data": {
      "text/html": [
       "<div>\n",
       "<style scoped>\n",
       "    .dataframe tbody tr th:only-of-type {\n",
       "        vertical-align: middle;\n",
       "    }\n",
       "\n",
       "    .dataframe tbody tr th {\n",
       "        vertical-align: top;\n",
       "    }\n",
       "\n",
       "    .dataframe thead th {\n",
       "        text-align: right;\n",
       "    }\n",
       "</style>\n",
       "<table border=\"1\" class=\"dataframe\">\n",
       "  <thead>\n",
       "    <tr style=\"text-align: right;\">\n",
       "      <th></th>\n",
       "      <th>recall</th>\n",
       "      <th>f1</th>\n",
       "      <th>accuracy</th>\n",
       "      <th>std_acc</th>\n",
       "      <th>std_recall</th>\n",
       "      <th>std_f1</th>\n",
       "    </tr>\n",
       "  </thead>\n",
       "  <tbody>\n",
       "    <tr>\n",
       "      <th>RandomForestClassifier</th>\n",
       "      <td>0.943</td>\n",
       "      <td>0.94</td>\n",
       "      <td>0.937</td>\n",
       "      <td>0.004</td>\n",
       "      <td>0.008</td>\n",
       "      <td>0.007</td>\n",
       "    </tr>\n",
       "  </tbody>\n",
       "</table>\n",
       "</div>"
      ],
      "text/plain": [
       "                        recall    f1  accuracy  std_acc  std_recall  std_f1\n",
       "RandomForestClassifier   0.943  0.94     0.937    0.004       0.008   0.007"
      ]
     },
     "metadata": {},
     "output_type": "display_data"
    }
   ],
   "source": [
    "display(resultado.head(1))"
   ]
  },
  {
   "cell_type": "code",
   "execution_count": 25,
   "id": "ce0fc521-f053-40d0-99f9-11c709123712",
   "metadata": {},
   "outputs": [
    {
     "name": "stdout",
     "output_type": "stream",
     "text": [
      "Acuracia : 93.889%\n",
      "F1_score: 93.911%\n",
      "Precison: 92.968%\n",
      "Recall: 94.874%\n",
      "--------------------\n",
      "Classification Report\n",
      "              precision    recall  f1-score   support\n",
      "\n",
      "        FAKE       0.95      0.93      0.94      1087\n",
      "        TRUE       0.93      0.95      0.94      1073\n",
      "\n",
      "    accuracy                           0.94      2160\n",
      "   macro avg       0.94      0.94      0.94      2160\n",
      "weighted avg       0.94      0.94      0.94      2160\n",
      "\n",
      "--------------------\n",
      "Plot curva roc\n",
      "ROC AUC=0.984\n"
     ]
    },
    {
     "data": {
      "image/png": "[encoded data removed]",
      "text/plain": [
       "<Figure size 432x288 with 1 Axes>"
      ]
     },
     "metadata": {
      "needs_background": "light"
     },
     "output_type": "display_data"
    }
   ],
   "source": [
    "y_pred = best_model_randomFlorest.predict(x_test)\n",
    "probs =  best_model_randomFlorest.predict_proba(x_test)\n",
    "build_score(y_pred,y_test,probs)"
   ]
  },
  {
   "cell_type": "markdown",
   "id": "235be284-0fd5-4e4e-957f-e6cf31ce49b7",
   "metadata": {},
   "source": [
    "## With stopWords"
   ]
  },
  {
   "cell_type": "code",
   "execution_count": 26,
   "id": "c4b5fbf3-d429-4e58-9b43-56f1e460b8f8",
   "metadata": {},
   "outputs": [],
   "source": [
    "lemma = pd.read_csv(path+\"with_stopWords_lemma.csv\")\n",
    "stemma = pd.read_csv(path+\"with_stopWords_stemma.csv\")"
   ]
  },
  {
   "cell_type": "markdown",
   "id": "a89405e2-7fd0-4536-82d4-95099fa1dad4",
   "metadata": {},
   "source": [
    "### Lemma"
   ]
  },
  {
   "cell_type": "code",
   "execution_count": 27,
   "id": "d779c2cd-042f-4ac2-b2d2-6379678ef1b1",
   "metadata": {},
   "outputs": [],
   "source": [
    " x_train,x_test,y_train,y_test= make_data_for_machine_learning_tfidf(lemma,\"text\",\"label\")"
   ]
  },
  {
   "cell_type": "code",
   "execution_count": 28,
   "id": "e44c4fa8-ffd0-45a1-bb5e-202746ce94c2",
   "metadata": {},
   "outputs": [
    {
     "name": "stdout",
     "output_type": "stream",
     "text": [
      "treino _ x: (5040, 50)\n",
      "treino _ y : (5040,)\n",
      "test _ x : (2160, 50)\n",
      "test _ y: (2160,)\n"
     ]
    }
   ],
   "source": [
    "print(\"treino _ x: {}\".format(x_train.shape))\n",
    "print(\"treino _ y : {}\".format(y_train.shape))\n",
    "print(\"test _ x : {}\".format(x_test.shape))\n",
    "print(\"test _ y: {}\".format(y_test.shape)) "
   ]
  },
  {
   "cell_type": "code",
   "execution_count": 29,
   "id": "fbe78bb0-763d-4743-918a-ebbee241a869",
   "metadata": {},
   "outputs": [],
   "source": [
    "le = LabelEncoder()\n",
    "y_train = le.fit_transform(y_train)\n",
    "y_test = le.fit_transform(y_test)"
   ]
  },
  {
   "cell_type": "markdown",
   "id": "b33bb468-7446-4a79-9c9c-1336697e7c65",
   "metadata": {},
   "source": [
    "#### Carregando os modelos"
   ]
  },
  {
   "cell_type": "code",
   "execution_count": 30,
   "id": "560be52d-ad78-4a8a-a30e-27251786c7a2",
   "metadata": {},
   "outputs": [],
   "source": [
    "random_florest = RandomForestClassifier()\n",
    "reg_logistic = LogisticRegression()\n",
    "xgb = XGBClassifier()\n",
    "tree = DecisionTreeClassifier()\n",
    "ada = AdaBoostClassifier()\n",
    "gbm = GradientBoostingClassifier()\n",
    "gnb = GaussianNB()\n",
    "\n",
    "models = [random_florest,reg_logistic,xgb,tree,ada,gbm,gnb]"
   ]
  },
  {
   "cell_type": "code",
   "execution_count": 31,
   "id": "588fbab3-4164-49bd-bc18-3569e71bea0b",
   "metadata": {},
   "outputs": [
    {
     "name": "stdout",
     "output_type": "stream",
     "text": [
      "model name:  RandomForestClassifier\n",
      "Array: \n",
      "--------> recall : [ [0.94827586 0.93625498 0.95172414 0.94041451 0.95605859] ]\n",
      "\n",
      "recall : 0.947 std : 0.007\n",
      "Intervalo :  [93.20% ~ 96.11%]\n",
      "\n",
      "------------------------------\n",
      "Array: \n",
      "--------> accuracy : [ [0.93915344 0.94444444 0.95304233 0.95171958 0.94775132] ]\n",
      "\n",
      "accuracy : 0.947 std : 0.005\n",
      "Intervalo :  [93.71% ~ 95.73%]\n",
      "\n",
      "------------------------------\n",
      "Array: \n",
      "--------> f1 : [ [0.93853272 0.94623656 0.95034483 0.95225638 0.94848085] ]\n",
      "\n",
      "f1 : 0.947 std : 0.005\n",
      "Intervalo :  [93.77% ~ 95.67%]\n",
      "\n",
      "------------------------------\n",
      "model name:  LogisticRegression\n",
      "Array: \n",
      "--------> recall : [ [0.93236074 0.94953519 0.94344828 0.93134715 0.94407457] ]\n",
      "\n",
      "recall : 0.94 std : 0.007\n",
      "Intervalo :  [92.59% ~ 95.44%]\n",
      "\n",
      "------------------------------\n",
      "Array: \n",
      "--------> accuracy : [ [0.88227513 0.89351852 0.87566138 0.89285714 0.87698413] ]\n",
      "\n",
      "accuracy : 0.884 std : 0.008\n",
      "Intervalo :  [86.90% ~ 89.95%]\n",
      "\n",
      "------------------------------\n",
      "Array: \n",
      "--------> f1 : [ [0.88762626 0.89880578 0.87917738 0.89875    0.8840399 ] ]\n",
      "\n",
      "f1 : 0.89 std : 0.008\n",
      "Intervalo :  [87.39% ~ 90.55%]\n",
      "\n",
      "------------------------------\n",
      "model name:  XGBClassifier\n",
      "Array: \n",
      "--------> recall : [ [0.94429708 0.94820717 0.95724138 0.95466321 0.95739015] ]\n",
      "\n",
      "recall : 0.952 std : 0.005\n",
      "Intervalo :  [94.19% ~ 96.28%]\n",
      "\n",
      "------------------------------\n",
      "Array: \n",
      "--------> accuracy : [ [0.94444444 0.95767196 0.95304233 0.95502646 0.94708995] ]\n",
      "\n",
      "accuracy : 0.951 std : 0.005\n",
      "Intervalo :  [94.16% ~ 96.13%]\n",
      "\n",
      "------------------------------\n",
      "Array: \n",
      "--------> f1 : [ [0.94429708 0.95710456 0.95133653 0.95590143 0.94729908] ]\n",
      "\n",
      "f1 : 0.951 std : 0.005\n",
      "Intervalo :  [94.14% ~ 96.10%]\n",
      "\n",
      "------------------------------\n",
      "model name:  DecisionTreeClassifier\n",
      "Array: \n",
      "--------> recall : [ [0.90450928 0.8685259  0.90896552 0.88471503 0.90679095] ]\n",
      "\n",
      "recall : 0.895 std : 0.016\n",
      "Intervalo :  [86.33% ~ 92.61%]\n",
      "\n",
      "------------------------------\n",
      "Array: \n",
      "--------> accuracy : [ [0.88690476 0.89748677 0.89616402 0.89550265 0.88558201] ]\n",
      "\n",
      "accuracy : 0.892 std : 0.005\n",
      "Intervalo :  [88.23% ~ 90.24%]\n",
      "\n",
      "------------------------------\n",
      "Array: \n",
      "--------> f1 : [ [0.88446215 0.89683075 0.89161554 0.89618922 0.89511401] ]\n",
      "\n",
      "f1 : 0.893 std : 0.005\n",
      "Intervalo :  [88.37% ~ 90.20%]\n",
      "\n",
      "------------------------------\n",
      "model name:  AdaBoostClassifier\n",
      "Array: \n",
      "--------> recall : [ [0.94297082 0.92695883 0.94206897 0.9261658  0.9334221 ] ]\n",
      "\n",
      "recall : 0.934 std : 0.007\n",
      "Intervalo :  [92.00% ~ 94.86%]\n",
      "\n",
      "------------------------------\n",
      "Array: \n",
      "--------> accuracy : [ [0.94378307 0.93584656 0.94775132 0.93981481 0.93187831] ]\n",
      "\n",
      "accuracy : 0.94 std : 0.006\n",
      "Intervalo :  [92.86% ~ 95.10%]\n",
      "\n",
      "------------------------------\n",
      "Array: \n",
      "--------> f1 : [ [0.94359655 0.93503014 0.94532872 0.94017094 0.93156146] ]\n",
      "\n",
      "f1 : 0.939 std : 0.005\n",
      "Intervalo :  [92.88% ~ 94.95%]\n",
      "\n",
      "------------------------------\n",
      "model name:  GradientBoostingClassifier\n",
      "Array: \n",
      "--------> recall : [ [0.9535809  0.937583   0.95724138 0.94689119 0.95073236] ]\n",
      "\n",
      "recall : 0.949 std : 0.007\n",
      "Intervalo :  [93.57% ~ 96.27%]\n",
      "\n",
      "------------------------------\n",
      "Array: \n",
      "--------> accuracy : [ [0.94708995 0.95171958 0.9510582  0.95304233 0.94973545] ]\n",
      "\n",
      "accuracy : 0.951 std : 0.002\n",
      "Intervalo :  [94.65% ~ 95.46%]\n",
      "\n",
      "------------------------------\n",
      "Array: \n",
      "--------> f1 : [ [0.94729908 0.95084175 0.9493844  0.95306389 0.94946809] ]\n",
      "\n",
      "f1 : 0.95 std : 0.002\n",
      "Intervalo :  [94.62% ~ 95.38%]\n",
      "\n",
      "------------------------------\n",
      "model name:  GaussianNB\n",
      "Array: \n",
      "--------> recall : [ [0.8938992  0.88844622 0.88965517 0.87564767 0.90545939] ]\n",
      "\n",
      "recall : 0.891 std : 0.01\n",
      "Intervalo :  [87.14% ~ 90.98%]\n",
      "\n",
      "------------------------------\n",
      "Array: \n",
      "--------> accuracy : [ [0.85714286 0.85714286 0.83333333 0.8452381  0.84589947] ]\n",
      "\n",
      "accuracy : 0.848 std : 0.009\n",
      "Intervalo :  [83.00% ~ 86.55%]\n",
      "\n",
      "------------------------------\n",
      "Array: \n",
      "--------> f1 : [ [0.86189258 0.86100386 0.83657588 0.85245902 0.85373509] ]\n",
      "\n",
      "f1 : 0.853 std : 0.009\n",
      "Intervalo :  [83.49% ~ 87.13%]\n",
      "\n",
      "------------------------------\n"
     ]
    }
   ],
   "source": [
    "result=[]\n",
    "for model in models:\n",
    "    aux = cross_score(x_train,y_train,model,model.__class__.__name__,scorer)\n",
    "    result.append(aux)"
   ]
  },
  {
   "cell_type": "code",
   "execution_count": 32,
   "id": "6da66a42-cda8-4da9-b663-563ecf5f25d9",
   "metadata": {},
   "outputs": [
    {
     "data": {
      "text/html": [
       "<div>\n",
       "<style scoped>\n",
       "    .dataframe tbody tr th:only-of-type {\n",
       "        vertical-align: middle;\n",
       "    }\n",
       "\n",
       "    .dataframe tbody tr th {\n",
       "        vertical-align: top;\n",
       "    }\n",
       "\n",
       "    .dataframe thead th {\n",
       "        text-align: right;\n",
       "    }\n",
       "</style>\n",
       "<table border=\"1\" class=\"dataframe\">\n",
       "  <thead>\n",
       "    <tr style=\"text-align: right;\">\n",
       "      <th></th>\n",
       "      <th>recall</th>\n",
       "      <th>f1</th>\n",
       "      <th>accuracy</th>\n",
       "      <th>std_acc</th>\n",
       "      <th>std_recall</th>\n",
       "      <th>std_f1</th>\n",
       "    </tr>\n",
       "  </thead>\n",
       "  <tbody>\n",
       "    <tr>\n",
       "      <th>RandomForestClassifier</th>\n",
       "      <td>0.947</td>\n",
       "      <td>0.947</td>\n",
       "      <td>0.947</td>\n",
       "      <td>0.005</td>\n",
       "      <td>0.007</td>\n",
       "      <td>0.005</td>\n",
       "    </tr>\n",
       "    <tr>\n",
       "      <th>LogisticRegression</th>\n",
       "      <td>0.940</td>\n",
       "      <td>0.890</td>\n",
       "      <td>0.884</td>\n",
       "      <td>0.008</td>\n",
       "      <td>0.007</td>\n",
       "      <td>0.008</td>\n",
       "    </tr>\n",
       "    <tr>\n",
       "      <th>XGBClassifier</th>\n",
       "      <td>0.952</td>\n",
       "      <td>0.951</td>\n",
       "      <td>0.951</td>\n",
       "      <td>0.005</td>\n",
       "      <td>0.005</td>\n",
       "      <td>0.005</td>\n",
       "    </tr>\n",
       "    <tr>\n",
       "      <th>DecisionTreeClassifier</th>\n",
       "      <td>0.895</td>\n",
       "      <td>0.893</td>\n",
       "      <td>0.892</td>\n",
       "      <td>0.005</td>\n",
       "      <td>0.016</td>\n",
       "      <td>0.005</td>\n",
       "    </tr>\n",
       "    <tr>\n",
       "      <th>AdaBoostClassifier</th>\n",
       "      <td>0.934</td>\n",
       "      <td>0.939</td>\n",
       "      <td>0.940</td>\n",
       "      <td>0.006</td>\n",
       "      <td>0.007</td>\n",
       "      <td>0.005</td>\n",
       "    </tr>\n",
       "    <tr>\n",
       "      <th>GradientBoostingClassifier</th>\n",
       "      <td>0.949</td>\n",
       "      <td>0.950</td>\n",
       "      <td>0.951</td>\n",
       "      <td>0.002</td>\n",
       "      <td>0.007</td>\n",
       "      <td>0.002</td>\n",
       "    </tr>\n",
       "    <tr>\n",
       "      <th>GaussianNB</th>\n",
       "      <td>0.891</td>\n",
       "      <td>0.853</td>\n",
       "      <td>0.848</td>\n",
       "      <td>0.009</td>\n",
       "      <td>0.010</td>\n",
       "      <td>0.009</td>\n",
       "    </tr>\n",
       "  </tbody>\n",
       "</table>\n",
       "</div>"
      ],
      "text/plain": [
       "                            recall     f1  accuracy  std_acc  std_recall  \\\n",
       "RandomForestClassifier       0.947  0.947     0.947    0.005       0.007   \n",
       "LogisticRegression           0.940  0.890     0.884    0.008       0.007   \n",
       "XGBClassifier                0.952  0.951     0.951    0.005       0.005   \n",
       "DecisionTreeClassifier       0.895  0.893     0.892    0.005       0.016   \n",
       "AdaBoostClassifier           0.934  0.939     0.940    0.006       0.007   \n",
       "GradientBoostingClassifier   0.949  0.950     0.951    0.002       0.007   \n",
       "GaussianNB                   0.891  0.853     0.848    0.009       0.010   \n",
       "\n",
       "                            std_f1  \n",
       "RandomForestClassifier       0.005  \n",
       "LogisticRegression           0.008  \n",
       "XGBClassifier                0.005  \n",
       "DecisionTreeClassifier       0.005  \n",
       "AdaBoostClassifier           0.005  \n",
       "GradientBoostingClassifier   0.002  \n",
       "GaussianNB                   0.009  "
      ]
     },
     "execution_count": 32,
     "metadata": {},
     "output_type": "execute_result"
    }
   ],
   "source": [
    "resultado = pd.concat(result)\n",
    "resultado"
   ]
  },
  {
   "cell_type": "markdown",
   "id": "6404a901-5955-4857-99e6-2e60cb89364d",
   "metadata": {},
   "source": [
    "Nesse caso vamos usar : \n",
    "* Random Forest classifier\n",
    "* XgbClassifier\n",
    "* Gradient Boosting Classifier"
   ]
  },
  {
   "cell_type": "code",
   "execution_count": 34,
   "id": "563c5168-48c1-4c50-a371-73636baa6fa3",
   "metadata": {},
   "outputs": [
    {
     "data": {
      "text/html": [
       "<style>#sk-container-id-3 {color: black;background-color: white;}#sk-container-id-3 pre{padding: 0;}#sk-container-id-3 div.sk-toggleable {background-color: white;}#sk-container-id-3 label.sk-toggleable__label {cursor: pointer;display: block;width: 100%;margin-bottom: 0;padding: 0.3em;box-sizing: border-box;text-align: center;}#sk-container-id-3 label.sk-toggleable__label-arrow:before {content: \"▸\";float: left;margin-right: 0.25em;color: #696969;}#sk-container-id-3 label.sk-toggleable__label-arrow:hover:before {color: black;}#sk-container-id-3 div.sk-estimator:hover label.sk-toggleable__label-arrow:before {color: black;}#sk-container-id-3 div.sk-toggleable__content {max-height: 0;max-width: 0;overflow: hidden;text-align: left;background-color: #f0f8ff;}#sk-container-id-3 div.sk-toggleable__content pre {margin: 0.2em;color: black;border-radius: 0.25em;background-color: #f0f8ff;}#sk-container-id-3 input.sk-toggleable__control:checked~div.sk-toggleable__content {max-height: 200px;max-width: 100%;overflow: auto;}#sk-container-id-3 input.sk-toggleable__control:checked~label.sk-toggleable__label-arrow:before {content: \"▾\";}#sk-container-id-3 div.sk-estimator input.sk-toggleable__control:checked~label.sk-toggleable__label {background-color: #d4ebff;}#sk-container-id-3 div.sk-label input.sk-toggleable__control:checked~label.sk-toggleable__label {background-color: #d4ebff;}#sk-container-id-3 input.sk-hidden--visually {border: 0;clip: rect(1px 1px 1px 1px);clip: rect(1px, 1px, 1px, 1px);height: 1px;margin: -1px;overflow: hidden;padding: 0;position: absolute;width: 1px;}#sk-container-id-3 div.sk-estimator {font-family: monospace;background-color: #f0f8ff;border: 1px dotted black;border-radius: 0.25em;box-sizing: border-box;margin-bottom: 0.5em;}#sk-container-id-3 div.sk-estimator:hover {background-color: #d4ebff;}#sk-container-id-3 div.sk-parallel-item::after {content: \"\";width: 100%;border-bottom: 1px solid gray;flex-grow: 1;}#sk-container-id-3 div.sk-label:hover label.sk-toggleable__label {background-color: #d4ebff;}#sk-container-id-3 div.sk-serial::before {content: \"\";position: absolute;border-left: 1px solid gray;box-sizing: border-box;top: 0;bottom: 0;left: 50%;z-index: 0;}#sk-container-id-3 div.sk-serial {display: flex;flex-direction: column;align-items: center;background-color: white;padding-right: 0.2em;padding-left: 0.2em;position: relative;}#sk-container-id-3 div.sk-item {position: relative;z-index: 1;}#sk-container-id-3 div.sk-parallel {display: flex;align-items: stretch;justify-content: center;background-color: white;position: relative;}#sk-container-id-3 div.sk-item::before, #sk-container-id-3 div.sk-parallel-item::before {content: \"\";position: absolute;border-left: 1px solid gray;box-sizing: border-box;top: 0;bottom: 0;left: 50%;z-index: -1;}#sk-container-id-3 div.sk-parallel-item {display: flex;flex-direction: column;z-index: 1;position: relative;background-color: white;}#sk-container-id-3 div.sk-parallel-item:first-child::after {align-self: flex-end;width: 50%;}#sk-container-id-3 div.sk-parallel-item:last-child::after {align-self: flex-start;width: 50%;}#sk-container-id-3 div.sk-parallel-item:only-child::after {width: 0;}#sk-container-id-3 div.sk-dashed-wrapped {border: 1px dashed gray;margin: 0 0.4em 0.5em 0.4em;box-sizing: border-box;padding-bottom: 0.4em;background-color: white;}#sk-container-id-3 div.sk-label label {font-family: monospace;font-weight: bold;display: inline-block;line-height: 1.2em;}#sk-container-id-3 div.sk-label-container {text-align: center;}#sk-container-id-3 div.sk-container {/* jupyter's `normalize.less` sets `[hidden] { display: none; }` but bootstrap.min.css set `[hidden] { display: none !important; }` so we also need the `!important` here to be able to override the default hidden behavior on the sphinx rendered scikit-learn.org. See: https://github.com/scikit-learn/scikit-learn/issues/21755 */display: inline-block !important;position: relative;}#sk-container-id-3 div.sk-text-repr-fallback {display: none;}</style><div id=\"sk-container-id-3\" class=\"sk-top-container\"><div class=\"sk-text-repr-fallback\"><pre>GradientBoostingClassifier()</pre><b>In a Jupyter environment, please rerun this cell to show the HTML representation or trust the notebook. <br />On GitHub, the HTML representation is unable to render, please try loading this page with nbviewer.org.</b></div><div class=\"sk-container\" hidden><div class=\"sk-item\"><div class=\"sk-estimator sk-toggleable\"><input class=\"sk-toggleable__control sk-hidden--visually\" id=\"sk-estimator-id-3\" type=\"checkbox\" checked><label for=\"sk-estimator-id-3\" class=\"sk-toggleable__label sk-toggleable__label-arrow\">GradientBoostingClassifier</label><div class=\"sk-toggleable__content\"><pre>GradientBoostingClassifier()</pre></div></div></div></div></div>"
      ],
      "text/plain": [
       "GradientBoostingClassifier()"
      ]
     },
     "execution_count": 34,
     "metadata": {},
     "output_type": "execute_result"
    }
   ],
   "source": [
    "random_florest.fit(x_train,y_train)\n",
    "xgb.fit(x_train,y_train)\n",
    "gbm.fit(x_train,y_train)"
   ]
  },
  {
   "cell_type": "code",
   "execution_count": 35,
   "id": "d886a44b-07e4-4f2a-bf4d-b75efccdb293",
   "metadata": {},
   "outputs": [
    {
     "name": "stdout",
     "output_type": "stream",
     "text": [
      "model name:  RandomForestClassifier\n",
      "Array: \n",
      "--------> recall : [ [0.94827586 0.93492696 0.95310345 0.94430052 0.95206391] ]\n",
      "\n",
      "recall : 0.947 std : 0.007\n",
      "Intervalo :  [93.34% ~ 95.97%]\n",
      "\n",
      "------------------------------\n",
      "Array: \n",
      "--------> accuracy : [ [0.93915344 0.9484127  0.9537037  0.95039683 0.95238095] ]\n",
      "\n",
      "accuracy : 0.949 std : 0.005\n",
      "Intervalo :  [93.85% ~ 95.91%]\n",
      "\n",
      "------------------------------\n",
      "Array: \n",
      "--------> f1 : [ [0.94063325 0.9470864  0.95192308 0.95101241 0.95162359] ]\n",
      "\n",
      "f1 : 0.948 std : 0.004\n",
      "Intervalo :  [93.99% ~ 95.70%]\n",
      "\n",
      "------------------------------\n",
      "model name:  XGBClassifier\n",
      "Array: \n",
      "--------> recall : [ [0.94429708 0.94820717 0.95724138 0.95466321 0.95739015] ]\n",
      "\n",
      "recall : 0.952 std : 0.005\n",
      "Intervalo :  [94.19% ~ 96.28%]\n",
      "\n",
      "------------------------------\n",
      "Array: \n",
      "--------> accuracy : [ [0.94444444 0.95767196 0.95304233 0.95502646 0.94708995] ]\n",
      "\n",
      "accuracy : 0.951 std : 0.005\n",
      "Intervalo :  [94.16% ~ 96.13%]\n",
      "\n",
      "------------------------------\n",
      "Array: \n",
      "--------> f1 : [ [0.94429708 0.95710456 0.95133653 0.95590143 0.94729908] ]\n",
      "\n",
      "f1 : 0.951 std : 0.005\n",
      "Intervalo :  [94.14% ~ 96.10%]\n",
      "\n",
      "------------------------------\n",
      "model name:  GradientBoostingClassifier\n",
      "Array: \n",
      "--------> recall : [ [0.9535809  0.937583   0.95724138 0.94818653 0.95073236] ]\n",
      "\n",
      "recall : 0.949 std : 0.007\n",
      "Intervalo :  [93.61% ~ 96.28%]\n",
      "\n",
      "------------------------------\n",
      "Array: \n",
      "--------> accuracy : [ [0.94708995 0.95171958 0.9510582  0.95304233 0.94973545] ]\n",
      "\n",
      "accuracy : 0.951 std : 0.002\n",
      "Intervalo :  [94.65% ~ 95.46%]\n",
      "\n",
      "------------------------------\n",
      "Array: \n",
      "--------> f1 : [ [0.94729908 0.95084175 0.9493844  0.95306389 0.94946809] ]\n",
      "\n",
      "f1 : 0.95 std : 0.002\n",
      "Intervalo :  [94.62% ~ 95.38%]\n",
      "\n",
      "------------------------------\n"
     ]
    }
   ],
   "source": [
    "models = [random_florest,xgb,gbm]\n",
    "result=[]\n",
    "for model in models:\n",
    "    aux = cross_score(x_train,y_train,model,model.__class__.__name__,scorer)\n",
    "    result.append(aux)"
   ]
  },
  {
   "cell_type": "code",
   "execution_count": 36,
   "id": "dad1d893-1ac4-4b82-9e90-6f81eef79914",
   "metadata": {},
   "outputs": [
    {
     "data": {
      "text/html": [
       "<div>\n",
       "<style scoped>\n",
       "    .dataframe tbody tr th:only-of-type {\n",
       "        vertical-align: middle;\n",
       "    }\n",
       "\n",
       "    .dataframe tbody tr th {\n",
       "        vertical-align: top;\n",
       "    }\n",
       "\n",
       "    .dataframe thead th {\n",
       "        text-align: right;\n",
       "    }\n",
       "</style>\n",
       "<table border=\"1\" class=\"dataframe\">\n",
       "  <thead>\n",
       "    <tr style=\"text-align: right;\">\n",
       "      <th></th>\n",
       "      <th>recall</th>\n",
       "      <th>f1</th>\n",
       "      <th>accuracy</th>\n",
       "      <th>std_acc</th>\n",
       "      <th>std_recall</th>\n",
       "      <th>std_f1</th>\n",
       "    </tr>\n",
       "  </thead>\n",
       "  <tbody>\n",
       "    <tr>\n",
       "      <th>RandomForestClassifier</th>\n",
       "      <td>0.947</td>\n",
       "      <td>0.948</td>\n",
       "      <td>0.949</td>\n",
       "      <td>0.005</td>\n",
       "      <td>0.007</td>\n",
       "      <td>0.004</td>\n",
       "    </tr>\n",
       "    <tr>\n",
       "      <th>XGBClassifier</th>\n",
       "      <td>0.952</td>\n",
       "      <td>0.951</td>\n",
       "      <td>0.951</td>\n",
       "      <td>0.005</td>\n",
       "      <td>0.005</td>\n",
       "      <td>0.005</td>\n",
       "    </tr>\n",
       "    <tr>\n",
       "      <th>GradientBoostingClassifier</th>\n",
       "      <td>0.949</td>\n",
       "      <td>0.950</td>\n",
       "      <td>0.951</td>\n",
       "      <td>0.002</td>\n",
       "      <td>0.007</td>\n",
       "      <td>0.002</td>\n",
       "    </tr>\n",
       "  </tbody>\n",
       "</table>\n",
       "</div>"
      ],
      "text/plain": [
       "                            recall     f1  accuracy  std_acc  std_recall  \\\n",
       "RandomForestClassifier       0.947  0.948     0.949    0.005       0.007   \n",
       "XGBClassifier                0.952  0.951     0.951    0.005       0.005   \n",
       "GradientBoostingClassifier   0.949  0.950     0.951    0.002       0.007   \n",
       "\n",
       "                            std_f1  \n",
       "RandomForestClassifier       0.004  \n",
       "XGBClassifier                0.005  \n",
       "GradientBoostingClassifier   0.002  "
      ]
     },
     "execution_count": 36,
     "metadata": {},
     "output_type": "execute_result"
    }
   ],
   "source": [
    "resultado = pd.concat(result)\n",
    "resultado"
   ]
  },
  {
   "cell_type": "markdown",
   "id": "b786b935-9572-4d49-9049-762914f15543",
   "metadata": {},
   "source": [
    "Aquie vemos que o melhor modelo foi o XGBClassifier"
   ]
  },
  {
   "cell_type": "code",
   "execution_count": 42,
   "id": "3f7bc59f-8c0a-477d-b15f-bc2074a27883",
   "metadata": {},
   "outputs": [],
   "source": [
    "param = {\n",
    "        \"eta\": [0.01,0.015, 0.025, 0.05, 0.1],\n",
    "        \"gamma\": [0.05, 0.1 , 0.3, 0.5, 0.7, 0.9, 1.0],\n",
    "        \"max_depth\":[ 3, 5, 7, 9, 12, 15, 17, 25],\n",
    "        \"min_child_weight\":[ 1, 3, 5, 7],\n",
    "        \"subsample\":[0.6, 0.7, 0.8, 0.9, 1.0],\n",
    "        \"colsample_bytree\":[0.6, 0.7, 0.8, 0.9, 1.0],\n",
    "        \"alpha\":[0.1, 0.5, 1.0],\n",
    "        \"n_estimators\":[100,150,200,300,400,600,1500]\n",
    "}"
   ]
  },
  {
   "cell_type": "code",
   "execution_count": 45,
   "id": "194a4dbd-9b8f-4e57-bf08-0f18786e1b57",
   "metadata": {},
   "outputs": [
    {
     "name": "stdout",
     "output_type": "stream",
     "text": [
      "Melhor score : 0.9535714285714286\n",
      "CPU times: user 19min 10s, sys: 27.1 s, total: 19min 37s\n",
      "Wall time: 2min 33s\n"
     ]
    }
   ],
   "source": [
    "%%time\n",
    "bayesSearch = BayesSearchCV(\n",
    "    XGBClassifier(),\n",
    "    search_spaces=param,\n",
    "    n_iter=10,\n",
    "    cv=ShuffleSplit(n_splits=5, test_size=0.3, random_state=0)\n",
    ")\n",
    "bayesSearch.fit(x_train,y_train)\n",
    "print(\"Melhor score : {}\".format(bayesSearch.best_score_))"
   ]
  },
  {
   "cell_type": "code",
   "execution_count": 46,
   "id": "e0bc7fbe-3bc1-4290-9fac-6187c15126a4",
   "metadata": {},
   "outputs": [
    {
     "data": {
      "text/html": [
       "<style>#sk-container-id-5 {color: black;background-color: white;}#sk-container-id-5 pre{padding: 0;}#sk-container-id-5 div.sk-toggleable {background-color: white;}#sk-container-id-5 label.sk-toggleable__label {cursor: pointer;display: block;width: 100%;margin-bottom: 0;padding: 0.3em;box-sizing: border-box;text-align: center;}#sk-container-id-5 label.sk-toggleable__label-arrow:before {content: \"▸\";float: left;margin-right: 0.25em;color: #696969;}#sk-container-id-5 label.sk-toggleable__label-arrow:hover:before {color: black;}#sk-container-id-5 div.sk-estimator:hover label.sk-toggleable__label-arrow:before {color: black;}#sk-container-id-5 div.sk-toggleable__content {max-height: 0;max-width: 0;overflow: hidden;text-align: left;background-color: #f0f8ff;}#sk-container-id-5 div.sk-toggleable__content pre {margin: 0.2em;color: black;border-radius: 0.25em;background-color: #f0f8ff;}#sk-container-id-5 input.sk-toggleable__control:checked~div.sk-toggleable__content {max-height: 200px;max-width: 100%;overflow: auto;}#sk-container-id-5 input.sk-toggleable__control:checked~label.sk-toggleable__label-arrow:before {content: \"▾\";}#sk-container-id-5 div.sk-estimator input.sk-toggleable__control:checked~label.sk-toggleable__label {background-color: #d4ebff;}#sk-container-id-5 div.sk-label input.sk-toggleable__control:checked~label.sk-toggleable__label {background-color: #d4ebff;}#sk-container-id-5 input.sk-hidden--visually {border: 0;clip: rect(1px 1px 1px 1px);clip: rect(1px, 1px, 1px, 1px);height: 1px;margin: -1px;overflow: hidden;padding: 0;position: absolute;width: 1px;}#sk-container-id-5 div.sk-estimator {font-family: monospace;background-color: #f0f8ff;border: 1px dotted black;border-radius: 0.25em;box-sizing: border-box;margin-bottom: 0.5em;}#sk-container-id-5 div.sk-estimator:hover {background-color: #d4ebff;}#sk-container-id-5 div.sk-parallel-item::after {content: \"\";width: 100%;border-bottom: 1px solid gray;flex-grow: 1;}#sk-container-id-5 div.sk-label:hover label.sk-toggleable__label {background-color: #d4ebff;}#sk-container-id-5 div.sk-serial::before {content: \"\";position: absolute;border-left: 1px solid gray;box-sizing: border-box;top: 0;bottom: 0;left: 50%;z-index: 0;}#sk-container-id-5 div.sk-serial {display: flex;flex-direction: column;align-items: center;background-color: white;padding-right: 0.2em;padding-left: 0.2em;position: relative;}#sk-container-id-5 div.sk-item {position: relative;z-index: 1;}#sk-container-id-5 div.sk-parallel {display: flex;align-items: stretch;justify-content: center;background-color: white;position: relative;}#sk-container-id-5 div.sk-item::before, #sk-container-id-5 div.sk-parallel-item::before {content: \"\";position: absolute;border-left: 1px solid gray;box-sizing: border-box;top: 0;bottom: 0;left: 50%;z-index: -1;}#sk-container-id-5 div.sk-parallel-item {display: flex;flex-direction: column;z-index: 1;position: relative;background-color: white;}#sk-container-id-5 div.sk-parallel-item:first-child::after {align-self: flex-end;width: 50%;}#sk-container-id-5 div.sk-parallel-item:last-child::after {align-self: flex-start;width: 50%;}#sk-container-id-5 div.sk-parallel-item:only-child::after {width: 0;}#sk-container-id-5 div.sk-dashed-wrapped {border: 1px dashed gray;margin: 0 0.4em 0.5em 0.4em;box-sizing: border-box;padding-bottom: 0.4em;background-color: white;}#sk-container-id-5 div.sk-label label {font-family: monospace;font-weight: bold;display: inline-block;line-height: 1.2em;}#sk-container-id-5 div.sk-label-container {text-align: center;}#sk-container-id-5 div.sk-container {/* jupyter's `normalize.less` sets `[hidden] { display: none; }` but bootstrap.min.css set `[hidden] { display: none !important; }` so we also need the `!important` here to be able to override the default hidden behavior on the sphinx rendered scikit-learn.org. See: https://github.com/scikit-learn/scikit-learn/issues/21755 */display: inline-block !important;position: relative;}#sk-container-id-5 div.sk-text-repr-fallback {display: none;}</style><div id=\"sk-container-id-5\" class=\"sk-top-container\"><div class=\"sk-text-repr-fallback\"><pre>XGBClassifier(alpha=0.5, base_score=0.5, booster=&#x27;gbtree&#x27;, callbacks=None,\n",
       "              colsample_bylevel=1, colsample_bynode=1, colsample_bytree=0.8,\n",
       "              early_stopping_rounds=None, enable_categorical=False, eta=0.025,\n",
       "              eval_metric=None, gamma=0.3, gpu_id=-1, grow_policy=&#x27;depthwise&#x27;,\n",
       "              importance_type=None, interaction_constraints=&#x27;&#x27;,\n",
       "              learning_rate=0.0250000004, max_bin=256, max_cat_to_onehot=4,\n",
       "              max_delta_step=0, max_depth=17, max_leaves=0, min_child_weight=7,\n",
       "              missing=nan, monotone_constraints=&#x27;()&#x27;, n_estimators=1500,\n",
       "              n_jobs=0, num_parallel_tree=1, predictor=&#x27;auto&#x27;, random_state=0, ...)</pre><b>In a Jupyter environment, please rerun this cell to show the HTML representation or trust the notebook. <br />On GitHub, the HTML representation is unable to render, please try loading this page with nbviewer.org.</b></div><div class=\"sk-container\" hidden><div class=\"sk-item\"><div class=\"sk-estimator sk-toggleable\"><input class=\"sk-toggleable__control sk-hidden--visually\" id=\"sk-estimator-id-5\" type=\"checkbox\" checked><label for=\"sk-estimator-id-5\" class=\"sk-toggleable__label sk-toggleable__label-arrow\">XGBClassifier</label><div class=\"sk-toggleable__content\"><pre>XGBClassifier(alpha=0.5, base_score=0.5, booster=&#x27;gbtree&#x27;, callbacks=None,\n",
       "              colsample_bylevel=1, colsample_bynode=1, colsample_bytree=0.8,\n",
       "              early_stopping_rounds=None, enable_categorical=False, eta=0.025,\n",
       "              eval_metric=None, gamma=0.3, gpu_id=-1, grow_policy=&#x27;depthwise&#x27;,\n",
       "              importance_type=None, interaction_constraints=&#x27;&#x27;,\n",
       "              learning_rate=0.0250000004, max_bin=256, max_cat_to_onehot=4,\n",
       "              max_delta_step=0, max_depth=17, max_leaves=0, min_child_weight=7,\n",
       "              missing=nan, monotone_constraints=&#x27;()&#x27;, n_estimators=1500,\n",
       "              n_jobs=0, num_parallel_tree=1, predictor=&#x27;auto&#x27;, random_state=0, ...)</pre></div></div></div></div></div>"
      ],
      "text/plain": [
       "XGBClassifier(alpha=0.5, base_score=0.5, booster='gbtree', callbacks=None,\n",
       "              colsample_bylevel=1, colsample_bynode=1, colsample_bytree=0.8,\n",
       "              early_stopping_rounds=None, enable_categorical=False, eta=0.025,\n",
       "              eval_metric=None, gamma=0.3, gpu_id=-1, grow_policy='depthwise',\n",
       "              importance_type=None, interaction_constraints='',\n",
       "              learning_rate=0.0250000004, max_bin=256, max_cat_to_onehot=4,\n",
       "              max_delta_step=0, max_depth=17, max_leaves=0, min_child_weight=7,\n",
       "              missing=nan, monotone_constraints='()', n_estimators=1500,\n",
       "              n_jobs=0, num_parallel_tree=1, predictor='auto', random_state=0, ...)"
      ]
     },
     "execution_count": 46,
     "metadata": {},
     "output_type": "execute_result"
    }
   ],
   "source": [
    "best_model_xgb = XGBClassifier(**bayesSearch.best_params_)\n",
    "best_model_xgb.fit(x_train,y_train)"
   ]
  },
  {
   "cell_type": "code",
   "execution_count": 47,
   "id": "687eef84-05b5-4d94-8b7a-5dc2876ffab5",
   "metadata": {},
   "outputs": [
    {
     "name": "stdout",
     "output_type": "stream",
     "text": [
      "model name:  XGBClassifier\n",
      "Array: \n",
      "--------> recall : [ [0.94117647 0.940625   0.93518519 0.934375   0.9591195 ] ]\n",
      "\n",
      "recall : 0.942 std : 0.009\n",
      "Intervalo :  [92.42% ~ 96.00%]\n",
      "\n",
      "------------------------------\n",
      "Array: \n",
      "--------> accuracy : [ [0.94290123 0.94907407 0.94444444 0.94290123 0.95833333] ]\n",
      "\n",
      "accuracy : 0.948 std : 0.006\n",
      "Intervalo :  [93.58% ~ 95.92%]\n",
      "\n",
      "------------------------------\n",
      "Array: \n",
      "--------> f1 : [ [0.94263566 0.9480315  0.94392523 0.94173228 0.95761381] ]\n",
      "\n",
      "f1 : 0.947 std : 0.006\n",
      "Intervalo :  [93.51% ~ 95.84%]\n",
      "\n",
      "------------------------------\n"
     ]
    },
    {
     "data": {
      "text/html": [
       "<div>\n",
       "<style scoped>\n",
       "    .dataframe tbody tr th:only-of-type {\n",
       "        vertical-align: middle;\n",
       "    }\n",
       "\n",
       "    .dataframe tbody tr th {\n",
       "        vertical-align: top;\n",
       "    }\n",
       "\n",
       "    .dataframe thead th {\n",
       "        text-align: right;\n",
       "    }\n",
       "</style>\n",
       "<table border=\"1\" class=\"dataframe\">\n",
       "  <thead>\n",
       "    <tr style=\"text-align: right;\">\n",
       "      <th></th>\n",
       "      <th>recall</th>\n",
       "      <th>f1</th>\n",
       "      <th>accuracy</th>\n",
       "      <th>std_acc</th>\n",
       "      <th>std_recall</th>\n",
       "      <th>std_f1</th>\n",
       "    </tr>\n",
       "  </thead>\n",
       "  <tbody>\n",
       "    <tr>\n",
       "      <th>XGBClassifier</th>\n",
       "      <td>0.942</td>\n",
       "      <td>0.947</td>\n",
       "      <td>0.948</td>\n",
       "      <td>0.006</td>\n",
       "      <td>0.009</td>\n",
       "      <td>0.006</td>\n",
       "    </tr>\n",
       "  </tbody>\n",
       "</table>\n",
       "</div>"
      ],
      "text/plain": [
       "               recall     f1  accuracy  std_acc  std_recall  std_f1\n",
       "XGBClassifier   0.942  0.947     0.948    0.006       0.009   0.006"
      ]
     },
     "metadata": {},
     "output_type": "display_data"
    }
   ],
   "source": [
    "df_result = cross_score(x_test,y_test,best_model_xgb,best_model_xgb.__class__.__name__,scorer)\n",
    "display(df_result)"
   ]
  },
  {
   "cell_type": "code",
   "execution_count": 48,
   "id": "e76148bd-0a7c-414a-b542-8e829de1480c",
   "metadata": {},
   "outputs": [
    {
     "name": "stdout",
     "output_type": "stream",
     "text": [
      "Acuracia : 94.722%\n",
      "F1_score: 94.761%\n",
      "Precison: 93.472%\n",
      "Recall: 96.086%\n",
      "--------------------\n",
      "Classification Report\n",
      "              precision    recall  f1-score   support\n",
      "\n",
      "        FAKE       0.96      0.93      0.95      1087\n",
      "        TRUE       0.93      0.96      0.95      1073\n",
      "\n",
      "    accuracy                           0.95      2160\n",
      "   macro avg       0.95      0.95      0.95      2160\n",
      "weighted avg       0.95      0.95      0.95      2160\n",
      "\n",
      "--------------------\n",
      "Plot curva roc\n",
      "ROC AUC=0.990\n"
     ]
    },
    {
     "data": {
      "image/png": "[encoded data removed]",
      "text/plain": [
       "<Figure size 432x288 with 1 Axes>"
      ]
     },
     "metadata": {
      "needs_background": "light"
     },
     "output_type": "display_data"
    }
   ],
   "source": [
    "y_pred = best_model_xgb.predict(x_test)\n",
    "probs =  best_model_xgb.predict_proba(x_test)\n",
    "build_score(y_pred,y_test,probs)"
   ]
  },
  {
   "cell_type": "code",
   "execution_count": null,
   "id": "9f60ca7f-2466-4bea-9008-c3a519671ab0",
   "metadata": {},
   "outputs": [],
   "source": []
  },
  {
   "cell_type": "markdown",
   "id": "23b3914b-54c6-4723-af1b-5a80812d74cc",
   "metadata": {},
   "source": [
    "### Stemma"
   ]
  },
  {
   "cell_type": "code",
   "execution_count": null,
   "id": "51cb0818-ee77-4d76-a899-6fe1bc6199b7",
   "metadata": {},
   "outputs": [],
   "source": []
  },
  {
   "cell_type": "code",
   "execution_count": null,
   "id": "6f14e744-f304-4838-8b8c-3c2f98b87ba8",
   "metadata": {},
   "outputs": [],
   "source": []
  },
  {
   "cell_type": "code",
   "execution_count": null,
   "id": "9d37b6b4-29fc-46a1-b0ac-21ca43e5ca6b",
   "metadata": {},
   "outputs": [],
   "source": []
  }
 ],
 "metadata": {
  "kernelspec": {
   "display_name": "Python 3 (ipykernel)",
   "language": "python",
   "name": "python3"
  },
  "language_info": {
   "codemirror_mode": {
    "name": "ipython",
    "version": 3
   },
   "file_extension": ".py",
   "mimetype": "text/x-python",
   "name": "python",
   "nbconvert_exporter": "python",
   "pygments_lexer": "ipython3",
   "version": "3.8.10"
  }
 },
 "nbformat": 4,
 "nbformat_minor": 5
}
