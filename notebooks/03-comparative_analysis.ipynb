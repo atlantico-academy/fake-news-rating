{
 "cells": [
  {
   "cell_type": "code",
   "execution_count": 82,
   "id": "a8afd6c8-6bbf-4702-866f-f78c76ae80cc",
   "metadata": {},
   "outputs": [],
   "source": [
    "import pandas as pd\n",
    "import nltk\n",
    "from sklearn.feature_extraction.text import TfidfVectorizer\n",
    "from sklearn.model_selection import train_test_split, GridSearchCV,RandomizedSearchCV,cross_val_score,KFold,ShuffleSplit\n",
    "from sklearn.naive_bayes import GaussianNB\n",
    "from sklearn.tree import DecisionTreeClassifier\n",
    "from xgboost import XGBClassifier\n",
    "from sklearn.linear_model import LogisticRegression\n",
    "from sklearn.ensemble import RandomForestClassifier,AdaBoostClassifier,GradientBoostingClassifier\n",
    "from sklearn.metrics import f1_score, precision_score, recall_score, accuracy_score, classification_report,roc_auc_score,roc_curve\n",
    "from sklearn.preprocessing import LabelEncoder\n",
    "from sklearn.dummy import DummyClassifier\n",
    "from skopt import BayesSearchCV\n",
    "from matplotlib import pyplot as plt"
   ]
  },
  {
   "cell_type": "code",
   "execution_count": 26,
   "id": "edc75079-0452-4c7c-89f9-fc4ec2fca6f5",
   "metadata": {},
   "outputs": [],
   "source": [
    "path = \"../data/interim/\""
   ]
  },
  {
   "cell_type": "code",
   "execution_count": 45,
   "id": "e92b8bf2-b051-464e-ade8-da88533ea448",
   "metadata": {},
   "outputs": [],
   "source": [
    "scorer = [\"recall\",\"accuracy\",\"f1\"]\n",
    "def cross_score(data_X,data_Y,estimator,estimator_name,score=[]):\n",
    "    recall = []\n",
    "    acc  = []\n",
    "    f1 = []\n",
    "    std_acc=[]\n",
    "    std_recall=[]\n",
    "    std_f1=[]\n",
    "    print(\"model name: \",estimator_name)\n",
    "    for sc in score:\n",
    "        cv = cross_val_score(estimator,data_X,data_Y, scoring=sc, cv=ShuffleSplit(n_splits=5, test_size=0.3, random_state=0))\n",
    "        mean = cv.mean()\n",
    "        std = cv.std()\n",
    "        \n",
    "        print(\"Array: \")\n",
    "        print(\"--------> \"+sc + \" : [ \"+str(cv)+\" ]\\n\")\n",
    "        print(sc + \" : \"+ str(round(mean,3)) + \" std : \"+ str(round(std,3)))\n",
    "        print(\"Intervalo :  [{:.2f}% ~ {:.2f}%]\".format((mean - 2*std)*100, (mean + 2*std)*100))\n",
    "        print()\n",
    "        \n",
    "        if sc == \"recall\":\n",
    "            recall.append(round(mean,3))\n",
    "            std_recall.append(round(std,3))\n",
    "        elif sc == \"f1\":\n",
    "            f1.append(round(mean,3))\n",
    "            std_f1.append(round(std,3))\n",
    "        else:\n",
    "            acc.append(round(mean,3))\n",
    "            std_acc.append(round(std,3))\n",
    "        print(\"-\"*30)\n",
    "    \n",
    "    #if export is True:\n",
    "    df_ = pd.DataFrame(data=zip(recall,f1,acc,std_acc,std_recall,std_f1), index=[estimator_name],\\\n",
    "                        columns=['recall','f1','accuracy',\"std_acc\",\"std_recall\",\"std_f1\"])\n",
    "    return df_"
   ]
  },
  {
   "cell_type": "code",
   "execution_count": 43,
   "id": "c740bbb9-b49d-487e-93c0-321b3aa1edfc",
   "metadata": {},
   "outputs": [],
   "source": [
    "def make_data_for_machine_learning_tfidf(df,col,label):\n",
    "    vetorizarResenha = TfidfVectorizer(lowercase=False, max_features=50)\n",
    "    bag_of_words_ = vetorizarResenha.fit_transform(df[col])\n",
    "    X = pd.DataFrame(bag_of_words_.toarray(),columns=vetorizarResenha.get_feature_names_out())\n",
    "    x_train, x_test, y_train, y_test = train_test_split(X,\n",
    "                                                              df[label],\n",
    "                                                            test_size=0.3,\n",
    "                                                              random_state = 42)\n",
    "    return x_train, x_test, y_train, y_test"
   ]
  },
  {
   "cell_type": "code",
   "execution_count": 95,
   "id": "059edeaf-3d93-464e-af57-e126df9fe654",
   "metadata": {},
   "outputs": [],
   "source": [
    "def build_score(y_pred,y_true,probs):\n",
    "    print(\"Acuracia : {}%\".format(round(accuracy_score(y_pred=y_pred,y_true=y_true)*100,3)))\n",
    "    print(\"F1_score: {}%\".format(round(f1_score(y_pred=y_pred,y_true=y_true)*100,3)))\n",
    "    print(\"Precison: {}%\".format(round(precision_score(y_pred=y_pred,y_true=y_true)*100,3)))\n",
    "    print(\"Recall: {}%\".format(round(recall_score(y_pred=y_pred,y_true=y_true)*100,3)))\n",
    "    print(\"-\"*20)\n",
    "    print('Classification Report')\n",
    "    print(classification_report(y_test,y_pred,target_names=[\"FAKE\",\"TRUE\"]))\n",
    "    print(\"-\"*20)\n",
    "    print(\"Plot curva roc\")\n",
    "    lr_auc = roc_auc_score(y_true, probs[:, 1])\n",
    "    print('ROC AUC=%.3f' % (lr_auc))\n",
    "    fpr, tpr, _ = roc_curve(y_true, probs[:, 1])\n",
    "    plt.plot(fpr, tpr, marker='.')\n",
    "    plt.xlabel('False Positive Rate')\n",
    "    plt.ylabel('True Positive Rate')\n",
    "    plt.show()"
   ]
  },
  {
   "cell_type": "markdown",
   "id": "88484c43-6e99-4243-8c14-a8c050a69744",
   "metadata": {
    "tags": []
   },
   "source": [
    "## No stopWords"
   ]
  },
  {
   "cell_type": "markdown",
   "id": "9b16eadf-2a31-4f96-bfdd-6118c4350c01",
   "metadata": {
    "tags": []
   },
   "source": [
    "### Lemma"
   ]
  },
  {
   "cell_type": "code",
   "execution_count": 29,
   "id": "e50cf733-84e9-4ae3-830a-6386fa426109",
   "metadata": {},
   "outputs": [
    {
     "data": {
      "text/html": [
       "<div>\n",
       "<style scoped>\n",
       "    .dataframe tbody tr th:only-of-type {\n",
       "        vertical-align: middle;\n",
       "    }\n",
       "\n",
       "    .dataframe tbody tr th {\n",
       "        vertical-align: top;\n",
       "    }\n",
       "\n",
       "    .dataframe thead th {\n",
       "        text-align: right;\n",
       "    }\n",
       "</style>\n",
       "<table border=\"1\" class=\"dataframe\">\n",
       "  <thead>\n",
       "    <tr style=\"text-align: right;\">\n",
       "      <th></th>\n",
       "      <th>text</th>\n",
       "      <th>category</th>\n",
       "      <th>label</th>\n",
       "      <th>site</th>\n",
       "    </tr>\n",
       "  </thead>\n",
       "  <tbody>\n",
       "    <tr>\n",
       "      <th>0</th>\n",
       "      <td>Kát abr dizer ir coloc expuls Mold reclam sen ...</td>\n",
       "      <td>politica</td>\n",
       "      <td>fake</td>\n",
       "      <td>https://ceticismopolitico.com</td>\n",
       "    </tr>\n",
       "    <tr>\n",
       "      <th>1</th>\n",
       "      <td>dr ray peit bolsonar chamar conserv fak entrev...</td>\n",
       "      <td>politica</td>\n",
       "      <td>fake</td>\n",
       "      <td>https://ceticismopolitico.com</td>\n",
       "    </tr>\n",
       "    <tr>\n",
       "      <th>2</th>\n",
       "      <td>reinald azeved desmascar políci feder ferrenh ...</td>\n",
       "      <td>politica</td>\n",
       "      <td>fake</td>\n",
       "      <td>https://afolhabrasil.com.br</td>\n",
       "    </tr>\n",
       "    <tr>\n",
       "      <th>3</th>\n",
       "      <td>relatóri assustr bnd mostr dinh públic Brasil ...</td>\n",
       "      <td>politica</td>\n",
       "      <td>fake</td>\n",
       "      <td>https://www.diariodobrasil.org</td>\n",
       "    </tr>\n",
       "    <tr>\n",
       "      <th>4</th>\n",
       "      <td>radial americ fal Sobr pt vend ilusãr pov Bras...</td>\n",
       "      <td>politica</td>\n",
       "      <td>fake</td>\n",
       "      <td>https://www.diariodobrasil.org</td>\n",
       "    </tr>\n",
       "  </tbody>\n",
       "</table>\n",
       "</div>"
      ],
      "text/plain": [
       "                                                text  category label  \\\n",
       "0  Kát abr dizer ir coloc expuls Mold reclam sen ...  politica  fake   \n",
       "1  dr ray peit bolsonar chamar conserv fak entrev...  politica  fake   \n",
       "2  reinald azeved desmascar políci feder ferrenh ...  politica  fake   \n",
       "3  relatóri assustr bnd mostr dinh públic Brasil ...  politica  fake   \n",
       "4  radial americ fal Sobr pt vend ilusãr pov Bras...  politica  fake   \n",
       "\n",
       "                             site  \n",
       "0   https://ceticismopolitico.com  \n",
       "1   https://ceticismopolitico.com  \n",
       "2     https://afolhabrasil.com.br  \n",
       "3  https://www.diariodobrasil.org  \n",
       "4  https://www.diariodobrasil.org  "
      ]
     },
     "execution_count": 29,
     "metadata": {},
     "output_type": "execute_result"
    }
   ],
   "source": [
    "df_test = pd.read_csv(path+\"no_stopWords_lemma.csv\")\n",
    "df_test.head()"
   ]
  },
  {
   "cell_type": "code",
   "execution_count": null,
   "id": "32a7398e-d1ee-437e-a523-370647c865e8",
   "metadata": {},
   "outputs": [],
   "source": []
  },
  {
   "cell_type": "code",
   "execution_count": 30,
   "id": "4d92d9fb-af75-4773-b8ab-8a6a7fe91f62",
   "metadata": {},
   "outputs": [],
   "source": [
    " x_train,x_test,y_train,y_test= make_data_for_machine_learning_tfidf(df_test,\"text\",\"label\")"
   ]
  },
  {
   "cell_type": "code",
   "execution_count": 31,
   "id": "53d386ee-e0c8-47b5-9af3-8dd0a93a64b3",
   "metadata": {},
   "outputs": [
    {
     "name": "stdout",
     "output_type": "stream",
     "text": [
      "treino _ x: (5040, 50)\n",
      "treino _ y : (5040,)\n",
      "test _ x : (2160, 50)\n",
      "test _ y: (2160,)\n"
     ]
    }
   ],
   "source": [
    "print(\"treino _ x: {}\".format(x_train.shape))\n",
    "print(\"treino _ y : {}\".format(y_train.shape))\n",
    "print(\"test _ x : {}\".format(x_test.shape))\n",
    "print(\"test _ y: {}\".format(y_test.shape))     "
   ]
  },
  {
   "cell_type": "code",
   "execution_count": 32,
   "id": "384b2d75-9937-4940-a659-6107b4c1d908",
   "metadata": {},
   "outputs": [],
   "source": [
    "le = LabelEncoder()"
   ]
  },
  {
   "cell_type": "code",
   "execution_count": 33,
   "id": "6be389ce-17dd-40d0-bb64-1c368a94a8f1",
   "metadata": {},
   "outputs": [],
   "source": [
    "y_train = le.fit_transform(y_train)\n",
    "y_test = le.fit_transform(y_test)"
   ]
  },
  {
   "cell_type": "markdown",
   "id": "c07ddb12-0f57-4ba8-8feb-1648af9b01a8",
   "metadata": {},
   "source": [
    "#### Fazendo baseline"
   ]
  },
  {
   "cell_type": "code",
   "execution_count": 34,
   "id": "35f72aba-0a8b-464d-b1cf-8bcf190ce8ed",
   "metadata": {},
   "outputs": [],
   "source": [
    "dummy_clf = DummyClassifier()"
   ]
  },
  {
   "cell_type": "code",
   "execution_count": 35,
   "id": "13c0582c-4d81-47f1-a2a4-be322e658fad",
   "metadata": {},
   "outputs": [
    {
     "data": {
      "text/html": [
       "<style>#sk-container-id-3 {color: black;background-color: white;}#sk-container-id-3 pre{padding: 0;}#sk-container-id-3 div.sk-toggleable {background-color: white;}#sk-container-id-3 label.sk-toggleable__label {cursor: pointer;display: block;width: 100%;margin-bottom: 0;padding: 0.3em;box-sizing: border-box;text-align: center;}#sk-container-id-3 label.sk-toggleable__label-arrow:before {content: \"▸\";float: left;margin-right: 0.25em;color: #696969;}#sk-container-id-3 label.sk-toggleable__label-arrow:hover:before {color: black;}#sk-container-id-3 div.sk-estimator:hover label.sk-toggleable__label-arrow:before {color: black;}#sk-container-id-3 div.sk-toggleable__content {max-height: 0;max-width: 0;overflow: hidden;text-align: left;background-color: #f0f8ff;}#sk-container-id-3 div.sk-toggleable__content pre {margin: 0.2em;color: black;border-radius: 0.25em;background-color: #f0f8ff;}#sk-container-id-3 input.sk-toggleable__control:checked~div.sk-toggleable__content {max-height: 200px;max-width: 100%;overflow: auto;}#sk-container-id-3 input.sk-toggleable__control:checked~label.sk-toggleable__label-arrow:before {content: \"▾\";}#sk-container-id-3 div.sk-estimator input.sk-toggleable__control:checked~label.sk-toggleable__label {background-color: #d4ebff;}#sk-container-id-3 div.sk-label input.sk-toggleable__control:checked~label.sk-toggleable__label {background-color: #d4ebff;}#sk-container-id-3 input.sk-hidden--visually {border: 0;clip: rect(1px 1px 1px 1px);clip: rect(1px, 1px, 1px, 1px);height: 1px;margin: -1px;overflow: hidden;padding: 0;position: absolute;width: 1px;}#sk-container-id-3 div.sk-estimator {font-family: monospace;background-color: #f0f8ff;border: 1px dotted black;border-radius: 0.25em;box-sizing: border-box;margin-bottom: 0.5em;}#sk-container-id-3 div.sk-estimator:hover {background-color: #d4ebff;}#sk-container-id-3 div.sk-parallel-item::after {content: \"\";width: 100%;border-bottom: 1px solid gray;flex-grow: 1;}#sk-container-id-3 div.sk-label:hover label.sk-toggleable__label {background-color: #d4ebff;}#sk-container-id-3 div.sk-serial::before {content: \"\";position: absolute;border-left: 1px solid gray;box-sizing: border-box;top: 0;bottom: 0;left: 50%;z-index: 0;}#sk-container-id-3 div.sk-serial {display: flex;flex-direction: column;align-items: center;background-color: white;padding-right: 0.2em;padding-left: 0.2em;position: relative;}#sk-container-id-3 div.sk-item {position: relative;z-index: 1;}#sk-container-id-3 div.sk-parallel {display: flex;align-items: stretch;justify-content: center;background-color: white;position: relative;}#sk-container-id-3 div.sk-item::before, #sk-container-id-3 div.sk-parallel-item::before {content: \"\";position: absolute;border-left: 1px solid gray;box-sizing: border-box;top: 0;bottom: 0;left: 50%;z-index: -1;}#sk-container-id-3 div.sk-parallel-item {display: flex;flex-direction: column;z-index: 1;position: relative;background-color: white;}#sk-container-id-3 div.sk-parallel-item:first-child::after {align-self: flex-end;width: 50%;}#sk-container-id-3 div.sk-parallel-item:last-child::after {align-self: flex-start;width: 50%;}#sk-container-id-3 div.sk-parallel-item:only-child::after {width: 0;}#sk-container-id-3 div.sk-dashed-wrapped {border: 1px dashed gray;margin: 0 0.4em 0.5em 0.4em;box-sizing: border-box;padding-bottom: 0.4em;background-color: white;}#sk-container-id-3 div.sk-label label {font-family: monospace;font-weight: bold;display: inline-block;line-height: 1.2em;}#sk-container-id-3 div.sk-label-container {text-align: center;}#sk-container-id-3 div.sk-container {/* jupyter's `normalize.less` sets `[hidden] { display: none; }` but bootstrap.min.css set `[hidden] { display: none !important; }` so we also need the `!important` here to be able to override the default hidden behavior on the sphinx rendered scikit-learn.org. See: https://github.com/scikit-learn/scikit-learn/issues/21755 */display: inline-block !important;position: relative;}#sk-container-id-3 div.sk-text-repr-fallback {display: none;}</style><div id=\"sk-container-id-3\" class=\"sk-top-container\"><div class=\"sk-text-repr-fallback\"><pre>DummyClassifier()</pre><b>In a Jupyter environment, please rerun this cell to show the HTML representation or trust the notebook. <br />On GitHub, the HTML representation is unable to render, please try loading this page with nbviewer.org.</b></div><div class=\"sk-container\" hidden><div class=\"sk-item\"><div class=\"sk-estimator sk-toggleable\"><input class=\"sk-toggleable__control sk-hidden--visually\" id=\"sk-estimator-id-3\" type=\"checkbox\" checked><label for=\"sk-estimator-id-3\" class=\"sk-toggleable__label sk-toggleable__label-arrow\">DummyClassifier</label><div class=\"sk-toggleable__content\"><pre>DummyClassifier()</pre></div></div></div></div></div>"
      ],
      "text/plain": [
       "DummyClassifier()"
      ]
     },
     "execution_count": 35,
     "metadata": {},
     "output_type": "execute_result"
    }
   ],
   "source": [
    "dummy_clf.fit(x_train,y_train)"
   ]
  },
  {
   "cell_type": "code",
   "execution_count": 36,
   "id": "cbb95918-a3c1-4226-9768-a9090062a060",
   "metadata": {},
   "outputs": [
    {
     "name": "stdout",
     "output_type": "stream",
     "text": [
      "model name:  DummyClassifier\n",
      "Array: \n",
      "--------> recall : [ [0. 0. 0. 0. 0.] ]\n",
      "\n",
      "recall : 0.0 std : 0.0\n",
      "Intervalo :  [0.00% ~ 0.00%]\n",
      "\n",
      "------------------------------\n",
      "Array: \n",
      "--------> accuracy : [ [0.50154321 0.50617284 0.5        0.50617284 0.50925926] ]\n",
      "\n",
      "accuracy : 0.505 std : 0.003\n",
      "Intervalo :  [49.79% ~ 51.14%]\n",
      "\n",
      "------------------------------\n",
      "Array: \n",
      "--------> f1 : [ [0. 0. 0. 0. 0.] ]\n",
      "\n",
      "f1 : 0.0 std : 0.0\n",
      "Intervalo :  [0.00% ~ 0.00%]\n",
      "\n",
      "------------------------------\n"
     ]
    }
   ],
   "source": [
    "cross_score(x_test,y_test,dummy_clf,\"DummyClassifier\",scorer)"
   ]
  },
  {
   "cell_type": "markdown",
   "id": "ab4ea049-7f6d-4459-ba25-d627bd599b1d",
   "metadata": {},
   "source": [
    "baseline acc 50%"
   ]
  },
  {
   "cell_type": "code",
   "execution_count": 37,
   "id": "714b4a37-c8f5-4796-a4fb-6c0bcd5fa8ef",
   "metadata": {},
   "outputs": [],
   "source": [
    "#carregando os modelos"
   ]
  },
  {
   "cell_type": "code",
   "execution_count": 38,
   "id": "9c861df3-4ab9-4fbe-986e-7cd50d81d529",
   "metadata": {},
   "outputs": [],
   "source": [
    "random_florest = RandomForestClassifier()\n",
    "reg_logistic = LogisticRegression()\n",
    "xgb = XGBClassifier()\n",
    "tree = DecisionTreeClassifier()\n",
    "ada = AdaBoostClassifier()\n",
    "gbm = GradientBoostingClassifier()\n",
    "gnb = GaussianNB()"
   ]
  },
  {
   "cell_type": "code",
   "execution_count": 39,
   "id": "124832d3-56f5-40e6-9574-a5680db39160",
   "metadata": {},
   "outputs": [],
   "source": [
    "models = [random_florest,reg_logistic,xgb,tree,ada,gbm,gnb]"
   ]
  },
  {
   "cell_type": "code",
   "execution_count": 47,
   "id": "7790cf4d-4c88-432c-94d2-b7578e2c458f",
   "metadata": {},
   "outputs": [
    {
     "name": "stdout",
     "output_type": "stream",
     "text": [
      "model name:  RandomForestClassifier\n",
      "Array: \n",
      "--------> recall : [ [0.93501326 0.92563081 0.93931034 0.93134715 0.94274301] ]\n",
      "\n",
      "recall : 0.935 std : 0.006\n",
      "Intervalo :  [92.28% ~ 94.68%]\n",
      "\n",
      "------------------------------\n",
      "Array: \n",
      "--------> accuracy : [ [0.93386243 0.93584656 0.94973545 0.94708995 0.93981481] ]\n",
      "\n",
      "accuracy : 0.941 std : 0.006\n",
      "Intervalo :  [92.89% ~ 95.37%]\n",
      "\n",
      "------------------------------\n",
      "Array: \n",
      "--------> f1 : [ [0.93687708 0.9403183  0.9467128  0.94179202 0.94054776] ]\n",
      "\n",
      "f1 : 0.941 std : 0.003\n",
      "Intervalo :  [93.49% ~ 94.76%]\n",
      "\n",
      "------------------------------\n",
      "model name:  LogisticRegression\n",
      "Array: \n",
      "--------> recall : [ [0.89124668 0.9189907  0.90344828 0.89507772 0.90545939] ]\n",
      "\n",
      "recall : 0.903 std : 0.01\n",
      "Intervalo :  [88.36% ~ 92.21%]\n",
      "\n",
      "------------------------------\n",
      "Array: \n",
      "--------> accuracy : [ [0.87830688 0.90410053 0.91071429 0.91005291 0.90013228] ]\n",
      "\n",
      "accuracy : 0.901 std : 0.012\n",
      "Intervalo :  [87.70% ~ 92.43%]\n",
      "\n",
      "------------------------------\n",
      "Array: \n",
      "--------> f1 : [ [0.87958115 0.90516678 0.90657439 0.91040843 0.90006618] ]\n",
      "\n",
      "f1 : 0.9 std : 0.011\n",
      "Intervalo :  [87.86% ~ 92.22%]\n",
      "\n",
      "------------------------------\n",
      "model name:  XGBClassifier\n",
      "Array: \n",
      "--------> recall : [ [0.93766578 0.92563081 0.94068966 0.94818653 0.94007989] ]\n",
      "\n",
      "recall : 0.938 std : 0.007\n",
      "Intervalo :  [92.38% ~ 95.31%]\n",
      "\n",
      "------------------------------\n",
      "Array: \n",
      "--------> accuracy : [ [0.93981481 0.93716931 0.94378307 0.94775132 0.94047619] ]\n",
      "\n",
      "accuracy : 0.942 std : 0.004\n",
      "Intervalo :  [93.45% ~ 94.91%]\n",
      "\n",
      "------------------------------\n",
      "Array: \n",
      "--------> f1 : [ [0.93953488 0.93619879 0.94133885 0.94880104 0.94007989] ]\n",
      "\n",
      "f1 : 0.941 std : 0.004\n",
      "Intervalo :  [93.29% ~ 94.95%]\n",
      "\n",
      "------------------------------\n",
      "model name:  DecisionTreeClassifier\n",
      "Array: \n",
      "--------> recall : [ [0.88196286 0.85657371 0.86758621 0.8626943  0.86950732] ]\n",
      "\n",
      "recall : 0.868 std : 0.008\n",
      "Intervalo :  [85.08% ~ 88.45%]\n",
      "\n",
      "------------------------------\n",
      "Array: \n",
      "--------> accuracy : [ [0.87698413 0.87103175 0.88293651 0.87830688 0.88029101] ]\n",
      "\n",
      "accuracy : 0.878 std : 0.004\n",
      "Intervalo :  [86.99% ~ 88.59%]\n",
      "\n",
      "------------------------------\n",
      "Array: \n",
      "--------> f1 : [ [0.87878788 0.86693548 0.87638889 0.87345879 0.8738255 ] ]\n",
      "\n",
      "f1 : 0.874 std : 0.004\n",
      "Intervalo :  [86.59% ~ 88.18%]\n",
      "\n",
      "------------------------------\n",
      "model name:  AdaBoostClassifier\n",
      "Array: \n",
      "--------> recall : [ [0.94164456 0.91367862 0.92965517 0.91450777 0.93209055] ]\n",
      "\n",
      "recall : 0.926 std : 0.011\n",
      "Intervalo :  [90.48% ~ 94.78%]\n",
      "\n",
      "------------------------------\n",
      "Array: \n",
      "--------> accuracy : [ [0.93253968 0.9239418  0.93849206 0.93187831 0.92460317] ]\n",
      "\n",
      "accuracy : 0.93 std : 0.005\n",
      "Intervalo :  [91.94% ~ 94.12%]\n",
      "\n",
      "------------------------------\n",
      "Array: \n",
      "--------> f1 : [ [0.93298292 0.92287056 0.93546149 0.9320132  0.92470277] ]\n",
      "\n",
      "f1 : 0.93 std : 0.005\n",
      "Intervalo :  [91.98% ~ 93.94%]\n",
      "\n",
      "------------------------------\n",
      "model name:  GradientBoostingClassifier\n",
      "Array: \n",
      "--------> recall : [ [0.93633952 0.9309429  0.93655172 0.93005181 0.93874834] ]\n",
      "\n",
      "recall : 0.935 std : 0.003\n",
      "Intervalo :  [92.77% ~ 94.13%]\n",
      "\n",
      "------------------------------\n",
      "Array: \n",
      "--------> accuracy : [ [0.93716931 0.94047619 0.94775132 0.94047619 0.93584656] ]\n",
      "\n",
      "accuracy : 0.94 std : 0.004\n",
      "Intervalo :  [93.21% ~ 94.86%]\n",
      "\n",
      "------------------------------\n",
      "Array: \n",
      "--------> f1 : [ [0.93696085 0.93904889 0.94502436 0.94102228 0.93563371] ]\n",
      "\n",
      "f1 : 0.94 std : 0.003\n",
      "Intervalo :  [93.29% ~ 94.61%]\n",
      "\n",
      "------------------------------\n",
      "model name:  GaussianNB\n",
      "Array: \n",
      "--------> recall : [ [0.86604775 0.86454183 0.84413793 0.87564767 0.86551265] ]\n",
      "\n",
      "recall : 0.863 std : 0.01\n",
      "Intervalo :  [84.25% ~ 88.38%]\n",
      "\n",
      "------------------------------\n",
      "Array: \n",
      "--------> accuracy : [ [0.83201058 0.83664021 0.83531746 0.85449735 0.85449735] ]\n",
      "\n",
      "accuracy : 0.843 std : 0.01\n",
      "Intervalo :  [82.29% ~ 86.23%]\n",
      "\n",
      "------------------------------\n",
      "Array: \n",
      "--------> f1 : [ [0.83717949 0.84054229 0.83095723 0.86005089 0.85526316] ]\n",
      "\n",
      "f1 : 0.845 std : 0.011\n",
      "Intervalo :  [82.27% ~ 86.69%]\n",
      "\n",
      "------------------------------\n"
     ]
    }
   ],
   "source": [
    "result=[]\n",
    "for model in models:\n",
    "    aux = cross_score(x_train,y_train,model,model.__class__.__name__,scorer)\n",
    "    result.append(aux)"
   ]
  },
  {
   "cell_type": "code",
   "execution_count": 48,
   "id": "4bb808ae-cb91-478e-83a0-029432cc0c5c",
   "metadata": {},
   "outputs": [],
   "source": [
    "resultado = pd.concat(result)"
   ]
  },
  {
   "cell_type": "code",
   "execution_count": 49,
   "id": "3a0be616-de56-4bb0-ae1b-7b92d1e3c4ec",
   "metadata": {},
   "outputs": [
    {
     "data": {
      "text/html": [
       "<div>\n",
       "<style scoped>\n",
       "    .dataframe tbody tr th:only-of-type {\n",
       "        vertical-align: middle;\n",
       "    }\n",
       "\n",
       "    .dataframe tbody tr th {\n",
       "        vertical-align: top;\n",
       "    }\n",
       "\n",
       "    .dataframe thead th {\n",
       "        text-align: right;\n",
       "    }\n",
       "</style>\n",
       "<table border=\"1\" class=\"dataframe\">\n",
       "  <thead>\n",
       "    <tr style=\"text-align: right;\">\n",
       "      <th></th>\n",
       "      <th>recall</th>\n",
       "      <th>f1</th>\n",
       "      <th>accuracy</th>\n",
       "      <th>std_acc</th>\n",
       "      <th>std_recall</th>\n",
       "      <th>std_f1</th>\n",
       "    </tr>\n",
       "  </thead>\n",
       "  <tbody>\n",
       "    <tr>\n",
       "      <th>RandomForestClassifier</th>\n",
       "      <td>0.935</td>\n",
       "      <td>0.941</td>\n",
       "      <td>0.941</td>\n",
       "      <td>0.006</td>\n",
       "      <td>0.006</td>\n",
       "      <td>0.003</td>\n",
       "    </tr>\n",
       "    <tr>\n",
       "      <th>LogisticRegression</th>\n",
       "      <td>0.903</td>\n",
       "      <td>0.900</td>\n",
       "      <td>0.901</td>\n",
       "      <td>0.012</td>\n",
       "      <td>0.010</td>\n",
       "      <td>0.011</td>\n",
       "    </tr>\n",
       "    <tr>\n",
       "      <th>XGBClassifier</th>\n",
       "      <td>0.938</td>\n",
       "      <td>0.941</td>\n",
       "      <td>0.942</td>\n",
       "      <td>0.004</td>\n",
       "      <td>0.007</td>\n",
       "      <td>0.004</td>\n",
       "    </tr>\n",
       "    <tr>\n",
       "      <th>DecisionTreeClassifier</th>\n",
       "      <td>0.868</td>\n",
       "      <td>0.874</td>\n",
       "      <td>0.878</td>\n",
       "      <td>0.004</td>\n",
       "      <td>0.008</td>\n",
       "      <td>0.004</td>\n",
       "    </tr>\n",
       "    <tr>\n",
       "      <th>AdaBoostClassifier</th>\n",
       "      <td>0.926</td>\n",
       "      <td>0.930</td>\n",
       "      <td>0.930</td>\n",
       "      <td>0.005</td>\n",
       "      <td>0.011</td>\n",
       "      <td>0.005</td>\n",
       "    </tr>\n",
       "    <tr>\n",
       "      <th>GradientBoostingClassifier</th>\n",
       "      <td>0.935</td>\n",
       "      <td>0.940</td>\n",
       "      <td>0.940</td>\n",
       "      <td>0.004</td>\n",
       "      <td>0.003</td>\n",
       "      <td>0.003</td>\n",
       "    </tr>\n",
       "    <tr>\n",
       "      <th>GaussianNB</th>\n",
       "      <td>0.863</td>\n",
       "      <td>0.845</td>\n",
       "      <td>0.843</td>\n",
       "      <td>0.010</td>\n",
       "      <td>0.010</td>\n",
       "      <td>0.011</td>\n",
       "    </tr>\n",
       "  </tbody>\n",
       "</table>\n",
       "</div>"
      ],
      "text/plain": [
       "                            recall     f1  accuracy  std_acc  std_recall  \\\n",
       "RandomForestClassifier       0.935  0.941     0.941    0.006       0.006   \n",
       "LogisticRegression           0.903  0.900     0.901    0.012       0.010   \n",
       "XGBClassifier                0.938  0.941     0.942    0.004       0.007   \n",
       "DecisionTreeClassifier       0.868  0.874     0.878    0.004       0.008   \n",
       "AdaBoostClassifier           0.926  0.930     0.930    0.005       0.011   \n",
       "GradientBoostingClassifier   0.935  0.940     0.940    0.004       0.003   \n",
       "GaussianNB                   0.863  0.845     0.843    0.010       0.010   \n",
       "\n",
       "                            std_f1  \n",
       "RandomForestClassifier       0.003  \n",
       "LogisticRegression           0.011  \n",
       "XGBClassifier                0.004  \n",
       "DecisionTreeClassifier       0.004  \n",
       "AdaBoostClassifier           0.005  \n",
       "GradientBoostingClassifier   0.003  \n",
       "GaussianNB                   0.011  "
      ]
     },
     "execution_count": 49,
     "metadata": {},
     "output_type": "execute_result"
    }
   ],
   "source": [
    "resultado"
   ]
  },
  {
   "cell_type": "markdown",
   "id": "0979b03f-11f8-437e-bee4-1125f5b578b6",
   "metadata": {},
   "source": [
    "Após análise dos dataframe acima iremos escolher os :\n",
    "* RandomForest\n",
    "* XGBClassifier\t\n",
    "* GradientBoostingClassifier"
   ]
  },
  {
   "cell_type": "code",
   "execution_count": 53,
   "id": "920b29f5-879d-469a-84e4-4ab8c1216034",
   "metadata": {},
   "outputs": [
    {
     "data": {
      "text/html": [
       "<style>#sk-container-id-5 {color: black;background-color: white;}#sk-container-id-5 pre{padding: 0;}#sk-container-id-5 div.sk-toggleable {background-color: white;}#sk-container-id-5 label.sk-toggleable__label {cursor: pointer;display: block;width: 100%;margin-bottom: 0;padding: 0.3em;box-sizing: border-box;text-align: center;}#sk-container-id-5 label.sk-toggleable__label-arrow:before {content: \"▸\";float: left;margin-right: 0.25em;color: #696969;}#sk-container-id-5 label.sk-toggleable__label-arrow:hover:before {color: black;}#sk-container-id-5 div.sk-estimator:hover label.sk-toggleable__label-arrow:before {color: black;}#sk-container-id-5 div.sk-toggleable__content {max-height: 0;max-width: 0;overflow: hidden;text-align: left;background-color: #f0f8ff;}#sk-container-id-5 div.sk-toggleable__content pre {margin: 0.2em;color: black;border-radius: 0.25em;background-color: #f0f8ff;}#sk-container-id-5 input.sk-toggleable__control:checked~div.sk-toggleable__content {max-height: 200px;max-width: 100%;overflow: auto;}#sk-container-id-5 input.sk-toggleable__control:checked~label.sk-toggleable__label-arrow:before {content: \"▾\";}#sk-container-id-5 div.sk-estimator input.sk-toggleable__control:checked~label.sk-toggleable__label {background-color: #d4ebff;}#sk-container-id-5 div.sk-label input.sk-toggleable__control:checked~label.sk-toggleable__label {background-color: #d4ebff;}#sk-container-id-5 input.sk-hidden--visually {border: 0;clip: rect(1px 1px 1px 1px);clip: rect(1px, 1px, 1px, 1px);height: 1px;margin: -1px;overflow: hidden;padding: 0;position: absolute;width: 1px;}#sk-container-id-5 div.sk-estimator {font-family: monospace;background-color: #f0f8ff;border: 1px dotted black;border-radius: 0.25em;box-sizing: border-box;margin-bottom: 0.5em;}#sk-container-id-5 div.sk-estimator:hover {background-color: #d4ebff;}#sk-container-id-5 div.sk-parallel-item::after {content: \"\";width: 100%;border-bottom: 1px solid gray;flex-grow: 1;}#sk-container-id-5 div.sk-label:hover label.sk-toggleable__label {background-color: #d4ebff;}#sk-container-id-5 div.sk-serial::before {content: \"\";position: absolute;border-left: 1px solid gray;box-sizing: border-box;top: 0;bottom: 0;left: 50%;z-index: 0;}#sk-container-id-5 div.sk-serial {display: flex;flex-direction: column;align-items: center;background-color: white;padding-right: 0.2em;padding-left: 0.2em;position: relative;}#sk-container-id-5 div.sk-item {position: relative;z-index: 1;}#sk-container-id-5 div.sk-parallel {display: flex;align-items: stretch;justify-content: center;background-color: white;position: relative;}#sk-container-id-5 div.sk-item::before, #sk-container-id-5 div.sk-parallel-item::before {content: \"\";position: absolute;border-left: 1px solid gray;box-sizing: border-box;top: 0;bottom: 0;left: 50%;z-index: -1;}#sk-container-id-5 div.sk-parallel-item {display: flex;flex-direction: column;z-index: 1;position: relative;background-color: white;}#sk-container-id-5 div.sk-parallel-item:first-child::after {align-self: flex-end;width: 50%;}#sk-container-id-5 div.sk-parallel-item:last-child::after {align-self: flex-start;width: 50%;}#sk-container-id-5 div.sk-parallel-item:only-child::after {width: 0;}#sk-container-id-5 div.sk-dashed-wrapped {border: 1px dashed gray;margin: 0 0.4em 0.5em 0.4em;box-sizing: border-box;padding-bottom: 0.4em;background-color: white;}#sk-container-id-5 div.sk-label label {font-family: monospace;font-weight: bold;display: inline-block;line-height: 1.2em;}#sk-container-id-5 div.sk-label-container {text-align: center;}#sk-container-id-5 div.sk-container {/* jupyter's `normalize.less` sets `[hidden] { display: none; }` but bootstrap.min.css set `[hidden] { display: none !important; }` so we also need the `!important` here to be able to override the default hidden behavior on the sphinx rendered scikit-learn.org. See: https://github.com/scikit-learn/scikit-learn/issues/21755 */display: inline-block !important;position: relative;}#sk-container-id-5 div.sk-text-repr-fallback {display: none;}</style><div id=\"sk-container-id-5\" class=\"sk-top-container\"><div class=\"sk-text-repr-fallback\"><pre>GradientBoostingClassifier()</pre><b>In a Jupyter environment, please rerun this cell to show the HTML representation or trust the notebook. <br />On GitHub, the HTML representation is unable to render, please try loading this page with nbviewer.org.</b></div><div class=\"sk-container\" hidden><div class=\"sk-item\"><div class=\"sk-estimator sk-toggleable\"><input class=\"sk-toggleable__control sk-hidden--visually\" id=\"sk-estimator-id-5\" type=\"checkbox\" checked><label for=\"sk-estimator-id-5\" class=\"sk-toggleable__label sk-toggleable__label-arrow\">GradientBoostingClassifier</label><div class=\"sk-toggleable__content\"><pre>GradientBoostingClassifier()</pre></div></div></div></div></div>"
      ],
      "text/plain": [
       "GradientBoostingClassifier()"
      ]
     },
     "execution_count": 53,
     "metadata": {},
     "output_type": "execute_result"
    }
   ],
   "source": [
    "random_florest.fit(x_train,y_train)\n",
    "xgb.fit(x_train,y_train)\n",
    "gbm.fit(x_train,y_train)"
   ]
  },
  {
   "cell_type": "code",
   "execution_count": 56,
   "id": "60c22abf-4ad0-42c3-81a0-4ad1b558352d",
   "metadata": {},
   "outputs": [],
   "source": [
    "models = [random_florest,xgb,gbm]"
   ]
  },
  {
   "cell_type": "code",
   "execution_count": 57,
   "id": "d6ea2fe8-8204-45a9-8dd5-2ebddf8c75af",
   "metadata": {},
   "outputs": [
    {
     "name": "stdout",
     "output_type": "stream",
     "text": [
      "model name:  RandomForestClassifier\n",
      "Array: \n",
      "--------> recall : [ [0.9504644  0.946875   0.9382716  0.93125    0.94654088] ]\n",
      "\n",
      "recall : 0.943 std : 0.007\n",
      "Intervalo :  [92.87% ~ 95.66%]\n",
      "\n",
      "------------------------------\n",
      "Array: \n",
      "--------> accuracy : [ [0.94290123 0.94135802 0.92438272 0.92746914 0.93364198] ]\n",
      "\n",
      "accuracy : 0.934 std : 0.007\n",
      "Intervalo :  [91.93% ~ 94.86%]\n",
      "\n",
      "------------------------------\n",
      "Array: \n",
      "--------> f1 : [ [0.94461538 0.93478261 0.92546584 0.925      0.93934681] ]\n",
      "\n",
      "f1 : 0.934 std : 0.008\n",
      "Intervalo :  [91.85% ~ 94.92%]\n",
      "\n",
      "------------------------------\n",
      "model name:  XGBClassifier\n",
      "Array: \n",
      "--------> recall : [ [0.95665635 0.94375    0.92283951 0.921875   0.94339623] ]\n",
      "\n",
      "recall : 0.938 std : 0.013\n",
      "Intervalo :  [91.09% ~ 96.45%]\n",
      "\n",
      "------------------------------\n",
      "Array: \n",
      "--------> accuracy : [ [0.94444444 0.93981481 0.92901235 0.92438272 0.9367284 ] ]\n",
      "\n",
      "accuracy : 0.935 std : 0.007\n",
      "Intervalo :  [92.03% ~ 94.94%]\n",
      "\n",
      "------------------------------\n",
      "Array: \n",
      "--------> f1 : [ [0.94495413 0.93934681 0.92857143 0.92331768 0.93603744] ]\n",
      "\n",
      "f1 : 0.934 std : 0.008\n",
      "Intervalo :  [91.91% ~ 94.98%]\n",
      "\n",
      "------------------------------\n",
      "model name:  GradientBoostingClassifier\n",
      "Array: \n",
      "--------> recall : [ [0.95975232 0.9375     0.92901235 0.921875   0.93396226] ]\n",
      "\n",
      "recall : 0.936 std : 0.013\n",
      "Intervalo :  [91.08% ~ 96.20%]\n",
      "\n",
      "------------------------------\n",
      "Array: \n",
      "--------> accuracy : [ [0.94598765 0.9367284  0.93209877 0.9212963  0.93364198] ]\n",
      "\n",
      "accuracy : 0.934 std : 0.008\n",
      "Intervalo :  [91.80% ~ 94.99%]\n",
      "\n",
      "------------------------------\n",
      "Array: \n",
      "--------> f1 : [ [0.94656489 0.9375     0.93188854 0.92043682 0.93249608] ]\n",
      "\n",
      "f1 : 0.934 std : 0.008\n",
      "Intervalo :  [91.68% ~ 95.08%]\n",
      "\n",
      "------------------------------\n"
     ]
    }
   ],
   "source": [
    "result=[]\n",
    "for model in models:\n",
    "    aux = cross_score(x_test,y_test,model,model.__class__.__name__,scorer)\n",
    "    result.append(aux)"
   ]
  },
  {
   "cell_type": "code",
   "execution_count": 58,
   "id": "a630e2e3-be94-4ee9-bb02-ae985045ec11",
   "metadata": {},
   "outputs": [],
   "source": [
    "resultado = pd.concat(result)"
   ]
  },
  {
   "cell_type": "code",
   "execution_count": 59,
   "id": "99418e78-f237-461a-a8a9-96523b7b6e4c",
   "metadata": {},
   "outputs": [
    {
     "data": {
      "text/html": [
       "<div>\n",
       "<style scoped>\n",
       "    .dataframe tbody tr th:only-of-type {\n",
       "        vertical-align: middle;\n",
       "    }\n",
       "\n",
       "    .dataframe tbody tr th {\n",
       "        vertical-align: top;\n",
       "    }\n",
       "\n",
       "    .dataframe thead th {\n",
       "        text-align: right;\n",
       "    }\n",
       "</style>\n",
       "<table border=\"1\" class=\"dataframe\">\n",
       "  <thead>\n",
       "    <tr style=\"text-align: right;\">\n",
       "      <th></th>\n",
       "      <th>recall</th>\n",
       "      <th>f1</th>\n",
       "      <th>accuracy</th>\n",
       "      <th>std_acc</th>\n",
       "      <th>std_recall</th>\n",
       "      <th>std_f1</th>\n",
       "    </tr>\n",
       "  </thead>\n",
       "  <tbody>\n",
       "    <tr>\n",
       "      <th>RandomForestClassifier</th>\n",
       "      <td>0.943</td>\n",
       "      <td>0.934</td>\n",
       "      <td>0.934</td>\n",
       "      <td>0.007</td>\n",
       "      <td>0.007</td>\n",
       "      <td>0.008</td>\n",
       "    </tr>\n",
       "    <tr>\n",
       "      <th>XGBClassifier</th>\n",
       "      <td>0.938</td>\n",
       "      <td>0.934</td>\n",
       "      <td>0.935</td>\n",
       "      <td>0.007</td>\n",
       "      <td>0.013</td>\n",
       "      <td>0.008</td>\n",
       "    </tr>\n",
       "    <tr>\n",
       "      <th>GradientBoostingClassifier</th>\n",
       "      <td>0.936</td>\n",
       "      <td>0.934</td>\n",
       "      <td>0.934</td>\n",
       "      <td>0.008</td>\n",
       "      <td>0.013</td>\n",
       "      <td>0.008</td>\n",
       "    </tr>\n",
       "  </tbody>\n",
       "</table>\n",
       "</div>"
      ],
      "text/plain": [
       "                            recall     f1  accuracy  std_acc  std_recall  \\\n",
       "RandomForestClassifier       0.943  0.934     0.934    0.007       0.007   \n",
       "XGBClassifier                0.938  0.934     0.935    0.007       0.013   \n",
       "GradientBoostingClassifier   0.936  0.934     0.934    0.008       0.013   \n",
       "\n",
       "                            std_f1  \n",
       "RandomForestClassifier       0.008  \n",
       "XGBClassifier                0.008  \n",
       "GradientBoostingClassifier   0.008  "
      ]
     },
     "execution_count": 59,
     "metadata": {},
     "output_type": "execute_result"
    }
   ],
   "source": [
    "resultado"
   ]
  },
  {
   "cell_type": "markdown",
   "id": "88ed4435-ec9b-4272-8681-245b627e8888",
   "metadata": {},
   "source": [
    "Aqui podemos ver que o melhor Modelo é o Random Florest classifier"
   ]
  },
  {
   "cell_type": "code",
   "execution_count": 64,
   "id": "7741e7de-865b-4990-96eb-8440eea42d08",
   "metadata": {},
   "outputs": [],
   "source": [
    "param = {\n",
    "        \"n_estimators\": [120,300,500,800,1200],\n",
    "        \"max_depth\": [5, 8, 15, 25, 30, None],\n",
    "        \"min_samples_split\":[ 2, 5, 10, 15, 100],\n",
    "        \"min_samples_leaf\":[ 2, 5, 10, 15],\n",
    "        \"max_features\":['log2', 'sqrt', None]\n",
    "}"
   ]
  },
  {
   "cell_type": "code",
   "execution_count": 67,
   "id": "958bdf0d-648b-475e-a6ae-74f5e0134a5f",
   "metadata": {},
   "outputs": [],
   "source": [
    "import time\n",
    "\n"
   ]
  },
  {
   "cell_type": "code",
   "execution_count": 69,
   "id": "2f83ae91-2cd2-48a6-8182-9555b0918826",
   "metadata": {},
   "outputs": [],
   "source": [
    "bayesSearch = BayesSearchCV(\n",
    "    RandomForestClassifier(),\n",
    "    search_spaces=param,\n",
    "    n_iter=10,\n",
    "    cv=ShuffleSplit(n_splits=5, test_size=0.3, random_state=0)\n",
    ")"
   ]
  },
  {
   "cell_type": "code",
   "execution_count": 70,
   "id": "d3a74a63-0311-4616-b407-132821cedd81",
   "metadata": {},
   "outputs": [
    {
     "name": "stdout",
     "output_type": "stream",
     "text": [
      "168.12472295761108\n"
     ]
    }
   ],
   "source": [
    "inicio = time.time()\n",
    "bayesSearch.fit(x_train,y_train)\n",
    "fim = time.time()\n",
    "print(fim - inicio)"
   ]
  },
  {
   "cell_type": "code",
   "execution_count": 71,
   "id": "d16b57bc-3393-47ab-9d53-d876d2bdce59",
   "metadata": {},
   "outputs": [
    {
     "data": {
      "text/html": [
       "<style>#sk-container-id-6 {color: black;background-color: white;}#sk-container-id-6 pre{padding: 0;}#sk-container-id-6 div.sk-toggleable {background-color: white;}#sk-container-id-6 label.sk-toggleable__label {cursor: pointer;display: block;width: 100%;margin-bottom: 0;padding: 0.3em;box-sizing: border-box;text-align: center;}#sk-container-id-6 label.sk-toggleable__label-arrow:before {content: \"▸\";float: left;margin-right: 0.25em;color: #696969;}#sk-container-id-6 label.sk-toggleable__label-arrow:hover:before {color: black;}#sk-container-id-6 div.sk-estimator:hover label.sk-toggleable__label-arrow:before {color: black;}#sk-container-id-6 div.sk-toggleable__content {max-height: 0;max-width: 0;overflow: hidden;text-align: left;background-color: #f0f8ff;}#sk-container-id-6 div.sk-toggleable__content pre {margin: 0.2em;color: black;border-radius: 0.25em;background-color: #f0f8ff;}#sk-container-id-6 input.sk-toggleable__control:checked~div.sk-toggleable__content {max-height: 200px;max-width: 100%;overflow: auto;}#sk-container-id-6 input.sk-toggleable__control:checked~label.sk-toggleable__label-arrow:before {content: \"▾\";}#sk-container-id-6 div.sk-estimator input.sk-toggleable__control:checked~label.sk-toggleable__label {background-color: #d4ebff;}#sk-container-id-6 div.sk-label input.sk-toggleable__control:checked~label.sk-toggleable__label {background-color: #d4ebff;}#sk-container-id-6 input.sk-hidden--visually {border: 0;clip: rect(1px 1px 1px 1px);clip: rect(1px, 1px, 1px, 1px);height: 1px;margin: -1px;overflow: hidden;padding: 0;position: absolute;width: 1px;}#sk-container-id-6 div.sk-estimator {font-family: monospace;background-color: #f0f8ff;border: 1px dotted black;border-radius: 0.25em;box-sizing: border-box;margin-bottom: 0.5em;}#sk-container-id-6 div.sk-estimator:hover {background-color: #d4ebff;}#sk-container-id-6 div.sk-parallel-item::after {content: \"\";width: 100%;border-bottom: 1px solid gray;flex-grow: 1;}#sk-container-id-6 div.sk-label:hover label.sk-toggleable__label {background-color: #d4ebff;}#sk-container-id-6 div.sk-serial::before {content: \"\";position: absolute;border-left: 1px solid gray;box-sizing: border-box;top: 0;bottom: 0;left: 50%;z-index: 0;}#sk-container-id-6 div.sk-serial {display: flex;flex-direction: column;align-items: center;background-color: white;padding-right: 0.2em;padding-left: 0.2em;position: relative;}#sk-container-id-6 div.sk-item {position: relative;z-index: 1;}#sk-container-id-6 div.sk-parallel {display: flex;align-items: stretch;justify-content: center;background-color: white;position: relative;}#sk-container-id-6 div.sk-item::before, #sk-container-id-6 div.sk-parallel-item::before {content: \"\";position: absolute;border-left: 1px solid gray;box-sizing: border-box;top: 0;bottom: 0;left: 50%;z-index: -1;}#sk-container-id-6 div.sk-parallel-item {display: flex;flex-direction: column;z-index: 1;position: relative;background-color: white;}#sk-container-id-6 div.sk-parallel-item:first-child::after {align-self: flex-end;width: 50%;}#sk-container-id-6 div.sk-parallel-item:last-child::after {align-self: flex-start;width: 50%;}#sk-container-id-6 div.sk-parallel-item:only-child::after {width: 0;}#sk-container-id-6 div.sk-dashed-wrapped {border: 1px dashed gray;margin: 0 0.4em 0.5em 0.4em;box-sizing: border-box;padding-bottom: 0.4em;background-color: white;}#sk-container-id-6 div.sk-label label {font-family: monospace;font-weight: bold;display: inline-block;line-height: 1.2em;}#sk-container-id-6 div.sk-label-container {text-align: center;}#sk-container-id-6 div.sk-container {/* jupyter's `normalize.less` sets `[hidden] { display: none; }` but bootstrap.min.css set `[hidden] { display: none !important; }` so we also need the `!important` here to be able to override the default hidden behavior on the sphinx rendered scikit-learn.org. See: https://github.com/scikit-learn/scikit-learn/issues/21755 */display: inline-block !important;position: relative;}#sk-container-id-6 div.sk-text-repr-fallback {display: none;}</style><div id=\"sk-container-id-6\" class=\"sk-top-container\"><div class=\"sk-text-repr-fallback\"><pre>RandomForestClassifier(max_depth=30, max_features=&#x27;log2&#x27;, min_samples_leaf=15,\n",
       "                       n_estimators=800)</pre><b>In a Jupyter environment, please rerun this cell to show the HTML representation or trust the notebook. <br />On GitHub, the HTML representation is unable to render, please try loading this page with nbviewer.org.</b></div><div class=\"sk-container\" hidden><div class=\"sk-item\"><div class=\"sk-estimator sk-toggleable\"><input class=\"sk-toggleable__control sk-hidden--visually\" id=\"sk-estimator-id-6\" type=\"checkbox\" checked><label for=\"sk-estimator-id-6\" class=\"sk-toggleable__label sk-toggleable__label-arrow\">RandomForestClassifier</label><div class=\"sk-toggleable__content\"><pre>RandomForestClassifier(max_depth=30, max_features=&#x27;log2&#x27;, min_samples_leaf=15,\n",
       "                       n_estimators=800)</pre></div></div></div></div></div>"
      ],
      "text/plain": [
       "RandomForestClassifier(max_depth=30, max_features='log2', min_samples_leaf=15,\n",
       "                       n_estimators=800)"
      ]
     },
     "execution_count": 71,
     "metadata": {},
     "output_type": "execute_result"
    }
   ],
   "source": [
    "bayesSearch.best_estimator_"
   ]
  },
  {
   "cell_type": "code",
   "execution_count": 72,
   "id": "e3deed67-6d95-47c9-adfc-35500b30f26d",
   "metadata": {},
   "outputs": [
    {
     "data": {
      "text/plain": [
       "0.9400793650793651"
      ]
     },
     "execution_count": 72,
     "metadata": {},
     "output_type": "execute_result"
    }
   ],
   "source": [
    "bayesSearch.best_score_"
   ]
  },
  {
   "cell_type": "code",
   "execution_count": 73,
   "id": "065e00b8-0ee1-48ce-9408-4325562655e6",
   "metadata": {},
   "outputs": [
    {
     "data": {
      "text/plain": [
       "OrderedDict([('max_depth', 30),\n",
       "             ('max_features', 'log2'),\n",
       "             ('min_samples_leaf', 15),\n",
       "             ('min_samples_split', 2),\n",
       "             ('n_estimators', 800)])"
      ]
     },
     "execution_count": 73,
     "metadata": {},
     "output_type": "execute_result"
    }
   ],
   "source": [
    "bayesSearch.best_params_"
   ]
  },
  {
   "cell_type": "code",
   "execution_count": 74,
   "id": "a1a2a163-796b-41e7-a0a8-5c7489a28580",
   "metadata": {},
   "outputs": [],
   "source": [
    "best_model_randomFlorest = RandomForestClassifier(**bayesSearch.best_params_)"
   ]
  },
  {
   "cell_type": "code",
   "execution_count": 75,
   "id": "e52dd2da-8163-4d63-aecc-2955d205e59b",
   "metadata": {},
   "outputs": [
    {
     "data": {
      "text/html": [
       "<style>#sk-container-id-7 {color: black;background-color: white;}#sk-container-id-7 pre{padding: 0;}#sk-container-id-7 div.sk-toggleable {background-color: white;}#sk-container-id-7 label.sk-toggleable__label {cursor: pointer;display: block;width: 100%;margin-bottom: 0;padding: 0.3em;box-sizing: border-box;text-align: center;}#sk-container-id-7 label.sk-toggleable__label-arrow:before {content: \"▸\";float: left;margin-right: 0.25em;color: #696969;}#sk-container-id-7 label.sk-toggleable__label-arrow:hover:before {color: black;}#sk-container-id-7 div.sk-estimator:hover label.sk-toggleable__label-arrow:before {color: black;}#sk-container-id-7 div.sk-toggleable__content {max-height: 0;max-width: 0;overflow: hidden;text-align: left;background-color: #f0f8ff;}#sk-container-id-7 div.sk-toggleable__content pre {margin: 0.2em;color: black;border-radius: 0.25em;background-color: #f0f8ff;}#sk-container-id-7 input.sk-toggleable__control:checked~div.sk-toggleable__content {max-height: 200px;max-width: 100%;overflow: auto;}#sk-container-id-7 input.sk-toggleable__control:checked~label.sk-toggleable__label-arrow:before {content: \"▾\";}#sk-container-id-7 div.sk-estimator input.sk-toggleable__control:checked~label.sk-toggleable__label {background-color: #d4ebff;}#sk-container-id-7 div.sk-label input.sk-toggleable__control:checked~label.sk-toggleable__label {background-color: #d4ebff;}#sk-container-id-7 input.sk-hidden--visually {border: 0;clip: rect(1px 1px 1px 1px);clip: rect(1px, 1px, 1px, 1px);height: 1px;margin: -1px;overflow: hidden;padding: 0;position: absolute;width: 1px;}#sk-container-id-7 div.sk-estimator {font-family: monospace;background-color: #f0f8ff;border: 1px dotted black;border-radius: 0.25em;box-sizing: border-box;margin-bottom: 0.5em;}#sk-container-id-7 div.sk-estimator:hover {background-color: #d4ebff;}#sk-container-id-7 div.sk-parallel-item::after {content: \"\";width: 100%;border-bottom: 1px solid gray;flex-grow: 1;}#sk-container-id-7 div.sk-label:hover label.sk-toggleable__label {background-color: #d4ebff;}#sk-container-id-7 div.sk-serial::before {content: \"\";position: absolute;border-left: 1px solid gray;box-sizing: border-box;top: 0;bottom: 0;left: 50%;z-index: 0;}#sk-container-id-7 div.sk-serial {display: flex;flex-direction: column;align-items: center;background-color: white;padding-right: 0.2em;padding-left: 0.2em;position: relative;}#sk-container-id-7 div.sk-item {position: relative;z-index: 1;}#sk-container-id-7 div.sk-parallel {display: flex;align-items: stretch;justify-content: center;background-color: white;position: relative;}#sk-container-id-7 div.sk-item::before, #sk-container-id-7 div.sk-parallel-item::before {content: \"\";position: absolute;border-left: 1px solid gray;box-sizing: border-box;top: 0;bottom: 0;left: 50%;z-index: -1;}#sk-container-id-7 div.sk-parallel-item {display: flex;flex-direction: column;z-index: 1;position: relative;background-color: white;}#sk-container-id-7 div.sk-parallel-item:first-child::after {align-self: flex-end;width: 50%;}#sk-container-id-7 div.sk-parallel-item:last-child::after {align-self: flex-start;width: 50%;}#sk-container-id-7 div.sk-parallel-item:only-child::after {width: 0;}#sk-container-id-7 div.sk-dashed-wrapped {border: 1px dashed gray;margin: 0 0.4em 0.5em 0.4em;box-sizing: border-box;padding-bottom: 0.4em;background-color: white;}#sk-container-id-7 div.sk-label label {font-family: monospace;font-weight: bold;display: inline-block;line-height: 1.2em;}#sk-container-id-7 div.sk-label-container {text-align: center;}#sk-container-id-7 div.sk-container {/* jupyter's `normalize.less` sets `[hidden] { display: none; }` but bootstrap.min.css set `[hidden] { display: none !important; }` so we also need the `!important` here to be able to override the default hidden behavior on the sphinx rendered scikit-learn.org. See: https://github.com/scikit-learn/scikit-learn/issues/21755 */display: inline-block !important;position: relative;}#sk-container-id-7 div.sk-text-repr-fallback {display: none;}</style><div id=\"sk-container-id-7\" class=\"sk-top-container\"><div class=\"sk-text-repr-fallback\"><pre>RandomForestClassifier(max_depth=30, max_features=&#x27;log2&#x27;, min_samples_leaf=15,\n",
       "                       n_estimators=800)</pre><b>In a Jupyter environment, please rerun this cell to show the HTML representation or trust the notebook. <br />On GitHub, the HTML representation is unable to render, please try loading this page with nbviewer.org.</b></div><div class=\"sk-container\" hidden><div class=\"sk-item\"><div class=\"sk-estimator sk-toggleable\"><input class=\"sk-toggleable__control sk-hidden--visually\" id=\"sk-estimator-id-7\" type=\"checkbox\" checked><label for=\"sk-estimator-id-7\" class=\"sk-toggleable__label sk-toggleable__label-arrow\">RandomForestClassifier</label><div class=\"sk-toggleable__content\"><pre>RandomForestClassifier(max_depth=30, max_features=&#x27;log2&#x27;, min_samples_leaf=15,\n",
       "                       n_estimators=800)</pre></div></div></div></div></div>"
      ],
      "text/plain": [
       "RandomForestClassifier(max_depth=30, max_features='log2', min_samples_leaf=15,\n",
       "                       n_estimators=800)"
      ]
     },
     "execution_count": 75,
     "metadata": {},
     "output_type": "execute_result"
    }
   ],
   "source": [
    "best_model_randomFlorest.fit(x_train,y_train)"
   ]
  },
  {
   "cell_type": "code",
   "execution_count": 76,
   "id": "4b627ac0-f1ad-4227-983e-91d49a90eb6c",
   "metadata": {},
   "outputs": [
    {
     "name": "stdout",
     "output_type": "stream",
     "text": [
      "model name:  RandomForestClassifier\n",
      "Array: \n",
      "--------> recall : [ [0.9504644  0.940625   0.92592593 0.925      0.93396226] ]\n",
      "\n",
      "recall : 0.935 std : 0.01\n",
      "Intervalo :  [91.61% ~ 95.43%]\n",
      "\n",
      "------------------------------\n",
      "Array: \n",
      "--------> accuracy : [ [0.94598765 0.94135802 0.93055556 0.93209877 0.93055556] ]\n",
      "\n",
      "accuracy : 0.936 std : 0.006\n",
      "Intervalo :  [92.34% ~ 94.89%]\n",
      "\n",
      "------------------------------\n",
      "Array: \n",
      "--------> f1 : [ [0.94623656 0.93896714 0.93333333 0.92935636 0.93059937] ]\n",
      "\n",
      "f1 : 0.936 std : 0.006\n",
      "Intervalo :  [92.33% ~ 94.81%]\n",
      "\n",
      "------------------------------\n"
     ]
    }
   ],
   "source": [
    "df_result = cross_score(x_test,y_test,best_model_randomFlorest,best_model_randomFlorest.__class__.__name__,scorer)"
   ]
  },
  {
   "cell_type": "code",
   "execution_count": 77,
   "id": "7d773800-efa9-40a6-ba98-a0e776f0798d",
   "metadata": {},
   "outputs": [
    {
     "data": {
      "text/html": [
       "<div>\n",
       "<style scoped>\n",
       "    .dataframe tbody tr th:only-of-type {\n",
       "        vertical-align: middle;\n",
       "    }\n",
       "\n",
       "    .dataframe tbody tr th {\n",
       "        vertical-align: top;\n",
       "    }\n",
       "\n",
       "    .dataframe thead th {\n",
       "        text-align: right;\n",
       "    }\n",
       "</style>\n",
       "<table border=\"1\" class=\"dataframe\">\n",
       "  <thead>\n",
       "    <tr style=\"text-align: right;\">\n",
       "      <th></th>\n",
       "      <th>recall</th>\n",
       "      <th>f1</th>\n",
       "      <th>accuracy</th>\n",
       "      <th>std_acc</th>\n",
       "      <th>std_recall</th>\n",
       "      <th>std_f1</th>\n",
       "    </tr>\n",
       "  </thead>\n",
       "  <tbody>\n",
       "    <tr>\n",
       "      <th>RandomForestClassifier</th>\n",
       "      <td>0.935</td>\n",
       "      <td>0.936</td>\n",
       "      <td>0.936</td>\n",
       "      <td>0.006</td>\n",
       "      <td>0.01</td>\n",
       "      <td>0.006</td>\n",
       "    </tr>\n",
       "  </tbody>\n",
       "</table>\n",
       "</div>"
      ],
      "text/plain": [
       "                        recall     f1  accuracy  std_acc  std_recall  std_f1\n",
       "RandomForestClassifier   0.935  0.936     0.936    0.006        0.01   0.006"
      ]
     },
     "execution_count": 77,
     "metadata": {},
     "output_type": "execute_result"
    }
   ],
   "source": [
    "df_result"
   ]
  },
  {
   "cell_type": "code",
   "execution_count": 79,
   "id": "8724fdce-bd5a-4e22-9d41-b1e9bd0957f7",
   "metadata": {},
   "outputs": [
    {
     "data": {
      "text/html": [
       "<div>\n",
       "<style scoped>\n",
       "    .dataframe tbody tr th:only-of-type {\n",
       "        vertical-align: middle;\n",
       "    }\n",
       "\n",
       "    .dataframe tbody tr th {\n",
       "        vertical-align: top;\n",
       "    }\n",
       "\n",
       "    .dataframe thead th {\n",
       "        text-align: right;\n",
       "    }\n",
       "</style>\n",
       "<table border=\"1\" class=\"dataframe\">\n",
       "  <thead>\n",
       "    <tr style=\"text-align: right;\">\n",
       "      <th></th>\n",
       "      <th>recall</th>\n",
       "      <th>f1</th>\n",
       "      <th>accuracy</th>\n",
       "      <th>std_acc</th>\n",
       "      <th>std_recall</th>\n",
       "      <th>std_f1</th>\n",
       "    </tr>\n",
       "  </thead>\n",
       "  <tbody>\n",
       "    <tr>\n",
       "      <th>RandomForestClassifier</th>\n",
       "      <td>0.943</td>\n",
       "      <td>0.934</td>\n",
       "      <td>0.934</td>\n",
       "      <td>0.007</td>\n",
       "      <td>0.007</td>\n",
       "      <td>0.008</td>\n",
       "    </tr>\n",
       "  </tbody>\n",
       "</table>\n",
       "</div>"
      ],
      "text/plain": [
       "                        recall     f1  accuracy  std_acc  std_recall  std_f1\n",
       "RandomForestClassifier   0.943  0.934     0.934    0.007       0.007   0.008"
      ]
     },
     "execution_count": 79,
     "metadata": {},
     "output_type": "execute_result"
    }
   ],
   "source": [
    "resultado.head(1)"
   ]
  },
  {
   "cell_type": "code",
   "execution_count": 84,
   "id": "9fa77d58-7e1e-4ddb-baca-59f59a80091b",
   "metadata": {},
   "outputs": [],
   "source": [
    "y_pred = best_model_randomFlorest.predict(x_test)\n",
    "probs =  best_model_randomFlorest.predict_proba(x_test)"
   ]
  },
  {
   "cell_type": "code",
   "execution_count": 96,
   "id": "3228848f-d9ab-4000-b0e4-deab1218b9bb",
   "metadata": {},
   "outputs": [
    {
     "name": "stdout",
     "output_type": "stream",
     "text": [
      "Acuracia : 93.611%\n",
      "F1_score: 93.587%\n",
      "Precison: 93.327%\n",
      "Recall: 93.849%\n",
      "--------------------\n",
      "Classification Report\n",
      "              precision    recall  f1-score   support\n",
      "\n",
      "        FAKE       0.94      0.93      0.94      1087\n",
      "        TRUE       0.93      0.94      0.94      1073\n",
      "\n",
      "    accuracy                           0.94      2160\n",
      "   macro avg       0.94      0.94      0.94      2160\n",
      "weighted avg       0.94      0.94      0.94      2160\n",
      "\n",
      "--------------------\n",
      "Plot curva roc\n",
      "ROC AUC=0.984\n"
     ]
    },
    {
     "data": {
      "image/png": "[encoded data removed]",
      "text/plain": [
       "<Figure size 432x288 with 1 Axes>"
      ]
     },
     "metadata": {
      "needs_background": "light"
     },
     "output_type": "display_data"
    }
   ],
   "source": [
    "build_score(y_pred,y_test,probs)"
   ]
  },
  {
   "cell_type": "code",
   "execution_count": null,
   "id": "ee0334a7-3b9b-421c-8258-e0bfe74e7bbb",
   "metadata": {},
   "outputs": [],
   "source": []
  }
 ],
 "metadata": {
  "kernelspec": {
   "display_name": "Python 3 (ipykernel)",
   "language": "python",
   "name": "python3"
  },
  "language_info": {
   "codemirror_mode": {
    "name": "ipython",
    "version": 3
   },
   "file_extension": ".py",
   "mimetype": "text/x-python",
   "name": "python",
   "nbconvert_exporter": "python",
   "pygments_lexer": "ipython3",
   "version": "3.8.10"
  }
 },
 "nbformat": 4,
 "nbformat_minor": 5
}
