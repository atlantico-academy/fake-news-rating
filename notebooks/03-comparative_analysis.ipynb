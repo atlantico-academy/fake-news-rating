{
 "cells": [
  {
   "cell_type": "code",
   "execution_count": 49,
   "id": "a8afd6c8-6bbf-4702-866f-f78c76ae80cc",
   "metadata": {},
   "outputs": [],
   "source": [
    "import pandas as pd\n",
    "import nltk\n",
    "from sklearn.feature_extraction.text import TfidfVectorizer\n",
    "from sklearn.model_selection import train_test_split, GridSearchCV,RandomizedSearchCV,cross_val_score,KFold,RepeatedStratifiedKFold\n",
    "from sklearn.naive_bayes import GaussianNB\n",
    "from sklearn.tree import DecisionTreeClassifier\n",
    "from xgboost import XGBClassifier\n",
    "from sklearn.ensemble import RandomForestClassifier,AdaBoostClassifier,GradientBoostingClassifier\n",
    "from sklearn.metrics import classification_report,accuracy_score,roc_curve,f1_score,recall_score\n",
    "from sklearn.preprocessing import LabelEncoder\n",
    "from sklearn.dummy import DummyClassifier"
   ]
  },
  {
   "cell_type": "code",
   "execution_count": 3,
   "id": "edc75079-0452-4c7c-89f9-fc4ec2fca6f5",
   "metadata": {},
   "outputs": [],
   "source": [
    "path = \"../data/interim/\""
   ]
  },
  {
   "cell_type": "code",
   "execution_count": null,
   "id": "0fec0093-fe40-4bcf-aab6-3f43e0d425e2",
   "metadata": {},
   "outputs": [],
   "source": [
    "# def classifica_texto(texto,coluna_texto,coluna_classificacao):\n",
    "#     vetorizarResenha = CountVectorizer(lowercase=False, max_features=50)\n",
    "#     bag_of_words_Resenha = vetorizarResenha.fit_transform(texto[coluna_texto])\n",
    "#     treino, teste, classe_treino, classe_teste = train_test_split(bag_of_words_Resenha,\n",
    "#                                                               texto[coluna_classificacao],\n",
    "#                                                               random_state = 42)"
   ]
  },
  {
   "cell_type": "code",
   "execution_count": 70,
   "id": "e92b8bf2-b051-464e-ade8-da88533ea448",
   "metadata": {},
   "outputs": [],
   "source": [
    "scorer = [\"recall\",\"accuracy\",\"f1\"]\n",
    "def cross_score(data_X,data_Y, kfold,estimator,estimator_name,score=[],export=False):\n",
    "    recall = []\n",
    "    acc  = []\n",
    "    f1 = []\n",
    "    std_acc=[]\n",
    "    std_recall=[]\n",
    "    std_f1=[]\n",
    "    print(\"model name: \",estimator_name)\n",
    "    for sc in score:\n",
    "        cv = cross_val_score(estimator,data_X,data_Y, scoring=sc, cv=kfold)\n",
    "        mean = cv.mean()\n",
    "        std = cv.std()\n",
    "        \n",
    "        print(\"Array: \")\n",
    "        print(\"--------> \"+sc + \" : [ \"+str(cv)+\" ]\\n\")\n",
    "        print(sc + \" : \"+ str(round(mean,3)) + \" std : \"+ str(round(std,3)))\n",
    "        print(\"Intervalo :  [{:.2f}% ~ {:.2f}%]\".format((mean - 2*std)*100, (mean + 2*std)*100))\n",
    "        print()\n",
    "        \n",
    "        if sc == \"recall\":\n",
    "            recall.append(round(mean,3))\n",
    "            std_recall.append(round(std,3))\n",
    "        elif sc == \"f1\":\n",
    "            f1.append(round(mean,3))\n",
    "            std_f1.append(round(std,3))\n",
    "        else:\n",
    "            acc.append(round(mean,3))\n",
    "            std_acc.append(round(std,3))\n",
    "        print(\"-\"*30)\n",
    "    if export is True:\n",
    "        df_ = pd.DataFrame(data=zip(recall,f1,acc,std_acc,std_recall,std_f1), index=[estimator_name],\\\n",
    "                           columns=['recall','f1','accuracy',\"std_acc\",\"std_recall\",\"std_f1\"])\n",
    "        return df_"
   ]
  },
  {
   "cell_type": "code",
   "execution_count": 24,
   "id": "c740bbb9-b49d-487e-93c0-321b3aa1edfc",
   "metadata": {},
   "outputs": [],
   "source": [
    "def make_data_for_machine_learning_tfidf(df,col,label):\n",
    "    vetorizarResenha = TfidfVectorizer(lowercase=False, max_features=50)\n",
    "    bag_of_words_ = vetorizarResenha.fit_transform(df[col])\n",
    "    X = pd.DataFrame(bag_of_words_.toarray(),columns=vetorizarResenha.get_feature_names_out())\n",
    "    x_train, x_test, y_train, y_test = train_test_split(X,\n",
    "                                                              df[label],\n",
    "                                                            test_size=0.3,\n",
    "                                                              random_state = 42)\n",
    "    return x_train, x_test, y_train, y_test"
   ]
  },
  {
   "cell_type": "markdown",
   "id": "88484c43-6e99-4243-8c14-a8c050a69744",
   "metadata": {
    "tags": []
   },
   "source": [
    "## No stopWords"
   ]
  },
  {
   "cell_type": "markdown",
   "id": "9b16eadf-2a31-4f96-bfdd-6118c4350c01",
   "metadata": {
    "tags": []
   },
   "source": [
    "### Lemma"
   ]
  },
  {
   "cell_type": "code",
   "execution_count": 6,
   "id": "e50cf733-84e9-4ae3-830a-6386fa426109",
   "metadata": {},
   "outputs": [
    {
     "data": {
      "text/html": [
       "<div>\n",
       "<style scoped>\n",
       "    .dataframe tbody tr th:only-of-type {\n",
       "        vertical-align: middle;\n",
       "    }\n",
       "\n",
       "    .dataframe tbody tr th {\n",
       "        vertical-align: top;\n",
       "    }\n",
       "\n",
       "    .dataframe thead th {\n",
       "        text-align: right;\n",
       "    }\n",
       "</style>\n",
       "<table border=\"1\" class=\"dataframe\">\n",
       "  <thead>\n",
       "    <tr style=\"text-align: right;\">\n",
       "      <th></th>\n",
       "      <th>text</th>\n",
       "      <th>category</th>\n",
       "      <th>label</th>\n",
       "      <th>site</th>\n",
       "    </tr>\n",
       "  </thead>\n",
       "  <tbody>\n",
       "    <tr>\n",
       "      <th>0</th>\n",
       "      <td>Kát abr dizer ir coloc expuls Mold reclam sen ...</td>\n",
       "      <td>politica</td>\n",
       "      <td>fake</td>\n",
       "      <td>https://ceticismopolitico.com</td>\n",
       "    </tr>\n",
       "    <tr>\n",
       "      <th>1</th>\n",
       "      <td>dr ray peit bolsonar chamar conserv fak entrev...</td>\n",
       "      <td>politica</td>\n",
       "      <td>fake</td>\n",
       "      <td>https://ceticismopolitico.com</td>\n",
       "    </tr>\n",
       "    <tr>\n",
       "      <th>2</th>\n",
       "      <td>reinald azeved desmascar políci feder ferrenh ...</td>\n",
       "      <td>politica</td>\n",
       "      <td>fake</td>\n",
       "      <td>https://afolhabrasil.com.br</td>\n",
       "    </tr>\n",
       "    <tr>\n",
       "      <th>3</th>\n",
       "      <td>relatóri assustr bnd mostr dinh públic Brasil ...</td>\n",
       "      <td>politica</td>\n",
       "      <td>fake</td>\n",
       "      <td>https://www.diariodobrasil.org</td>\n",
       "    </tr>\n",
       "    <tr>\n",
       "      <th>4</th>\n",
       "      <td>radial americ fal Sobr pt vend ilusãr pov Bras...</td>\n",
       "      <td>politica</td>\n",
       "      <td>fake</td>\n",
       "      <td>https://www.diariodobrasil.org</td>\n",
       "    </tr>\n",
       "  </tbody>\n",
       "</table>\n",
       "</div>"
      ],
      "text/plain": [
       "                                                text  category label  \\\n",
       "0  Kát abr dizer ir coloc expuls Mold reclam sen ...  politica  fake   \n",
       "1  dr ray peit bolsonar chamar conserv fak entrev...  politica  fake   \n",
       "2  reinald azeved desmascar políci feder ferrenh ...  politica  fake   \n",
       "3  relatóri assustr bnd mostr dinh públic Brasil ...  politica  fake   \n",
       "4  radial americ fal Sobr pt vend ilusãr pov Bras...  politica  fake   \n",
       "\n",
       "                             site  \n",
       "0   https://ceticismopolitico.com  \n",
       "1   https://ceticismopolitico.com  \n",
       "2     https://afolhabrasil.com.br  \n",
       "3  https://www.diariodobrasil.org  \n",
       "4  https://www.diariodobrasil.org  "
      ]
     },
     "execution_count": 6,
     "metadata": {},
     "output_type": "execute_result"
    }
   ],
   "source": [
    "df_test = pd.read_csv(path+\"no_stopWords_lemma.csv\")\n",
    "df_test.head()"
   ]
  },
  {
   "cell_type": "code",
   "execution_count": null,
   "id": "32a7398e-d1ee-437e-a523-370647c865e8",
   "metadata": {},
   "outputs": [],
   "source": []
  },
  {
   "cell_type": "code",
   "execution_count": 25,
   "id": "4d92d9fb-af75-4773-b8ab-8a6a7fe91f62",
   "metadata": {},
   "outputs": [],
   "source": [
    " x_train,x_test,y_train,y_test= make_data_for_machine_learning_tfidf(df_test,\"text\",\"label\")"
   ]
  },
  {
   "cell_type": "code",
   "execution_count": 26,
   "id": "53d386ee-e0c8-47b5-9af3-8dd0a93a64b3",
   "metadata": {},
   "outputs": [
    {
     "name": "stdout",
     "output_type": "stream",
     "text": [
      "treino _ x: (5040, 50)\n",
      "treino _ y : (5040,)\n",
      "test _ x : (2160, 50)\n",
      "test _ y: (2160,)\n"
     ]
    }
   ],
   "source": [
    "print(\"treino _ x: {}\".format(x_train.shape))\n",
    "print(\"treino _ y : {}\".format(y_train.shape))\n",
    "print(\"test _ x : {}\".format(x_test.shape))\n",
    "print(\"test _ y: {}\".format(y_test.shape))     "
   ]
  },
  {
   "cell_type": "markdown",
   "id": "c07ddb12-0f57-4ba8-8feb-1648af9b01a8",
   "metadata": {},
   "source": [
    "#### Fazendo baseline"
   ]
  },
  {
   "cell_type": "code",
   "execution_count": 43,
   "id": "35f72aba-0a8b-464d-b1cf-8bcf190ce8ed",
   "metadata": {},
   "outputs": [],
   "source": [
    "dummy_clf = DummyClassifier()"
   ]
  },
  {
   "cell_type": "code",
   "execution_count": 44,
   "id": "13c0582c-4d81-47f1-a2a4-be322e658fad",
   "metadata": {},
   "outputs": [
    {
     "data": {
      "text/html": [
       "<style>#sk-container-id-2 {color: black;background-color: white;}#sk-container-id-2 pre{padding: 0;}#sk-container-id-2 div.sk-toggleable {background-color: white;}#sk-container-id-2 label.sk-toggleable__label {cursor: pointer;display: block;width: 100%;margin-bottom: 0;padding: 0.3em;box-sizing: border-box;text-align: center;}#sk-container-id-2 label.sk-toggleable__label-arrow:before {content: \"▸\";float: left;margin-right: 0.25em;color: #696969;}#sk-container-id-2 label.sk-toggleable__label-arrow:hover:before {color: black;}#sk-container-id-2 div.sk-estimator:hover label.sk-toggleable__label-arrow:before {color: black;}#sk-container-id-2 div.sk-toggleable__content {max-height: 0;max-width: 0;overflow: hidden;text-align: left;background-color: #f0f8ff;}#sk-container-id-2 div.sk-toggleable__content pre {margin: 0.2em;color: black;border-radius: 0.25em;background-color: #f0f8ff;}#sk-container-id-2 input.sk-toggleable__control:checked~div.sk-toggleable__content {max-height: 200px;max-width: 100%;overflow: auto;}#sk-container-id-2 input.sk-toggleable__control:checked~label.sk-toggleable__label-arrow:before {content: \"▾\";}#sk-container-id-2 div.sk-estimator input.sk-toggleable__control:checked~label.sk-toggleable__label {background-color: #d4ebff;}#sk-container-id-2 div.sk-label input.sk-toggleable__control:checked~label.sk-toggleable__label {background-color: #d4ebff;}#sk-container-id-2 input.sk-hidden--visually {border: 0;clip: rect(1px 1px 1px 1px);clip: rect(1px, 1px, 1px, 1px);height: 1px;margin: -1px;overflow: hidden;padding: 0;position: absolute;width: 1px;}#sk-container-id-2 div.sk-estimator {font-family: monospace;background-color: #f0f8ff;border: 1px dotted black;border-radius: 0.25em;box-sizing: border-box;margin-bottom: 0.5em;}#sk-container-id-2 div.sk-estimator:hover {background-color: #d4ebff;}#sk-container-id-2 div.sk-parallel-item::after {content: \"\";width: 100%;border-bottom: 1px solid gray;flex-grow: 1;}#sk-container-id-2 div.sk-label:hover label.sk-toggleable__label {background-color: #d4ebff;}#sk-container-id-2 div.sk-serial::before {content: \"\";position: absolute;border-left: 1px solid gray;box-sizing: border-box;top: 0;bottom: 0;left: 50%;z-index: 0;}#sk-container-id-2 div.sk-serial {display: flex;flex-direction: column;align-items: center;background-color: white;padding-right: 0.2em;padding-left: 0.2em;position: relative;}#sk-container-id-2 div.sk-item {position: relative;z-index: 1;}#sk-container-id-2 div.sk-parallel {display: flex;align-items: stretch;justify-content: center;background-color: white;position: relative;}#sk-container-id-2 div.sk-item::before, #sk-container-id-2 div.sk-parallel-item::before {content: \"\";position: absolute;border-left: 1px solid gray;box-sizing: border-box;top: 0;bottom: 0;left: 50%;z-index: -1;}#sk-container-id-2 div.sk-parallel-item {display: flex;flex-direction: column;z-index: 1;position: relative;background-color: white;}#sk-container-id-2 div.sk-parallel-item:first-child::after {align-self: flex-end;width: 50%;}#sk-container-id-2 div.sk-parallel-item:last-child::after {align-self: flex-start;width: 50%;}#sk-container-id-2 div.sk-parallel-item:only-child::after {width: 0;}#sk-container-id-2 div.sk-dashed-wrapped {border: 1px dashed gray;margin: 0 0.4em 0.5em 0.4em;box-sizing: border-box;padding-bottom: 0.4em;background-color: white;}#sk-container-id-2 div.sk-label label {font-family: monospace;font-weight: bold;display: inline-block;line-height: 1.2em;}#sk-container-id-2 div.sk-label-container {text-align: center;}#sk-container-id-2 div.sk-container {/* jupyter's `normalize.less` sets `[hidden] { display: none; }` but bootstrap.min.css set `[hidden] { display: none !important; }` so we also need the `!important` here to be able to override the default hidden behavior on the sphinx rendered scikit-learn.org. See: https://github.com/scikit-learn/scikit-learn/issues/21755 */display: inline-block !important;position: relative;}#sk-container-id-2 div.sk-text-repr-fallback {display: none;}</style><div id=\"sk-container-id-2\" class=\"sk-top-container\"><div class=\"sk-text-repr-fallback\"><pre>DummyClassifier()</pre><b>In a Jupyter environment, please rerun this cell to show the HTML representation or trust the notebook. <br />On GitHub, the HTML representation is unable to render, please try loading this page with nbviewer.org.</b></div><div class=\"sk-container\" hidden><div class=\"sk-item\"><div class=\"sk-estimator sk-toggleable\"><input class=\"sk-toggleable__control sk-hidden--visually\" id=\"sk-estimator-id-2\" type=\"checkbox\" checked><label for=\"sk-estimator-id-2\" class=\"sk-toggleable__label sk-toggleable__label-arrow\">DummyClassifier</label><div class=\"sk-toggleable__content\"><pre>DummyClassifier()</pre></div></div></div></div></div>"
      ],
      "text/plain": [
       "DummyClassifier()"
      ]
     },
     "execution_count": 44,
     "metadata": {},
     "output_type": "execute_result"
    }
   ],
   "source": [
    "dummy_clf.fit(x_train,y_train)"
   ]
  },
  {
   "cell_type": "code",
   "execution_count": 46,
   "id": "cbb95918-a3c1-4226-9768-a9090062a060",
   "metadata": {},
   "outputs": [
    {
     "name": "stdout",
     "output_type": "stream",
     "text": [
      "Array: \n",
      "--------> recall : [ [0. 0. 0.] ]\n",
      "\n",
      "recall : 0.0 std : 0.0\n",
      "Intervalo :  [0.00% ~ 0.00%]\n",
      "\n",
      "Array: \n",
      "--------> accuracy : [ [0.50416667 0.50277778 0.50277778] ]\n",
      "\n",
      "accuracy : 0.503 std : 0.001\n",
      "Intervalo :  [50.19% ~ 50.46%]\n",
      "\n",
      "Array: \n",
      "--------> f1 : [ [0. 0. 0.] ]\n",
      "\n",
      "f1 : 0.0 std : 0.0\n",
      "Intervalo :  [0.00% ~ 0.00%]\n",
      "\n"
     ]
    }
   ],
   "source": [
    "cross_score(x_test,y_test,3,dummy_clf,\"DummyClassifier\",scorer)"
   ]
  },
  {
   "cell_type": "markdown",
   "id": "ab4ea049-7f6d-4459-ba25-d627bd599b1d",
   "metadata": {},
   "source": [
    "baseline acc 50%"
   ]
  },
  {
   "cell_type": "code",
   "execution_count": 47,
   "id": "714b4a37-c8f5-4796-a4fb-6c0bcd5fa8ef",
   "metadata": {},
   "outputs": [],
   "source": [
    "#carregando os modelos"
   ]
  },
  {
   "cell_type": "code",
   "execution_count": 51,
   "id": "9c861df3-4ab9-4fbe-986e-7cd50d81d529",
   "metadata": {},
   "outputs": [],
   "source": [
    "random_florest = RandomForestClassifier()\n",
    "reg_logistic = LogisticRegression()\n",
    "xgb = XGBClassifier()\n",
    "tree = DecisionTreeClassifier()\n",
    "ada = AdaBoostClassifier()\n",
    "gbm = GradientBoostingClassifier()\n",
    "gnb = GaussianNB()"
   ]
  },
  {
   "cell_type": "code",
   "execution_count": 53,
   "id": "124832d3-56f5-40e6-9574-a5680db39160",
   "metadata": {},
   "outputs": [],
   "source": [
    "models = [random_florest,reg_logistic,xgb,tree,ada,gbm,gnb]"
   ]
  },
  {
   "cell_type": "code",
   "execution_count": 72,
   "id": "7790cf4d-4c88-432c-94d2-b7578e2c458f",
   "metadata": {},
   "outputs": [
    {
     "name": "stdout",
     "output_type": "stream",
     "text": [
      "model name:  RandomForestClassifier\n",
      "Array: \n",
      "--------> recall : [ [0.94774347 0.93230404 0.9311981 ] ]\n",
      "\n",
      "recall : 0.937 std : 0.008\n",
      "Intervalo :  [92.20% ~ 95.22%]\n",
      "\n",
      "------------------------------\n",
      "Array: \n",
      "--------> accuracy : [ [0.94107143 0.94107143 0.93452381] ]\n",
      "\n",
      "accuracy : 0.939 std : 0.003\n",
      "Intervalo :  [93.27% ~ 94.51%]\n",
      "\n",
      "------------------------------\n",
      "Array: \n",
      "--------> f1 : [ [0.94250148 0.93437688 0.93738819] ]\n",
      "\n",
      "f1 : 0.938 std : 0.003\n",
      "Intervalo :  [93.14% ~ 94.48%]\n",
      "\n",
      "------------------------------\n",
      "model name:  LogisticRegression\n",
      "Array: \n",
      "--------> recall : [ [0.9192399  0.90617577 0.89561091] ]\n",
      "\n",
      "recall : 0.907 std : 0.01\n",
      "Intervalo :  [88.77% ~ 92.63%]\n",
      "\n",
      "------------------------------\n",
      "Array: \n",
      "--------> accuracy : [ [0.90119048 0.90952381 0.89642857] ]\n",
      "\n",
      "accuracy : 0.902 std : 0.005\n",
      "Intervalo :  [89.16% ~ 91.32%]\n",
      "\n",
      "------------------------------\n",
      "Array: \n",
      "--------> f1 : [ [0.90315053 0.90941597 0.89667458] ]\n",
      "\n",
      "f1 : 0.903 std : 0.005\n",
      "Intervalo :  [89.27% ~ 91.35%]\n",
      "\n",
      "------------------------------\n",
      "model name:  XGBClassifier\n",
      "Array: \n",
      "--------> recall : [ [0.95486936 0.93942993 0.9311981 ] ]\n",
      "\n",
      "recall : 0.942 std : 0.01\n",
      "Intervalo :  [92.22% ~ 96.15%]\n",
      "\n",
      "------------------------------\n",
      "Array: \n",
      "--------> accuracy : [ [0.94821429 0.93988095 0.93571429] ]\n",
      "\n",
      "accuracy : 0.941 std : 0.005\n",
      "Intervalo :  [93.09% ~ 95.17%]\n",
      "\n",
      "------------------------------\n",
      "Array: \n",
      "--------> f1 : [ [0.94867257 0.93998812 0.93563766] ]\n",
      "\n",
      "f1 : 0.941 std : 0.005\n",
      "Intervalo :  [93.06% ~ 95.23%]\n",
      "\n",
      "------------------------------\n",
      "model name:  DecisionTreeClassifier\n",
      "Array: \n",
      "--------> recall : [ [0.88836105 0.88598575 0.85765125] ]\n",
      "\n",
      "recall : 0.877 std : 0.014\n",
      "Intervalo :  [84.94% ~ 90.52%]\n",
      "\n",
      "------------------------------\n",
      "Array: \n",
      "--------> accuracy : [ [0.87678571 0.87440476 0.87083333] ]\n",
      "\n",
      "accuracy : 0.874 std : 0.002\n",
      "Intervalo :  [86.91% ~ 87.89%]\n",
      "\n",
      "------------------------------\n",
      "Array: \n",
      "--------> f1 : [ [0.875      0.8801898  0.87692308] ]\n",
      "\n",
      "f1 : 0.877 std : 0.002\n",
      "Intervalo :  [87.31% ~ 88.17%]\n",
      "\n",
      "------------------------------\n",
      "model name:  AdaBoostClassifier\n",
      "Array: \n",
      "--------> recall : [ [0.94418052 0.92755344 0.91459075] ]\n",
      "\n",
      "recall : 0.929 std : 0.012\n",
      "Intervalo :  [90.46% ~ 95.30%]\n",
      "\n",
      "------------------------------\n",
      "Array: \n",
      "--------> accuracy : [ [0.93452381 0.93571429 0.92857143] ]\n",
      "\n",
      "accuracy : 0.933 std : 0.003\n",
      "Intervalo :  [92.67% ~ 93.92%]\n",
      "\n",
      "------------------------------\n",
      "Array: \n",
      "--------> f1 : [ [0.93529412 0.93532934 0.92779783] ]\n",
      "\n",
      "f1 : 0.933 std : 0.004\n",
      "Intervalo :  [92.57% ~ 93.99%]\n",
      "\n",
      "------------------------------\n",
      "model name:  GradientBoostingClassifier\n",
      "Array: \n",
      "--------> recall : [ [0.94774347 0.93111639 0.93475682] ]\n",
      "\n",
      "recall : 0.938 std : 0.007\n",
      "Intervalo :  [92.36% ~ 95.21%]\n",
      "\n",
      "------------------------------\n",
      "Array: \n",
      "--------> accuracy : [ [0.94464286 0.93988095 0.94107143] ]\n",
      "\n",
      "accuracy : 0.942 std : 0.002\n",
      "Intervalo :  [93.78% ~ 94.59%]\n",
      "\n",
      "------------------------------\n",
      "Array: \n",
      "--------> f1 : [ [0.94493783 0.93948472 0.94089552] ]\n",
      "\n",
      "f1 : 0.942 std : 0.002\n",
      "Intervalo :  [93.72% ~ 94.64%]\n",
      "\n",
      "------------------------------\n",
      "model name:  GaussianNB\n",
      "Array: \n",
      "--------> recall : [ [0.85510689 0.86579572 0.84816133] ]\n",
      "\n",
      "recall : 0.856 std : 0.007\n",
      "Intervalo :  [84.18% ~ 87.09%]\n",
      "\n",
      "------------------------------\n",
      "Array: \n",
      "--------> accuracy : [ [0.82261905 0.84285714 0.84821429] ]\n",
      "\n",
      "accuracy : 0.838 std : 0.011\n",
      "Intervalo :  [81.59% ~ 85.99%]\n",
      "\n",
      "------------------------------\n",
      "Array: \n",
      "--------> f1 : [ [0.82853855 0.8466899  0.84866469] ]\n",
      "\n",
      "f1 : 0.841 std : 0.009\n",
      "Intervalo :  [82.32% ~ 85.94%]\n",
      "\n",
      "------------------------------\n"
     ]
    }
   ],
   "source": [
    "result=[]\n",
    "for model in models:\n",
    "    aux = cross_score(x_train,y_train,3,model,model.__class__.__name__,scorer,export=True)\n",
    "    result.append(aux)"
   ]
  },
  {
   "cell_type": "code",
   "execution_count": 73,
   "id": "4bb808ae-cb91-478e-83a0-029432cc0c5c",
   "metadata": {},
   "outputs": [],
   "source": [
    "resultado = pd.concat(result)"
   ]
  },
  {
   "cell_type": "code",
   "execution_count": 74,
   "id": "3a0be616-de56-4bb0-ae1b-7b92d1e3c4ec",
   "metadata": {},
   "outputs": [
    {
     "data": {
      "text/html": [
       "<div>\n",
       "<style scoped>\n",
       "    .dataframe tbody tr th:only-of-type {\n",
       "        vertical-align: middle;\n",
       "    }\n",
       "\n",
       "    .dataframe tbody tr th {\n",
       "        vertical-align: top;\n",
       "    }\n",
       "\n",
       "    .dataframe thead th {\n",
       "        text-align: right;\n",
       "    }\n",
       "</style>\n",
       "<table border=\"1\" class=\"dataframe\">\n",
       "  <thead>\n",
       "    <tr style=\"text-align: right;\">\n",
       "      <th></th>\n",
       "      <th>recall</th>\n",
       "      <th>f1</th>\n",
       "      <th>accuracy</th>\n",
       "      <th>std_acc</th>\n",
       "      <th>std_recall</th>\n",
       "      <th>std_f1</th>\n",
       "    </tr>\n",
       "  </thead>\n",
       "  <tbody>\n",
       "    <tr>\n",
       "      <th>RandomForestClassifier</th>\n",
       "      <td>0.937</td>\n",
       "      <td>0.938</td>\n",
       "      <td>0.939</td>\n",
       "      <td>0.003</td>\n",
       "      <td>0.008</td>\n",
       "      <td>0.003</td>\n",
       "    </tr>\n",
       "    <tr>\n",
       "      <th>LogisticRegression</th>\n",
       "      <td>0.907</td>\n",
       "      <td>0.903</td>\n",
       "      <td>0.902</td>\n",
       "      <td>0.005</td>\n",
       "      <td>0.010</td>\n",
       "      <td>0.005</td>\n",
       "    </tr>\n",
       "    <tr>\n",
       "      <th>XGBClassifier</th>\n",
       "      <td>0.942</td>\n",
       "      <td>0.941</td>\n",
       "      <td>0.941</td>\n",
       "      <td>0.005</td>\n",
       "      <td>0.010</td>\n",
       "      <td>0.005</td>\n",
       "    </tr>\n",
       "    <tr>\n",
       "      <th>DecisionTreeClassifier</th>\n",
       "      <td>0.877</td>\n",
       "      <td>0.877</td>\n",
       "      <td>0.874</td>\n",
       "      <td>0.002</td>\n",
       "      <td>0.014</td>\n",
       "      <td>0.002</td>\n",
       "    </tr>\n",
       "    <tr>\n",
       "      <th>AdaBoostClassifier</th>\n",
       "      <td>0.929</td>\n",
       "      <td>0.933</td>\n",
       "      <td>0.933</td>\n",
       "      <td>0.003</td>\n",
       "      <td>0.012</td>\n",
       "      <td>0.004</td>\n",
       "    </tr>\n",
       "    <tr>\n",
       "      <th>GradientBoostingClassifier</th>\n",
       "      <td>0.938</td>\n",
       "      <td>0.942</td>\n",
       "      <td>0.942</td>\n",
       "      <td>0.002</td>\n",
       "      <td>0.007</td>\n",
       "      <td>0.002</td>\n",
       "    </tr>\n",
       "    <tr>\n",
       "      <th>GaussianNB</th>\n",
       "      <td>0.856</td>\n",
       "      <td>0.841</td>\n",
       "      <td>0.838</td>\n",
       "      <td>0.011</td>\n",
       "      <td>0.007</td>\n",
       "      <td>0.009</td>\n",
       "    </tr>\n",
       "  </tbody>\n",
       "</table>\n",
       "</div>"
      ],
      "text/plain": [
       "                            recall     f1  accuracy  std_acc  std_recall  \\\n",
       "RandomForestClassifier       0.937  0.938     0.939    0.003       0.008   \n",
       "LogisticRegression           0.907  0.903     0.902    0.005       0.010   \n",
       "XGBClassifier                0.942  0.941     0.941    0.005       0.010   \n",
       "DecisionTreeClassifier       0.877  0.877     0.874    0.002       0.014   \n",
       "AdaBoostClassifier           0.929  0.933     0.933    0.003       0.012   \n",
       "GradientBoostingClassifier   0.938  0.942     0.942    0.002       0.007   \n",
       "GaussianNB                   0.856  0.841     0.838    0.011       0.007   \n",
       "\n",
       "                            std_f1  \n",
       "RandomForestClassifier       0.003  \n",
       "LogisticRegression           0.005  \n",
       "XGBClassifier                0.005  \n",
       "DecisionTreeClassifier       0.002  \n",
       "AdaBoostClassifier           0.004  \n",
       "GradientBoostingClassifier   0.002  \n",
       "GaussianNB                   0.009  "
      ]
     },
     "execution_count": 74,
     "metadata": {},
     "output_type": "execute_result"
    }
   ],
   "source": [
    "resultado"
   ]
  },
  {
   "cell_type": "markdown",
   "id": "0979b03f-11f8-437e-bee4-1125f5b578b6",
   "metadata": {},
   "source": [
    "Após análise dos dataframe acima iremos escolher os :\n",
    "* RandomForest\n",
    "* LogisticRegression\n",
    "* GradientBoostingClassifier"
   ]
  },
  {
   "cell_type": "code",
   "execution_count": 75,
   "id": "920b29f5-879d-469a-84e4-4ab8c1216034",
   "metadata": {},
   "outputs": [
    {
     "data": {
      "text/html": [
       "<style>#sk-container-id-3 {color: black;background-color: white;}#sk-container-id-3 pre{padding: 0;}#sk-container-id-3 div.sk-toggleable {background-color: white;}#sk-container-id-3 label.sk-toggleable__label {cursor: pointer;display: block;width: 100%;margin-bottom: 0;padding: 0.3em;box-sizing: border-box;text-align: center;}#sk-container-id-3 label.sk-toggleable__label-arrow:before {content: \"▸\";float: left;margin-right: 0.25em;color: #696969;}#sk-container-id-3 label.sk-toggleable__label-arrow:hover:before {color: black;}#sk-container-id-3 div.sk-estimator:hover label.sk-toggleable__label-arrow:before {color: black;}#sk-container-id-3 div.sk-toggleable__content {max-height: 0;max-width: 0;overflow: hidden;text-align: left;background-color: #f0f8ff;}#sk-container-id-3 div.sk-toggleable__content pre {margin: 0.2em;color: black;border-radius: 0.25em;background-color: #f0f8ff;}#sk-container-id-3 input.sk-toggleable__control:checked~div.sk-toggleable__content {max-height: 200px;max-width: 100%;overflow: auto;}#sk-container-id-3 input.sk-toggleable__control:checked~label.sk-toggleable__label-arrow:before {content: \"▾\";}#sk-container-id-3 div.sk-estimator input.sk-toggleable__control:checked~label.sk-toggleable__label {background-color: #d4ebff;}#sk-container-id-3 div.sk-label input.sk-toggleable__control:checked~label.sk-toggleable__label {background-color: #d4ebff;}#sk-container-id-3 input.sk-hidden--visually {border: 0;clip: rect(1px 1px 1px 1px);clip: rect(1px, 1px, 1px, 1px);height: 1px;margin: -1px;overflow: hidden;padding: 0;position: absolute;width: 1px;}#sk-container-id-3 div.sk-estimator {font-family: monospace;background-color: #f0f8ff;border: 1px dotted black;border-radius: 0.25em;box-sizing: border-box;margin-bottom: 0.5em;}#sk-container-id-3 div.sk-estimator:hover {background-color: #d4ebff;}#sk-container-id-3 div.sk-parallel-item::after {content: \"\";width: 100%;border-bottom: 1px solid gray;flex-grow: 1;}#sk-container-id-3 div.sk-label:hover label.sk-toggleable__label {background-color: #d4ebff;}#sk-container-id-3 div.sk-serial::before {content: \"\";position: absolute;border-left: 1px solid gray;box-sizing: border-box;top: 0;bottom: 0;left: 50%;z-index: 0;}#sk-container-id-3 div.sk-serial {display: flex;flex-direction: column;align-items: center;background-color: white;padding-right: 0.2em;padding-left: 0.2em;position: relative;}#sk-container-id-3 div.sk-item {position: relative;z-index: 1;}#sk-container-id-3 div.sk-parallel {display: flex;align-items: stretch;justify-content: center;background-color: white;position: relative;}#sk-container-id-3 div.sk-item::before, #sk-container-id-3 div.sk-parallel-item::before {content: \"\";position: absolute;border-left: 1px solid gray;box-sizing: border-box;top: 0;bottom: 0;left: 50%;z-index: -1;}#sk-container-id-3 div.sk-parallel-item {display: flex;flex-direction: column;z-index: 1;position: relative;background-color: white;}#sk-container-id-3 div.sk-parallel-item:first-child::after {align-self: flex-end;width: 50%;}#sk-container-id-3 div.sk-parallel-item:last-child::after {align-self: flex-start;width: 50%;}#sk-container-id-3 div.sk-parallel-item:only-child::after {width: 0;}#sk-container-id-3 div.sk-dashed-wrapped {border: 1px dashed gray;margin: 0 0.4em 0.5em 0.4em;box-sizing: border-box;padding-bottom: 0.4em;background-color: white;}#sk-container-id-3 div.sk-label label {font-family: monospace;font-weight: bold;display: inline-block;line-height: 1.2em;}#sk-container-id-3 div.sk-label-container {text-align: center;}#sk-container-id-3 div.sk-container {/* jupyter's `normalize.less` sets `[hidden] { display: none; }` but bootstrap.min.css set `[hidden] { display: none !important; }` so we also need the `!important` here to be able to override the default hidden behavior on the sphinx rendered scikit-learn.org. See: https://github.com/scikit-learn/scikit-learn/issues/21755 */display: inline-block !important;position: relative;}#sk-container-id-3 div.sk-text-repr-fallback {display: none;}</style><div id=\"sk-container-id-3\" class=\"sk-top-container\"><div class=\"sk-text-repr-fallback\"><pre>GradientBoostingClassifier()</pre><b>In a Jupyter environment, please rerun this cell to show the HTML representation or trust the notebook. <br />On GitHub, the HTML representation is unable to render, please try loading this page with nbviewer.org.</b></div><div class=\"sk-container\" hidden><div class=\"sk-item\"><div class=\"sk-estimator sk-toggleable\"><input class=\"sk-toggleable__control sk-hidden--visually\" id=\"sk-estimator-id-3\" type=\"checkbox\" checked><label for=\"sk-estimator-id-3\" class=\"sk-toggleable__label sk-toggleable__label-arrow\">GradientBoostingClassifier</label><div class=\"sk-toggleable__content\"><pre>GradientBoostingClassifier()</pre></div></div></div></div></div>"
      ],
      "text/plain": [
       "GradientBoostingClassifier()"
      ]
     },
     "execution_count": 75,
     "metadata": {},
     "output_type": "execute_result"
    }
   ],
   "source": [
    "random_florest.fit(x_train,y_train)\n",
    "reg_logistic.fit(x_train,y_train)\n",
    "gbm.fit(x_train,y_train)"
   ]
  },
  {
   "cell_type": "code",
   "execution_count": 76,
   "id": "60c22abf-4ad0-42c3-81a0-4ad1b558352d",
   "metadata": {},
   "outputs": [],
   "source": [
    "models = [random_florest,reg_logistic,gbm]"
   ]
  },
  {
   "cell_type": "code",
   "execution_count": 77,
   "id": "d6ea2fe8-8204-45a9-8dd5-2ebddf8c75af",
   "metadata": {},
   "outputs": [
    {
     "name": "stdout",
     "output_type": "stream",
     "text": [
      "model name:  RandomForestClassifier\n",
      "Array: \n",
      "--------> recall : [ [0.91316527 0.93575419 0.94972067] ]\n",
      "\n",
      "recall : 0.933 std : 0.015\n",
      "Intervalo :  [90.28% ~ 96.30%]\n",
      "\n",
      "------------------------------\n",
      "Array: \n",
      "--------> accuracy : [ [0.91666667 0.9375     0.94583333] ]\n",
      "\n",
      "accuracy : 0.933 std : 0.012\n",
      "Intervalo :  [90.88% ~ 95.79%]\n",
      "\n",
      "------------------------------\n",
      "Array: \n",
      "--------> f1 : [ [0.91830986 0.94036061 0.94329184] ]\n",
      "\n",
      "f1 : 0.934 std : 0.011\n",
      "Intervalo :  [91.17% ~ 95.63%]\n",
      "\n",
      "------------------------------\n",
      "model name:  LogisticRegression\n",
      "Array: \n",
      "--------> recall : [ [0.89355742 0.88826816 0.91620112] ]\n",
      "\n",
      "recall : 0.899 std : 0.012\n",
      "Intervalo :  [87.51% ~ 92.36%]\n",
      "\n",
      "------------------------------\n",
      "Array: \n",
      "--------> accuracy : [ [0.8875     0.88472222 0.90694444] ]\n",
      "\n",
      "accuracy : 0.893 std : 0.01\n",
      "Intervalo :  [87.33% ~ 91.28%]\n",
      "\n",
      "------------------------------\n",
      "Array: \n",
      "--------> f1 : [ [0.88734353 0.88456189 0.90733057] ]\n",
      "\n",
      "f1 : 0.893 std : 0.01\n",
      "Intervalo :  [87.28% ~ 91.34%]\n",
      "\n",
      "------------------------------\n",
      "model name:  GradientBoostingClassifier\n",
      "Array: \n",
      "--------> recall : [ [0.90756303 0.94413408 0.95251397] ]\n",
      "\n",
      "recall : 0.935 std : 0.02\n",
      "Intervalo :  [89.57% ~ 97.38%]\n",
      "\n",
      "------------------------------\n",
      "Array: \n",
      "--------> accuracy : [ [0.92361111 0.9375     0.94444444] ]\n",
      "\n",
      "accuracy : 0.935 std : 0.009\n",
      "Intervalo :  [91.79% ~ 95.25%]\n",
      "\n",
      "------------------------------\n",
      "Array: \n",
      "--------> f1 : [ [0.92176387 0.93628809 0.94459834] ]\n",
      "\n",
      "f1 : 0.934 std : 0.009\n",
      "Intervalo :  [91.53% ~ 95.31%]\n",
      "\n",
      "------------------------------\n"
     ]
    }
   ],
   "source": [
    "result=[]\n",
    "for model in models:\n",
    "    aux = cross_score(x_test,y_test,3,model,model.__class__.__name__,scorer,export=True)\n",
    "    result.append(aux)"
   ]
  },
  {
   "cell_type": "code",
   "execution_count": 78,
   "id": "a630e2e3-be94-4ee9-bb02-ae985045ec11",
   "metadata": {},
   "outputs": [],
   "source": [
    "resultado = pd.concat(result)"
   ]
  },
  {
   "cell_type": "code",
   "execution_count": 79,
   "id": "99418e78-f237-461a-a8a9-96523b7b6e4c",
   "metadata": {},
   "outputs": [
    {
     "data": {
      "text/html": [
       "<div>\n",
       "<style scoped>\n",
       "    .dataframe tbody tr th:only-of-type {\n",
       "        vertical-align: middle;\n",
       "    }\n",
       "\n",
       "    .dataframe tbody tr th {\n",
       "        vertical-align: top;\n",
       "    }\n",
       "\n",
       "    .dataframe thead th {\n",
       "        text-align: right;\n",
       "    }\n",
       "</style>\n",
       "<table border=\"1\" class=\"dataframe\">\n",
       "  <thead>\n",
       "    <tr style=\"text-align: right;\">\n",
       "      <th></th>\n",
       "      <th>recall</th>\n",
       "      <th>f1</th>\n",
       "      <th>accuracy</th>\n",
       "      <th>std_acc</th>\n",
       "      <th>std_recall</th>\n",
       "      <th>std_f1</th>\n",
       "    </tr>\n",
       "  </thead>\n",
       "  <tbody>\n",
       "    <tr>\n",
       "      <th>RandomForestClassifier</th>\n",
       "      <td>0.933</td>\n",
       "      <td>0.934</td>\n",
       "      <td>0.933</td>\n",
       "      <td>0.012</td>\n",
       "      <td>0.015</td>\n",
       "      <td>0.011</td>\n",
       "    </tr>\n",
       "    <tr>\n",
       "      <th>LogisticRegression</th>\n",
       "      <td>0.899</td>\n",
       "      <td>0.893</td>\n",
       "      <td>0.893</td>\n",
       "      <td>0.010</td>\n",
       "      <td>0.012</td>\n",
       "      <td>0.010</td>\n",
       "    </tr>\n",
       "    <tr>\n",
       "      <th>GradientBoostingClassifier</th>\n",
       "      <td>0.935</td>\n",
       "      <td>0.934</td>\n",
       "      <td>0.935</td>\n",
       "      <td>0.009</td>\n",
       "      <td>0.020</td>\n",
       "      <td>0.009</td>\n",
       "    </tr>\n",
       "  </tbody>\n",
       "</table>\n",
       "</div>"
      ],
      "text/plain": [
       "                            recall     f1  accuracy  std_acc  std_recall  \\\n",
       "RandomForestClassifier       0.933  0.934     0.933    0.012       0.015   \n",
       "LogisticRegression           0.899  0.893     0.893    0.010       0.012   \n",
       "GradientBoostingClassifier   0.935  0.934     0.935    0.009       0.020   \n",
       "\n",
       "                            std_f1  \n",
       "RandomForestClassifier       0.011  \n",
       "LogisticRegression           0.010  \n",
       "GradientBoostingClassifier   0.009  "
      ]
     },
     "execution_count": 79,
     "metadata": {},
     "output_type": "execute_result"
    }
   ],
   "source": [
    "resultado"
   ]
  },
  {
   "cell_type": "markdown",
   "id": "88ed4435-ec9b-4272-8681-245b627e8888",
   "metadata": {},
   "source": [
    "# Faltar tunar os hyperparametros e aplicar para os outros 3 datasets.\n",
    "## faltar usar o kfold, hold-out, usar as funções do sklearn."
   ]
  },
  {
   "cell_type": "code",
   "execution_count": null,
   "id": "9fa77d58-7e1e-4ddb-baca-59f59a80091b",
   "metadata": {},
   "outputs": [],
   "source": []
  }
 ],
 "metadata": {
  "kernelspec": {
   "display_name": "Python 3 (ipykernel)",
   "language": "python",
   "name": "python3"
  },
  "language_info": {
   "codemirror_mode": {
    "name": "ipython",
    "version": 3
   },
   "file_extension": ".py",
   "mimetype": "text/x-python",
   "name": "python",
   "nbconvert_exporter": "python",
   "pygments_lexer": "ipython3",
   "version": "3.8.10"
  }
 },
 "nbformat": 4,
 "nbformat_minor": 5
}
