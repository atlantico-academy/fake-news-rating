{
 "cells": [
  {
   "cell_type": "code",
   "execution_count": 1,
   "id": "04972394-0086-47eb-a406-fae15a0b3cf4",
   "metadata": {},
   "outputs": [],
   "source": [
    "import pandas as pd\n",
    "from IPython.display import Markdown\n",
    "from sklearn.pipeline import Pipeline\n",
    "from sklearn.impute import SimpleImputer\n",
    "from sklearn.preprocessing import OneHotEncoder, StandardScaler\n",
    "from sklearn.feature_selection import VarianceThreshold\n",
    "import re"
   ]
  },
  {
   "cell_type": "code",
   "execution_count": 2,
   "id": "91947b30-1ebb-4bac-9c7c-3b23dfa3fe24",
   "metadata": {},
   "outputs": [],
   "source": [
    "import nltk\n",
    "from nltk.corpus import stopwords\n",
    "from nltk import tokenize"
   ]
  },
  {
   "cell_type": "code",
   "execution_count": 3,
   "id": "3ea7ddf6-9e57-4a6c-a25b-461a9c2326e0",
   "metadata": {},
   "outputs": [
    {
     "name": "stderr",
     "output_type": "stream",
     "text": [
      "[nltk_data] Downloading package rslp to /home/cristina/nltk_data...\n",
      "[nltk_data]   Package rslp is already up-to-date!\n"
     ]
    },
    {
     "data": {
      "text/plain": [
       "True"
      ]
     },
     "execution_count": 3,
     "metadata": {},
     "output_type": "execute_result"
    }
   ],
   "source": [
    "nltk.download('rslp')"
   ]
  },
  {
   "cell_type": "code",
   "execution_count": 4,
   "id": "0aedac6b-77ea-4644-a6b8-4ffb3bee481c",
   "metadata": {},
   "outputs": [],
   "source": [
    "token_space = tokenize.WhitespaceTokenizer()"
   ]
  },
  {
   "cell_type": "code",
   "execution_count": 5,
   "id": "367582b1-12a8-429d-a8cd-a161973941fa",
   "metadata": {},
   "outputs": [
    {
     "data": {
      "text/markdown": [
       "### Conjunto de dados"
      ],
      "text/plain": [
       "<IPython.core.display.Markdown object>"
      ]
     },
     "metadata": {},
     "output_type": "display_data"
    },
    {
     "data": {
      "text/html": [
       "<div>\n",
       "<style scoped>\n",
       "    .dataframe tbody tr th:only-of-type {\n",
       "        vertical-align: middle;\n",
       "    }\n",
       "\n",
       "    .dataframe tbody tr th {\n",
       "        vertical-align: top;\n",
       "    }\n",
       "\n",
       "    .dataframe thead th {\n",
       "        text-align: right;\n",
       "    }\n",
       "</style>\n",
       "<table border=\"1\" class=\"dataframe\">\n",
       "  <thead>\n",
       "    <tr style=\"text-align: right;\">\n",
       "      <th></th>\n",
       "      <th>text</th>\n",
       "      <th>datetime</th>\n",
       "      <th>category</th>\n",
       "      <th>label</th>\n",
       "      <th>site</th>\n",
       "    </tr>\n",
       "  </thead>\n",
       "  <tbody>\n",
       "    <tr>\n",
       "      <th>0</th>\n",
       "      <td>Kátia Abreu diz que vai colocar sua expulsão e...</td>\n",
       "      <td>2017-11-30</td>\n",
       "      <td>politica</td>\n",
       "      <td>fake</td>\n",
       "      <td>https://ceticismopolitico.com</td>\n",
       "    </tr>\n",
       "    <tr>\n",
       "      <th>1</th>\n",
       "      <td>Dr. Ray peita Bolsonaro, chama-o de conservad...</td>\n",
       "      <td>2017-11-24</td>\n",
       "      <td>politica</td>\n",
       "      <td>fake</td>\n",
       "      <td>https://ceticismopolitico.com</td>\n",
       "    </tr>\n",
       "    <tr>\n",
       "      <th>2</th>\n",
       "      <td>Reinaldo Azevedo desmascarado pela Polícia Fed...</td>\n",
       "      <td>2017-05-23</td>\n",
       "      <td>politica</td>\n",
       "      <td>fake</td>\n",
       "      <td>https://afolhabrasil.com.br</td>\n",
       "    </tr>\n",
       "    <tr>\n",
       "      <th>3</th>\n",
       "      <td>Relatório assustador do BNDES mostra dinheiro ...</td>\n",
       "      <td>24/07/2017</td>\n",
       "      <td>politica</td>\n",
       "      <td>fake</td>\n",
       "      <td>https://www.diariodobrasil.org</td>\n",
       "    </tr>\n",
       "    <tr>\n",
       "      <th>4</th>\n",
       "      <td>Radialista americano fala sobre o PT: \"Eles ve...</td>\n",
       "      <td>25/07/2017</td>\n",
       "      <td>politica</td>\n",
       "      <td>fake</td>\n",
       "      <td>https://www.diariodobrasil.org</td>\n",
       "    </tr>\n",
       "  </tbody>\n",
       "</table>\n",
       "</div>"
      ],
      "text/plain": [
       "                                                text    datetime  category  \\\n",
       "0  Kátia Abreu diz que vai colocar sua expulsão e...  2017-11-30  politica   \n",
       "1  Dr. Ray peita Bolsonaro, chama-o de conservad...  2017-11-24  politica   \n",
       "2  Reinaldo Azevedo desmascarado pela Polícia Fed...  2017-05-23  politica   \n",
       "3  Relatório assustador do BNDES mostra dinheiro ...  24/07/2017  politica   \n",
       "4  Radialista americano fala sobre o PT: \"Eles ve...  25/07/2017  politica   \n",
       "\n",
       "  label                            site  \n",
       "0  fake   https://ceticismopolitico.com  \n",
       "1  fake   https://ceticismopolitico.com  \n",
       "2  fake     https://afolhabrasil.com.br  \n",
       "3  fake  https://www.diariodobrasil.org  \n",
       "4  fake  https://www.diariodobrasil.org  "
      ]
     },
     "metadata": {},
     "output_type": "display_data"
    },
    {
     "data": {
      "text/markdown": [
       "### Dicionário de dados"
      ],
      "text/plain": [
       "<IPython.core.display.Markdown object>"
      ]
     },
     "metadata": {},
     "output_type": "display_data"
    },
    {
     "data": {
      "text/html": [
       "<div>\n",
       "<style scoped>\n",
       "    .dataframe tbody tr th:only-of-type {\n",
       "        vertical-align: middle;\n",
       "    }\n",
       "\n",
       "    .dataframe tbody tr th {\n",
       "        vertical-align: top;\n",
       "    }\n",
       "\n",
       "    .dataframe thead th {\n",
       "        text-align: right;\n",
       "    }\n",
       "</style>\n",
       "<table border=\"1\" class=\"dataframe\">\n",
       "  <thead>\n",
       "    <tr style=\"text-align: right;\">\n",
       "      <th></th>\n",
       "      <th>variavel</th>\n",
       "      <th>significado</th>\n",
       "      <th>tipo</th>\n",
       "      <th>valores</th>\n",
       "    </tr>\n",
       "  </thead>\n",
       "  <tbody>\n",
       "    <tr>\n",
       "      <th>0</th>\n",
       "      <td>text</td>\n",
       "      <td>Coluna contendo o texto das matérias, sendo ca...</td>\n",
       "      <td>text</td>\n",
       "      <td>string</td>\n",
       "    </tr>\n",
       "    <tr>\n",
       "      <th>1</th>\n",
       "      <td>datetime</td>\n",
       "      <td>Coluna contendo a data de publicação das matérias</td>\n",
       "      <td>time</td>\n",
       "      <td>datetime</td>\n",
       "    </tr>\n",
       "    <tr>\n",
       "      <th>2</th>\n",
       "      <td>category</td>\n",
       "      <td>Coluna contetndo a categoria na qual cada maté...</td>\n",
       "      <td>nominal</td>\n",
       "      <td>['politica', 'tv_celebridades', 'sociedade_cot...</td>\n",
       "    </tr>\n",
       "    <tr>\n",
       "      <th>3</th>\n",
       "      <td>label</td>\n",
       "      <td>Coluna contendo os rótulos se a notícia é fals...</td>\n",
       "      <td>nominal</td>\n",
       "      <td>['fake', 'true']</td>\n",
       "    </tr>\n",
       "    <tr>\n",
       "      <th>4</th>\n",
       "      <td>site</td>\n",
       "      <td>Coluna contendo o link do site em que a notíci...</td>\n",
       "      <td>nominal</td>\n",
       "      <td>string</td>\n",
       "    </tr>\n",
       "  </tbody>\n",
       "</table>\n",
       "</div>"
      ],
      "text/plain": [
       "   variavel                                        significado     tipo  \\\n",
       "0      text  Coluna contendo o texto das matérias, sendo ca...     text   \n",
       "1  datetime  Coluna contendo a data de publicação das matérias     time   \n",
       "2  category  Coluna contetndo a categoria na qual cada maté...  nominal   \n",
       "3     label  Coluna contendo os rótulos se a notícia é fals...  nominal   \n",
       "4      site  Coluna contendo o link do site em que a notíci...  nominal   \n",
       "\n",
       "                                             valores  \n",
       "0                                             string  \n",
       "1                                           datetime  \n",
       "2  ['politica', 'tv_celebridades', 'sociedade_cot...  \n",
       "3                                   ['fake', 'true']  \n",
       "4                                             string  "
      ]
     },
     "metadata": {},
     "output_type": "display_data"
    }
   ],
   "source": [
    "df = (\n",
    "    pd\n",
    "    .read_csv('../data/external/data.csv')\n",
    ")\n",
    "df = df.assign(\n",
    "    site = df.site.str.split(\"/\").apply(lambda x: f\"{x[0]}//{x[2]}\")\n",
    ")\n",
    "display(Markdown(\"### Conjunto de dados\"))\n",
    "display(df.head())\n",
    "\n",
    "df_dict = pd.read_csv('../data/external/dicionario.csv')\n",
    "display(Markdown(\"### Dicionário de dados\"))\n",
    "display(df_dict.head())"
   ]
  },
  {
   "cell_type": "code",
   "execution_count": 6,
   "id": "d9e141fe-9126-4059-a33c-890da8da5999",
   "metadata": {},
   "outputs": [
    {
     "data": {
      "text/html": [
       "<div>\n",
       "<style scoped>\n",
       "    .dataframe tbody tr th:only-of-type {\n",
       "        vertical-align: middle;\n",
       "    }\n",
       "\n",
       "    .dataframe tbody tr th {\n",
       "        vertical-align: top;\n",
       "    }\n",
       "\n",
       "    .dataframe thead th {\n",
       "        text-align: right;\n",
       "    }\n",
       "</style>\n",
       "<table border=\"1\" class=\"dataframe\">\n",
       "  <thead>\n",
       "    <tr style=\"text-align: right;\">\n",
       "      <th></th>\n",
       "      <th>text</th>\n",
       "      <th>category</th>\n",
       "      <th>label</th>\n",
       "      <th>site</th>\n",
       "    </tr>\n",
       "  </thead>\n",
       "  <tbody>\n",
       "    <tr>\n",
       "      <th>0</th>\n",
       "      <td>kátia abreu diz que vai colocar sua expulsão e...</td>\n",
       "      <td>politica</td>\n",
       "      <td>fake</td>\n",
       "      <td>https://ceticismopolitico.com</td>\n",
       "    </tr>\n",
       "    <tr>\n",
       "      <th>1</th>\n",
       "      <td>dr ray peita bolsonaro chamao de conservador f...</td>\n",
       "      <td>politica</td>\n",
       "      <td>fake</td>\n",
       "      <td>https://ceticismopolitico.com</td>\n",
       "    </tr>\n",
       "    <tr>\n",
       "      <th>2</th>\n",
       "      <td>reinaldo azevedo desmascarado pela polícia fed...</td>\n",
       "      <td>politica</td>\n",
       "      <td>fake</td>\n",
       "      <td>https://afolhabrasil.com.br</td>\n",
       "    </tr>\n",
       "    <tr>\n",
       "      <th>3</th>\n",
       "      <td>relatório assustador do bndes mostra dinheiro ...</td>\n",
       "      <td>politica</td>\n",
       "      <td>fake</td>\n",
       "      <td>https://www.diariodobrasil.org</td>\n",
       "    </tr>\n",
       "    <tr>\n",
       "      <th>4</th>\n",
       "      <td>radialista americano fala sobre o pt eles vend...</td>\n",
       "      <td>politica</td>\n",
       "      <td>fake</td>\n",
       "      <td>https://www.diariodobrasil.org</td>\n",
       "    </tr>\n",
       "    <tr>\n",
       "      <th>...</th>\n",
       "      <td>...</td>\n",
       "      <td>...</td>\n",
       "      <td>...</td>\n",
       "      <td>...</td>\n",
       "    </tr>\n",
       "    <tr>\n",
       "      <th>7195</th>\n",
       "      <td>para jornal britânico ação contra lula na lava...</td>\n",
       "      <td>politica</td>\n",
       "      <td>true</td>\n",
       "      <td>http://politica.estadao.com.br</td>\n",
       "    </tr>\n",
       "    <tr>\n",
       "      <th>7196</th>\n",
       "      <td>temer diz que acionou pf e cade para investiga...</td>\n",
       "      <td>politica</td>\n",
       "      <td>true</td>\n",
       "      <td>https://g1.globo.com</td>\n",
       "    </tr>\n",
       "    <tr>\n",
       "      <th>7197</th>\n",
       "      <td>os obstáculos políticos de temer em 2017 espec...</td>\n",
       "      <td>politica</td>\n",
       "      <td>true</td>\n",
       "      <td>https://g1.globo.com</td>\n",
       "    </tr>\n",
       "    <tr>\n",
       "      <th>7198</th>\n",
       "      <td>sextafeira 15 de setembro de 2017 boa noite aq...</td>\n",
       "      <td>sociedade_cotidiano</td>\n",
       "      <td>true</td>\n",
       "      <td>https://g1.globo.com</td>\n",
       "    </tr>\n",
       "    <tr>\n",
       "      <th>7199</th>\n",
       "      <td>não me envolvo em política diz brasileiro que ...</td>\n",
       "      <td>tv_celebridades</td>\n",
       "      <td>true</td>\n",
       "      <td>https://g1.globo.com</td>\n",
       "    </tr>\n",
       "  </tbody>\n",
       "</table>\n",
       "<p>7200 rows × 4 columns</p>\n",
       "</div>"
      ],
      "text/plain": [
       "                                                   text             category  \\\n",
       "0     kátia abreu diz que vai colocar sua expulsão e...             politica   \n",
       "1     dr ray peita bolsonaro chamao de conservador f...             politica   \n",
       "2     reinaldo azevedo desmascarado pela polícia fed...             politica   \n",
       "3     relatório assustador do bndes mostra dinheiro ...             politica   \n",
       "4     radialista americano fala sobre o pt eles vend...             politica   \n",
       "...                                                 ...                  ...   \n",
       "7195  para jornal britânico ação contra lula na lava...             politica   \n",
       "7196  temer diz que acionou pf e cade para investiga...             politica   \n",
       "7197  os obstáculos políticos de temer em 2017 espec...             politica   \n",
       "7198  sextafeira 15 de setembro de 2017 boa noite aq...  sociedade_cotidiano   \n",
       "7199  não me envolvo em política diz brasileiro que ...      tv_celebridades   \n",
       "\n",
       "     label                            site  \n",
       "0     fake   https://ceticismopolitico.com  \n",
       "1     fake   https://ceticismopolitico.com  \n",
       "2     fake     https://afolhabrasil.com.br  \n",
       "3     fake  https://www.diariodobrasil.org  \n",
       "4     fake  https://www.diariodobrasil.org  \n",
       "...    ...                             ...  \n",
       "7195  true  http://politica.estadao.com.br  \n",
       "7196  true            https://g1.globo.com  \n",
       "7197  true            https://g1.globo.com  \n",
       "7198  true            https://g1.globo.com  \n",
       "7199  true            https://g1.globo.com  \n",
       "\n",
       "[7200 rows x 4 columns]"
      ]
     },
     "metadata": {},
     "output_type": "display_data"
    }
   ],
   "source": [
    "# cria dados sem pontuação, normalizado (ideal)\n",
    "df_clean = df.drop(columns = [\"datetime\"])\n",
    "df_clean[\"text\"]=df_clean[\"text\"].apply(lambda x : x.lower())\n",
    "df_clean[\"text\"]=df_clean[\"text\"].apply(lambda x : re.sub('[^\\w\\s]', '', x))\n",
    "display(df_clean)"
   ]
  },
  {
   "cell_type": "code",
   "execution_count": 7,
   "id": "e5cf67ad-73ab-4965-9476-d772cca06032",
   "metadata": {},
   "outputs": [],
   "source": [
    "df_clean_no_stopWords = df_clean.copy()\n",
    "df_clean_with_stopWords = df_clean.copy()"
   ]
  },
  {
   "cell_type": "markdown",
   "id": "2f74e891-36b3-4192-9ac1-8a21a7cfe0ea",
   "metadata": {},
   "source": [
    "### DF sem stopwords"
   ]
  },
  {
   "cell_type": "code",
   "execution_count": 8,
   "id": "1c11fc5a-b912-4296-bed0-1a53bdb7da5e",
   "metadata": {},
   "outputs": [],
   "source": [
    "palavras_irrelevantes = set(nltk.corpus.stopwords.words(\"portuguese\"))"
   ]
  },
  {
   "cell_type": "code",
   "execution_count": 9,
   "id": "9678bbfc-2161-4aa8-9356-d65e691911f0",
   "metadata": {},
   "outputs": [
    {
     "data": {
      "text/html": [
       "<div>\n",
       "<style scoped>\n",
       "    .dataframe tbody tr th:only-of-type {\n",
       "        vertical-align: middle;\n",
       "    }\n",
       "\n",
       "    .dataframe tbody tr th {\n",
       "        vertical-align: top;\n",
       "    }\n",
       "\n",
       "    .dataframe thead th {\n",
       "        text-align: right;\n",
       "    }\n",
       "</style>\n",
       "<table border=\"1\" class=\"dataframe\">\n",
       "  <thead>\n",
       "    <tr style=\"text-align: right;\">\n",
       "      <th></th>\n",
       "      <th>text</th>\n",
       "      <th>category</th>\n",
       "      <th>label</th>\n",
       "      <th>site</th>\n",
       "    </tr>\n",
       "  </thead>\n",
       "  <tbody>\n",
       "    <tr>\n",
       "      <th>0</th>\n",
       "      <td>kátia abreu diz que vai colocar sua expulsão e...</td>\n",
       "      <td>politica</td>\n",
       "      <td>fake</td>\n",
       "      <td>https://ceticismopolitico.com</td>\n",
       "    </tr>\n",
       "    <tr>\n",
       "      <th>1</th>\n",
       "      <td>dr ray peita bolsonaro chamao de conservador f...</td>\n",
       "      <td>politica</td>\n",
       "      <td>fake</td>\n",
       "      <td>https://ceticismopolitico.com</td>\n",
       "    </tr>\n",
       "  </tbody>\n",
       "</table>\n",
       "</div>"
      ],
      "text/plain": [
       "                                                text  category label  \\\n",
       "0  kátia abreu diz que vai colocar sua expulsão e...  politica  fake   \n",
       "1  dr ray peita bolsonaro chamao de conservador f...  politica  fake   \n",
       "\n",
       "                            site  \n",
       "0  https://ceticismopolitico.com  \n",
       "1  https://ceticismopolitico.com  "
      ]
     },
     "execution_count": 9,
     "metadata": {},
     "output_type": "execute_result"
    }
   ],
   "source": [
    "df_clean_no_stopWords.head(2)"
   ]
  },
  {
   "cell_type": "code",
   "execution_count": 10,
   "id": "0c992591-dcf6-49be-bd52-30207acbafc1",
   "metadata": {},
   "outputs": [],
   "source": [
    "frase_processada = list()\n",
    "for text in df_clean_no_stopWords[\"text\"]:\n",
    "    #para cada frase acessada vamos tokeniza-la e verificar se cada token \n",
    "    #é pertecentes a nossa lista de stopwords\n",
    "    nova_frase = list()\n",
    "    palavras_texto = token_space.tokenize(text)\n",
    "    for palavra in palavras_texto:\n",
    "        #para cada palavra vamos verificar se a mesma esta na nossa lista de \n",
    "        #palavras_irrelevantes\n",
    "        if palavra not in palavras_irrelevantes:\n",
    "            nova_frase.append(palavra)\n",
    "    frase_processada.append(' '.join(nova_frase))\n",
    "\n",
    "df_clean_no_stopWords[\"text\"]=frase_processada\n"
   ]
  },
  {
   "cell_type": "code",
   "execution_count": 11,
   "id": "b5f2439e-90b3-4733-be68-c97c78cb053d",
   "metadata": {},
   "outputs": [
    {
     "data": {
      "text/html": [
       "<div>\n",
       "<style scoped>\n",
       "    .dataframe tbody tr th:only-of-type {\n",
       "        vertical-align: middle;\n",
       "    }\n",
       "\n",
       "    .dataframe tbody tr th {\n",
       "        vertical-align: top;\n",
       "    }\n",
       "\n",
       "    .dataframe thead th {\n",
       "        text-align: right;\n",
       "    }\n",
       "</style>\n",
       "<table border=\"1\" class=\"dataframe\">\n",
       "  <thead>\n",
       "    <tr style=\"text-align: right;\">\n",
       "      <th></th>\n",
       "      <th>text</th>\n",
       "      <th>category</th>\n",
       "      <th>label</th>\n",
       "      <th>site</th>\n",
       "    </tr>\n",
       "  </thead>\n",
       "  <tbody>\n",
       "    <tr>\n",
       "      <th>0</th>\n",
       "      <td>kátia abreu diz vai colocar expulsão moldura r...</td>\n",
       "      <td>politica</td>\n",
       "      <td>fake</td>\n",
       "      <td>https://ceticismopolitico.com</td>\n",
       "    </tr>\n",
       "    <tr>\n",
       "      <th>1</th>\n",
       "      <td>dr ray peita bolsonaro chamao conservador fake...</td>\n",
       "      <td>politica</td>\n",
       "      <td>fake</td>\n",
       "      <td>https://ceticismopolitico.com</td>\n",
       "    </tr>\n",
       "  </tbody>\n",
       "</table>\n",
       "</div>"
      ],
      "text/plain": [
       "                                                text  category label  \\\n",
       "0  kátia abreu diz vai colocar expulsão moldura r...  politica  fake   \n",
       "1  dr ray peita bolsonaro chamao conservador fake...  politica  fake   \n",
       "\n",
       "                            site  \n",
       "0  https://ceticismopolitico.com  \n",
       "1  https://ceticismopolitico.com  "
      ]
     },
     "metadata": {},
     "output_type": "display_data"
    }
   ],
   "source": [
    "display(df_clean_no_stopWords.head(2))"
   ]
  },
  {
   "cell_type": "markdown",
   "id": "fc5c9e39-4272-45a4-b6fa-2911e2a47bd0",
   "metadata": {},
   "source": [
    "#### Stemmatização"
   ]
  },
  {
   "cell_type": "code",
   "execution_count": 12,
   "id": "c7082730-4529-4a1a-abb6-6421a7046ef9",
   "metadata": {},
   "outputs": [],
   "source": [
    "df_no_stopWords_stemma = df_clean_no_stopWords.copy()"
   ]
  },
  {
   "cell_type": "code",
   "execution_count": 13,
   "id": "500a7164-7475-48fc-80b6-41853a466568",
   "metadata": {},
   "outputs": [],
   "source": [
    "stemmer = nltk.stem.RSLPStemmer()"
   ]
  },
  {
   "cell_type": "code",
   "execution_count": 14,
   "id": "c94a7756-44fa-43a1-9f85-a84b68cb6488",
   "metadata": {},
   "outputs": [],
   "source": [
    "frase_processada = list()\n",
    "for text in df_no_stopWords_stemma[\"text\"]:\n",
    "    #para cada frase acessada vamos tokeniza-la e verificar se cada token \n",
    "    #é pertecentes a nossa lista de stop\n",
    "    #words\n",
    "    nova_frase = list()\n",
    "    palavras_texto = token_space.tokenize(text)\n",
    "    for palavra in palavras_texto:\n",
    "        nova_frase.append(stemmer.stem(palavra)) #stemmatização de cada palavra da sentença\n",
    "    frase_processada.append(' '.join(nova_frase))\n",
    "\n",
    "df_no_stopWords_stemma[\"text\"]=frase_processada"
   ]
  },
  {
   "cell_type": "code",
   "execution_count": 15,
   "id": "b587093c-d244-43fd-837c-c91163c61ae1",
   "metadata": {},
   "outputs": [
    {
     "data": {
      "text/html": [
       "<div>\n",
       "<style scoped>\n",
       "    .dataframe tbody tr th:only-of-type {\n",
       "        vertical-align: middle;\n",
       "    }\n",
       "\n",
       "    .dataframe tbody tr th {\n",
       "        vertical-align: top;\n",
       "    }\n",
       "\n",
       "    .dataframe thead th {\n",
       "        text-align: right;\n",
       "    }\n",
       "</style>\n",
       "<table border=\"1\" class=\"dataframe\">\n",
       "  <thead>\n",
       "    <tr style=\"text-align: right;\">\n",
       "      <th></th>\n",
       "      <th>text</th>\n",
       "      <th>category</th>\n",
       "      <th>label</th>\n",
       "      <th>site</th>\n",
       "    </tr>\n",
       "  </thead>\n",
       "  <tbody>\n",
       "    <tr>\n",
       "      <th>0</th>\n",
       "      <td>kát abr diz vai coloc expuls mold reclam sen k...</td>\n",
       "      <td>politica</td>\n",
       "      <td>fake</td>\n",
       "      <td>https://ceticismopolitico.com</td>\n",
       "    </tr>\n",
       "    <tr>\n",
       "      <th>1</th>\n",
       "      <td>dr ray peit bolsonar chama conserv fak entrev ...</td>\n",
       "      <td>politica</td>\n",
       "      <td>fake</td>\n",
       "      <td>https://ceticismopolitico.com</td>\n",
       "    </tr>\n",
       "    <tr>\n",
       "      <th>2</th>\n",
       "      <td>reinald azeved desmascar políci feder ferrenh ...</td>\n",
       "      <td>politica</td>\n",
       "      <td>fake</td>\n",
       "      <td>https://afolhabrasil.com.br</td>\n",
       "    </tr>\n",
       "    <tr>\n",
       "      <th>3</th>\n",
       "      <td>relatóri assust bnd mostr dinh públic brasil j...</td>\n",
       "      <td>politica</td>\n",
       "      <td>fake</td>\n",
       "      <td>https://www.diariodobrasil.org</td>\n",
       "    </tr>\n",
       "    <tr>\n",
       "      <th>4</th>\n",
       "      <td>radial americ fal sobr pt vend ilusã pov brasi...</td>\n",
       "      <td>politica</td>\n",
       "      <td>fake</td>\n",
       "      <td>https://www.diariodobrasil.org</td>\n",
       "    </tr>\n",
       "    <tr>\n",
       "      <th>...</th>\n",
       "      <td>...</td>\n",
       "      <td>...</td>\n",
       "      <td>...</td>\n",
       "      <td>...</td>\n",
       "    </tr>\n",
       "    <tr>\n",
       "      <th>7195</th>\n",
       "      <td>jorn britân açã contr lul lav jat julg sécul a...</td>\n",
       "      <td>politica</td>\n",
       "      <td>true</td>\n",
       "      <td>http://politica.estadao.com.br</td>\n",
       "    </tr>\n",
       "    <tr>\n",
       "      <th>7196</th>\n",
       "      <td>tem diz acion pf cad investig aument preç gaso...</td>\n",
       "      <td>politica</td>\n",
       "      <td>true</td>\n",
       "      <td>https://g1.globo.com</td>\n",
       "    </tr>\n",
       "    <tr>\n",
       "      <th>7197</th>\n",
       "      <td>obstácul polít tem 2017 especi ouv g1 aval alé...</td>\n",
       "      <td>politica</td>\n",
       "      <td>true</td>\n",
       "      <td>https://g1.globo.com</td>\n",
       "    </tr>\n",
       "    <tr>\n",
       "      <th>7198</th>\n",
       "      <td>sextaf 15 setembr 2017 boa noit aqu princip no...</td>\n",
       "      <td>sociedade_cotidiano</td>\n",
       "      <td>true</td>\n",
       "      <td>https://g1.globo.com</td>\n",
       "    </tr>\n",
       "    <tr>\n",
       "      <th>7199</th>\n",
       "      <td>envolv polít diz brasil pres venezuel expuls p...</td>\n",
       "      <td>tv_celebridades</td>\n",
       "      <td>true</td>\n",
       "      <td>https://g1.globo.com</td>\n",
       "    </tr>\n",
       "  </tbody>\n",
       "</table>\n",
       "<p>7200 rows × 4 columns</p>\n",
       "</div>"
      ],
      "text/plain": [
       "                                                   text             category  \\\n",
       "0     kát abr diz vai coloc expuls mold reclam sen k...             politica   \n",
       "1     dr ray peit bolsonar chama conserv fak entrev ...             politica   \n",
       "2     reinald azeved desmascar políci feder ferrenh ...             politica   \n",
       "3     relatóri assust bnd mostr dinh públic brasil j...             politica   \n",
       "4     radial americ fal sobr pt vend ilusã pov brasi...             politica   \n",
       "...                                                 ...                  ...   \n",
       "7195  jorn britân açã contr lul lav jat julg sécul a...             politica   \n",
       "7196  tem diz acion pf cad investig aument preç gaso...             politica   \n",
       "7197  obstácul polít tem 2017 especi ouv g1 aval alé...             politica   \n",
       "7198  sextaf 15 setembr 2017 boa noit aqu princip no...  sociedade_cotidiano   \n",
       "7199  envolv polít diz brasil pres venezuel expuls p...      tv_celebridades   \n",
       "\n",
       "     label                            site  \n",
       "0     fake   https://ceticismopolitico.com  \n",
       "1     fake   https://ceticismopolitico.com  \n",
       "2     fake     https://afolhabrasil.com.br  \n",
       "3     fake  https://www.diariodobrasil.org  \n",
       "4     fake  https://www.diariodobrasil.org  \n",
       "...    ...                             ...  \n",
       "7195  true  http://politica.estadao.com.br  \n",
       "7196  true            https://g1.globo.com  \n",
       "7197  true            https://g1.globo.com  \n",
       "7198  true            https://g1.globo.com  \n",
       "7199  true            https://g1.globo.com  \n",
       "\n",
       "[7200 rows x 4 columns]"
      ]
     },
     "execution_count": 15,
     "metadata": {},
     "output_type": "execute_result"
    }
   ],
   "source": [
    "df_no_stopWords_stemma"
   ]
  },
  {
   "cell_type": "markdown",
   "id": "c685ef0c-7cdb-4e4f-b7c5-20ff26292884",
   "metadata": {},
   "source": [
    "### Lemmatização"
   ]
  },
  {
   "cell_type": "code",
   "execution_count": 16,
   "id": "5542d55d-c318-4039-82db-cc6478d48d11",
   "metadata": {
    "tags": []
   },
   "outputs": [],
   "source": [
    "import spacy\n",
    "nlp = spacy.load('pt_core_news_sm')"
   ]
  },
  {
   "cell_type": "code",
   "execution_count": 19,
   "id": "ee59e370-c14b-4a36-88dd-e20073d3d671",
   "metadata": {},
   "outputs": [],
   "source": [
    "df_no_stopWords_lemma = df_clean_no_stopWords.copy()"
   ]
  },
  {
   "cell_type": "code",
   "execution_count": 20,
   "id": "54a51c37-271e-465d-9920-389be9bab2f7",
   "metadata": {
    "tags": []
   },
   "outputs": [],
   "source": [
    "frase_processada = list()\n",
    "for text in df_no_stopWords_lemma[\"text\"]:\n",
    "    nova_frase = list()\n",
    "    doc= nlp(text)\n",
    "    for palavra in doc:\n",
    "        \n",
    "        nova_frase.append(palavra.lemma_) #lemmatização de cada palavra da sentença\n",
    "    frase_processada.append(' '.join(nova_frase))\n",
    "\n",
    "df_no_stopWords_lemma[\"text\"]=frase_processada"
   ]
  },
  {
   "cell_type": "code",
   "execution_count": 21,
   "id": "4bc692f7-5c31-44f5-8712-4c3b65fb2613",
   "metadata": {},
   "outputs": [
    {
     "data": {
      "text/plain": [
       "'dr Ray peita bolsonaro chamao conservador fake entrevista danilo gentili dividir direita site vir avisar jair bolsonaro dever abandonar pauta estatisto vez fazer discurso convincente bom parte liberal conservador brasil querer ver livre amarra estatal tudo bem pesquiso ainda dizer grande parte povo contra privatização índice pouco 50 povo fácil reverter ademal bolsonaro dever falar direitisto vez focar tanto petista arrependir recentemente dizer pensar 200 vez antes privatizar petrobrás cair mão chinês algo tipo dever ter dizer garanto privatização petrobrás Garanto chinês ir comprála deixar brecha jeito falar parecer suposto medo venda chinês pretexto evitar privatização lá direita ir ter adotar alternativa foquar estado reduzir diminuição imposto venda estatal além João amoedo dr rey fazer vicejar tipo discurso ainda candidaturar fase inicial complicado bolsonaro apareçar pessoa direita propor visão economicamente direitista economia enfim ver 3240 dr rey espinafrar bolsonaro dar brecha poder reclamar outro aproveitir'"
      ]
     },
     "execution_count": 21,
     "metadata": {},
     "output_type": "execute_result"
    }
   ],
   "source": [
    "df_no_stopWords_lemma.text[1]"
   ]
  },
  {
   "cell_type": "code",
   "execution_count": 22,
   "id": "0ad0411b-49d6-47f1-9cd5-2a07b6f1e7f9",
   "metadata": {
    "tags": []
   },
   "outputs": [
    {
     "data": {
      "text/plain": [
       "'dr ray peit bolsonar chama conserv fak entrev danil gentil divid direit sit vem avis jair bolsonar dev abandon paut estat vez faz discurs convinc boa part liberal conserv brasil quer ver livr amarr estatal tud bem pesquis aind diz mai part pov contr priva índic pouc 50 pov fácil revert adem bolsonar dev fal direit vez foc tant petist arrepend recent diss pens 200 vez ant priva petrobr cai mão chines alg tip dev ter dit garant priva petrobr garant chines irã comprál deix brech jeit fal parec supost med vend chines pretext evit priva lá direit vai ter adot altern foqu est reduz diminu impost vend estatal além joã amoed dr rey faz vicej tip discurs aind candidat fas inic complic bolsonar apareç pesso direit prop vis economic direit econom enfim vej 3240 dr rey espinafr bolsonar dá brech pod reclam outr aproveit'"
      ]
     },
     "execution_count": 22,
     "metadata": {},
     "output_type": "execute_result"
    }
   ],
   "source": [
    "df_no_stopWords_stemma.text[1]"
   ]
  },
  {
   "cell_type": "code",
   "execution_count": null,
   "id": "060ebefb-c2d9-4f38-a904-ae5e2de03ad5",
   "metadata": {},
   "outputs": [],
   "source": []
  },
  {
   "cell_type": "markdown",
   "id": "1356e24b-626e-40cb-a9b5-3cb3c0c61be6",
   "metadata": {},
   "source": [
    "### DF sem stopwords"
   ]
  },
  {
   "cell_type": "markdown",
   "id": "d2c1f7e2-cbdd-4c6a-a2b1-81527bcc83af",
   "metadata": {},
   "source": [
    "stemma"
   ]
  },
  {
   "cell_type": "code",
   "execution_count": 23,
   "id": "ea757e0c-3987-4555-9393-8e136719da0f",
   "metadata": {},
   "outputs": [],
   "source": [
    "df_clean_with_stopWords_stemma = df_clean_with_stopWords.copy()"
   ]
  },
  {
   "cell_type": "code",
   "execution_count": 24,
   "id": "3c965f73-4e8c-451a-89f2-2eaebba0afb3",
   "metadata": {},
   "outputs": [],
   "source": [
    "frase_processada = list()\n",
    "for text in df_clean_with_stopWords_stemma[\"text\"]:\n",
    "    #para cada frase acessada vamos tokeniza-la e verificar se cada token \n",
    "    #é pertecentes a nossa lista de stop\n",
    "    #words\n",
    "    nova_frase = list()\n",
    "    palavras_texto = token_space.tokenize(text)\n",
    "    for palavra in palavras_texto:\n",
    "        nova_frase.append(stemmer.stem(palavra)) #stemmatização de cada palavra da sentença\n",
    "    frase_processada.append(' '.join(nova_frase))\n",
    "\n",
    "df_clean_with_stopWords_stemma[\"text\"]=frase_processada"
   ]
  },
  {
   "cell_type": "code",
   "execution_count": 25,
   "id": "4ba0c31d-63f0-4a78-a042-b9716af1de48",
   "metadata": {},
   "outputs": [
    {
     "data": {
      "text/html": [
       "<div>\n",
       "<style scoped>\n",
       "    .dataframe tbody tr th:only-of-type {\n",
       "        vertical-align: middle;\n",
       "    }\n",
       "\n",
       "    .dataframe tbody tr th {\n",
       "        vertical-align: top;\n",
       "    }\n",
       "\n",
       "    .dataframe thead th {\n",
       "        text-align: right;\n",
       "    }\n",
       "</style>\n",
       "<table border=\"1\" class=\"dataframe\">\n",
       "  <thead>\n",
       "    <tr style=\"text-align: right;\">\n",
       "      <th></th>\n",
       "      <th>text</th>\n",
       "      <th>category</th>\n",
       "      <th>label</th>\n",
       "      <th>site</th>\n",
       "    </tr>\n",
       "  </thead>\n",
       "  <tbody>\n",
       "    <tr>\n",
       "      <th>0</th>\n",
       "      <td>kát abr diz que vai coloc sua expuls em uma mo...</td>\n",
       "      <td>politica</td>\n",
       "      <td>fake</td>\n",
       "      <td>https://ceticismopolitico.com</td>\n",
       "    </tr>\n",
       "    <tr>\n",
       "      <th>1</th>\n",
       "      <td>dr ray peit bolsonar chama de conserv fak em e...</td>\n",
       "      <td>politica</td>\n",
       "      <td>fake</td>\n",
       "      <td>https://ceticismopolitico.com</td>\n",
       "    </tr>\n",
       "    <tr>\n",
       "      <th>2</th>\n",
       "      <td>reinald azeved desmascar pel políci feder o ma...</td>\n",
       "      <td>politica</td>\n",
       "      <td>fake</td>\n",
       "      <td>https://afolhabrasil.com.br</td>\n",
       "    </tr>\n",
       "    <tr>\n",
       "      <th>3</th>\n",
       "      <td>relatóri assust do bnd mostr dinh públic do br...</td>\n",
       "      <td>politica</td>\n",
       "      <td>fake</td>\n",
       "      <td>https://www.diariodobrasil.org</td>\n",
       "    </tr>\n",
       "    <tr>\n",
       "      <th>4</th>\n",
       "      <td>radial americ fal sobr o pt ele vend ilusã ao ...</td>\n",
       "      <td>politica</td>\n",
       "      <td>fake</td>\n",
       "      <td>https://www.diariodobrasil.org</td>\n",
       "    </tr>\n",
       "    <tr>\n",
       "      <th>...</th>\n",
       "      <td>...</td>\n",
       "      <td>...</td>\n",
       "      <td>...</td>\n",
       "      <td>...</td>\n",
       "    </tr>\n",
       "    <tr>\n",
       "      <th>7195</th>\n",
       "      <td>par jorn britân açã contr lul na lav jat ser o...</td>\n",
       "      <td>politica</td>\n",
       "      <td>true</td>\n",
       "      <td>http://politica.estadao.com.br</td>\n",
       "    </tr>\n",
       "    <tr>\n",
       "      <th>7196</th>\n",
       "      <td>tem diz que acion pf e cad par investig aument...</td>\n",
       "      <td>politica</td>\n",
       "      <td>true</td>\n",
       "      <td>https://g1.globo.com</td>\n",
       "    </tr>\n",
       "    <tr>\n",
       "      <th>7197</th>\n",
       "      <td>os obstácul polít de tem em 2017 especi ouv pe...</td>\n",
       "      <td>politica</td>\n",
       "      <td>true</td>\n",
       "      <td>https://g1.globo.com</td>\n",
       "    </tr>\n",
       "    <tr>\n",
       "      <th>7198</th>\n",
       "      <td>sextaf 15 de setembr de 2017 boa noit aqu est ...</td>\n",
       "      <td>sociedade_cotidiano</td>\n",
       "      <td>true</td>\n",
       "      <td>https://g1.globo.com</td>\n",
       "    </tr>\n",
       "    <tr>\n",
       "      <th>7199</th>\n",
       "      <td>não me envolv em polít diz brasil que foi pres...</td>\n",
       "      <td>tv_celebridades</td>\n",
       "      <td>true</td>\n",
       "      <td>https://g1.globo.com</td>\n",
       "    </tr>\n",
       "  </tbody>\n",
       "</table>\n",
       "<p>7200 rows × 4 columns</p>\n",
       "</div>"
      ],
      "text/plain": [
       "                                                   text             category  \\\n",
       "0     kát abr diz que vai coloc sua expuls em uma mo...             politica   \n",
       "1     dr ray peit bolsonar chama de conserv fak em e...             politica   \n",
       "2     reinald azeved desmascar pel políci feder o ma...             politica   \n",
       "3     relatóri assust do bnd mostr dinh públic do br...             politica   \n",
       "4     radial americ fal sobr o pt ele vend ilusã ao ...             politica   \n",
       "...                                                 ...                  ...   \n",
       "7195  par jorn britân açã contr lul na lav jat ser o...             politica   \n",
       "7196  tem diz que acion pf e cad par investig aument...             politica   \n",
       "7197  os obstácul polít de tem em 2017 especi ouv pe...             politica   \n",
       "7198  sextaf 15 de setembr de 2017 boa noit aqu est ...  sociedade_cotidiano   \n",
       "7199  não me envolv em polít diz brasil que foi pres...      tv_celebridades   \n",
       "\n",
       "     label                            site  \n",
       "0     fake   https://ceticismopolitico.com  \n",
       "1     fake   https://ceticismopolitico.com  \n",
       "2     fake     https://afolhabrasil.com.br  \n",
       "3     fake  https://www.diariodobrasil.org  \n",
       "4     fake  https://www.diariodobrasil.org  \n",
       "...    ...                             ...  \n",
       "7195  true  http://politica.estadao.com.br  \n",
       "7196  true            https://g1.globo.com  \n",
       "7197  true            https://g1.globo.com  \n",
       "7198  true            https://g1.globo.com  \n",
       "7199  true            https://g1.globo.com  \n",
       "\n",
       "[7200 rows x 4 columns]"
      ]
     },
     "execution_count": 25,
     "metadata": {},
     "output_type": "execute_result"
    }
   ],
   "source": [
    "df_clean_with_stopWords_stemma"
   ]
  },
  {
   "cell_type": "markdown",
   "id": "aaaf45e8-5e15-464f-9c1b-40b8724af118",
   "metadata": {},
   "source": [
    "Lemma"
   ]
  },
  {
   "cell_type": "code",
   "execution_count": 26,
   "id": "0853c62d-ee79-42ac-adaf-9ce74728fbf0",
   "metadata": {},
   "outputs": [],
   "source": [
    "df_clean_with_stopWords_lemma = df_clean_with_stopWords.copy()"
   ]
  },
  {
   "cell_type": "code",
   "execution_count": 27,
   "id": "f076350f-a217-4cc8-90ec-d15fd5bd9bc2",
   "metadata": {},
   "outputs": [],
   "source": [
    "frase_processada = list()\n",
    "for text in df_clean_with_stopWords_lemma[\"text\"]:\n",
    "    nova_frase = list()\n",
    "    doc= nlp(text)\n",
    "    for palavra in doc:\n",
    "        \n",
    "        nova_frase.append(palavra.lemma_) #lemmatização de cada palavra da sentença\n",
    "    frase_processada.append(' '.join(nova_frase))\n",
    "\n",
    "df_clean_with_stopWords_lemma[\"text\"]=frase_processada"
   ]
  },
  {
   "cell_type": "code",
   "execution_count": 28,
   "id": "7e401a9e-72e7-4282-8e9b-12a75e190495",
   "metadata": {},
   "outputs": [
    {
     "data": {
      "text/html": [
       "<div>\n",
       "<style scoped>\n",
       "    .dataframe tbody tr th:only-of-type {\n",
       "        vertical-align: middle;\n",
       "    }\n",
       "\n",
       "    .dataframe tbody tr th {\n",
       "        vertical-align: top;\n",
       "    }\n",
       "\n",
       "    .dataframe thead th {\n",
       "        text-align: right;\n",
       "    }\n",
       "</style>\n",
       "<table border=\"1\" class=\"dataframe\">\n",
       "  <thead>\n",
       "    <tr style=\"text-align: right;\">\n",
       "      <th></th>\n",
       "      <th>text</th>\n",
       "      <th>category</th>\n",
       "      <th>label</th>\n",
       "      <th>site</th>\n",
       "    </tr>\n",
       "  </thead>\n",
       "  <tbody>\n",
       "    <tr>\n",
       "      <th>0</th>\n",
       "      <td>kátia abrer dizer que ir colocar seu expulsão ...</td>\n",
       "      <td>politica</td>\n",
       "      <td>fake</td>\n",
       "      <td>https://ceticismopolitico.com</td>\n",
       "    </tr>\n",
       "    <tr>\n",
       "      <th>1</th>\n",
       "      <td>dr Ray peita bolsonaro chamao de conservador f...</td>\n",
       "      <td>politica</td>\n",
       "      <td>fake</td>\n",
       "      <td>https://ceticismopolitico.com</td>\n",
       "    </tr>\n",
       "    <tr>\n",
       "      <th>2</th>\n",
       "      <td>reinaldo azevedo desmascarar por o polícia fed...</td>\n",
       "      <td>politica</td>\n",
       "      <td>fake</td>\n",
       "      <td>https://afolhabrasil.com.br</td>\n",
       "    </tr>\n",
       "    <tr>\n",
       "      <th>3</th>\n",
       "      <td>relatório assustador de o bnde mostrar dinheir...</td>\n",
       "      <td>politica</td>\n",
       "      <td>fake</td>\n",
       "      <td>https://www.diariodobrasil.org</td>\n",
       "    </tr>\n",
       "    <tr>\n",
       "      <th>4</th>\n",
       "      <td>radialista americano falar sobre o pt eles ven...</td>\n",
       "      <td>politica</td>\n",
       "      <td>fake</td>\n",
       "      <td>https://www.diariodobrasil.org</td>\n",
       "    </tr>\n",
       "    <tr>\n",
       "      <th>...</th>\n",
       "      <td>...</td>\n",
       "      <td>...</td>\n",
       "      <td>...</td>\n",
       "      <td>...</td>\n",
       "    </tr>\n",
       "    <tr>\n",
       "      <th>7195</th>\n",
       "      <td>para jornal britânico ação contra Lula em o la...</td>\n",
       "      <td>politica</td>\n",
       "      <td>true</td>\n",
       "      <td>http://politica.estadao.com.br</td>\n",
       "    </tr>\n",
       "    <tr>\n",
       "      <th>7196</th>\n",
       "      <td>temer dizer que acionar pf e cade para investi...</td>\n",
       "      <td>politica</td>\n",
       "      <td>true</td>\n",
       "      <td>https://g1.globo.com</td>\n",
       "    </tr>\n",
       "    <tr>\n",
       "      <th>7197</th>\n",
       "      <td>o obstáculo político de temer em 2017 especial...</td>\n",
       "      <td>politica</td>\n",
       "      <td>true</td>\n",
       "      <td>https://g1.globo.com</td>\n",
       "    </tr>\n",
       "    <tr>\n",
       "      <th>7198</th>\n",
       "      <td>sextafeira 15 de setembro de 2017 bom noite aq...</td>\n",
       "      <td>sociedade_cotidiano</td>\n",
       "      <td>true</td>\n",
       "      <td>https://g1.globo.com</td>\n",
       "    </tr>\n",
       "    <tr>\n",
       "      <th>7199</th>\n",
       "      <td>não eu envolvo em política dizer brasileiro qu...</td>\n",
       "      <td>tv_celebridades</td>\n",
       "      <td>true</td>\n",
       "      <td>https://g1.globo.com</td>\n",
       "    </tr>\n",
       "  </tbody>\n",
       "</table>\n",
       "<p>7200 rows × 4 columns</p>\n",
       "</div>"
      ],
      "text/plain": [
       "                                                   text             category  \\\n",
       "0     kátia abrer dizer que ir colocar seu expulsão ...             politica   \n",
       "1     dr Ray peita bolsonaro chamao de conservador f...             politica   \n",
       "2     reinaldo azevedo desmascarar por o polícia fed...             politica   \n",
       "3     relatório assustador de o bnde mostrar dinheir...             politica   \n",
       "4     radialista americano falar sobre o pt eles ven...             politica   \n",
       "...                                                 ...                  ...   \n",
       "7195  para jornal britânico ação contra Lula em o la...             politica   \n",
       "7196  temer dizer que acionar pf e cade para investi...             politica   \n",
       "7197  o obstáculo político de temer em 2017 especial...             politica   \n",
       "7198  sextafeira 15 de setembro de 2017 bom noite aq...  sociedade_cotidiano   \n",
       "7199  não eu envolvo em política dizer brasileiro qu...      tv_celebridades   \n",
       "\n",
       "     label                            site  \n",
       "0     fake   https://ceticismopolitico.com  \n",
       "1     fake   https://ceticismopolitico.com  \n",
       "2     fake     https://afolhabrasil.com.br  \n",
       "3     fake  https://www.diariodobrasil.org  \n",
       "4     fake  https://www.diariodobrasil.org  \n",
       "...    ...                             ...  \n",
       "7195  true  http://politica.estadao.com.br  \n",
       "7196  true            https://g1.globo.com  \n",
       "7197  true            https://g1.globo.com  \n",
       "7198  true            https://g1.globo.com  \n",
       "7199  true            https://g1.globo.com  \n",
       "\n",
       "[7200 rows x 4 columns]"
      ]
     },
     "execution_count": 28,
     "metadata": {},
     "output_type": "execute_result"
    }
   ],
   "source": [
    "df_clean_with_stopWords_lemma"
   ]
  },
  {
   "cell_type": "code",
   "execution_count": 29,
   "id": "e4251824-7cc9-4f06-a95a-64806ffb82e6",
   "metadata": {},
   "outputs": [],
   "source": [
    "path = \"../data/processed/\""
   ]
  },
  {
   "cell_type": "code",
   "execution_count": 30,
   "id": "6b8ea72c-37d6-478c-bf75-e64570351e7a",
   "metadata": {},
   "outputs": [],
   "source": [
    "df_no_stopWords_lemma.to_csv(path+\"no_stopWords_lemma.csv\",index=False)\n",
    "df_no_stopWords_stemma.to_csv(path+\"no_stopWords_stemma.csv\",index=False)"
   ]
  },
  {
   "cell_type": "code",
   "execution_count": 35,
   "id": "50f796d2-6ebe-4af6-8d01-bd0862921206",
   "metadata": {},
   "outputs": [],
   "source": [
    "df_clean_with_stopWords_lemma.to_csv(path+\"with_stopWords_lemma.csv\",index=False)\n",
    "df_clean_with_stopWords_stemma.to_csv(path+\"with_stopWords_stemma.csv\",index=False)"
   ]
  },
  {
   "cell_type": "code",
   "execution_count": null,
   "id": "6183e192-4c60-4747-8e32-ef3516e04b39",
   "metadata": {},
   "outputs": [],
   "source": []
  },
  {
   "cell_type": "code",
   "execution_count": null,
   "id": "c25f4cee-1a69-4110-b3e7-2249f0354900",
   "metadata": {},
   "outputs": [],
   "source": []
  },
  {
   "cell_type": "code",
   "execution_count": null,
   "id": "e6b0e8f8-12e1-40d8-be9d-aa2d13f5997d",
   "metadata": {},
   "outputs": [],
   "source": []
  },
  {
   "cell_type": "code",
   "execution_count": null,
   "id": "501bac3c-9eeb-4b61-aba3-ccab4b690791",
   "metadata": {},
   "outputs": [],
   "source": []
  }
 ],
 "metadata": {
  "kernelspec": {
   "display_name": "Python 3 (ipykernel)",
   "language": "python",
   "name": "python3"
  },
  "language_info": {
   "codemirror_mode": {
    "name": "ipython",
    "version": 3
   },
   "file_extension": ".py",
   "mimetype": "text/x-python",
   "name": "python",
   "nbconvert_exporter": "python",
   "pygments_lexer": "ipython3",
   "version": "3.8.10"
  }
 },
 "nbformat": 4,
 "nbformat_minor": 5
}
