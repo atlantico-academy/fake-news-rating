{
 "cells": [
  {
   "cell_type": "code",
   "execution_count": 1,
   "id": "c63e44fd-897f-420c-993f-57e05aadc3a5",
   "metadata": {},
   "outputs": [],
   "source": [
    "import pandas as pd\n",
    "from pathlib import Path"
   ]
  },
  {
   "cell_type": "code",
   "execution_count": 2,
   "id": "2774522b-0c2c-43bf-ae07-6ef40b81d2ca",
   "metadata": {},
   "outputs": [],
   "source": [
    "raw_data_folder = Path(\"../data/raw/full_texts/\") # capturar o path dos dados\n",
    "labels = ['fake', 'true'] # criar lista de labels"
   ]
  },
  {
   "cell_type": "code",
   "execution_count": 3,
   "id": "dfc2e612-2059-4054-a02a-7b6154fd1795",
   "metadata": {},
   "outputs": [],
   "source": [
    "# Criar listas que serão colunas do meu conjunto de dados\n",
    "text = []\n",
    "date_time = []\n",
    "category = []\n",
    "label_list = []\n",
    "site_label = []\n",
    "for label in labels:\n",
    "    data_folder = raw_data_folder / label # diretório dos dados\n",
    "    metadata_folder = raw_data_folder / f\"{label}-meta-information\" # diretório dos metadados\n",
    "    # populas lista de dados\n",
    "    for file_path in data_folder.glob('*.txt'):\n",
    "        with open(file_path) as file:\n",
    "            text.append(file.read())\n",
    "    # populas lista de metadados\n",
    "    for file_path in metadata_folder.glob('*.txt'):\n",
    "        with open(file_path) as file:\n",
    "            rows = [row.strip() for row in file.readlines()[1:4]]\n",
    "            site_label.append(rows[0]) # pega o site\n",
    "            category.append(rows[1]) # pegar categoria\n",
    "            date_time.append(rows[2]) # pegar data\n",
    "    list_size = len(list(metadata_folder.glob('*.txt')))\n",
    "    label_list.extend([label] * list_size)"
   ]
  },
  {
   "cell_type": "code",
   "execution_count": 4,
   "id": "66be50e9-b7f1-4a8b-8281-7e15905be2b6",
   "metadata": {},
   "outputs": [],
   "source": [
    "df = pd.DataFrame({\n",
    "    'text': text,\n",
    "    'datetime': date_time,\n",
    "    'category': category,\n",
    "    'label': label_list,\n",
    "    'site': site_label\n",
    "})"
   ]
  },
  {
   "cell_type": "code",
   "execution_count": 5,
   "id": "04ae7acc-ffbe-42ce-abc9-e2bef205b6df",
   "metadata": {},
   "outputs": [],
   "source": [
    "interim_folder = Path('../data/external')\n",
    "interim_folder.mkdir(exist_ok=True)"
   ]
  },
  {
   "cell_type": "code",
   "execution_count": 6,
   "id": "a4251885-a700-4a10-befc-b610f7e3727c",
   "metadata": {},
   "outputs": [],
   "source": [
    "df.to_csv(interim_folder / 'data.csv', index=False)"
   ]
  },
  {
   "cell_type": "code",
   "execution_count": 14,
   "id": "96e240b4-e44d-40b4-992f-afdc6f5832c8",
   "metadata": {},
   "outputs": [],
   "source": [
    "dicio = pd.DataFrame({\n",
    "    'variavel': ['text',\n",
    "                 'datetime',\n",
    "                 'category',\n",
    "                 'label',\n",
    "                 'site'],\n",
    "    'significado': ['Coluna contendo o texto das matérias, sendo cada matéria um dado diferente',\n",
    "                   'Coluna contendo a data de publicação das matérias',\n",
    "                   'Coluna contetndo a categoria na qual cada matéria se encaixa (politica, religião, economia, ciencia e tecnologia, celebridades e cotidiano)',\n",
    "                   'Coluna contendo os rótulos se a notícia é falsa (fake) ou verdadeira (true)',\n",
    "                   'Coluna contendo o link do site em que a notícia foi publicada'],\n",
    "    'tipo': ['nominal',\n",
    "            'ordinal',\n",
    "            'nominal',\n",
    "            'nominal',\n",
    "            'nominal'],\n",
    "    'valores': ['string',\n",
    "               'datetime',\n",
    "               ['politica', 'tv_celebridades', 'sociedade_cotidiano',\n",
    "                'ciencia_tecnologia', 'economia', 'religiao'],\n",
    "               ['fake','true'],\n",
    "               'string']\n",
    "})"
   ]
  },
  {
   "cell_type": "code",
   "execution_count": 15,
   "id": "599fe448-aa2a-4389-8e9d-a2e882510a83",
   "metadata": {},
   "outputs": [],
   "source": [
    "dicio.to_csv(interim_folder / 'dicionario.csv', index=False)"
   ]
  },
  {
   "cell_type": "code",
   "execution_count": 12,
   "id": "ed1d50d3-44df-420b-ae31-e3ae7bbe4108",
   "metadata": {},
   "outputs": [
    {
     "data": {
      "text/plain": [
       "array(['politica', 'tv_celebridades', 'sociedade_cotidiano',\n",
       "       'ciencia_tecnologia', 'economia', 'religiao'], dtype=object)"
      ]
     },
     "execution_count": 12,
     "metadata": {},
     "output_type": "execute_result"
    }
   ],
   "source": [
    "df['category'].unique()"
   ]
  }
 ],
 "metadata": {
  "kernelspec": {
   "display_name": "Python 3 (ipykernel)",
   "language": "python",
   "name": "python3"
  },
  "language_info": {
   "codemirror_mode": {
    "name": "ipython",
    "version": 3
   },
   "file_extension": ".py",
   "mimetype": "text/x-python",
   "name": "python",
   "nbconvert_exporter": "python",
   "pygments_lexer": "ipython3",
   "version": "3.8.10"
  }
 },
 "nbformat": 4,
 "nbformat_minor": 5
}
