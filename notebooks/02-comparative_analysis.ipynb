{
 "cells": [
  {
   "cell_type": "code",
   "execution_count": 1,
   "id": "04972394-0086-47eb-a406-fae15a0b3cf4",
   "metadata": {},
   "outputs": [],
   "source": [
    "import pandas as pd\n",
    "from IPython.display import Markdown\n",
    "from sklearn.pipeline import Pipeline\n",
    "from sklearn.impute import SimpleImputer\n",
    "from sklearn.preprocessing import OneHotEncoder, StandardScaler\n",
    "from sklearn.feature_selection import VarianceThreshold"
   ]
  },
  {
   "cell_type": "code",
   "execution_count": 2,
   "id": "367582b1-12a8-429d-a8cd-a161973941fa",
   "metadata": {},
   "outputs": [
    {
     "data": {
      "text/markdown": [
       "### Conjunto de dados"
      ],
      "text/plain": [
       "<IPython.core.display.Markdown object>"
      ]
     },
     "metadata": {},
     "output_type": "display_data"
    },
    {
     "data": {
      "text/html": [
       "<div>\n",
       "<style scoped>\n",
       "    .dataframe tbody tr th:only-of-type {\n",
       "        vertical-align: middle;\n",
       "    }\n",
       "\n",
       "    .dataframe tbody tr th {\n",
       "        vertical-align: top;\n",
       "    }\n",
       "\n",
       "    .dataframe thead th {\n",
       "        text-align: right;\n",
       "    }\n",
       "</style>\n",
       "<table border=\"1\" class=\"dataframe\">\n",
       "  <thead>\n",
       "    <tr style=\"text-align: right;\">\n",
       "      <th></th>\n",
       "      <th>text</th>\n",
       "      <th>datetime</th>\n",
       "      <th>category</th>\n",
       "      <th>label</th>\n",
       "      <th>site</th>\n",
       "    </tr>\n",
       "  </thead>\n",
       "  <tbody>\n",
       "    <tr>\n",
       "      <th>0</th>\n",
       "      <td>Kátia Abreu diz que vai colocar sua expulsão e...</td>\n",
       "      <td>2017-11-30</td>\n",
       "      <td>politica</td>\n",
       "      <td>fake</td>\n",
       "      <td>https://ceticismopolitico.com</td>\n",
       "    </tr>\n",
       "    <tr>\n",
       "      <th>1</th>\n",
       "      <td>Dr. Ray peita Bolsonaro, chama-o de conservad...</td>\n",
       "      <td>2017-11-24</td>\n",
       "      <td>politica</td>\n",
       "      <td>fake</td>\n",
       "      <td>https://ceticismopolitico.com</td>\n",
       "    </tr>\n",
       "    <tr>\n",
       "      <th>2</th>\n",
       "      <td>Reinaldo Azevedo desmascarado pela Polícia Fed...</td>\n",
       "      <td>2017-05-23</td>\n",
       "      <td>politica</td>\n",
       "      <td>fake</td>\n",
       "      <td>https://afolhabrasil.com.br</td>\n",
       "    </tr>\n",
       "    <tr>\n",
       "      <th>3</th>\n",
       "      <td>Relatório assustador do BNDES mostra dinheiro ...</td>\n",
       "      <td>24/07/2017</td>\n",
       "      <td>politica</td>\n",
       "      <td>fake</td>\n",
       "      <td>https://www.diariodobrasil.org</td>\n",
       "    </tr>\n",
       "    <tr>\n",
       "      <th>4</th>\n",
       "      <td>Radialista americano fala sobre o PT: \"Eles ve...</td>\n",
       "      <td>25/07/2017</td>\n",
       "      <td>politica</td>\n",
       "      <td>fake</td>\n",
       "      <td>https://www.diariodobrasil.org</td>\n",
       "    </tr>\n",
       "  </tbody>\n",
       "</table>\n",
       "</div>"
      ],
      "text/plain": [
       "                                                text    datetime  category  \\\n",
       "0  Kátia Abreu diz que vai colocar sua expulsão e...  2017-11-30  politica   \n",
       "1  Dr. Ray peita Bolsonaro, chama-o de conservad...  2017-11-24  politica   \n",
       "2  Reinaldo Azevedo desmascarado pela Polícia Fed...  2017-05-23  politica   \n",
       "3  Relatório assustador do BNDES mostra dinheiro ...  24/07/2017  politica   \n",
       "4  Radialista americano fala sobre o PT: \"Eles ve...  25/07/2017  politica   \n",
       "\n",
       "  label                            site  \n",
       "0  fake   https://ceticismopolitico.com  \n",
       "1  fake   https://ceticismopolitico.com  \n",
       "2  fake     https://afolhabrasil.com.br  \n",
       "3  fake  https://www.diariodobrasil.org  \n",
       "4  fake  https://www.diariodobrasil.org  "
      ]
     },
     "metadata": {},
     "output_type": "display_data"
    },
    {
     "data": {
      "text/markdown": [
       "### Dicionário de dados"
      ],
      "text/plain": [
       "<IPython.core.display.Markdown object>"
      ]
     },
     "metadata": {},
     "output_type": "display_data"
    },
    {
     "data": {
      "text/html": [
       "<div>\n",
       "<style scoped>\n",
       "    .dataframe tbody tr th:only-of-type {\n",
       "        vertical-align: middle;\n",
       "    }\n",
       "\n",
       "    .dataframe tbody tr th {\n",
       "        vertical-align: top;\n",
       "    }\n",
       "\n",
       "    .dataframe thead th {\n",
       "        text-align: right;\n",
       "    }\n",
       "</style>\n",
       "<table border=\"1\" class=\"dataframe\">\n",
       "  <thead>\n",
       "    <tr style=\"text-align: right;\">\n",
       "      <th></th>\n",
       "      <th>variavel</th>\n",
       "      <th>significado</th>\n",
       "      <th>tipo</th>\n",
       "      <th>valores</th>\n",
       "    </tr>\n",
       "  </thead>\n",
       "  <tbody>\n",
       "    <tr>\n",
       "      <th>0</th>\n",
       "      <td>text</td>\n",
       "      <td>Coluna contendo o texto das matérias, sendo ca...</td>\n",
       "      <td>text</td>\n",
       "      <td>string</td>\n",
       "    </tr>\n",
       "    <tr>\n",
       "      <th>1</th>\n",
       "      <td>datetime</td>\n",
       "      <td>Coluna contendo a data de publicação das matérias</td>\n",
       "      <td>time</td>\n",
       "      <td>datetime</td>\n",
       "    </tr>\n",
       "    <tr>\n",
       "      <th>2</th>\n",
       "      <td>category</td>\n",
       "      <td>Coluna contetndo a categoria na qual cada maté...</td>\n",
       "      <td>nominal</td>\n",
       "      <td>['politica', 'tv_celebridades', 'sociedade_cot...</td>\n",
       "    </tr>\n",
       "    <tr>\n",
       "      <th>3</th>\n",
       "      <td>label</td>\n",
       "      <td>Coluna contendo os rótulos se a notícia é fals...</td>\n",
       "      <td>nominal</td>\n",
       "      <td>['fake', 'true']</td>\n",
       "    </tr>\n",
       "    <tr>\n",
       "      <th>4</th>\n",
       "      <td>site</td>\n",
       "      <td>Coluna contendo o link do site em que a notíci...</td>\n",
       "      <td>nominal</td>\n",
       "      <td>string</td>\n",
       "    </tr>\n",
       "  </tbody>\n",
       "</table>\n",
       "</div>"
      ],
      "text/plain": [
       "   variavel                                        significado     tipo  \\\n",
       "0      text  Coluna contendo o texto das matérias, sendo ca...     text   \n",
       "1  datetime  Coluna contendo a data de publicação das matérias     time   \n",
       "2  category  Coluna contetndo a categoria na qual cada maté...  nominal   \n",
       "3     label  Coluna contendo os rótulos se a notícia é fals...  nominal   \n",
       "4      site  Coluna contendo o link do site em que a notíci...  nominal   \n",
       "\n",
       "                                             valores  \n",
       "0                                             string  \n",
       "1                                           datetime  \n",
       "2  ['politica', 'tv_celebridades', 'sociedade_cot...  \n",
       "3                                   ['fake', 'true']  \n",
       "4                                             string  "
      ]
     },
     "metadata": {},
     "output_type": "display_data"
    }
   ],
   "source": [
    "df = (\n",
    "    pd\n",
    "    .read_csv('../data/external/data.csv')\n",
    ")\n",
    "df = df.assign(\n",
    "    site = df.site.str.split(\"/\").apply(lambda x: f\"{x[0]}//{x[2]}\")\n",
    ")\n",
    "display(Markdown(\"### Conjunto de dados\"))\n",
    "display(df.head())\n",
    "\n",
    "df_dict = pd.read_csv('../data/external/dicionario.csv')\n",
    "display(Markdown(\"### Dicionário de dados\"))\n",
    "display(df_dict.head())"
   ]
  },
  {
   "cell_type": "code",
   "execution_count": 3,
   "id": "0bc5a843-743d-463a-95e2-59629c9ccb59",
   "metadata": {},
   "outputs": [],
   "source": [
    "taget_column = \"label\"\n",
    "nominal_columns = (\n",
    "    df_dict\n",
    "    .query(\n",
    "        \"tipo == 'nominal' and variavel != @taget_column\"\n",
    "    )\n",
    "    .variavel\n",
    "    .to_list()\n",
    ")\n",
    "text_columns = (\n",
    "    df_dict\n",
    "    .query(\n",
    "        \"tipo == 'text' and variavel != @taget_column\"\n",
    "    )\n",
    "    .variavel\n",
    "    .to_list()\n",
    ")\n",
    "time_columns = (\n",
    "    df_dict\n",
    "    .query(\n",
    "        \"tipo == 'time' and variavel != @taget_column\"\n",
    "    )\n",
    "    .variavel\n",
    "    .to_list()\n",
    ")"
   ]
  },
  {
   "cell_type": "code",
   "execution_count": 4,
   "id": "58c6e615-ea3d-4033-a936-9861cce45ac4",
   "metadata": {},
   "outputs": [],
   "source": [
    "nominal_preprocessor = Pipeline([\n",
    "    # Tratamento de dados discrepantes\n",
    "    (\"missing\", SimpleImputer(strategy='most_frequent')), # Tratamento de dados faltantes\n",
    "    (\"encoder\", OneHotEncoder(sparse=False)), # Codificação de variáveis\n",
    "    (\"selector\", VarianceThreshold(threshold=.1)), # Seleção de variáveis\n",
    "    (\"normalizer\", StandardScaler()), # Normalização\n",
    "])\n"
   ]
  },
  {
   "cell_type": "code",
   "execution_count": null,
   "id": "501bac3c-9eeb-4b61-aba3-ccab4b690791",
   "metadata": {},
   "outputs": [],
   "source": []
  }
 ],
 "metadata": {
  "kernelspec": {
   "display_name": "Python 3 (ipykernel)",
   "language": "python",
   "name": "python3"
  },
  "language_info": {
   "codemirror_mode": {
    "name": "ipython",
    "version": 3
   },
   "file_extension": ".py",
   "mimetype": "text/x-python",
   "name": "python",
   "nbconvert_exporter": "python",
   "pygments_lexer": "ipython3",
   "version": "3.8.10"
  }
 },
 "nbformat": 4,
 "nbformat_minor": 5
}
